{
 "cells": [
  {
   "cell_type": "markdown",
   "id": "b4202003",
   "metadata": {},
   "source": [
    "# Ejercicios sobre minijuegos\n",
    "\n",
    "<hr>\n",
    "\n",
    "Angel Daniel Duarte Meneses (angel.duarte0117@gmail.com)\n",
    "\n",
    "Este material es sólo para fines académicos. \n",
    "\n",
    "Última actualización: 23/06/2021."
   ]
  },
  {
   "cell_type": "markdown",
   "id": "38fad984",
   "metadata": {},
   "source": [
    "<body>\n",
    "<div>\n",
    "    <center><h1 style='background:blue; border:0; color:white'><br>Tabla de contenido<br></h1></center>\n",
    "    <ul>\n",
    "        <li><a href=\"#Ejercicio-1:-Dados\">Ejercicio 1: Dados</a></li>\n",
    "        <li><a href=\"#Ejercicio-2:-Adivina-el-número\">Ejercicio 2: Adivina el número</a></li>     \n",
    "        <li><a href=\"#Ejercicio-3:-Piedra,-papel,-tijera,-lagarto,-Spock\">Ejercicio 3: Piedra, papel, tijera, lagarto, Spock</a></li>\n",
    "        <li><a href=\"#Ejercicio-4:-El-Ahorcado\">Ejercicio 4: El Ahorcado</a></li>\n",
    "        <li><a href=\"#Ejercicio-5:-Blackjack\">Ejercicio 5: Blackjack</a></li>\n",
    "        <li><a href=\"#Ejercicio-6:-Triki-(Ta-te-ti,-Tres-en-línea,...)\">Ejercicio 6: Triki (Ta-te-ti, Tres en línea,...)</a></li>\n",
    "        <li><a href=\"#Ejercicio-7:-Combate\">Ejercicio 7: Combate</a></li>\n",
    "    </ul>\n",
    "</div>\n",
    "</body>"
   ]
  },
  {
   "cell_type": "markdown",
   "id": "b67acb91",
   "metadata": {},
   "source": [
    "## Ejercicio 1: Dados\n",
    "\n",
    "Se tiene un número de jugadores donde cada uno tira un dado, y el ganador es el que obtenga el mayor número.\n",
    "\n",
    "Condiciones del programa:\n",
    "\n",
    "- El valor del dado es generado al azar (de forma aleatoria).\n",
    "- La cantidad de jugadores (también se puede pedir el nickname) se introduce por pantalla.\n",
    "- Pedir por pantalla cuando inicia y acaba el juego, o si quieren repetir (si repite que guarde las victorias de cada jugador)."
   ]
  },
  {
   "cell_type": "code",
   "execution_count": null,
   "id": "246f4a26",
   "metadata": {},
   "outputs": [],
   "source": []
  },
  {
   "cell_type": "markdown",
   "id": "7903d065",
   "metadata": {},
   "source": [
    "## Ejercicio 2: Adivina el número\n",
    "\n",
    "Dos jugadores compiten para adivinar un número (el número es elegido por el programa de forma aleatoria)."
   ]
  },
  {
   "cell_type": "code",
   "execution_count": null,
   "id": "0be55c9e",
   "metadata": {},
   "outputs": [],
   "source": []
  },
  {
   "cell_type": "markdown",
   "id": "d09fb1f5",
   "metadata": {},
   "source": [
    "## Ejercicio 3: Piedra, papel, tijera, lagarto, Spock\n",
    "\n",
    "Hacer el juego piedra, papel, tijera, lagarto, Spock, con dos o más jugadores según las reglas planteadas por Sheldon de The Big Bang Theory."
   ]
  },
  {
   "cell_type": "code",
   "execution_count": null,
   "id": "1285daf1",
   "metadata": {},
   "outputs": [],
   "source": []
  },
  {
   "cell_type": "markdown",
   "id": "61336727",
   "metadata": {},
   "source": [
    "## Ejercicio 4: El Ahorcado\n",
    "\n",
    "Un jugador introduce una palabra a adivinar (se oculta para que los otros jugadores no la vean) y los demás introducen letras hasta adivinar la palabra. Si se completa el dibujo del ahorcado pierden.\n",
    "\n",
    "Mostrar de forma gráfica el dibujo de manera dinámica, es decir, se tiene que ver la transición del juego tras cada jugada."
   ]
  },
  {
   "cell_type": "code",
   "execution_count": null,
   "id": "98bb13e4",
   "metadata": {},
   "outputs": [],
   "source": [
    "# Imagen inicial\n",
    "img = [[' ----'],\n",
    "       ['    |'],\n",
    "       ['    |'],\n",
    "       ['    |'],\n",
    "       ['    |'],\n",
    "       ['    |'],\n",
    "       ['=====']]\n",
    "for i in img:\n",
    "    for j in i:\n",
    "        print(j)\n",
    "        \n",
    "# Esta es la imagen final, si se completa se pierde. \n",
    "img = [[' ----'],\n",
    "       [' |  |'],\n",
    "       [' O  |'],\n",
    "       ['/|\\ |'],\n",
    "       ['/ \\ |'],\n",
    "       ['    |'],\n",
    "       ['=====']]\n",
    "for i in img:\n",
    "    for j in i:\n",
    "        print(j)"
   ]
  },
  {
   "cell_type": "markdown",
   "id": "92dc3945",
   "metadata": {},
   "source": [
    "## Ejercicio 5: Blackjack\n",
    "\n",
    "Se tiene una baraja de póker, donde un jugador compite contra la casa. Cuando las cartas obtenidas suman 21, es Blackjack, y gana instantáneamente. Cuando no suman 21 debe elegir entre pedir otra carta o quedarse con las que tiene, si se pasa de 21 pierde, y el que tenga la mayor suma gana."
   ]
  },
  {
   "cell_type": "code",
   "execution_count": null,
   "id": "d7cc0ef3",
   "metadata": {},
   "outputs": [],
   "source": []
  },
  {
   "cell_type": "markdown",
   "id": "9f3403be",
   "metadata": {},
   "source": [
    "## Ejercicio 6: Triki (Ta-te-ti, Tres en línea,...)\n",
    "\n",
    "Crear este juego donde el objetivo es conseguir alinear tres del mismo tipo en una fila, diagonal o columna. (mostrar el estado de juego de forma gráfica como en el ejercicio 4 del ahorcado)"
   ]
  },
  {
   "cell_type": "code",
   "execution_count": null,
   "id": "298a9a7b",
   "metadata": {},
   "outputs": [],
   "source": []
  },
  {
   "cell_type": "markdown",
   "id": "899531d8",
   "metadata": {},
   "source": [
    "## Ejercicio 7: Combate\n",
    "\n",
    "Un jugador debe pelear contra un enemigo. Las estadísticas y habilidades de ambos son:\n",
    "\n",
    "- **Jugador:** 50 de vida y 20 de defensa.  \n",
    "  - **Habilidades:** Recuperación de vida, genera de forma aleatoria una recuperación de vida de 4 hasta 10. Golpe, puede hacer un daño de 8 hasta 15.\n",
    "  \n",
    "- **Enemigo:** 40 de vida y 15 de defensa (la máquina juega aquí).\n",
    "  - **Habilidades:** Ataque1, genera un daño de 10 hasta 13. Ataque2, hace un daño de 1 hasta 25.\n",
    "\n",
    "- **Daño:** Todo el daño se reparte primero a la defensa, cuando la defensa llegue a 0, y existe un excedente este pasa como daño a la vida, y cuando no hay defensa todo el daño se dirige a la vida."
   ]
  },
  {
   "cell_type": "code",
   "execution_count": null,
   "id": "6d4b2932",
   "metadata": {},
   "outputs": [],
   "source": []
  }
 ],
 "metadata": {
  "kernelspec": {
   "display_name": "Python 3",
   "language": "python",
   "name": "python3"
  },
  "language_info": {
   "codemirror_mode": {
    "name": "ipython",
    "version": 3
   },
   "file_extension": ".py",
   "mimetype": "text/x-python",
   "name": "python",
   "nbconvert_exporter": "python",
   "pygments_lexer": "ipython3",
   "version": "3.9.5"
  }
 },
 "nbformat": 4,
 "nbformat_minor": 5
}
