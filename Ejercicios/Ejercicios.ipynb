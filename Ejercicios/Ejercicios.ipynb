{
 "cells": [
  {
   "cell_type": "markdown",
   "id": "16ba6835",
   "metadata": {},
   "source": [
    "Author: Angel Daniel Duarte Meneses. \n",
    "\n",
    "First update: 17/06/2021.\n",
    "\n",
    "Last update: 19/06/2021.\n",
    "\n",
    "This material is for academic purposes only.\n"
   ]
  },
  {
   "cell_type": "markdown",
   "id": "ce3b350b",
   "metadata": {},
   "source": [
    "<div class=\"idc-box\">\n",
    "    <div class=\"list-group\" id=\"list-tab\" role=\"tablist\">\n",
    "    <h2 class=\"list-group-item list-group-item-action active\" data-toggle=\"list\" style='background:blue; border:0; color:white' role=\"tab\" aria-controls=\"home\"><center>Tabla de contenido</center></h2> </div>\n",
    "    <ul class=\"idc-lista\">\n",
    "        <li><a href=\"#Ejercicio-1\">Ejercicio 1</a></li>\n",
    "        <li><a href=\"#Ejercicio-2\">Ejercicio 2</a></li>     \n",
    "        <li><a href=\"#Ejercicio-3\">Ejercicio 3</a></li>\n",
    "        <li><a href=\"#Ejercicio-4\">Ejercicio 4</a></li>\n",
    "        <li><a href=\"#Ejercicio-5\">Ejercicio 5</a></li>\n",
    "        <li><a href=\"#Ejercicio-6\">Ejercicio 6</a></li>\n",
    "    </ul>\n",
    "</div>"
   ]
  },
  {
   "cell_type": "markdown",
   "id": "52d61753",
   "metadata": {},
   "source": [
    "## Ejercicio 1\n",
    "\n",
    "Dado un número pedido en pantalla, generar los números de la sucesión de Fibonacci existentes hasta ese número."
   ]
  },
  {
   "cell_type": "markdown",
   "id": "5c4ab8a3",
   "metadata": {},
   "source": [
    "## Ejercicio 2\n",
    "\n",
    "Se quiere separar los números pares e impares de una lista, cree algo que los separe en diferentes listas. "
   ]
  },
  {
   "cell_type": "code",
   "execution_count": 1,
   "id": "136658b8",
   "metadata": {},
   "outputs": [],
   "source": [
    "List = list(range(0,41))"
   ]
  },
  {
   "cell_type": "markdown",
   "id": "0824e617",
   "metadata": {},
   "source": [
    "## Ejercicio 3\n",
    "\n",
    "Se tienen los precios de los productos, cantidades vendidas, y los costos totales de un mes, diseñe una función que calcule el beneficio de ese mes.\n",
    "\n"
   ]
  },
  {
   "cell_type": "code",
   "execution_count": 2,
   "id": "69892c2f",
   "metadata": {},
   "outputs": [],
   "source": [
    "# Precios por unidad\n",
    "precios = {'manzana':2, 'mango':1, 'papaya':4}\n",
    "# Cantidades vendidas\n",
    "vendido = {'manzana':1200, 'mango':4500, 'papaya': 560}\n",
    "# Costo total\n",
    "CT = 520"
   ]
  },
  {
   "cell_type": "markdown",
   "id": "5612e4ee",
   "metadata": {},
   "source": [
    "## Ejercicio 4\n",
    "\n",
    "Con una lista de números no repetidos, hacer todas las combinaciones posibles"
   ]
  },
  {
   "cell_type": "markdown",
   "id": "48e7f04b",
   "metadata": {},
   "source": [
    "## Ejercicio 5\n",
    "\n",
    "Usando List Comprehesion con la lista dada generar otra que muestre el cuadrado de estos. "
   ]
  },
  {
   "cell_type": "code",
   "execution_count": 3,
   "id": "0f072f57",
   "metadata": {},
   "outputs": [],
   "source": [
    "numbers = [2,3,4,5,6]"
   ]
  },
  {
   "cell_type": "markdown",
   "id": "8f2da425",
   "metadata": {},
   "source": [
    "## Ejercicio 6\n",
    "\n",
    "Se quiere conocer la seguridad de la contraseña creada para un correo electrónico. Por ello, programe algo que analice y califique la contraseña. Al crear un correo electrónico se piden los siguientes datos:\n",
    "> nombres y apellidos, número celular, usuario para el correo (con cualquier dominio) y contraseña.\n",
    "\n",
    "**Consideraciones:** \n",
    "\n",
    "Una contraseña segura no debe incluir datos personales como nombres, apellidos o el número de teléfono, ni algo tan obvio como 12345678. También la longitud la vuelve más segura incluso más segura que tener una contraseña corta y con caracteres complicados, es decir, es más segura \"asfrg134478ffdfa\" que \"#$@\\%\\%44adf\". \n",
    "\n"
   ]
  },
  {
   "cell_type": "markdown",
   "id": "909a9778",
   "metadata": {},
   "source": [
    "## Ejercicio 7\n",
    "\n",
    "Generar una lista con los elementos transformados por la distribución normal (normalizar) de la muestra dada. Hacer este punto con y sin List Comprehesion."
   ]
  },
  {
   "cell_type": "code",
   "execution_count": 4,
   "id": "b126b174",
   "metadata": {},
   "outputs": [],
   "source": [
    "muestra = [3,1,1.1,4,5,7.2,3,1,2,2.2,5,8,1,7.5,5,6,6.4,1,2]"
   ]
  }
 ],
 "metadata": {
  "kernelspec": {
   "display_name": "Python 3",
   "language": "python",
   "name": "python3"
  },
  "language_info": {
   "codemirror_mode": {
    "name": "ipython",
    "version": 3
   },
   "file_extension": ".py",
   "mimetype": "text/x-python",
   "name": "python",
   "nbconvert_exporter": "python",
   "pygments_lexer": "ipython3",
   "version": "3.9.5"
  }
 },
 "nbformat": 4,
 "nbformat_minor": 5
}
