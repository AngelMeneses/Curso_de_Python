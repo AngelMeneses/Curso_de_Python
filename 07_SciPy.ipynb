{
 "cells": [
  {
   "cell_type": "markdown",
   "id": "bfb6e81d",
   "metadata": {},
   "source": [
    "Author: Angel Daniel Duarte Meneses. \n",
    "\n",
    "First update: 21/06/2021.\n",
    "\n",
    "Last update: 21/06/2021.\n",
    "\n",
    "This material is for academic purposes only.\n"
   ]
  },
  {
   "cell_type": "markdown",
   "id": "072c6b7c",
   "metadata": {},
   "source": [
    "<body>\n",
    "<div>\n",
    "  <center><h1 style='background:blue; border:0; color:white'><br>Tabla de contenido<br></h1></center>\n",
    "    <ul class=\"idc-lista\">\n",
    "        <li><a href=\"#SciPy'\">SciPy</a></li>\n",
    "        <ul class=\"idc-lista\">\n",
    "            <li><a href=\"#Lista-de-submódulos\">Lista de submódulos</a></li>\n",
    "        </ul>\n",
    "     <li><a href=\"#Constantes-físicas-y-matemáticas\">Constantes físicas y matemáticas</a></li>\n",
    "     <li><a href=\"#Integración-y-EDOs\">Integración y EDOs</a> </li>\n",
    "     <li><a href=\"#Entrada-y-salida\">Entrada y salida</a> </li>\n",
    "     <li><a href=\"#Funciones-estadísticas\">Funciones estadísticas</a> </li>\n",
    "     <li><a href=\"#Referencias\">Referencias</a> </li>\n",
    "    </ul>\n",
    "</div>\n",
    "</body>\n"
   ]
  },
  {
   "cell_type": "markdown",
   "id": "641687a0",
   "metadata": {},
   "source": [
    "## SciPy\n",
    "\n",
    "[SciPy](https://docs.scipy.org/) (Scientific Python) está construida sobre la librería NumPy. Provee submódulos para la ciencia e ingeniería, como transformada discreta de Fourier, álgebre lineal, estadística, integración y demás..."
   ]
  },
  {
   "cell_type": "code",
   "execution_count": 1,
   "id": "682bfd39",
   "metadata": {},
   "outputs": [],
   "source": [
    "import scipy"
   ]
  },
  {
   "cell_type": "markdown",
   "id": "62442524",
   "metadata": {},
   "source": [
    "### Lista de submódulos"
   ]
  },
  {
   "cell_type": "markdown",
   "id": "296d9f1a",
   "metadata": {},
   "source": [
    "<table>\n",
    "    <caption style=\"text-align:center\"><b><font color='black'>Submódulos de SciPy</font></b></caption>\n",
    "<tbody align=\"center\">\n",
    "        <tr>\n",
    "            <td><a class=\"reference external\", href=\"https://docs.scipy.org/doc/scipy/reference/reference/cluster.html\", alt=\"Clustering package\"> scipy.cluster </a></td>\n",
    "            <td>Paquete de clustering</td>\n",
    "        </tr>\n",
    "        <tr>\n",
    "            <td><a class=\"reference external\", href=\"https://docs.scipy.org/doc/scipy/reference/reference/constants.html\", alt=\"constants\"> scipy.constants </a></td>\n",
    "            <td>Constantes físicas y matemáticas</td>\n",
    "        </tr>\n",
    "        <tr>\n",
    "            <td><a class=\"reference external\", href=\"https://docs.scipy.org/doc/scipy/reference/reference/fft.html\", alt=\"Discrete Fourier transforms\">scipy.fft</a></td>\n",
    "            <td>Transformadas discretas de Fourier</td>\n",
    "        </tr>\n",
    "        <tr>\n",
    "            <td><a class=\"reference external\", href=\"https://docs.scipy.org/doc/scipy/reference/reference/integrate.html\", alt=\"Integration and ODEs\">scipy.integrate</a></td>\n",
    "            <td>Integración y EDOs</td>\n",
    "        </tr>\n",
    "        <tr>\n",
    "            <td><a class=\"reference external\", href=\"https://docs.scipy.org/doc/scipy/reference/reference/interpolate.html\", alt=\"Interpolation\">scipy.interpolate</a></td>\n",
    "            <td>Interpolación</td>\n",
    "        </tr>\n",
    "        <tr>\n",
    "            <td><a class=\"reference external\", href=\"https://docs.scipy.org/doc/scipy/reference/reference/io.html\", alt=\"Input and output\">scipy.io</a></td>\n",
    "            <td>Entrada y salida</td>\n",
    "        </tr>\n",
    "        <tr>\n",
    "            <td><a class=\"reference external\", href=\"https://docs.scipy.org/doc/scipy/reference/reference/linalg.html\", alt=\"Linear algebra\">scipy.linalg</a></td>\n",
    "            <td>Álgebra lineal</td>\n",
    "        </tr>\n",
    "        <tr>\n",
    "            <td><a class=\"reference external\", href=\"https://docs.scipy.org/doc/scipy/reference/reference/misc.html\", alt=\"Miscellaneous routines\">scipy.misc</a></td>\n",
    "            <td>Rutinas diversas</td>\n",
    "        </tr>\n",
    "        <tr>\n",
    "            <td><a class=\"reference external\", href=\"https://docs.scipy.org/doc/scipy/reference/reference/ndimage.html\", alt=\"Multidimensional image processing\">scipy.ndimage</a></td>\n",
    "            <td>Procesamiento multidimensional de imágenes</td>\n",
    "        </tr>\n",
    "        <tr>\n",
    "            <td><a class=\"reference external\", href=\"https://docs.scipy.org/doc/scipy/reference/reference/odr.html\", alt=\"Orthogonal distance regression\">scipy.odr</a></td>\n",
    "            <td>Regresión de distancia ortogonal</td>\n",
    "        </tr>\n",
    "        <tr>\n",
    "            <td><a class=\"reference external\", href=\"https://docs.scipy.org/doc/scipy/reference/reference/optimize.html\", alt=\"Optimization and root finding\">scipy.optimize</a></td>\n",
    "            <td>Optimización y búsqueda de raíces</td>\n",
    "        </tr>\n",
    "        <tr>\n",
    "            <td><a class=\"reference external\", href=\"https://docs.scipy.org/doc/scipy/reference/reference/signal.html\", alt=\"Signal processing\">scipy.signal</a></td>\n",
    "            <td>Procesamiento de señales</td>\n",
    "        </tr>\n",
    "        <tr>\n",
    "            <td><a class=\"reference external\", href=\"https://docs.scipy.org/doc/scipy/reference/reference/sparse.html\", alt=\"Sparse matrices\">scipy.sparse</a></td>\n",
    "            <td>Matrices dispersas</td>\n",
    "        </tr>\n",
    "        <tr>\n",
    "            <td><a class=\"reference external\", href=\"https://docs.scipy.org/doc/scipy/reference/reference/spatial.html\", alt=\"Spatial algorithms and data structures\">scipy.spatial</a></td>\n",
    "            <td>Algoritmos y estructuras de datos espaciales</td>\n",
    "        </tr>\n",
    "        <tr>\n",
    "            <td><a class=\"reference external\", href=\"https://docs.scipy.org/doc/scipy/reference/reference/special.html\", alt=\"Special functions\">scipy.special</a></td>\n",
    "            <td>Funciones especiales</td>\n",
    "        </tr>\n",
    "        <tr>\n",
    "            <td><a class=\"reference external\", href=\"https://docs.scipy.org/doc/scipy/reference/reference/stats.html\", alt=\"Statistical functions\">scipy.stats</a></td>\n",
    "            <td>Funciones estadísticas</td>\n",
    "        </tr>\n",
    "</tbody>\n",
    "</table>"
   ]
  },
  {
   "cell_type": "markdown",
   "id": "4293fe6e",
   "metadata": {},
   "source": [
    "## Constantes físicas y matemáticas\n",
    "\n",
    "[scipy.constants](https://docs.scipy.org/doc/scipy/reference/reference/constants.html)"
   ]
  },
  {
   "cell_type": "code",
   "execution_count": 2,
   "id": "fe852fca",
   "metadata": {},
   "outputs": [],
   "source": [
    "import scipy.constants as constants # Equivalente a: from scipy import constants"
   ]
  },
  {
   "cell_type": "code",
   "execution_count": 3,
   "id": "045cd27f",
   "metadata": {},
   "outputs": [
    {
     "name": "stdout",
     "output_type": "stream",
     "text": [
      "3.141592653589793\n",
      "1.618033988749895\n",
      "1.618033988749895\n"
     ]
    }
   ],
   "source": [
    "# Pi\n",
    "print(constants.pi)\n",
    "# Número áureo, phi\n",
    "print(constants.golden)\n",
    "print(constants.golden_ratio)"
   ]
  },
  {
   "cell_type": "code",
   "execution_count": 4,
   "id": "56bcba6e",
   "metadata": {
    "scrolled": true
   },
   "outputs": [
    {
     "name": "stdout",
     "output_type": "stream",
     "text": [
      "299792458.0\n",
      "299792458.0\n",
      "1.25663706212e-06\n",
      "8.8541878128e-12\n",
      "6.62607015e-34\n",
      "6.62607015e-34\n",
      "1.0545718176461565e-34\n",
      "6.6743e-11\n",
      "6.6743e-11\n"
     ]
    }
   ],
   "source": [
    "# velocidad de la luz en el vacío\n",
    "print(constants.c)\n",
    "print(constants.speed_of_light)\n",
    "# la constante magnética ($\\mu_{0}$)\n",
    "print(constants.mu_0)\n",
    "# la constante eléctrica (permitividad del vacío), $\\epsilon_{0}$\n",
    "print(constants.epsilon_0)\n",
    "# la constante de Planck\n",
    "print(constants.h)\n",
    "print(constants.Planck)\n",
    "# hbar, $\\bar{h} = h/(2\\pi)$\n",
    "print(constants.hbar)\n",
    "# Constante de gravitación newtoniana\n",
    "print(constants.G)\n",
    "print(constants.gravitational_constant)\n",
    "\n",
    "## y muchas más: revisar https://docs.scipy.org/doc/scipy/reference/reference/constants.html"
   ]
  },
  {
   "cell_type": "markdown",
   "id": "09b49d36",
   "metadata": {},
   "source": [
    "## Funciones estadísticas\n",
    "\n",
    "El submódulo [scipy.stats](https://docs.scipy.org/doc/scipy/reference/reference/stats.html) contiene un gran número de distribuciones estadísticas, funciones estadísticas y pruebas. También hay una libreria muy completa para la modelización estadística `statsmodels`, https://www.statsmodels.org/.\n",
    "\n",
    "Para profundizar revisar: https://docs.scipy.org/doc/scipy/reference/reference/stats.html."
   ]
  },
  {
   "cell_type": "code",
   "execution_count": 5,
   "id": "e735e3ce",
   "metadata": {},
   "outputs": [],
   "source": [
    "from scipy import stats"
   ]
  },
  {
   "cell_type": "markdown",
   "id": "e12dec08",
   "metadata": {},
   "source": [
    "### Distribución de Poisson"
   ]
  },
  {
   "cell_type": "code",
   "execution_count": 34,
   "id": "559f36d1",
   "metadata": {},
   "outputs": [],
   "source": [
    "from scipy.stats import poisson"
   ]
  },
  {
   "cell_type": "markdown",
   "id": "0235c2b6",
   "metadata": {},
   "source": [
    "Con la función poisson() se crea una variable aleatoria (discreta) con distribución de poisson\n",
    "\n",
    "\\begin{equation}\n",
    "f(k) = \\exp{(-\\mu)}\\dfrac{\\mu^{k}}{k!} \\qquad, k \\geq 0 \n",
    "\\end{equation}\n",
    "\n"
   ]
  },
  {
   "cell_type": "code",
   "execution_count": 35,
   "id": "919ae371",
   "metadata": {},
   "outputs": [
    {
     "name": "stdout",
     "output_type": "stream",
     "text": [
      "mean:  0.6\n",
      "var:  0.6\n",
      "skew:  1.2909944487358056\n",
      "kurt:  1.6666666666666667\n"
     ]
    }
   ],
   "source": [
    "# Calcula los cuatro primeros momentos:\n",
    "mu = 0.6\n",
    "mean, var, skew, kurt = poisson.stats(mu, moments='mvsk')\n",
    "print('mean: ', mean)\n",
    "print('var: ', var)\n",
    "print('skew: ', skew)\n",
    "print('kurt: ', kurt)"
   ]
  },
  {
   "cell_type": "code",
   "execution_count": 36,
   "id": "d18388be",
   "metadata": {},
   "outputs": [
    {
     "data": {
      "text/plain": [
       "(3.5, 3.5, 1.8708286933869707, (array(3.5), array(3.5)))"
      ]
     },
     "execution_count": 36,
     "metadata": {},
     "output_type": "execute_result"
    }
   ],
   "source": [
    "\n",
    "## distribución de fotones para un estado coherente con n=3.5 fotones\n",
    "x = poisson(3.5)\n",
    "x.mean(), x.var(), x.std(), x.stats() # Distribución de poisson"
   ]
  },
  {
   "cell_type": "code",
   "execution_count": 8,
   "id": "8392b0d6",
   "metadata": {},
   "outputs": [
    {
     "data": {
      "text/plain": [
       "15.75"
      ]
     },
     "execution_count": 8,
     "metadata": {},
     "output_type": "execute_result"
    }
   ],
   "source": [
    " x.moment(n=2)"
   ]
  },
  {
   "cell_type": "code",
   "execution_count": 38,
   "id": "7d47444b",
   "metadata": {},
   "outputs": [
    {
     "data": {
      "text/plain": [
       "(0.0, 1.0, 1.0)"
      ]
     },
     "execution_count": 38,
     "metadata": {},
     "output_type": "execute_result"
    }
   ],
   "source": [
    "# crear una variable aleatoria (continua) con distribución normal\n",
    "y = stats.norm()\n",
    "y.mean(), y.std(), y.var() # Distribución normal"
   ]
  },
  {
   "cell_type": "code",
   "execution_count": 39,
   "id": "b5b2d22d",
   "metadata": {},
   "outputs": [
    {
     "data": {
      "text/plain": [
       "array([2, 2, 3, 5, 3, 5, 2, 3, 6, 3, 3, 4, 4, 2, 1, 0, 2, 6, 9, 3])"
      ]
     },
     "execution_count": 39,
     "metadata": {},
     "output_type": "execute_result"
    }
   ],
   "source": [
    "# Genera números aleatorios\n",
    "mu = 4\n",
    "r = poisson.rvs(mu, size=20)\n",
    "r"
   ]
  },
  {
   "cell_type": "markdown",
   "id": "8bf83354",
   "metadata": {},
   "source": [
    "## Versión"
   ]
  },
  {
   "cell_type": "code",
   "execution_count": null,
   "id": "af3e1e9f",
   "metadata": {
    "scrolled": true
   },
   "outputs": [],
   "source": [
    "# Check version runing on Jupyter notebook\n",
    "from platform import python_version\n",
    "print(python_version())\n",
    "\n",
    "# Check version inside your Python program\n",
    "import sys\n",
    "print(sys.version)\n",
    "\n",
    "# Check version in command line or shell\n",
    "#python --version"
   ]
  },
  {
   "cell_type": "code",
   "execution_count": null,
   "id": "ca5a434e",
   "metadata": {},
   "outputs": [],
   "source": [
    "import platform\n",
    "print(platform.python_version())"
   ]
  },
  {
   "cell_type": "code",
   "execution_count": null,
   "id": "b4c06ea9",
   "metadata": {},
   "outputs": [],
   "source": [
    "from importlib.metadata import version\n",
    "version('scipy')"
   ]
  },
  {
   "cell_type": "markdown",
   "id": "92f57a51",
   "metadata": {},
   "source": [
    "## Referencias\n",
    "\n",
    "* http://www.scipy.org - The official web page for the SciPy project.\n",
    "* http://docs.scipy.org/doc/scipy/reference/tutorial/index.html - A tutorial on how to get started using SciPy. \n",
    "* https://github.com/scipy/scipy/ - The SciPy source code. "
   ]
  }
 ],
 "metadata": {
  "kernelspec": {
   "display_name": "Python 3",
   "language": "python",
   "name": "python3"
  },
  "language_info": {
   "codemirror_mode": {
    "name": "ipython",
    "version": 3
   },
   "file_extension": ".py",
   "mimetype": "text/x-python",
   "name": "python",
   "nbconvert_exporter": "python",
   "pygments_lexer": "ipython3",
   "version": "3.9.5"
  }
 },
 "nbformat": 4,
 "nbformat_minor": 5
}
