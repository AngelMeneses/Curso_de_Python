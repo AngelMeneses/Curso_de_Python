{
 "cells": [
  {
   "cell_type": "markdown",
   "id": "ceb180dd",
   "metadata": {},
   "source": [
    "<h1>  Operaciones y Métodos </h1>\n",
    "\n",
    "<br>\n",
    "\n",
    "<div align =\"left\">\n",
    "    &#9668;\n",
    "    <a href = \"01_Introducción.ipynb\" title=\"Abrir el notebook de Introducción\"> Anterior</a> &#65372;\n",
    "    <a href = \"https://github.com/AngelMeneses/Python/blob/main/README.md\" title=\"Abrir el notebook de Contenido\"> Contenido </a> &#65372;\n",
    "    <a href = \"03_0_Estructuras_de_Control_y_Funciones.ipynb\" title=\"Abrir el notebook de Estructuras de Control y Funciones\">Estructuras de Control y Funciones</a>\n",
    "    &#9654;\n",
    "   \n",
    "</div>\n",
    "\n",
    "<hr>\n",
    "\n",
    "Angel Daniel Duarte Meneses (angel.duarte0117@gmail.com)\n",
    "\n",
    "Este material es sólo para fines académicos. \n",
    "\n",
    "Última actualización: 07/07/2021.\n",
    "\n",
    "Puedes encontrar este material en:\n",
    "\n",
    "<a href=\"https://github.com/AngelMeneses/Python\"><img align=\"left\" style=\"width:4%\"  src=\"Iconos/GitHub-Mark/PNG/GitHub-Mark-120px-plus.png\" alt=\"Abrir en Github\" title=\"Acceder al repositorio en Github\"></a> <a href=\"https://github.com/AngelMeneses/Python\"><img align=\"left\" style=\"width:10%\"  src=\"Iconos/GitHub-Logos/GitHub_Logo.png\" alt=\"Abrir en Github\" title=\"Acceder al repositorio en Github\"></a> "
   ]
  },
  {
   "cell_type": "markdown",
   "id": "d5619091",
   "metadata": {},
   "source": [
    "<body>\n",
    "<div>\n",
    "    <center><h1 style='background:blue; border:0; color:white'><br>Tabla de contenido<br></h1></center>\n",
    "    <ul>\n",
    "        <li><a href=\"#Operaciones-y-Métodos-de-Caracteres-(strings)\">Operaciones y Métodos de Caracteres (strings)</a>\n",
    "        <ul class=\"idc-lista\">\n",
    "        <li><a href=\"#Concatenar\">Operaciones</a> </li>\n",
    "        <li><a href=\"#Métodos-para-Caracteres\">Métodos</a> </li>\n",
    "        </ul> \n",
    "        </li>\n",
    "        <li><a href=\"#Operaciones-y-Métodos-de-las-Listas\">Operaciones y Métodos de las Listas</a>\n",
    "        <ul class=\"idc-lista\">\n",
    "        <li><a href=\"#suma\">Operaciones</a> </li>\n",
    "        <li><a href=\"#Métodos-de-las-Listas\">Métodos</a> </li>\n",
    "        </ul> \n",
    "        </li>\n",
    "        <li><a href=\"#Operaciones-y-Métodos-de-los-Diccionarios\">Operaciones y Métodos de los Diccionarios</a>\n",
    "        <ul class=\"idc-lista\">\n",
    "        <li><a href=\"#Acceder-a-un-valor\">Operaciones</a> </li>\n",
    "        <li><a href=\"#Métodos-de-los-Diccionarios\">Métodos</a> </li>\n",
    "        </ul> \n",
    "        </li>\n",
    "        <li><a href=\"#Operaciones-y-Métodos-de-los-Conjuntos\">Operaciones y Métodos de los Conjuntos</a>\n",
    "        <ul class=\"idc-lista\">\n",
    "        <li><a href=\"#Acceder-a-un-valor\">Operaciones</a> </li>\n",
    "        <li><a href=\"#Métodos-de-los-Conjuntos\">Métodos</a> </li>\n",
    "        </ul> \n",
    "        </li>\n",
    "        <li><a href=\"#Referencias\">Referencias</a> </li>\n",
    "    </ul>\n",
    "</div>\n",
    "</body>"
   ]
  },
  {
   "cell_type": "markdown",
   "id": "d1516696",
   "metadata": {},
   "source": [
    "## Operaciones y Métodos de Caracteres (strings)"
   ]
  },
  {
   "cell_type": "markdown",
   "id": "c9c080ab",
   "metadata": {},
   "source": [
    "### Concatenar\n",
    "\n",
    "La suma entre caracteres es una unión o concatenación\n",
    "\n",
    "- **nota:** no hay resta de caracteres."
   ]
  },
  {
   "cell_type": "code",
   "execution_count": null,
   "id": "5d2549b9",
   "metadata": {},
   "outputs": [],
   "source": [
    "'s' + 'u' + 'm' + 'a'"
   ]
  },
  {
   "cell_type": "code",
   "execution_count": null,
   "id": "ad1cdabb",
   "metadata": {},
   "outputs": [],
   "source": [
    "mensaje = 'Feliz' + ' ' + 'Jueves '\n",
    "print(mensaje)"
   ]
  },
  {
   "cell_type": "markdown",
   "id": "a571c173",
   "metadata": {},
   "source": [
    "### Multiplicación\n",
    "\n",
    "La multiplicación entre caracteres es una repetición"
   ]
  },
  {
   "cell_type": "code",
   "execution_count": null,
   "id": "60f73d0d",
   "metadata": {},
   "outputs": [],
   "source": [
    "'s'*5"
   ]
  },
  {
   "cell_type": "code",
   "execution_count": null,
   "id": "5d83bd2c",
   "metadata": {},
   "outputs": [],
   "source": [
    "print(mensaje*3)"
   ]
  },
  {
   "cell_type": "code",
   "execution_count": null,
   "id": "11161465",
   "metadata": {},
   "outputs": [],
   "source": [
    "# Para saber si un caracter está dentro de un texto o palabra\n",
    "print('a' in 'aoi')\n",
    "print('azul' in 'el cielo es azul')"
   ]
  },
  {
   "cell_type": "markdown",
   "id": "04062a37",
   "metadata": {},
   "source": [
    "### Adición\n",
    "\n",
    "Se puede ir adicionando a una misma variable caracteres hasta formas una frase o texto."
   ]
  },
  {
   "cell_type": "code",
   "execution_count": null,
   "id": "71840cb2",
   "metadata": {},
   "outputs": [],
   "source": [
    "m = 'Feliz'\n",
    "m += ' '\n",
    "m += 'Jueves'\n",
    "m"
   ]
  },
  {
   "cell_type": "markdown",
   "id": "e9ad92ce",
   "metadata": {},
   "source": [
    "### Métodos para Caracteres"
   ]
  },
  {
   "cell_type": "code",
   "execution_count": null,
   "id": "fad68573",
   "metadata": {},
   "outputs": [],
   "source": [
    "# Longitud\n",
    "m = '123' + ' ' + '456'\n",
    "print(len(m))\n",
    "## Devuelve el número de letras y de espacios."
   ]
  },
  {
   "cell_type": "code",
   "execution_count": null,
   "id": "a558caf7",
   "metadata": {},
   "outputs": [],
   "source": [
    "# Encontrar\n",
    "m = 'Estamos en el mes de Junio'\n",
    "m.find('Junio') # Se busca la posición de inicio de 'Junio'"
   ]
  },
  {
   "cell_type": "code",
   "execution_count": null,
   "id": "b76e78ca",
   "metadata": {},
   "outputs": [],
   "source": [
    "m[21:] "
   ]
  },
  {
   "cell_type": "markdown",
   "id": "e3f84efa",
   "metadata": {},
   "source": [
    "- Si el carácter buscado no está, `find` devuelve el valor -1."
   ]
  },
  {
   "cell_type": "code",
   "execution_count": null,
   "id": "a6fa7cad",
   "metadata": {
    "scrolled": true
   },
   "outputs": [],
   "source": [
    "m.find('mes1') "
   ]
  },
  {
   "cell_type": "code",
   "execution_count": null,
   "id": "47aa7263",
   "metadata": {},
   "outputs": [],
   "source": [
    "# Minúsculas\n",
    "## Convierte todos los caracteres en minúscula.\n",
    "m = 'FELIZ Jueves'\n",
    "m = m.lower()\n",
    "m"
   ]
  },
  {
   "cell_type": "code",
   "execution_count": null,
   "id": "4fb32191",
   "metadata": {},
   "outputs": [],
   "source": [
    "# Mayúsculas\n",
    "## Convierte todos los caracteres en mayúsculas.\n",
    "m = m.upper()\n",
    "m"
   ]
  },
  {
   "cell_type": "code",
   "execution_count": null,
   "id": "d364bb35",
   "metadata": {},
   "outputs": [],
   "source": [
    "# Reemplazar\n",
    "## Busca un carácter y lo reemplaza con otro\n",
    "m = 'FELIZ Jueves'\n",
    "m = m.replace('FELIZ', 'Hoy es' )\n",
    "m"
   ]
  },
  {
   "cell_type": "code",
   "execution_count": null,
   "id": "a01b8d48",
   "metadata": {},
   "outputs": [],
   "source": [
    "# Cortar \n",
    "## Como bien se sabe, se puede acceder a cierta parte de la cadena de texto con el uso de índices.\n",
    "m[0:8]"
   ]
  },
  {
   "cell_type": "code",
   "execution_count": null,
   "id": "8da33362",
   "metadata": {},
   "outputs": [],
   "source": [
    "# Colocar espacio (\\t)\n",
    "print('Feliz\\tJueves')"
   ]
  },
  {
   "cell_type": "code",
   "execution_count": null,
   "id": "d32d7fa8",
   "metadata": {
    "scrolled": true
   },
   "outputs": [],
   "source": [
    "# Hacer un salto de linea (\\n)\n",
    "print('Feliz\\nJueves')"
   ]
  },
  {
   "cell_type": "markdown",
   "id": "efc89850",
   "metadata": {},
   "source": [
    "## Operaciones y Métodos de las Listas"
   ]
  },
  {
   "cell_type": "markdown",
   "id": "1cf1fddc",
   "metadata": {},
   "source": [
    "### Suma\n",
    "\n",
    "La suma de listas es simplemente unirlas en una sola "
   ]
  },
  {
   "cell_type": "code",
   "execution_count": null,
   "id": "8d9f677f",
   "metadata": {},
   "outputs": [],
   "source": [
    "a = [1,2,3]\n",
    "b = [6,5,6]\n",
    "\n",
    "# El orden de la unión depende del orden en el que sumamos las listas\n",
    "print(a+b)\n",
    "print(b+a)"
   ]
  },
  {
   "cell_type": "markdown",
   "id": "ad7350f4",
   "metadata": {},
   "source": [
    "### Multiplicación\n",
    "\n",
    "Al igual que los caracteres la multiplicación se traduce a una repetición"
   ]
  },
  {
   "cell_type": "code",
   "execution_count": null,
   "id": "e3c292cd",
   "metadata": {},
   "outputs": [],
   "source": [
    "a = 2*a\n",
    "a"
   ]
  },
  {
   "cell_type": "markdown",
   "id": "c24bb258",
   "metadata": {},
   "source": [
    "### Métodos de las Listas "
   ]
  },
  {
   "cell_type": "code",
   "execution_count": null,
   "id": "2662ce73",
   "metadata": {},
   "outputs": [],
   "source": [
    "# append(): añade un elemento al final de la lista.\n",
    "l = [1,2,3]\n",
    "l.append(7)\n",
    "l"
   ]
  },
  {
   "cell_type": "code",
   "execution_count": null,
   "id": "00ec728b",
   "metadata": {},
   "outputs": [],
   "source": [
    "# clear(): elimina todos los elementos de la lista.\n",
    "l.clear()\n",
    "l"
   ]
  },
  {
   "cell_type": "code",
   "execution_count": null,
   "id": "71ccfee6",
   "metadata": {},
   "outputs": [],
   "source": [
    "# extend(): al igual que la suma de las listas.\n",
    "l1 = [1,2]\n",
    "l2 = ['si','no']\n",
    "l1.extend(l2)\n",
    "print(l1) ## l1 se extiende con l2\n",
    "\n",
    "l1 = [1,2]\n",
    "l2 = ['si','no']\n",
    "l2.extend(l1)\n",
    "print(l2) ## l2 se extiende con l1"
   ]
  },
  {
   "cell_type": "code",
   "execution_count": null,
   "id": "7cefcccb",
   "metadata": {
    "scrolled": true
   },
   "outputs": [],
   "source": [
    "# count(): cuenta las veces que se repite un elemento de la lista.\n",
    "l = [1, 1,'no', 'si', 1, 2,2.3, 'no']\n",
    "print('Cantidad de veces que se repite el `no`: ', l.count('no'))\n",
    "print('Cantidad de veces que se repite el 1: ', l.count(1))"
   ]
  },
  {
   "cell_type": "code",
   "execution_count": null,
   "id": "0985efba",
   "metadata": {},
   "outputs": [],
   "source": [
    "# index(): devuelve el índice del elemento (error si no está):\n",
    "l.index(1) #nota: devuelve el primero que encuentra."
   ]
  },
  {
   "cell_type": "code",
   "execution_count": null,
   "id": "972290db",
   "metadata": {
    "scrolled": true
   },
   "outputs": [],
   "source": [
    "# insert(): introduce un elemento a una lista en un índice dado:\n",
    "\n",
    "l.insert(len(l), 5) # coloca el 5 en la última posición\n",
    "l"
   ]
  },
  {
   "cell_type": "code",
   "execution_count": null,
   "id": "764fd91a",
   "metadata": {
    "scrolled": true
   },
   "outputs": [],
   "source": [
    "# pop(): toma un elemento (el último de forma predeterminada) de la lista y lo elimina:\n",
    "l.pop()\n",
    "l"
   ]
  },
  {
   "cell_type": "code",
   "execution_count": null,
   "id": "f0ccf7e2",
   "metadata": {},
   "outputs": [],
   "source": [
    "# pop(): se puede dar el indice del elemento que se quiera eliminar\n",
    "l.pop(2)\n",
    "l"
   ]
  },
  {
   "cell_type": "code",
   "execution_count": null,
   "id": "de4fabac",
   "metadata": {},
   "outputs": [],
   "source": [
    "# remove(): recibe un elemento y elimina el primero que encuentre\n",
    "## es parecido a pop(), sin embargo, pop() recibe un índice y remove() un elemento como argumento. \n",
    "l = [1,2,1,2,1]\n",
    "l.remove(1)\n",
    "print(l)"
   ]
  },
  {
   "cell_type": "code",
   "execution_count": null,
   "id": "6478846c",
   "metadata": {},
   "outputs": [],
   "source": [
    "# reverse(): invierte la lista.\n",
    "l = [1,2,3,4,5]\n",
    "l.reverse()\n",
    "l"
   ]
  },
  {
   "cell_type": "code",
   "execution_count": null,
   "id": "7426efbb",
   "metadata": {},
   "outputs": [],
   "source": [
    "# sort(): ordena los valores de una lista de menor a mayor.\n",
    "l = [-1, 2, 0, -3, -5, 4, 8]\n",
    "l.sort()\n",
    "l"
   ]
  },
  {
   "cell_type": "code",
   "execution_count": null,
   "id": "487ef6a9",
   "metadata": {},
   "outputs": [],
   "source": [
    "# sort(): para ordenar de mayor a menor, se incluye el parámetro de reverse.\n",
    "l = [-1, 2, 0, -3, -5, 4, 8]\n",
    "l.sort(reverse= True)\n",
    "l"
   ]
  },
  {
   "cell_type": "markdown",
   "id": "16f2ea18",
   "metadata": {},
   "source": [
    "## Operaciones y Métodos de los Diccionarios"
   ]
  },
  {
   "cell_type": "markdown",
   "id": "22576fc9",
   "metadata": {},
   "source": [
    "### Acceder a un valor"
   ]
  },
  {
   "cell_type": "code",
   "execution_count": null,
   "id": "7fa38228",
   "metadata": {},
   "outputs": [],
   "source": [
    "# Precios de alimentos\n",
    "PAlim = {'mango':2, 'papaya': 3, 'jugo natural':5, 'yuca':0.5}"
   ]
  },
  {
   "cell_type": "code",
   "execution_count": null,
   "id": "0e93c53b",
   "metadata": {
    "scrolled": true
   },
   "outputs": [],
   "source": [
    "## Se accede a los valores usando como índice las variables llave \n",
    "PAlim['mango']"
   ]
  },
  {
   "cell_type": "markdown",
   "id": "2860e670",
   "metadata": {},
   "source": [
    "### Reasignar un valor"
   ]
  },
  {
   "cell_type": "code",
   "execution_count": null,
   "id": "53dd15ec",
   "metadata": {},
   "outputs": [],
   "source": [
    "# Se puede sobrescribir un valor\n",
    "PAlim['mango'] = 10\n",
    "PAlim"
   ]
  },
  {
   "cell_type": "markdown",
   "id": "17effc98",
   "metadata": {},
   "source": [
    "### Pertenencia\n"
   ]
  },
  {
   "cell_type": "code",
   "execution_count": null,
   "id": "ae8a4561",
   "metadata": {},
   "outputs": [],
   "source": [
    "# Para conocer si una variable llave está en el diccionario\n",
    "'yuca' in PAlim # True"
   ]
  },
  {
   "cell_type": "code",
   "execution_count": null,
   "id": "f7c0c06c",
   "metadata": {},
   "outputs": [],
   "source": [
    "'mora' in PAlim # False"
   ]
  },
  {
   "cell_type": "markdown",
   "id": "31542838",
   "metadata": {},
   "source": [
    "### Métodos de los Diccionarios"
   ]
  },
  {
   "cell_type": "code",
   "execution_count": null,
   "id": "4fb5d73f",
   "metadata": {},
   "outputs": [],
   "source": [
    "# clear(): elimina todos los elementos del diccionario\n",
    "PAlim.clear()\n",
    "PAlim"
   ]
  },
  {
   "cell_type": "code",
   "execution_count": null,
   "id": "c9553084",
   "metadata": {},
   "outputs": [],
   "source": [
    "# copy(): crea una copia superficial del diccionario\n",
    "PAlim = {'mango':2, 'papaya': 3, 'jugo natural':5, 'yuca':0.5}\n",
    "v2 = PAlim.copy()\n",
    "v2"
   ]
  },
  {
   "cell_type": "code",
   "execution_count": null,
   "id": "ccd7f781",
   "metadata": {},
   "outputs": [],
   "source": [
    "# Son iguales\n",
    "PAlim == v2 # True"
   ]
  },
  {
   "cell_type": "code",
   "execution_count": null,
   "id": "1758fe55",
   "metadata": {},
   "outputs": [],
   "source": [
    "# fromkeys(): crea un diccionario con valores vacios a partir de una tupla o lista\n",
    "lista1 = ['azul','rojo','amarillo']\n",
    "tupla1 = ('rojo', 'morado', 'azul celeste')"
   ]
  },
  {
   "cell_type": "code",
   "execution_count": null,
   "id": "47602318",
   "metadata": {},
   "outputs": [],
   "source": [
    "diccionario1 = dict.fromkeys(lista1)\n",
    "diccionario1 # Los datos de la lista ahora son variables llave"
   ]
  },
  {
   "cell_type": "code",
   "execution_count": null,
   "id": "fd649b76",
   "metadata": {
    "scrolled": true
   },
   "outputs": [],
   "source": [
    "diccionario2 = dict.fromkeys(tupla1)\n",
    "diccionario2 # Los datos de la tupla ahora son variables llave"
   ]
  },
  {
   "cell_type": "code",
   "execution_count": null,
   "id": "365a89e7",
   "metadata": {},
   "outputs": [],
   "source": [
    "# get(): devuelve el valor de una variable llave\n",
    "PAlim.get('mango')"
   ]
  },
  {
   "cell_type": "code",
   "execution_count": null,
   "id": "529ca2a6",
   "metadata": {
    "scrolled": true
   },
   "outputs": [],
   "source": [
    "# items(): devuelve pares con las variables llave y sus valores\n",
    "PAlim.items()"
   ]
  },
  {
   "cell_type": "code",
   "execution_count": null,
   "id": "fdca24b8",
   "metadata": {},
   "outputs": [],
   "source": [
    "# keys(): devuelve una lista con las variables llave\n",
    "PAlim.keys()"
   ]
  },
  {
   "cell_type": "code",
   "execution_count": null,
   "id": "53393538",
   "metadata": {},
   "outputs": [],
   "source": [
    "# values(): devuelve una lista con los valores\n",
    "PAlim.values()"
   ]
  },
  {
   "cell_type": "code",
   "execution_count": null,
   "id": "52ae166b",
   "metadata": {},
   "outputs": [],
   "source": [
    "# pop(): elimina un dato del diccionario dependiendo de una variable llave dada\n",
    "PAlim.pop('mango') # Se puede hacer lo mismo con `del`: del PAlim['mango']\n",
    "PAlim"
   ]
  },
  {
   "cell_type": "code",
   "execution_count": null,
   "id": "f2a0316e",
   "metadata": {},
   "outputs": [],
   "source": [
    "# update(): une dos diccionarios\n",
    "NuevoProducto = {'paquete fresas':10}\n",
    "PAlim.update(NuevoProducto)\n",
    "PAlim"
   ]
  },
  {
   "cell_type": "markdown",
   "id": "90abc4df",
   "metadata": {},
   "source": [
    "## Operaciones y Métodos de los Conjuntos"
   ]
  },
  {
   "cell_type": "markdown",
   "id": "197041a3",
   "metadata": {},
   "source": [
    "### Operaciones\n",
    "\n",
    "Las operaciones como la suma o multiplicación no aplican a los conjuntos."
   ]
  },
  {
   "cell_type": "markdown",
   "id": "24367480",
   "metadata": {},
   "source": [
    "### Métodos de Conjuntos"
   ]
  },
  {
   "cell_type": "code",
   "execution_count": null,
   "id": "3bebe5ea",
   "metadata": {},
   "outputs": [],
   "source": [
    "# add(): agrega un elemento a un conjunto mutable\n",
    "a = {1,2,3}\n",
    "a.add('a')\n",
    "a\n"
   ]
  },
  {
   "cell_type": "code",
   "execution_count": null,
   "id": "edc0b2d0",
   "metadata": {},
   "outputs": [],
   "source": [
    "#  clear(): elimina todos los elementos de un conjunto mutable\n",
    "a.clear()\n",
    "a"
   ]
  },
  {
   "cell_type": "code",
   "execution_count": null,
   "id": "74ce28ca",
   "metadata": {},
   "outputs": [],
   "source": [
    "# copy(): crea una copia\n",
    "a = {1,2,3}\n",
    "b = a.copy()\n",
    "b"
   ]
  },
  {
   "cell_type": "code",
   "execution_count": null,
   "id": "a2f653be",
   "metadata": {},
   "outputs": [],
   "source": [
    "a == b # True"
   ]
  },
  {
   "cell_type": "code",
   "execution_count": null,
   "id": "7a3bb44d",
   "metadata": {},
   "outputs": [],
   "source": [
    "# discard(): elimina un elemento de un conjunto mutable\n",
    "b.discard(3)\n",
    "b"
   ]
  },
  {
   "cell_type": "code",
   "execution_count": null,
   "id": "b68a6118",
   "metadata": {},
   "outputs": [],
   "source": [
    "# pop(): elimina un elemento de forma aleatoria\n",
    "b.pop()"
   ]
  },
  {
   "cell_type": "code",
   "execution_count": null,
   "id": "0975f640",
   "metadata": {},
   "outputs": [],
   "source": [
    "# remove(): busca un elemento y lo elimina\n",
    "f = {6,7,8,9,0}\n",
    "f.remove(6)\n",
    "f"
   ]
  },
  {
   "cell_type": "code",
   "execution_count": null,
   "id": "58e5739c",
   "metadata": {},
   "outputs": [],
   "source": [
    "# union(): une dos conjuntos\n",
    "z = {4,5,'a'}\n",
    "w = {5, 'b', 6}\n",
    "z.union(w)"
   ]
  },
  {
   "cell_type": "code",
   "execution_count": null,
   "id": "860d2db1",
   "metadata": {},
   "outputs": [],
   "source": [
    "# update(): Añade elementos desde una tupla, lista, diccionario o un conjunto mutable.\n",
    "list1 = [4,7,0, 'b', 'a', 'z']\n",
    "a = {6}\n",
    "a.update(list1)\n",
    "a"
   ]
  },
  {
   "cell_type": "code",
   "execution_count": null,
   "id": "a171f5ef",
   "metadata": {
    "scrolled": true
   },
   "outputs": [],
   "source": [
    "# difference(): genera la diferencia entre dos conjunto ya sean mutable o inmutable\n",
    "## Es decir, los elementos que están en el primero, pero no en el segundo.\n",
    "a = {1,2,4}\n",
    "b = {4,5,6}\n",
    "a.difference(b) # Elementos que están en a pero no en b."
   ]
  },
  {
   "cell_type": "code",
   "execution_count": null,
   "id": "74621d43",
   "metadata": {
    "scrolled": true
   },
   "outputs": [],
   "source": [
    "b.difference(a) # Elementos que están en b pero no en a."
   ]
  },
  {
   "cell_type": "code",
   "execution_count": null,
   "id": "043d8d6e",
   "metadata": {},
   "outputs": [],
   "source": [
    "# difference_update(): al igual que `difference()`, sin embargo, este sobrescribe el conjunto con su diferencia.\n",
    "a.difference(b) \n",
    "a  # no se sobrescribe"
   ]
  },
  {
   "cell_type": "code",
   "execution_count": null,
   "id": "a26bfe65",
   "metadata": {},
   "outputs": [],
   "source": [
    "a.difference_update(b)\n",
    "a # se sobrescribe"
   ]
  },
  {
   "cell_type": "code",
   "execution_count": null,
   "id": "af5e8495",
   "metadata": {},
   "outputs": [],
   "source": [
    "# intersection(): genera la intercepción de dos conjuntos ya sean mutables o inmutables\n",
    "a = {1,2,4,5}\n",
    "b = {4,5,6,7}\n",
    "a.intersection(b)\n",
    "\n",
    "## intersection_update(): tiene la misma lógica que `difference_update()`"
   ]
  },
  {
   "cell_type": "code",
   "execution_count": null,
   "id": "2e4ee3fb",
   "metadata": {},
   "outputs": [],
   "source": [
    "# isdisjoint(): True si no hay elementos iguales en dos conjuntos, y false si los hay\n",
    "a.isdisjoint(b)"
   ]
  },
  {
   "cell_type": "code",
   "execution_count": null,
   "id": "b710edf6",
   "metadata": {},
   "outputs": [],
   "source": [
    "# issubset(): True si el conjunto mutable es un subconjunto de algún conjunto mutable o inmutable\n",
    "d = {4,5,6}\n",
    "c = {1,2,3,4,5,6,7}\n",
    "d.issubset(c) # True"
   ]
  },
  {
   "cell_type": "code",
   "execution_count": null,
   "id": "83ea60b6",
   "metadata": {},
   "outputs": [],
   "source": [
    "c.issubset(d) # False"
   ]
  },
  {
   "cell_type": "code",
   "execution_count": null,
   "id": "733eea48",
   "metadata": {},
   "outputs": [],
   "source": [
    "# issuperset(): True si el conjunto mutable o inmutable es un superset del conjunto mutable.\n",
    "c.issuperset(d) # True"
   ]
  },
  {
   "cell_type": "code",
   "execution_count": null,
   "id": "954f0704",
   "metadata": {},
   "outputs": [],
   "source": [
    "d.issuperset(c) # False"
   ]
  },
  {
   "cell_type": "code",
   "execution_count": null,
   "id": "b73ed7b6",
   "metadata": {},
   "outputs": [],
   "source": [
    "# symmetric_difference(): devuelve los elementos que están en un conjunto mutable o inmutable, sin la intercepción.\n",
    "d.symmetric_difference(c)\n",
    "\n",
    "## symmetric_difference_update(): tiene la misma lógica que `difference_update()`"
   ]
  },
  {
   "cell_type": "markdown",
   "id": "fb987597",
   "metadata": {},
   "source": [
    "## Referencias"
   ]
  },
  {
   "cell_type": "markdown",
   "id": "1d00b736",
   "metadata": {},
   "source": [
    "\n",
    "<body>\n",
    "<p class=\"citation\", style = \"text-indent:-30px;Position: relative;\tpadding-left: 40px;font-size:14px\">\n",
    "    Python Software Foundation. Python Language Reference, version 3.9.5. Available at <a href=\"http://www.python.org\">http://www.python.org</a>.\n",
    "</p>\n",
    "\n",
    "<p class=\"citation\", style = \"text-indent:-30px;Position: relative;\tpadding-left: 40px;font-size:14px\">\n",
    "    Van Rossum, G., & Drake, F. L. (2009). <em> Python 3 Reference Manual</em>. Scotts Valley, CA: CreateSpace.\n",
    "</p>\n",
    "\n",
    "<p class=\"citation\", style = \"text-indent:-30px;Position: relative;\tpadding-left: 40px;font-size:14px\">\n",
    "    Fernando Pérez, Brian E. Granger, <em> IPython: A System for Interactive Scientific Computing</em>, Computing in Science and Engineering, vol. 9, no. 3, pp. 21-29, May/June 2007, <a href=\"doi:10.1109/MCSE.2007.53\">doi:10.1109/MCSE.2007.53</a>. URL: <a href=\"https://ipython.org\">https://ipython.org</a>.\n",
    "</p>\n",
    "</body>"
   ]
  },
  {
   "cell_type": "markdown",
   "id": "4a525047",
   "metadata": {},
   "source": [
    "<br>\n",
    "<br>\n",
    "\n",
    "<div align =\"center\">\n",
    "    &#9668;\n",
    "    <a href = \"01_Introducción.ipynb\" title=\"Abrir el notebook de Introducción\"> Anterior</a> &#65372;\n",
    "    <a href = \"https://github.com/AngelMeneses/Python/blob/main/README.md\" title=\"Abrir el notebook de Contenido\"> Contenido </a> &#65372;\n",
    "    <a href = \"03_0_Estructuras_de_Control_y_Funciones.ipynb\" title=\"Abrir el notebook de Estructuras de Control y Funciones\">Estructuras de Control y Funciones</a>\n",
    "    &#9654;\n",
    "   \n",
    "</div>"
   ]
  }
 ],
 "metadata": {
  "kernelspec": {
   "display_name": "Python 3 (ipykernel)",
   "language": "python",
   "name": "python3"
  },
  "language_info": {
   "codemirror_mode": {
    "name": "ipython",
    "version": 3
   },
   "file_extension": ".py",
   "mimetype": "text/x-python",
   "name": "python",
   "nbconvert_exporter": "python",
   "pygments_lexer": "ipython3",
   "version": "3.9.6"
  }
 },
 "nbformat": 4,
 "nbformat_minor": 5
}
