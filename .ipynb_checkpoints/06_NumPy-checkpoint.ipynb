{
 "cells": [
  {
   "cell_type": "markdown",
   "id": "ed0c3bf0",
   "metadata": {},
   "source": [
    "\n",
    "<h1>NumPy</h1>\n",
    "\n",
    "<br>\n",
    "\n",
    "<div align =\"left\">\n",
    "    &#9668;\n",
    "    <a href = \"05_Librerias.ipynb\" title=\"Abrir el notebook de Librerias\"> Anterior</a> &#65372;\n",
    "    <a href = \"https://github.com/AngelMeneses/Python/blob/main/README.md\" title=\"Abrir el notebook de Contenido\"> Contenido </a> &#65372;\n",
    "    <a href = \"07_Matplotlib.ipynb\" title=\"Abrir el notebook de Matplotlib\">Matplotlib</a>\n",
    "    &#9654;\n",
    "   \n",
    "</div>\n",
    "\n",
    "<hr>\n",
    "\n",
    "Angel Daniel Duarte Meneses (angel.duarte0117@gmail.com)\n",
    "\n",
    "Este material es sólo para fines académicos. \n",
    "\n",
    "Última actualización: 07/07/2021.\n",
    "\n",
    "Puedes encontrar este material en:\n",
    "\n",
    "<a href=\"https://github.com/AngelMeneses/Python\"><img align=\"left\" style=\"width:4%\"  src=\"Iconos/GitHub-Mark/PNG/GitHub-Mark-120px-plus.png\" alt=\"Abrir en Github\" title=\"Acceder al repositorio en Github\"></a> <a href=\"https://github.com/AngelMeneses/Python\"><img align=\"left\" style=\"width:10%\"  src=\"Iconos/GitHub-Logos/GitHub_Logo.png\" alt=\"Abrir en Github\" title=\"Acceder al repositorio en Github\"></a> "
   ]
  },
  {
   "cell_type": "markdown",
   "id": "89c9be37",
   "metadata": {},
   "source": [
    "<body>\n",
    "<div>\n",
    "    <center><h1 style='background:blue; border:0; color:white'><br>Tabla de contenido<br></h1></center>\n",
    "    <ul>\n",
    "        <li><a href=\"#NumPy-'numerical-Python'\">Numpy</a></li>\n",
    "        <ul class=\"idc-lista\">\n",
    "            <li><a href=\"#Función-Array\">Función Array</a></li>\n",
    "            <li><a href=\"#Vectores-y-matrices\">Vectores y matrices</a></li>\n",
    "            <li><a href=\"#Extraer-elementos-y-otras-operaciones\">Extraer elementos y otras operaciones</a></li>\n",
    "        </ul>\n",
    "     <li><a href=\"#Algebra-lineal\">Algebra lineal</a> </li>\n",
    "        <ul class=\"idc-lista\">\n",
    "            <li><a href=\"#Operaciones\">Operaciones</a></li>\n",
    "            <li><a href=\"#Solución-de-ecuaciones-lineales\">Solución de ecuaciones lineales</a></li>\n",
    "        </ul>\n",
    "     <li><a href=\"#Números-aleatorios-(submódulo-random)\">Números aleatorios</a> </li>\n",
    "     <li><a href=\"#Cargar-datos\">Cargar datos</a> </li>\n",
    "     <li><a href=\"#Funciones-estadísticas\">Funciones estadísticas</a> </li>\n",
    "     <li><a href=\"#Referencias\">Referencias</a> </li>\n",
    "    </ul>\n",
    "</div>\n",
    "</body>"
   ]
  },
  {
   "cell_type": "markdown",
   "id": "651b9622",
   "metadata": {},
   "source": [
    "## NumPy 'numerical Python'\n",
    "\n",
    "NumPy es una biblioteca para la creación de matrices multidimensionales."
   ]
  },
  {
   "cell_type": "code",
   "execution_count": 1,
   "id": "0a396baa",
   "metadata": {},
   "outputs": [],
   "source": [
    "import numpy as np # Comúnmente se le asigna el alias de np"
   ]
  },
  {
   "cell_type": "markdown",
   "id": "ad83e0cd",
   "metadata": {},
   "source": [
    "### Función Array"
   ]
  },
  {
   "cell_type": "markdown",
   "id": "056ab595",
   "metadata": {},
   "source": [
    "- Como se aludió anteriormente la suma dos listas es la unión de estas:"
   ]
  },
  {
   "cell_type": "code",
   "execution_count": 2,
   "id": "d8b1cb5d",
   "metadata": {
    "scrolled": true
   },
   "outputs": [
    {
     "data": {
      "text/plain": [
       "[1, 2, 3, 9, 4, 5]"
      ]
     },
     "execution_count": 2,
     "metadata": {},
     "output_type": "execute_result"
    }
   ],
   "source": [
    "l1 = [1,2,3]\n",
    "l2 = [9, 4, 5]\n",
    "l1 + l2"
   ]
  },
  {
   "cell_type": "markdown",
   "id": "0ff9ef8b",
   "metadata": {},
   "source": [
    "- Podemos hacer una suma matricial con numpy"
   ]
  },
  {
   "cell_type": "code",
   "execution_count": 3,
   "id": "4473420d",
   "metadata": {},
   "outputs": [],
   "source": [
    "# array(): toma una lista y la convierte en matriz o vector\n",
    "v1 = np.array(l1)\n",
    "v2 = np.array(l2)"
   ]
  },
  {
   "cell_type": "code",
   "execution_count": 4,
   "id": "f8d29ddf",
   "metadata": {},
   "outputs": [
    {
     "data": {
      "text/plain": [
       "array([10,  6,  8])"
      ]
     },
     "execution_count": 4,
     "metadata": {},
     "output_type": "execute_result"
    }
   ],
   "source": [
    "# Se suma el primer elemento de v1 con el primero de v2, y así sucesivamente\n",
    "v1 + v2"
   ]
  },
  {
   "cell_type": "markdown",
   "id": "311afaf0",
   "metadata": {},
   "source": [
    "- Recordemos que un número multiplicando una lista se traduce como repetición"
   ]
  },
  {
   "cell_type": "code",
   "execution_count": 5,
   "id": "352f2c76",
   "metadata": {},
   "outputs": [
    {
     "data": {
      "text/plain": [
       "[1, 2, 3, 1, 2, 3, 1, 2, 3]"
      ]
     },
     "execution_count": 5,
     "metadata": {},
     "output_type": "execute_result"
    }
   ],
   "source": [
    "3*l1"
   ]
  },
  {
   "cell_type": "markdown",
   "id": "dc265f70",
   "metadata": {},
   "source": [
    "- Con array este número multiplica a cada elemento del vector o matriz"
   ]
  },
  {
   "cell_type": "code",
   "execution_count": 6,
   "id": "93adda06",
   "metadata": {
    "scrolled": false
   },
   "outputs": [
    {
     "name": "stdout",
     "output_type": "stream",
     "text": [
      "Vector 1:  [1 2 3]\n",
      "vector 1 multiplicado por 3:  [3 6 9]\n",
      "vector 1 por el vector 2:  [ 9  8 15]\n"
     ]
    }
   ],
   "source": [
    "print('Vector 1: ', v1)\n",
    "print('vector 1 multiplicado por 3: ', 3*v1)\n",
    "\n",
    "# La operación es: que el elemento 1 del vector 1 multiplica el elemento 1 del vector 2, y así sucesivamente\n",
    "print('vector 1 por el vector 2: ', v1*v2)"
   ]
  },
  {
   "cell_type": "code",
   "execution_count": 7,
   "id": "632f79d9",
   "metadata": {},
   "outputs": [
    {
     "data": {
      "text/plain": [
       "32"
      ]
     },
     "execution_count": 7,
     "metadata": {},
     "output_type": "execute_result"
    }
   ],
   "source": [
    "# Multiplica los dos vectores\n",
    "np.vdot(v1,v2)"
   ]
  },
  {
   "cell_type": "code",
   "execution_count": 8,
   "id": "e9e67403",
   "metadata": {},
   "outputs": [
    {
     "data": {
      "text/plain": [
       "array([1, 4, 9], dtype=int32)"
      ]
     },
     "execution_count": 8,
     "metadata": {},
     "output_type": "execute_result"
    }
   ],
   "source": [
    "# Cada elemento es elevado a la 2\n",
    "v1**2"
   ]
  },
  {
   "cell_type": "markdown",
   "id": "30363722",
   "metadata": {},
   "source": [
    "- Si le damos una lista con listas tenemos una matriz"
   ]
  },
  {
   "cell_type": "code",
   "execution_count": 9,
   "id": "12736191",
   "metadata": {},
   "outputs": [
    {
     "data": {
      "text/plain": [
       "array([[1, 1, 4],\n",
       "       [2, 1, 2],\n",
       "       [4, 5, 1]])"
      ]
     },
     "execution_count": 9,
     "metadata": {},
     "output_type": "execute_result"
    }
   ],
   "source": [
    "m1 = np.array([[1,1,4],[2,1,2], [4,5,1]])\n",
    "m1"
   ]
  },
  {
   "cell_type": "code",
   "execution_count": 10,
   "id": "027d51a5",
   "metadata": {},
   "outputs": [
    {
     "data": {
      "text/plain": [
       "array([[ 2,  2,  8],\n",
       "       [ 4,  2,  4],\n",
       "       [ 8, 10,  2]])"
      ]
     },
     "execution_count": 10,
     "metadata": {},
     "output_type": "execute_result"
    }
   ],
   "source": [
    "m1 + m1"
   ]
  },
  {
   "cell_type": "code",
   "execution_count": 11,
   "id": "5011a581",
   "metadata": {
    "scrolled": false
   },
   "outputs": [
    {
     "data": {
      "text/plain": [
       "array([[ 1,  1, 16],\n",
       "       [ 4,  1,  4],\n",
       "       [16, 25,  1]])"
      ]
     },
     "execution_count": 11,
     "metadata": {},
     "output_type": "execute_result"
    }
   ],
   "source": [
    "m1*m1"
   ]
  },
  {
   "cell_type": "markdown",
   "id": "0062633e",
   "metadata": {},
   "source": [
    "Diferente de multiplicar con el asterisco (*), la función `dot()` multiplica dos matrices según:\n",
    "\n",
    "\\begin{equation}\n",
    "A_{mxn} \\cdot B_{nxp} = C_{mxp}\n",
    "\\end{equation}\n",
    "\n",
    "Cada elemento de la matriz será:\n",
    "\n",
    "\\begin{equation}\n",
    "(AB)_{ij} = \\sum_{k=1}^{n} A_{ik} B_{kj}\n",
    "\\end{equation}"
   ]
  },
  {
   "cell_type": "code",
   "execution_count": 12,
   "id": "6a76308b",
   "metadata": {},
   "outputs": [
    {
     "data": {
      "text/plain": [
       "array([[19, 22, 10],\n",
       "       [12, 13, 12],\n",
       "       [18, 14, 27]])"
      ]
     },
     "execution_count": 12,
     "metadata": {},
     "output_type": "execute_result"
    }
   ],
   "source": [
    "np.dot(m1, m1)"
   ]
  },
  {
   "cell_type": "code",
   "execution_count": 13,
   "id": "6e7449c5",
   "metadata": {
    "scrolled": false
   },
   "outputs": [
    {
     "data": {
      "text/plain": [
       "array([[ 1,  1, 16],\n",
       "       [ 4,  1,  4],\n",
       "       [16, 25,  1]], dtype=int32)"
      ]
     },
     "execution_count": 13,
     "metadata": {},
     "output_type": "execute_result"
    }
   ],
   "source": [
    "m1**2"
   ]
  },
  {
   "cell_type": "code",
   "execution_count": 14,
   "id": "e677f722",
   "metadata": {},
   "outputs": [
    {
     "data": {
      "text/plain": [
       "array([1, 1, 1])"
      ]
     },
     "execution_count": 14,
     "metadata": {},
     "output_type": "execute_result"
    }
   ],
   "source": [
    "# Devuelve los elementos de la diagonal\n",
    "np.diagonal(m1)"
   ]
  },
  {
   "cell_type": "markdown",
   "id": "be979ff0",
   "metadata": {},
   "source": [
    "### Vectores y matrices"
   ]
  },
  {
   "cell_type": "code",
   "execution_count": 15,
   "id": "d2354598",
   "metadata": {},
   "outputs": [
    {
     "name": "stdout",
     "output_type": "stream",
     "text": [
      "Vector v:  [-1.24458653e+179  4.28652728e-098]\n",
      "Matriz m:\n",
      "[[0. 0.]\n",
      " [0. 0.]\n",
      " [0. 0.]]\n",
      "<class 'numpy.ndarray'> <class 'numpy.ndarray'>\n"
     ]
    }
   ],
   "source": [
    "# empty(): crea una matriz o vector vacío, equivalente a que todos sus elementos son ceros\n",
    "v = np.empty(2)       # Vector con dos elementos\n",
    "m = np.empty((3,2))   # Fila y columna, respectivamente\n",
    "print(\"Vector v: \",v)\n",
    "print(\"Matriz m:\")\n",
    "print(m)\n",
    "print(type(v), type(m))"
   ]
  },
  {
   "cell_type": "code",
   "execution_count": 16,
   "id": "c1671bf7",
   "metadata": {},
   "outputs": [
    {
     "name": "stdout",
     "output_type": "stream",
     "text": [
      "Vector v:  [0. 0. 0.]\n",
      "Matriz m:\n",
      "[[0. 0. 0. 0.]\n",
      " [0. 0. 0. 0.]\n",
      " [0. 0. 0. 0.]\n",
      " [0. 0. 0. 0.]]\n",
      "<class 'numpy.ndarray'> <class 'numpy.ndarray'>\n"
     ]
    }
   ],
   "source": [
    "# zeros(): crea una matriz o vector donde todos los elementos son ceros\n",
    "v = np.zeros(3)\n",
    "m = np.zeros((4,4))   # Fila y columna, respectivamente\n",
    "print(\"Vector v: \",v)\n",
    "print(\"Matriz m:\")\n",
    "print(m)\n",
    "print(type(v), type(m))"
   ]
  },
  {
   "cell_type": "code",
   "execution_count": 17,
   "id": "a2a9c239",
   "metadata": {},
   "outputs": [
    {
     "name": "stdout",
     "output_type": "stream",
     "text": [
      "Vector v:  [1. 1.]\n",
      "Matriz m:\n",
      "[[1. 1. 1.]\n",
      " [1. 1. 1.]\n",
      " [1. 1. 1.]]\n",
      "<class 'numpy.ndarray'> <class 'numpy.ndarray'>\n"
     ]
    }
   ],
   "source": [
    "# ones(): crea una matriz o vector donde todos los elementos son uno\n",
    "v = np.ones(2)\n",
    "m = np.ones((3,3))    \n",
    "print(\"Vector v: \",v)\n",
    "print(\"Matriz m:\")\n",
    "print(m)\n",
    "print(type(v), type(m))"
   ]
  },
  {
   "cell_type": "code",
   "execution_count": 18,
   "id": "802f0ca2",
   "metadata": {},
   "outputs": [
    {
     "name": "stdout",
     "output_type": "stream",
     "text": [
      "Vector v:  [5 5 5 5 5 5 5 5]\n",
      "Matriz m:\n",
      "[[5 5 5 5]\n",
      " [5 5 5 5]\n",
      " [5 5 5 5]\n",
      " [5 5 5 5]]\n",
      "<class 'numpy.ndarray'> <class 'numpy.ndarray'>\n"
     ]
    }
   ],
   "source": [
    "# full(): crea una matriz donde todos los elementos son iguales al dado\n",
    "v = np.full(8,5)\n",
    "m = np.full((4,4), 5)  # Primero las dimensiones y luego el valor para todos los elementos de la matriz\n",
    "print(\"Vector v: \",v)\n",
    "print(\"Matriz m:\")\n",
    "print(m)\n",
    "print(type(v), type(m))"
   ]
  },
  {
   "cell_type": "code",
   "execution_count": 19,
   "id": "e155caf2",
   "metadata": {},
   "outputs": [
    {
     "data": {
      "text/plain": [
       "array([[1., 0., 0., 0.],\n",
       "       [0., 1., 0., 0.],\n",
       "       [0., 0., 1., 0.],\n",
       "       [0., 0., 0., 1.]])"
      ]
     },
     "execution_count": 19,
     "metadata": {},
     "output_type": "execute_result"
    }
   ],
   "source": [
    "# eye(): crea una matriz identidad\n",
    "np.eye(4)"
   ]
  },
  {
   "cell_type": "code",
   "execution_count": 20,
   "id": "68a062e8",
   "metadata": {},
   "outputs": [
    {
     "data": {
      "text/plain": [
       "array([[0., 1., 0., 0.],\n",
       "       [0., 0., 1., 0.],\n",
       "       [0., 0., 0., 1.],\n",
       "       [0., 0., 0., 0.]])"
      ]
     },
     "execution_count": 20,
     "metadata": {},
     "output_type": "execute_result"
    }
   ],
   "source": [
    "## Se desplaza la diagonal con el argumento k\n",
    "np.eye(4, k=1)"
   ]
  },
  {
   "cell_type": "code",
   "execution_count": 21,
   "id": "2eb1fe67",
   "metadata": {},
   "outputs": [
    {
     "data": {
      "text/plain": [
       "array([[0., 0., 1., 0.],\n",
       "       [0., 0., 0., 1.],\n",
       "       [0., 0., 0., 0.],\n",
       "       [0., 0., 0., 0.]])"
      ]
     },
     "execution_count": 21,
     "metadata": {},
     "output_type": "execute_result"
    }
   ],
   "source": [
    "np.eye(4, k=2)"
   ]
  },
  {
   "cell_type": "code",
   "execution_count": 22,
   "id": "004d6d38",
   "metadata": {},
   "outputs": [
    {
     "data": {
      "text/plain": [
       "array([[1., 0., 0., 0.],\n",
       "       [0., 1., 0., 0.],\n",
       "       [0., 0., 1., 0.],\n",
       "       [0., 0., 0., 1.]])"
      ]
     },
     "execution_count": 22,
     "metadata": {},
     "output_type": "execute_result"
    }
   ],
   "source": [
    "# La función identity() hace lo mismo que eye(). ¿Cuál es la diferencia?\n",
    "np.identity(4) "
   ]
  },
  {
   "cell_type": "code",
   "execution_count": 23,
   "id": "76a7e2b9",
   "metadata": {},
   "outputs": [],
   "source": [
    "## identity() está definida en numpy de esta manera:\n",
    "def identity(n, dtype=None):\n",
    "    from numpy import eye\n",
    "    return eye(n, dtype=dtype)\n",
    "\n",
    "## Por lo que, la principal diferencia es que no se puede desplazar la diagonal, \n",
    "## solamente genera la matriz identidad."
   ]
  },
  {
   "cell_type": "code",
   "execution_count": 24,
   "id": "5a2c77c3",
   "metadata": {},
   "outputs": [
    {
     "data": {
      "text/plain": [
       "array([ 1.  ,  1.09,  1.18,  1.27,  1.36,  1.45,  1.54,  1.63,  1.72,\n",
       "        1.81,  1.9 ,  1.99,  2.08,  2.17,  2.26,  2.35,  2.44,  2.53,\n",
       "        2.62,  2.71,  2.8 ,  2.89,  2.98,  3.07,  3.16,  3.25,  3.34,\n",
       "        3.43,  3.52,  3.61,  3.7 ,  3.79,  3.88,  3.97,  4.06,  4.15,\n",
       "        4.24,  4.33,  4.42,  4.51,  4.6 ,  4.69,  4.78,  4.87,  4.96,\n",
       "        5.05,  5.14,  5.23,  5.32,  5.41,  5.5 ,  5.59,  5.68,  5.77,\n",
       "        5.86,  5.95,  6.04,  6.13,  6.22,  6.31,  6.4 ,  6.49,  6.58,\n",
       "        6.67,  6.76,  6.85,  6.94,  7.03,  7.12,  7.21,  7.3 ,  7.39,\n",
       "        7.48,  7.57,  7.66,  7.75,  7.84,  7.93,  8.02,  8.11,  8.2 ,\n",
       "        8.29,  8.38,  8.47,  8.56,  8.65,  8.74,  8.83,  8.92,  9.01,\n",
       "        9.1 ,  9.19,  9.28,  9.37,  9.46,  9.55,  9.64,  9.73,  9.82,\n",
       "        9.91, 10.  ])"
      ]
     },
     "execution_count": 24,
     "metadata": {},
     "output_type": "execute_result"
    }
   ],
   "source": [
    "# Genera un vector con un espacio lineal de 1 a 10, y una cantidad de elementos de 101\n",
    "v = np.linspace(1, 10, 101)\n",
    "v"
   ]
  },
  {
   "cell_type": "code",
   "execution_count": 25,
   "id": "3c1d6c90",
   "metadata": {},
   "outputs": [
    {
     "name": "stdout",
     "output_type": "stream",
     "text": [
      "[[0 0 0 0 0]\n",
      " [0 1 0 0 0]\n",
      " [0 0 2 0 0]\n",
      " [0 0 0 3 0]\n",
      " [0 0 0 0 4]]\n"
     ]
    }
   ],
   "source": [
    "# Genera una matriz donde los elementos de la diagonal son los dados como argumento\n",
    "m = np.diag(range(5)) # equivalente: np.diag([0,1,2,3,4])\n",
    "print(m)"
   ]
  },
  {
   "cell_type": "code",
   "execution_count": 26,
   "id": "68164539",
   "metadata": {},
   "outputs": [
    {
     "name": "stdout",
     "output_type": "stream",
     "text": [
      "dimensiones de v:  (8,)\n",
      "dimensiones de m:  (4, 4)\n"
     ]
    }
   ],
   "source": [
    "# Muestra las dimensiones de la matriz: fila y columna, respectivamente\n",
    "v = np.full(8,5)\n",
    "m = np.full((4,4), 5)\n",
    "print(\"dimensiones de v: \",v.shape)\n",
    "print(\"dimensiones de m: \",m.shape)"
   ]
  },
  {
   "cell_type": "code",
   "execution_count": 27,
   "id": "15854bda",
   "metadata": {},
   "outputs": [
    {
     "name": "stdout",
     "output_type": "stream",
     "text": [
      "Número de dimensiones de v:  1\n",
      "Número de dimensiones de m:  2\n"
     ]
    }
   ],
   "source": [
    "# Muestra la cantidad de dimensiones\n",
    "print(\"Número de dimensiones de v: \",v.ndim)\n",
    "print(\"Número de dimensiones de m: \",m.ndim)"
   ]
  },
  {
   "cell_type": "code",
   "execution_count": 28,
   "id": "fe8767f6",
   "metadata": {},
   "outputs": [
    {
     "name": "stdout",
     "output_type": "stream",
     "text": [
      "Tipo de dato de v:  int32\n",
      "Tipo de dato de m:  int32\n"
     ]
    }
   ],
   "source": [
    "# Muestra el tipo\n",
    "print(\"Tipo de dato de v: \",v.dtype)\n",
    "print(\"Tipo de dato de m: \",m.dtype)"
   ]
  },
  {
   "cell_type": "code",
   "execution_count": 29,
   "id": "bb3de618",
   "metadata": {},
   "outputs": [
    {
     "name": "stdout",
     "output_type": "stream",
     "text": [
      "Cantidad de elementos de v:  8\n",
      "Cantidad de elementos de m:  16\n"
     ]
    },
    {
     "data": {
      "text/plain": [
       "8"
      ]
     },
     "execution_count": 29,
     "metadata": {},
     "output_type": "execute_result"
    }
   ],
   "source": [
    "# Muestra la cantidad de elementos\n",
    "print(\"Cantidad de elementos de v: \",v.size)\n",
    "print(\"Cantidad de elementos de m: \",m.size)\n",
    "v.size"
   ]
  },
  {
   "cell_type": "code",
   "execution_count": 30,
   "id": "e3b86024",
   "metadata": {},
   "outputs": [
    {
     "data": {
      "text/plain": [
       "array([1, 0, 1])"
      ]
     },
     "execution_count": 30,
     "metadata": {},
     "output_type": "execute_result"
    }
   ],
   "source": [
    "# copy(): Hace una copia de una matriz o vector\n",
    "a = np.array([1,0,1])\n",
    "b = a.copy()\n",
    "b"
   ]
  },
  {
   "cell_type": "code",
   "execution_count": 81,
   "id": "1363aebc",
   "metadata": {},
   "outputs": [
    {
     "data": {
      "text/plain": [
       "array([ 0,  1,  2,  3,  4,  5,  6,  7,  8,  9, 10, 11, 12, 13, 14, 15])"
      ]
     },
     "execution_count": 81,
     "metadata": {},
     "output_type": "execute_result"
    }
   ],
   "source": [
    "# arange(): vector con los elementos del 0 al 11\n",
    "np.arange(16)"
   ]
  },
  {
   "cell_type": "code",
   "execution_count": 82,
   "id": "f3856203",
   "metadata": {},
   "outputs": [
    {
     "data": {
      "text/plain": [
       "array([[ 0,  1,  2,  3],\n",
       "       [ 4,  5,  6,  7],\n",
       "       [ 8,  9, 10, 11],\n",
       "       [12, 13, 14, 15]])"
      ]
     },
     "execution_count": 82,
     "metadata": {},
     "output_type": "execute_result"
    }
   ],
   "source": [
    "# reshape(): se puede transformar un vector en matriz\n",
    "np.arange(16).reshape(4,4)"
   ]
  },
  {
   "cell_type": "code",
   "execution_count": 31,
   "id": "77c9cbdb",
   "metadata": {},
   "outputs": [
    {
     "name": "stdout",
     "output_type": "stream",
     "text": [
      "a\t b\t identity\t l1\t l2\t m\t m1\t np\t v\t \n",
      "v1\t v2\t \n"
     ]
    }
   ],
   "source": [
    "%who"
   ]
  },
  {
   "cell_type": "markdown",
   "id": "45e03098",
   "metadata": {},
   "source": [
    "### Extraer elementos y otras operaciones"
   ]
  },
  {
   "cell_type": "code",
   "execution_count": 32,
   "id": "2777d92d",
   "metadata": {},
   "outputs": [
    {
     "data": {
      "text/plain": [
       "array([[1, 2, 3],\n",
       "       [1, 1, 2],\n",
       "       [4, 6, 2]])"
      ]
     },
     "execution_count": 32,
     "metadata": {},
     "output_type": "execute_result"
    }
   ],
   "source": [
    "m2 = np.array([[1,2,3],[1,1,2], [4,6,2]])\n",
    "m2"
   ]
  },
  {
   "cell_type": "code",
   "execution_count": 33,
   "id": "1df044d3",
   "metadata": {},
   "outputs": [
    {
     "data": {
      "text/plain": [
       "array([1, 2, 3])"
      ]
     },
     "execution_count": 33,
     "metadata": {},
     "output_type": "execute_result"
    }
   ],
   "source": [
    "m2[0] # Extrae la primer fila"
   ]
  },
  {
   "cell_type": "code",
   "execution_count": 34,
   "id": "87046007",
   "metadata": {},
   "outputs": [
    {
     "data": {
      "text/plain": [
       "array([1, 1, 2])"
      ]
     },
     "execution_count": 34,
     "metadata": {},
     "output_type": "execute_result"
    }
   ],
   "source": [
    "m2[1] # Extrae la segunda fila"
   ]
  },
  {
   "cell_type": "markdown",
   "id": "fc082a0b",
   "metadata": {},
   "source": [
    "\n",
    "<div class=\"alert alert-info\"><b> Tener en cuenta:  </b>  \n",
    "    <ul>\n",
    "    <li> Los dos puntos (:) significa que se toma de inicio a fin.</li>\n",
    "    </ul>\n",
    "</div>\n",
    "\n",
    "\n"
   ]
  },
  {
   "cell_type": "code",
   "execution_count": 35,
   "id": "163513e7",
   "metadata": {},
   "outputs": [
    {
     "data": {
      "text/plain": [
       "array([1, 1, 4])"
      ]
     },
     "execution_count": 35,
     "metadata": {},
     "output_type": "execute_result"
    }
   ],
   "source": [
    "m2[:,0] # Extrae la primer columna, "
   ]
  },
  {
   "cell_type": "code",
   "execution_count": 36,
   "id": "89ad32f4",
   "metadata": {},
   "outputs": [
    {
     "data": {
      "text/plain": [
       "array([2, 1, 6])"
      ]
     },
     "execution_count": 36,
     "metadata": {},
     "output_type": "execute_result"
    }
   ],
   "source": [
    "m2[:,1] # Extrae la segunda columna "
   ]
  },
  {
   "cell_type": "code",
   "execution_count": 37,
   "id": "c63bf882",
   "metadata": {},
   "outputs": [
    {
     "data": {
      "text/plain": [
       "array([[1, 2, 3],\n",
       "       [1, 1, 2],\n",
       "       [4, 6, 2]])"
      ]
     },
     "execution_count": 37,
     "metadata": {},
     "output_type": "execute_result"
    }
   ],
   "source": [
    "m2[:,:] # Extrae toda la matriz"
   ]
  },
  {
   "cell_type": "code",
   "execution_count": 38,
   "id": "12a45de7",
   "metadata": {},
   "outputs": [
    {
     "data": {
      "text/plain": [
       "1"
      ]
     },
     "execution_count": 38,
     "metadata": {},
     "output_type": "execute_result"
    }
   ],
   "source": [
    "m2[0,0] # Extrae el primer elemento"
   ]
  },
  {
   "cell_type": "code",
   "execution_count": 39,
   "id": "40395748",
   "metadata": {},
   "outputs": [
    {
     "data": {
      "text/plain": [
       "2"
      ]
     },
     "execution_count": 39,
     "metadata": {},
     "output_type": "execute_result"
    }
   ],
   "source": [
    "m2[0,1] # Extrae el segundo elemento de la primer fila"
   ]
  },
  {
   "cell_type": "code",
   "execution_count": 40,
   "id": "0752c505",
   "metadata": {
    "scrolled": true
   },
   "outputs": [
    {
     "data": {
      "text/plain": [
       "2"
      ]
     },
     "execution_count": 40,
     "metadata": {},
     "output_type": "execute_result"
    }
   ],
   "source": [
    "m2[2,2] # Extrae el último elemento"
   ]
  },
  {
   "cell_type": "code",
   "execution_count": 41,
   "id": "660ca891",
   "metadata": {},
   "outputs": [
    {
     "data": {
      "text/plain": [
       "array([[1, 2],\n",
       "       [1, 1]])"
      ]
     },
     "execution_count": 41,
     "metadata": {},
     "output_type": "execute_result"
    }
   ],
   "source": [
    "m2[0:2,0:2] # Extrae una porción de la matriz"
   ]
  },
  {
   "cell_type": "code",
   "execution_count": 42,
   "id": "3b2162f6",
   "metadata": {},
   "outputs": [
    {
     "data": {
      "text/plain": [
       "array([[1, 1, 4],\n",
       "       [2, 1, 6],\n",
       "       [3, 2, 2]])"
      ]
     },
     "execution_count": 42,
     "metadata": {},
     "output_type": "execute_result"
    }
   ],
   "source": [
    "m2.T # Genera la transpuesta de la matriz"
   ]
  },
  {
   "cell_type": "markdown",
   "id": "0599a1a1",
   "metadata": {},
   "source": [
    "## Algebra lineal"
   ]
  },
  {
   "cell_type": "markdown",
   "id": "d4df3a84",
   "metadata": {},
   "source": [
    "En la biblioteca `numpy` existe un submódulo llamado `linalg` que permite hacer algebra lineal:"
   ]
  },
  {
   "cell_type": "code",
   "execution_count": 43,
   "id": "d9508d66",
   "metadata": {},
   "outputs": [],
   "source": [
    "from numpy import linalg\n",
    "## En muchas ocasiones 'linalg' se le da el alias de 'la'\n",
    "### import numpy.linalg as la"
   ]
  },
  {
   "cell_type": "code",
   "execution_count": 44,
   "id": "2c442625",
   "metadata": {},
   "outputs": [],
   "source": [
    "m3 = np.array([[1,2,3],[1,1,2], [4,6,2]])"
   ]
  },
  {
   "cell_type": "markdown",
   "id": "630bee3b",
   "metadata": {},
   "source": [
    "### Operaciones"
   ]
  },
  {
   "cell_type": "markdown",
   "id": "0c105778",
   "metadata": {},
   "source": [
    "- Con la función `det()` se genera el determinante, `inv()` la inversa y `eig()` los valores y vectores propios."
   ]
  },
  {
   "cell_type": "code",
   "execution_count": 45,
   "id": "75d9e1be",
   "metadata": {},
   "outputs": [
    {
     "data": {
      "text/plain": [
       "7.999999999999998"
      ]
     },
     "execution_count": 45,
     "metadata": {},
     "output_type": "execute_result"
    }
   ],
   "source": [
    "# Determinante\n",
    "linalg.det(m3)"
   ]
  },
  {
   "cell_type": "code",
   "execution_count": 46,
   "id": "4a1815e6",
   "metadata": {
    "scrolled": true
   },
   "outputs": [
    {
     "data": {
      "text/plain": [
       "array([[-1.25 ,  1.75 ,  0.125],\n",
       "       [ 0.75 , -1.25 ,  0.125],\n",
       "       [ 0.25 ,  0.25 , -0.125]])"
      ]
     },
     "execution_count": 46,
     "metadata": {},
     "output_type": "execute_result"
    }
   ],
   "source": [
    "# Inversa\n",
    "linalg.inv(m3)"
   ]
  },
  {
   "cell_type": "code",
   "execution_count": 47,
   "id": "a8cdd690",
   "metadata": {
    "scrolled": true
   },
   "outputs": [
    {
     "data": {
      "text/plain": [
       "(array([ 7.11125977, -0.41764576, -2.69361401]),\n",
       " array([[-0.50191839, -0.83755621, -0.49461922],\n",
       "        [-0.34210343,  0.54540239, -0.30646176],\n",
       "        [-0.79438226,  0.03218441,  0.81328533]]))"
      ]
     },
     "execution_count": 47,
     "metadata": {},
     "output_type": "execute_result"
    }
   ],
   "source": [
    "# Valores y vectores propios (the eigenvalues and right eigenvectors of a square array)\n",
    "linalg.eig(m3)"
   ]
  },
  {
   "cell_type": "code",
   "execution_count": 48,
   "id": "394f8ca9",
   "metadata": {},
   "outputs": [],
   "source": [
    "# Se puede separar\n",
    "valores, vector = linalg.eig(m3)"
   ]
  },
  {
   "cell_type": "code",
   "execution_count": 49,
   "id": "6ff28932",
   "metadata": {},
   "outputs": [
    {
     "data": {
      "text/plain": [
       "array([ 7.11125977, -0.41764576, -2.69361401])"
      ]
     },
     "execution_count": 49,
     "metadata": {},
     "output_type": "execute_result"
    }
   ],
   "source": [
    "valores"
   ]
  },
  {
   "cell_type": "code",
   "execution_count": 50,
   "id": "d57f637a",
   "metadata": {},
   "outputs": [
    {
     "data": {
      "text/plain": [
       "array([[-0.50191839, -0.83755621, -0.49461922],\n",
       "       [-0.34210343,  0.54540239, -0.30646176],\n",
       "       [-0.79438226,  0.03218441,  0.81328533]])"
      ]
     },
     "execution_count": 50,
     "metadata": {},
     "output_type": "execute_result"
    }
   ],
   "source": [
    "vector"
   ]
  },
  {
   "cell_type": "code",
   "execution_count": 51,
   "id": "c220dfdb",
   "metadata": {},
   "outputs": [
    {
     "data": {
      "text/plain": [
       "3"
      ]
     },
     "execution_count": 51,
     "metadata": {},
     "output_type": "execute_result"
    }
   ],
   "source": [
    "# Devuelve el rango\n",
    "linalg.matrix_rank(m3)"
   ]
  },
  {
   "cell_type": "code",
   "execution_count": 52,
   "id": "20db1f59",
   "metadata": {},
   "outputs": [
    {
     "data": {
      "text/plain": [
       "2"
      ]
     },
     "execution_count": 52,
     "metadata": {},
     "output_type": "execute_result"
    }
   ],
   "source": [
    "m3_1 = np.array([[1,2,3],[1,2,3], [4,6,2]])\n",
    "linalg.matrix_rank(m3_1)"
   ]
  },
  {
   "cell_type": "markdown",
   "id": "6238d7d6",
   "metadata": {},
   "source": [
    "- Si el determinante es igual a cero, implica que no tiene inversa"
   ]
  },
  {
   "cell_type": "code",
   "execution_count": 53,
   "id": "f63a2136",
   "metadata": {},
   "outputs": [],
   "source": [
    "m4 = np.array([[1,2,3],[1,1,2], [0,0,0]])"
   ]
  },
  {
   "cell_type": "code",
   "execution_count": 54,
   "id": "2c6f82be",
   "metadata": {},
   "outputs": [
    {
     "data": {
      "text/plain": [
       "0.0"
      ]
     },
     "execution_count": 54,
     "metadata": {},
     "output_type": "execute_result"
    }
   ],
   "source": [
    "linalg.det(m4)"
   ]
  },
  {
   "cell_type": "code",
   "execution_count": 55,
   "id": "0d0f2532",
   "metadata": {},
   "outputs": [],
   "source": [
    "# linalg.inv(m4)\n",
    "## LinAlgError: Singular matrix"
   ]
  },
  {
   "cell_type": "code",
   "execution_count": 56,
   "id": "b27069cb",
   "metadata": {
    "scrolled": false
   },
   "outputs": [
    {
     "data": {
      "text/plain": [
       "(array([ 2.41421356, -0.41421356,  0.        ]),\n",
       " array([[ 0.81649658, -0.81649658, -0.57735027],\n",
       "        [ 0.57735027,  0.57735027, -0.57735027],\n",
       "        [ 0.        ,  0.        ,  0.57735027]]))"
      ]
     },
     "execution_count": 56,
     "metadata": {},
     "output_type": "execute_result"
    }
   ],
   "source": [
    "linalg.eig(m4)"
   ]
  },
  {
   "cell_type": "markdown",
   "id": "ffd1afd1",
   "metadata": {},
   "source": [
    "### Solución de ecuaciones lineales\n",
    "\n",
    "Supongamos que tenemos las siguientes ecuaciones:\n",
    "\n",
    "\\begin{eqnarray}\n",
    "& x+2y + 5z= 2 \\\\\n",
    "& 2x + y +z = 1 \\\\\n",
    "& 4x + 2y + 5z = 1  \n",
    "\\end{eqnarray}\n",
    "\n",
    "Es de la forma:\n",
    "\n",
    "\\begin{equation}\n",
    "\\vec{A} \\cdot \\vec{X} = \\vec{C}\n",
    "\\end{equation}\n",
    "\n",
    "Es decir:\n",
    "\n",
    "\\begin{equation}\n",
    "\\begin{pmatrix} 1 & 2& 5 \\\\ 2 & 1 & 1 \\\\ 4 & 2& 5 \\end{pmatrix} \\cdot \\begin{pmatrix} x \\\\ y \\\\ z \\end{pmatrix} = \\begin{pmatrix} 2 \\\\ 1 \\\\ 1 \\end{pmatrix}\n",
    "\\end{equation}"
   ]
  },
  {
   "cell_type": "code",
   "execution_count": 57,
   "id": "9561763d",
   "metadata": {},
   "outputs": [],
   "source": [
    "A = np.array([[1,2,5],[2,1,1], [4,2,5]])\n",
    "C = np.array([2,1,1])"
   ]
  },
  {
   "cell_type": "code",
   "execution_count": 58,
   "id": "274c725b",
   "metadata": {},
   "outputs": [
    {
     "data": {
      "text/plain": [
       "array([-0.33333333,  2.        , -0.33333333])"
      ]
     },
     "execution_count": 58,
     "metadata": {},
     "output_type": "execute_result"
    }
   ],
   "source": [
    "# De forma manual\n",
    "X = np.dot(linalg.inv(A),C)\n",
    "X"
   ]
  },
  {
   "cell_type": "code",
   "execution_count": 59,
   "id": "da737d48",
   "metadata": {},
   "outputs": [
    {
     "data": {
      "text/plain": [
       "array([-0.33333333,  2.        , -0.33333333])"
      ]
     },
     "execution_count": 59,
     "metadata": {},
     "output_type": "execute_result"
    }
   ],
   "source": [
    "# Usando la funcion solve()\n",
    "X = linalg.solve(A, C)\n",
    "X"
   ]
  },
  {
   "cell_type": "markdown",
   "id": "23fdad24",
   "metadata": {},
   "source": [
    "## Números aleatorios (submódulo random)\n",
    "\n",
    "En `numpy` existe un submódulo llamado `random` que permite generar números aleatorios:\n"
   ]
  },
  {
   "cell_type": "code",
   "execution_count": 60,
   "id": "dcf0d1a4",
   "metadata": {},
   "outputs": [],
   "source": [
    "from numpy import random"
   ]
  },
  {
   "cell_type": "code",
   "execution_count": 61,
   "id": "1f99586c",
   "metadata": {},
   "outputs": [],
   "source": [
    "# Profundizar\n",
    "random?"
   ]
  },
  {
   "cell_type": "code",
   "execution_count": 62,
   "id": "d6f69639",
   "metadata": {
    "scrolled": true
   },
   "outputs": [
    {
     "data": {
      "text/plain": [
       "1"
      ]
     },
     "execution_count": 62,
     "metadata": {},
     "output_type": "execute_result"
    }
   ],
   "source": [
    "# Generar un entero aleatorio de 0 al número dado (el número dado es excluido o exclusivo)\n",
    "random.randint(10)"
   ]
  },
  {
   "cell_type": "code",
   "execution_count": 63,
   "id": "929508dc",
   "metadata": {},
   "outputs": [
    {
     "data": {
      "text/plain": [
       "4"
      ]
     },
     "execution_count": 63,
     "metadata": {},
     "output_type": "execute_result"
    }
   ],
   "source": [
    "## Primer valor del rango es incluido y el segundo excluido\n",
    "random.randint(2,10) "
   ]
  },
  {
   "cell_type": "code",
   "execution_count": 64,
   "id": "05ad9c51",
   "metadata": {},
   "outputs": [
    {
     "data": {
      "text/plain": [
       "array([4, 1, 1, 6, 0])"
      ]
     },
     "execution_count": 64,
     "metadata": {},
     "output_type": "execute_result"
    }
   ],
   "source": [
    "## Con el argumento 'size' se genera un vector de ese tamaño, y sus elementos son aleatorios al rango dado\n",
    "random.randint(10, size=(5))"
   ]
  },
  {
   "cell_type": "code",
   "execution_count": 65,
   "id": "3486949a",
   "metadata": {},
   "outputs": [
    {
     "data": {
      "text/plain": [
       "array([[2, 2, 3],\n",
       "       [7, 9, 5]])"
      ]
     },
     "execution_count": 65,
     "metadata": {},
     "output_type": "execute_result"
    }
   ],
   "source": [
    "## Se genera una matriz de dimensión especificada en 'size', respectivamente, fila y columna.\n",
    "random.randint(10, size=(2,3))"
   ]
  },
  {
   "cell_type": "code",
   "execution_count": 66,
   "id": "7ce0295a",
   "metadata": {},
   "outputs": [
    {
     "data": {
      "text/plain": [
       "0.15255215435355385"
      ]
     },
     "execution_count": 66,
     "metadata": {},
     "output_type": "execute_result"
    }
   ],
   "source": [
    "# Generar un punto flotante aleatorio uniforme de 0 a 1\n",
    "random.rand()"
   ]
  },
  {
   "cell_type": "code",
   "execution_count": 67,
   "id": "bf541583",
   "metadata": {},
   "outputs": [
    {
     "data": {
      "text/plain": [
       "array([0.97439799, 0.61180412, 0.26591141])"
      ]
     },
     "execution_count": 67,
     "metadata": {},
     "output_type": "execute_result"
    }
   ],
   "source": [
    "# Vector con tres elementos\n",
    "random.rand(3)"
   ]
  },
  {
   "cell_type": "code",
   "execution_count": 68,
   "id": "de6d8919",
   "metadata": {},
   "outputs": [
    {
     "data": {
      "text/plain": [
       "array([[0.34853784, 0.43053512, 0.64528845, 0.72772053],\n",
       "       [0.81000484, 0.33481905, 0.52760978, 0.04394058],\n",
       "       [0.91355325, 0.59673177, 0.38389882, 0.31366257]])"
      ]
     },
     "execution_count": 68,
     "metadata": {},
     "output_type": "execute_result"
    }
   ],
   "source": [
    "# Crea una matriz con las dimensiones suministradas, fila y columna, respectivamente\n",
    "random.rand(3, 4) "
   ]
  },
  {
   "cell_type": "code",
   "execution_count": 69,
   "id": "d60d080a",
   "metadata": {
    "scrolled": true
   },
   "outputs": [
    {
     "name": "stdout",
     "output_type": "stream",
     "text": [
      "[[0.52862434 0.01620407 0.17806486]\n",
      " [0.68810813 0.06981073 0.40533507]\n",
      " [0.26882704 0.10054671 0.250386  ]]\n"
     ]
    }
   ],
   "source": [
    "# Crea una matriz donde sus elementos son generados de forma aleatoria\n",
    "m = np.random.random((3,3))\n",
    "print(m)"
   ]
  },
  {
   "cell_type": "markdown",
   "id": "2ac3e799",
   "metadata": {},
   "source": [
    "## Cargar datos\n"
   ]
  },
  {
   "cell_type": "code",
   "execution_count": 70,
   "id": "3451d99d",
   "metadata": {},
   "outputs": [
    {
     "data": {
      "text/plain": [
       "array([[12, 11],\n",
       "       [ 1,  4]])"
      ]
     },
     "execution_count": 70,
     "metadata": {},
     "output_type": "execute_result"
    }
   ],
   "source": [
    "Data = np.array([[12,11],[1,4]])\n",
    "Data"
   ]
  },
  {
   "cell_type": "code",
   "execution_count": 74,
   "id": "7c17fe9b",
   "metadata": {},
   "outputs": [],
   "source": [
    "np.savetxt(\"DataM.dat\", Data, header=\"The matrix\")"
   ]
  },
  {
   "cell_type": "code",
   "execution_count": 72,
   "id": "6aafd358",
   "metadata": {},
   "outputs": [],
   "source": [
    "%less DataM.dat"
   ]
  },
  {
   "cell_type": "code",
   "execution_count": 73,
   "id": "e2aa31d6",
   "metadata": {},
   "outputs": [
    {
     "data": {
      "text/plain": [
       "array([[12., 11.],\n",
       "       [ 1.,  4.]])"
      ]
     },
     "execution_count": 73,
     "metadata": {},
     "output_type": "execute_result"
    }
   ],
   "source": [
    "Data1 = np.loadtxt(\"DataM.dat\")\n",
    "Data1"
   ]
  },
  {
   "cell_type": "markdown",
   "id": "f8e52d9e",
   "metadata": {},
   "source": [
    "## Funciones estadísticas"
   ]
  },
  {
   "cell_type": "code",
   "execution_count": 84,
   "id": "51d8ade8",
   "metadata": {},
   "outputs": [
    {
     "name": "stdout",
     "output_type": "stream",
     "text": [
      "Mediana de los datos: \n",
      " 6.0\n",
      "Media de los datos: \n",
      " 5.444444444444445\n",
      "Media de los datos: \n",
      " 5.444444444444445\n",
      "Desviación estándar de los datos: \n",
      " 3.0469576001782412\n"
     ]
    }
   ],
   "source": [
    "datos = np.array([1,3,7,2,8,10,1,3,6,3,7,9,1,2,3,6,11,10,9,3,8,6,2,8,7,6,5]) \n",
    " \n",
    "med = np.median(datos)\n",
    "print(\"Mediana de los datos: \\n\",med)\n",
    " \n",
    "mean = np.mean(datos)\n",
    "print(\"Media de los datos: \\n\",mean)\n",
    " \n",
    "avg = np.average(datos)\n",
    "print(\"Media de los datos: \\n\",avg)\n",
    " \n",
    "std = np.std(datos)\n",
    "print(\"Desviación estándar de los datos: \\n\",std)"
   ]
  },
  {
   "cell_type": "markdown",
   "id": "78d6cbad",
   "metadata": {},
   "source": [
    "- Con la función `percentile() ` se halla el percentil especificado, es decir:"
   ]
  },
  {
   "cell_type": "code",
   "execution_count": 85,
   "id": "782b89e2",
   "metadata": {},
   "outputs": [
    {
     "data": {
      "text/plain": [
       "3.0"
      ]
     },
     "execution_count": 85,
     "metadata": {},
     "output_type": "execute_result"
    }
   ],
   "source": [
    "np.percentile(datos, 25) # El 25 genera el dato donde por debajo de este está el 25% de los datos. "
   ]
  },
  {
   "cell_type": "code",
   "execution_count": 86,
   "id": "25736c47",
   "metadata": {},
   "outputs": [
    {
     "data": {
      "text/plain": [
       "3.8000000000000007"
      ]
     },
     "execution_count": 86,
     "metadata": {},
     "output_type": "execute_result"
    }
   ],
   "source": [
    "np.percentile(datos, 40)"
   ]
  },
  {
   "cell_type": "code",
   "execution_count": 87,
   "id": "e34e9990",
   "metadata": {},
   "outputs": [
    {
     "data": {
      "text/plain": [
       "7.199999999999999"
      ]
     },
     "execution_count": 87,
     "metadata": {},
     "output_type": "execute_result"
    }
   ],
   "source": [
    "np.percentile(datos, 70)"
   ]
  },
  {
   "cell_type": "code",
   "execution_count": 88,
   "id": "d8026406",
   "metadata": {
    "scrolled": true
   },
   "outputs": [
    {
     "data": {
      "text/plain": [
       "11.0"
      ]
     },
     "execution_count": 88,
     "metadata": {},
     "output_type": "execute_result"
    }
   ],
   "source": [
    "np.percentile(datos, 100)"
   ]
  },
  {
   "cell_type": "markdown",
   "id": "64890bdb",
   "metadata": {},
   "source": [
    "## Referencias"
   ]
  },
  {
   "cell_type": "markdown",
   "id": "fd3c1094",
   "metadata": {},
   "source": [
    "\n",
    "<body>\n",
    "<p class=\"citation\", style = \"text-indent:-30px;Position: relative;\tpadding-left: 40px;font-size:14px\">\n",
    "    Python Software Foundation. Python Language Reference, version 3.9.5. Available at <a href=\"http://www.python.org\">http://www.python.org</a>.\n",
    "</p>\n",
    "\n",
    "<p class=\"citation\", style = \"text-indent:-30px;Position: relative;\tpadding-left: 40px;font-size:14px\">\n",
    "    Van Rossum, G., & Drake, F. L. (2009). <em> Python 3 Reference Manual</em>. Scotts Valley, CA: CreateSpace.\n",
    "</p>\n",
    "\n",
    "<p class=\"citation\", style = \"text-indent:-30px;Position: relative;\tpadding-left: 40px;font-size:14px\">\n",
    "    Fernando Pérez, Brian E. Granger, <em> IPython: A System for Interactive Scientific Computing</em>, Computing in Science and Engineering, vol. 9, no. 3, pp. 21-29, May/June 2007, <a href=\"doi:10.1109/MCSE.2007.53\">doi:10.1109/MCSE.2007.53</a>. URL: <a href=\"https://ipython.org\">https://ipython.org</a>.\n",
    "</p>\n",
    "\n",
    "<p class=\"citation\", style = \"text-indent:-30px;Position: relative;\tpadding-left: 40px;font-size:14px\"> \n",
    "    Harris, C.R., Millman, K.J., van der Walt, S.J. et al. <em>Array programming with NumPy</em>. Nature 585, 357–362 (2020). DOI: <a href=\"https://doi.org/10.1038/s41586-020-2649-2\">0.1038/s41586-020-2649-2</a>. (<a href=\"https://www.nature.com/articles/s41586-020-2649-2\">Publisher link</a>).</p>\n",
    "</body>"
   ]
  },
  {
   "cell_type": "markdown",
   "id": "2721cbd9",
   "metadata": {},
   "source": [
    "<br>\n",
    "<br>\n",
    "\n",
    "<div align =\"center\">\n",
    "    &#9668;\n",
    "    <a href = \"05_Librerias.ipynb\" title=\"Abrir el notebook de Librerias\"> Anterior</a> &#65372;\n",
    "    <a href = \"https://github.com/AngelMeneses/Python/blob/main/README.md\" title=\"Abrir el notebook de Contenido\"> Contenido </a> &#65372;\n",
    "    <a href = \"07_Matplotlib.ipynb\" title=\"Abrir el notebook de Matplotlib\">Matplotlib</a>\n",
    "    &#9654;\n",
    "   \n",
    "</div>"
   ]
  }
 ],
 "metadata": {
  "kernelspec": {
   "display_name": "Python 3 (ipykernel)",
   "language": "python",
   "name": "python3"
  },
  "language_info": {
   "codemirror_mode": {
    "name": "ipython",
    "version": 3
   },
   "file_extension": ".py",
   "mimetype": "text/x-python",
   "name": "python",
   "nbconvert_exporter": "python",
   "pygments_lexer": "ipython3",
   "version": "3.9.6"
  }
 },
 "nbformat": 4,
 "nbformat_minor": 5
}
