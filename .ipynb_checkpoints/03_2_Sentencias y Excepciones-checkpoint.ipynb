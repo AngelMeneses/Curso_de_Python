{
 "cells": [
  {
   "cell_type": "markdown",
   "id": "47829c0e",
   "metadata": {},
   "source": [
    "<h1>Sentencias y Excepciones</h1>\n",
    "\n",
    "<br>\n",
    "\n",
    "<div align =\"left\">\n",
    "    &#9668;\n",
    "    <a href = \"03_1_Funciones Lambda.ipynb\" title=\"Abrir el notebook de Funciones Lambda\"> Anterior</a> &#65372;\n",
    "    <a href = \"https://github.com/AngelMeneses/Python/blob/main/README.md\" title=\"Abrir el notebook de Contenido\"> Contenido </a> &#65372;\n",
    "    <a href = \"04_POO.ipynb\" title=\"Abrir el notebook de POO\">POO</a>\n",
    "    &#9654;\n",
    "   \n",
    "</div>\n",
    "\n",
    "<hr>\n",
    "\n",
    "Angel Daniel Duarte Meneses (angel.duarte0117@gmail.com)\n",
    "\n",
    "Este material es sólo para fines académicos. \n",
    "\n",
    "Última actualización: 07/07/2021.\n",
    "\n",
    "Puedes encontrar este material en:\n",
    "\n",
    "<a href=\"https://github.com/AngelMeneses/Python\"><img align=\"left\" style=\"width:4%\"  src=\"Iconos/GitHub-Mark/PNG/GitHub-Mark-120px-plus.png\" alt=\"Abrir en Github\" title=\"Acceder al repositorio en Github\"></a> <a href=\"https://github.com/AngelMeneses/Python\"><img align=\"left\" style=\"width:10%\"  src=\"Iconos/GitHub-Logos/GitHub_Logo.png\" alt=\"Abrir en Github\" title=\"Acceder al repositorio en Github\"></a> "
   ]
  },
  {
   "cell_type": "markdown",
   "id": "a576c2c6",
   "metadata": {},
   "source": [
    "<body>\n",
    "<div>\n",
    "    <center><h1 style='background:blue; border:0; color:white'><br>Tabla de contenido<br></h1></center>\n",
    "    <ul>\n",
    "        <li><a href=\"#Contexto\">Contexto</a>\n",
    "        <li><a href=\"#Sentencias\">Sentencias</a>\n",
    "        <ul>\n",
    "            <li> <a href=\"#Sentencia-pass\">Sentencia pass</a></li>\n",
    "            <li> <a href=\"#Sentencia-break\">Sentencia break</a></li>\n",
    "            <li> <a href=\"#Sentencia-continue\">Sentencia continue</a></li>\n",
    "        </ul> \n",
    "        </li>\n",
    "        <li><a href=\"#Excepciones\">Excepciones</a></li>\n",
    "        <ul>\n",
    "            <li> <a href=\"#Excepciones\">Sentencia try</a></li>\n",
    "            <li> <a href=\"#Excepciones\">Sentencia except</a></li>\n",
    "            <li> <a href=\"#Excepciones\">Sentencia finally</a></li>\n",
    "        </ul> \n",
    "        <li><a href=\"#Referencias\">Referencias</a></li>\n",
    "    </ul>\n",
    "</div>\n",
    "</body>"
   ]
  },
  {
   "cell_type": "markdown",
   "id": "2de3e7dc",
   "metadata": {},
   "source": [
    "## Contexto"
   ]
  },
  {
   "cell_type": "markdown",
   "id": "da125193",
   "metadata": {},
   "source": [
    "Cuando estamos creando algo en Python podemos tener algún tipo de error (excepciones), a veces son inevitables y deben tratarse \n",
    "\n",
    "- un ejemplo de esto es:"
   ]
  },
  {
   "cell_type": "code",
   "execution_count": null,
   "id": "6fb55d33",
   "metadata": {},
   "outputs": [],
   "source": [
    "# creamos una función que divida dos números:\n",
    "def div(a,b):\n",
    "    return a/b"
   ]
  },
  {
   "cell_type": "markdown",
   "id": "df844158",
   "metadata": {},
   "source": [
    "Ahora bien, sabemos que si b es cero, la división no está determinada:"
   ]
  },
  {
   "cell_type": "code",
   "execution_count": null,
   "id": "c8a178d9",
   "metadata": {},
   "outputs": [],
   "source": [
    "# ZeroDivisionError: division by zero\n",
    "div(8,0)"
   ]
  },
  {
   "cell_type": "markdown",
   "id": "55c3add9",
   "metadata": {},
   "source": [
    "Nos genera una excepción (error) de tipo `ZeroDivisionError`. Podemos arreglar la función con condicionales para evitar que el usuario le asigne cero a la variable b, o bien podemos usar una sentencia. Las sentencias son condiciones adicionales que agregamos para controlar las excepciones."
   ]
  },
  {
   "cell_type": "markdown",
   "id": "334ea117",
   "metadata": {},
   "source": [
    "## Sentencias\n"
   ]
  },
  {
   "cell_type": "markdown",
   "id": "a077ef9d",
   "metadata": {},
   "source": [
    "### Sentencia pass\n",
    "\n",
    "A veces tenemos que añadir algo complementario en el caso de que el programa no encuentre código o no lo tenga. En este caso genera un error (excepción) de tipo IndentationError."
   ]
  },
  {
   "cell_type": "code",
   "execution_count": null,
   "id": "25dfd931",
   "metadata": {},
   "outputs": [],
   "source": [
    "# IndentationError: expected an indented block\n",
    "if True==True:\n",
    "   "
   ]
  },
  {
   "cell_type": "code",
   "execution_count": null,
   "id": "92bfb265",
   "metadata": {},
   "outputs": [],
   "source": [
    "# pass no compila nada, literalmente le dice al programa que pase al siguiente\n",
    "if True==True:\n",
    "    pass "
   ]
  },
  {
   "cell_type": "code",
   "execution_count": null,
   "id": "5268008b",
   "metadata": {},
   "outputs": [],
   "source": [
    "# IndentationError: expected an indented block\n",
    "for i in range(9):\n",
    "    "
   ]
  },
  {
   "cell_type": "code",
   "execution_count": null,
   "id": "b6a61d61",
   "metadata": {},
   "outputs": [],
   "source": [
    "for i in range(9):\n",
    "    pass"
   ]
  },
  {
   "cell_type": "code",
   "execution_count": null,
   "id": "47c91092",
   "metadata": {},
   "outputs": [],
   "source": [
    "# IndentationError: expected an indented block\n",
    "while 1>0:"
   ]
  },
  {
   "cell_type": "code",
   "execution_count": null,
   "id": "0bb32980",
   "metadata": {},
   "outputs": [],
   "source": [
    "# Bucle infinito\n",
    "while  1>0:\n",
    "    pass"
   ]
  },
  {
   "cell_type": "markdown",
   "id": "e77f21d4",
   "metadata": {},
   "source": [
    "### Sentencia break\n",
    "\n",
    "Cuando se compila `Break`, rompe lo que se está ejecutando, es decir, lo hace terminar."
   ]
  },
  {
   "cell_type": "code",
   "execution_count": null,
   "id": "95357643",
   "metadata": {
    "scrolled": true
   },
   "outputs": [],
   "source": [
    "for i in [1,2]:\n",
    "    if i==1:\n",
    "        print(\"i es 1\")\n",
    "    else:\n",
    "        print(\"i es 2\")\n",
    "    \n",
    "# Genera que:\n",
    "## i es 1\n",
    "## i es 2"
   ]
  },
  {
   "cell_type": "code",
   "execution_count": null,
   "id": "d1644293",
   "metadata": {},
   "outputs": [],
   "source": [
    "for i in [1,2]:\n",
    "    if i==1:\n",
    "        print(\"i es 1\")\n",
    "    else:\n",
    "        print(\"i es 2\")\n",
    "    break\n",
    "    \n",
    "# Genera que: i es 1\n",
    "## En la primera iteración del 'for', esta se rompe por la existencia del break."
   ]
  },
  {
   "cell_type": "code",
   "execution_count": null,
   "id": "70f35135",
   "metadata": {},
   "outputs": [],
   "source": [
    "# Bucle infinito\n",
    "while  1>0:\n",
    "    pass"
   ]
  },
  {
   "cell_type": "code",
   "execution_count": null,
   "id": "81d38cd4",
   "metadata": {},
   "outputs": [],
   "source": [
    "# El bucle infinito se rompe\n",
    "while  1>0:\n",
    "    break"
   ]
  },
  {
   "cell_type": "markdown",
   "id": "582bcd52",
   "metadata": {},
   "source": [
    "### Sentencia continue\n",
    "\n",
    "Continue funciona muy parecido a `pass`, la diferencia es que `pass` literalmente no hace nada, en cambio, continue cierra el ciclo y continua con el que sigue."
   ]
  },
  {
   "cell_type": "code",
   "execution_count": null,
   "id": "620b1f97",
   "metadata": {
    "scrolled": true
   },
   "outputs": [],
   "source": [
    "for i in [1,2,5]:\n",
    "    print(i)\n",
    "    pass # No hace nada\n",
    "    print('El valor de i es: ', i)"
   ]
  },
  {
   "cell_type": "code",
   "execution_count": null,
   "id": "a4621e3f",
   "metadata": {},
   "outputs": [],
   "source": [
    "for i in [1,2,5]:\n",
    "    print(i)\n",
    "    break # Rompe el loop\n",
    "    print('El valor de i es: ', i)"
   ]
  },
  {
   "cell_type": "code",
   "execution_count": null,
   "id": "18ca8855",
   "metadata": {},
   "outputs": [],
   "source": [
    "for i in [1,2,5]:\n",
    "    print(i)\n",
    "    continue # Para la actual y continua con la siguiente iteración\n",
    "    print('El valor de i es: ', i)"
   ]
  },
  {
   "cell_type": "markdown",
   "id": "beb3dadf",
   "metadata": {},
   "source": [
    "## Excepciones\n",
    "\n",
    "Para el manejo de excepciones se tiene las sentencias `try`, `except` y `finally`."
   ]
  },
  {
   "cell_type": "markdown",
   "id": "b7d318f2",
   "metadata": {},
   "source": [
    "- Tomando el ejemplo del apartado contexto:"
   ]
  },
  {
   "cell_type": "code",
   "execution_count": null,
   "id": "d147dfc9",
   "metadata": {},
   "outputs": [],
   "source": [
    "# creamos una función que divida dos números:\n",
    "def div(a,b):\n",
    "    return a/b\n",
    "div(1,0) # ZeroDivisionError: division by zero"
   ]
  },
  {
   "cell_type": "markdown",
   "id": "e04aaef7",
   "metadata": {},
   "source": [
    "- Podemos levantar la excepción:"
   ]
  },
  {
   "cell_type": "code",
   "execution_count": null,
   "id": "5422416f",
   "metadata": {},
   "outputs": [],
   "source": [
    "def div(a,b):\n",
    "    try:\n",
    "        return a/b\n",
    "    except:    \n",
    "        return 'No se puede dividir por cero'"
   ]
  },
  {
   "cell_type": "code",
   "execution_count": null,
   "id": "c74c4f51",
   "metadata": {},
   "outputs": [],
   "source": [
    "div(1,0)\n",
    "# No va generar el error, da un mensaje: 'No se puede dividir por cero'"
   ]
  },
  {
   "cell_type": "markdown",
   "id": "677c6f69",
   "metadata": {},
   "source": [
    "Con `try` decimos que lo intente y con `except` que compile otro código o imprima un mensaje cuando hay una excepción.\n",
    "\n",
    "Algunas de las excepciones o errores más frecuentes:\n",
    "\n",
    "- **TypeError:** Los tipos de datos usados para llamar a una función o en una operación sin incorrectos.\n",
    "\n",
    "- **ValueError:** Es un problema con el contenido del objeto al que intentó asignar el valor.\n",
    "\n",
    "- **NameError:** Se genera cuando no se encuentra un nombre local o global.\n",
    "\n",
    "- **ZeroDivisionError:** Cuando se divide por cero.\n",
    "    \n",
    "- **KeyboardInterrupt:** Por ejemplo, cuando se tiene un buble infinito para terminarlo con las teclas `control + c`, esto interrumpe la compilación y genera esta excepción.\n",
    "\n",
    "- **ImportError:** No encuentra la librería, biblioteca o módulo.\n",
    "\n",
    "Para profundizar entrar a: https://docs.python.org/es/3/library/exceptions.html\n",
    "\n",
    "\n",
    "Además, en la sentencia `except` se puede especificar el tipo de excepción:"
   ]
  },
  {
   "cell_type": "code",
   "execution_count": null,
   "id": "dfd3d8a4",
   "metadata": {},
   "outputs": [],
   "source": [
    "def div(a,b):\n",
    "    try:\n",
    "        return a/b\n",
    "    except NameError:    \n",
    "        return 'Error en el nombre'\n",
    "    except TypeError:    \n",
    "        return 'El tipo de dato debe ser numérico'\n",
    "    except ZeroDivisionError:    \n",
    "        return 'No se puede dividir por cero'"
   ]
  },
  {
   "cell_type": "code",
   "execution_count": null,
   "id": "17ddef6b",
   "metadata": {},
   "outputs": [],
   "source": [
    "div(8,2)"
   ]
  },
  {
   "cell_type": "code",
   "execution_count": null,
   "id": "5003087d",
   "metadata": {},
   "outputs": [],
   "source": [
    "div(1,0)"
   ]
  },
  {
   "cell_type": "code",
   "execution_count": null,
   "id": "f28283a1",
   "metadata": {},
   "outputs": [],
   "source": [
    "div('a',1)"
   ]
  },
  {
   "cell_type": "code",
   "execution_count": null,
   "id": "8fc02ad7",
   "metadata": {},
   "outputs": [],
   "source": [
    "div('a', 0)"
   ]
  },
  {
   "cell_type": "code",
   "execution_count": null,
   "id": "182f18ea",
   "metadata": {},
   "outputs": [],
   "source": [
    "def div(a,b):\n",
    "    try:\n",
    "        return a/b\n",
    "    except NameError:    \n",
    "        return 'Error en el nombre'\n",
    "    except ZeroDivisionError:    \n",
    "        return 'No se puede dividir por cero'\n",
    "    except TypeError:    \n",
    "        return 'El tipo de dato debe ser numérico'"
   ]
  },
  {
   "cell_type": "code",
   "execution_count": null,
   "id": "07784c89",
   "metadata": {
    "scrolled": false
   },
   "outputs": [],
   "source": [
    "div('a', 0)"
   ]
  },
  {
   "cell_type": "code",
   "execution_count": null,
   "id": "fe4dc578",
   "metadata": {},
   "outputs": [],
   "source": [
    "# También hay otra sentencia: finally\n",
    "## Lo que hace es ejecutar siempre algo adicional al final del programa\n",
    "def div(a, b):\n",
    "    try:\n",
    "        r = a/b\n",
    "    except ZeroDivisionError:\n",
    "        print(\"¡división por cero!\")\n",
    "    except TypeError:    \n",
    "        print('El tipo de dato debe ser numérico')\n",
    "    else:\n",
    "        print(f\"El resultado de {a}/{b} es: \", r)\n",
    "    finally:\n",
    "        print(\"Esto siempre va a ejecutarse\")"
   ]
  },
  {
   "cell_type": "code",
   "execution_count": null,
   "id": "faf60f91",
   "metadata": {
    "scrolled": true
   },
   "outputs": [],
   "source": [
    "div(1,0)"
   ]
  },
  {
   "cell_type": "code",
   "execution_count": null,
   "id": "396bd1be",
   "metadata": {},
   "outputs": [],
   "source": [
    "div(1,6)"
   ]
  },
  {
   "cell_type": "code",
   "execution_count": null,
   "id": "26add59e",
   "metadata": {},
   "outputs": [],
   "source": [
    "div('a',6)"
   ]
  },
  {
   "cell_type": "markdown",
   "id": "6527411d",
   "metadata": {},
   "source": [
    "## Referencias"
   ]
  },
  {
   "cell_type": "markdown",
   "id": "840fc24c",
   "metadata": {},
   "source": [
    "<body>\n",
    "<p class=\"citation\", style = \"text-indent:-30px;Position: relative;\tpadding-left: 40px;font-size:14px\"> \n",
    "    Python Software Foundation. Python Language Reference, version 3.9.5. Available at <a href=\"http://www.python.org\">http://www.python.org</a>. </p>\n",
    "\n",
    "<p class=\"citation\", style = \"text-indent:-30px;Position: relative;\tpadding-left: 40px;font-size:14px\"> \n",
    "    Van Rossum, G., & Drake, F. L. (2009). <em> Python 3 Reference Manual</em>. Scotts Valley, CA: CreateSpace. \n",
    "</p>\n",
    "\n",
    "<p class=\"citation\", style = \"text-indent:-30px;Position: relative;\tpadding-left: 40px;font-size:14px\"> \n",
    "    Fernando Pérez, Brian E. Granger, <em> IPython: A System for Interactive Scientific Computing</em>, Computing in Science and Engineering, vol. 9, no. 3, pp. 21-29, May/June 2007, <a href=\"doi:10.1109/MCSE.2007.53\">doi:10.1109/MCSE.2007.53</a>. URL: <a href=\"https://ipython.org\">https://ipython.org</a>.\n",
    "</p>\n",
    "\n",
    "</body>"
   ]
  },
  {
   "cell_type": "markdown",
   "id": "19038c8b",
   "metadata": {},
   "source": [
    "<br>\n",
    "<br>\n",
    "\n",
    "<div align =\"center\">\n",
    "    &#9668;\n",
    "    <a href = \"03_1_Funciones Lambda.ipynb\" title=\"Abrir el notebook de Funciones Lambda\"> Anterior</a> &#65372;\n",
    "    <a href = \"https://github.com/AngelMeneses/Python/blob/main/README.md\" title=\"Abrir el notebook de Contenido\"> Contenido </a> &#65372;\n",
    "    <a href = \"04_POO.ipynb\" title=\"Abrir el notebook de POO\">POO</a>\n",
    "    &#9654;\n",
    "   \n",
    "</div>"
   ]
  }
 ],
 "metadata": {
  "kernelspec": {
   "display_name": "Python 3 (ipykernel)",
   "language": "python",
   "name": "python3"
  },
  "language_info": {
   "codemirror_mode": {
    "name": "ipython",
    "version": 3
   },
   "file_extension": ".py",
   "mimetype": "text/x-python",
   "name": "python",
   "nbconvert_exporter": "python",
   "pygments_lexer": "ipython3",
   "version": "3.9.6"
  }
 },
 "nbformat": 4,
 "nbformat_minor": 5
}
