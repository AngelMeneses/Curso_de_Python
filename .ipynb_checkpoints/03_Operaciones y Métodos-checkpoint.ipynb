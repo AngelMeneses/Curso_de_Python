{
 "cells": [
  {
   "cell_type": "markdown",
   "id": "ceb180dd",
   "metadata": {},
   "source": [
    "Author: Angel Daniel Duarte Meneses. \n",
    "\n",
    "First update: 17/06/2021.\n",
    "\n",
    "Last update: 18/06/2021.\n",
    "\n",
    "This material is for academic purposes only."
   ]
  },
  {
   "cell_type": "markdown",
   "id": "d5619091",
   "metadata": {},
   "source": [
    "<div class=\"idc-box\">\n",
    "    <div class=\"list-group\" id=\"list-tab\" role=\"tablist\">\n",
    "    <h2 class=\"list-group-item list-group-item-action active\" data-toggle=\"list\" style='background:blue; border:0; color:white' role=\"tab\" aria-controls=\"home\"><center>Tabla de contenido</center></h2> </div>\n",
    "    <ul class=\"idc-lista\">\n",
    "        <li><a href=\"#Operaciones-y-Métodos-de-Caracteres-(strings)\">Operaciones y Métodos de Caracteres (strings)</a>\n",
    "        <ul class=\"idc-lista\">\n",
    "        <li><a href=\"#Concatenar\">Operaciones</a> </li>\n",
    "        <li><a href=\"#Métodos-para-Caracteres\">Métodos</a> </li>\n",
    "        </ul> \n",
    "        </li>\n",
    "        <li><a href=\"#Operaciones-y-Métodos-de-las-Listas\">Operaciones y Métodos de las Listas</a>\n",
    "        <ul class=\"idc-lista\">\n",
    "        <li><a href=\"#suma\">Operaciones</a> </li>\n",
    "        <li><a href=\"#Métodos-de-las-Listas\">Métodos</a> </li>\n",
    "        </ul> \n",
    "        </li>\n",
    "        <li><a href=\"#Referencias\">Referencias</a> </li>\n",
    "    </ul>\n",
    "</div>"
   ]
  },
  {
   "cell_type": "markdown",
   "id": "d1516696",
   "metadata": {},
   "source": [
    "## Operaciones y Métodos de Caracteres (strings)"
   ]
  },
  {
   "cell_type": "markdown",
   "id": "c9c080ab",
   "metadata": {},
   "source": [
    "### Concatenar\n",
    "\n",
    "La suma entre caracteres es una unión o concatenación\n",
    "\n",
    "- **nota:** no hay resta de caracteres."
   ]
  },
  {
   "cell_type": "code",
   "execution_count": 1,
   "id": "5d2549b9",
   "metadata": {},
   "outputs": [
    {
     "data": {
      "text/plain": [
       "'suma'"
      ]
     },
     "execution_count": 1,
     "metadata": {},
     "output_type": "execute_result"
    }
   ],
   "source": [
    "'s' + 'u' + 'm' + 'a'"
   ]
  },
  {
   "cell_type": "code",
   "execution_count": 2,
   "id": "ad1cdabb",
   "metadata": {},
   "outputs": [
    {
     "name": "stdout",
     "output_type": "stream",
     "text": [
      "Feliz Jueves \n"
     ]
    }
   ],
   "source": [
    "mensaje = 'Feliz' + ' ' + 'Jueves '\n",
    "print(mensaje)"
   ]
  },
  {
   "cell_type": "markdown",
   "id": "a571c173",
   "metadata": {},
   "source": [
    "### Multiplicación\n",
    "\n",
    "La multiplicación entre caracteres es una repetición"
   ]
  },
  {
   "cell_type": "code",
   "execution_count": 3,
   "id": "60f73d0d",
   "metadata": {},
   "outputs": [
    {
     "data": {
      "text/plain": [
       "'sssss'"
      ]
     },
     "execution_count": 3,
     "metadata": {},
     "output_type": "execute_result"
    }
   ],
   "source": [
    "'s'*5"
   ]
  },
  {
   "cell_type": "code",
   "execution_count": 4,
   "id": "5d83bd2c",
   "metadata": {},
   "outputs": [
    {
     "name": "stdout",
     "output_type": "stream",
     "text": [
      "Feliz Jueves Feliz Jueves Feliz Jueves \n"
     ]
    }
   ],
   "source": [
    "print(mensaje*3)"
   ]
  },
  {
   "cell_type": "code",
   "execution_count": 5,
   "id": "11161465",
   "metadata": {},
   "outputs": [
    {
     "name": "stdout",
     "output_type": "stream",
     "text": [
      "True\n",
      "True\n"
     ]
    }
   ],
   "source": [
    "# Para saber si un caracter está dentro de un texto o palabra\n",
    "print('a' in 'aoi')\n",
    "print('azul' in 'el cielo es azul')"
   ]
  },
  {
   "cell_type": "markdown",
   "id": "04062a37",
   "metadata": {},
   "source": [
    "### Adición\n",
    "\n",
    "Se puede ir adicionando a una misma variable caracteres hasta formas una frase o texto."
   ]
  },
  {
   "cell_type": "code",
   "execution_count": 6,
   "id": "71840cb2",
   "metadata": {},
   "outputs": [
    {
     "data": {
      "text/plain": [
       "'Feliz Jueves'"
      ]
     },
     "execution_count": 6,
     "metadata": {},
     "output_type": "execute_result"
    }
   ],
   "source": [
    "m = 'Feliz'\n",
    "m += ' '\n",
    "m += 'Jueves'\n",
    "m"
   ]
  },
  {
   "cell_type": "markdown",
   "id": "e9ad92ce",
   "metadata": {},
   "source": [
    "### Métodos para Caracteres"
   ]
  },
  {
   "cell_type": "code",
   "execution_count": 7,
   "id": "fad68573",
   "metadata": {},
   "outputs": [
    {
     "name": "stdout",
     "output_type": "stream",
     "text": [
      "7\n"
     ]
    }
   ],
   "source": [
    "# Longitud\n",
    "m = '123' + ' ' + '456'\n",
    "print(len(m))\n",
    "## Devuelve el número de letras y de espacios."
   ]
  },
  {
   "cell_type": "code",
   "execution_count": 8,
   "id": "a558caf7",
   "metadata": {},
   "outputs": [
    {
     "data": {
      "text/plain": [
       "21"
      ]
     },
     "execution_count": 8,
     "metadata": {},
     "output_type": "execute_result"
    }
   ],
   "source": [
    "# Encontrar\n",
    "m = 'Estamos en el mes de Junio'\n",
    "m.find('Junio') # Se busca la posición de inicio de 'Junio'"
   ]
  },
  {
   "cell_type": "code",
   "execution_count": 9,
   "id": "b76e78ca",
   "metadata": {},
   "outputs": [
    {
     "data": {
      "text/plain": [
       "'Junio'"
      ]
     },
     "execution_count": 9,
     "metadata": {},
     "output_type": "execute_result"
    }
   ],
   "source": [
    "m[21:] "
   ]
  },
  {
   "cell_type": "markdown",
   "id": "e3f84efa",
   "metadata": {},
   "source": [
    "- Si el carácter buscado no está, `find` devuelve el valor -1."
   ]
  },
  {
   "cell_type": "code",
   "execution_count": 10,
   "id": "a6fa7cad",
   "metadata": {
    "scrolled": true
   },
   "outputs": [
    {
     "data": {
      "text/plain": [
       "-1"
      ]
     },
     "execution_count": 10,
     "metadata": {},
     "output_type": "execute_result"
    }
   ],
   "source": [
    "m.find('mes1') "
   ]
  },
  {
   "cell_type": "code",
   "execution_count": 11,
   "id": "47aa7263",
   "metadata": {},
   "outputs": [
    {
     "data": {
      "text/plain": [
       "'feliz jueves'"
      ]
     },
     "execution_count": 11,
     "metadata": {},
     "output_type": "execute_result"
    }
   ],
   "source": [
    "# Minúsculas\n",
    "## Convierte todas los caracteres en minúscula.\n",
    "m = 'FELIZ Jueves'\n",
    "m = m.lower()\n",
    "m"
   ]
  },
  {
   "cell_type": "code",
   "execution_count": 12,
   "id": "4fb32191",
   "metadata": {},
   "outputs": [
    {
     "data": {
      "text/plain": [
       "'FELIZ JUEVES'"
      ]
     },
     "execution_count": 12,
     "metadata": {},
     "output_type": "execute_result"
    }
   ],
   "source": [
    "# Mayúsculas\n",
    "## Convierte todas los caracteres en mayúsculas.\n",
    "m = m.upper()\n",
    "m"
   ]
  },
  {
   "cell_type": "code",
   "execution_count": 13,
   "id": "d364bb35",
   "metadata": {},
   "outputs": [
    {
     "data": {
      "text/plain": [
       "'Hoy es Jueves'"
      ]
     },
     "execution_count": 13,
     "metadata": {},
     "output_type": "execute_result"
    }
   ],
   "source": [
    "# Reemplazar\n",
    "## Busca un carácter y lo reemplaza con otro\n",
    "m = 'FELIZ Jueves'\n",
    "m = m.replace('FELIZ', 'Hoy es' )\n",
    "m"
   ]
  },
  {
   "cell_type": "code",
   "execution_count": 14,
   "id": "a01b8d48",
   "metadata": {},
   "outputs": [
    {
     "data": {
      "text/plain": [
       "'Hoy es J'"
      ]
     },
     "execution_count": 14,
     "metadata": {},
     "output_type": "execute_result"
    }
   ],
   "source": [
    "# Cortar \n",
    "## Como bien se sabe, se puede acceder a cierta parte de la cadena de texto con el uso de índices.\n",
    "m[0:8]"
   ]
  },
  {
   "cell_type": "code",
   "execution_count": 15,
   "id": "8da33362",
   "metadata": {},
   "outputs": [
    {
     "name": "stdout",
     "output_type": "stream",
     "text": [
      "Feliz\tJueves\n"
     ]
    }
   ],
   "source": [
    "# Colocar espacio (\\t)\n",
    "print('Feliz\\tJueves')"
   ]
  },
  {
   "cell_type": "code",
   "execution_count": 16,
   "id": "d32d7fa8",
   "metadata": {
    "scrolled": true
   },
   "outputs": [
    {
     "name": "stdout",
     "output_type": "stream",
     "text": [
      "Feliz\n",
      "Jueves\n"
     ]
    }
   ],
   "source": [
    "# Hacer un salto de linea (\\n)\n",
    "print('Feliz\\nJueves')"
   ]
  },
  {
   "cell_type": "markdown",
   "id": "efc89850",
   "metadata": {},
   "source": [
    "## Operaciones y Métodos de las Listas\n"
   ]
  },
  {
   "cell_type": "markdown",
   "id": "1cf1fddc",
   "metadata": {},
   "source": [
    "### Suma\n",
    "\n",
    "La suma de listas es simplemente unirlas en una sola "
   ]
  },
  {
   "cell_type": "code",
   "execution_count": 17,
   "id": "8d9f677f",
   "metadata": {},
   "outputs": [
    {
     "name": "stdout",
     "output_type": "stream",
     "text": [
      "[1, 2, 3, 6, 5, 6]\n",
      "[6, 5, 6, 1, 2, 3]\n"
     ]
    }
   ],
   "source": [
    "a = [1,2,3]\n",
    "b = [6,5,6]\n",
    "\n",
    "# El orden de la unión depende del orden en el que sumamos las listas\n",
    "print(a+b)\n",
    "print(b+a)"
   ]
  },
  {
   "cell_type": "markdown",
   "id": "ad7350f4",
   "metadata": {},
   "source": [
    "### Multiplicación\n",
    "\n",
    "Al igual que los caracteres la multiplicación se traduce a una repetición"
   ]
  },
  {
   "cell_type": "code",
   "execution_count": 18,
   "id": "e3c292cd",
   "metadata": {},
   "outputs": [
    {
     "data": {
      "text/plain": [
       "[1, 2, 3, 1, 2, 3]"
      ]
     },
     "execution_count": 18,
     "metadata": {},
     "output_type": "execute_result"
    }
   ],
   "source": [
    "a = 2*a\n",
    "a"
   ]
  },
  {
   "cell_type": "markdown",
   "id": "c24bb258",
   "metadata": {},
   "source": [
    "### Métodos de las Listas "
   ]
  },
  {
   "cell_type": "code",
   "execution_count": 19,
   "id": "2662ce73",
   "metadata": {},
   "outputs": [
    {
     "data": {
      "text/plain": [
       "[1, 2, 3, 7]"
      ]
     },
     "execution_count": 19,
     "metadata": {},
     "output_type": "execute_result"
    }
   ],
   "source": [
    "# append(): añade un elemento al final de la lista.\n",
    "l = [1,2,3]\n",
    "l.append(7)\n",
    "l"
   ]
  },
  {
   "cell_type": "code",
   "execution_count": 20,
   "id": "00ec728b",
   "metadata": {},
   "outputs": [
    {
     "data": {
      "text/plain": [
       "[]"
      ]
     },
     "execution_count": 20,
     "metadata": {},
     "output_type": "execute_result"
    }
   ],
   "source": [
    "# clear(): elimina todos los elementos de la lista.\n",
    "l.clear()\n",
    "l"
   ]
  },
  {
   "cell_type": "code",
   "execution_count": 21,
   "id": "71ccfee6",
   "metadata": {},
   "outputs": [
    {
     "name": "stdout",
     "output_type": "stream",
     "text": [
      "[1, 2, 'si', 'no']\n",
      "['si', 'no', 1, 2]\n"
     ]
    }
   ],
   "source": [
    "# extend(): al igual que la suma de las listas.\n",
    "l1 = [1,2]\n",
    "l2 = ['si','no']\n",
    "l1.extend(l2)\n",
    "print(l1) ## l1 se extiende con l2\n",
    "\n",
    "l1 = [1,2]\n",
    "l2 = ['si','no']\n",
    "l2.extend(l1)\n",
    "print(l2) ## l2 se extiende con l1"
   ]
  },
  {
   "cell_type": "code",
   "execution_count": 22,
   "id": "7cefcccb",
   "metadata": {
    "scrolled": true
   },
   "outputs": [
    {
     "name": "stdout",
     "output_type": "stream",
     "text": [
      "Cantidad de veces que se repite el `no`:  2\n",
      "Cantidad de veces que se repite el 1:  3\n"
     ]
    }
   ],
   "source": [
    "# count(): cuenta las veces que se repite un elemento de la lista.\n",
    "l = [1, 1,'no', 'si', 1, 2,2.3, 'no']\n",
    "print('Cantidad de veces que se repite el `no`: ', l.count('no'))\n",
    "print('Cantidad de veces que se repite el 1: ', l.count(1))"
   ]
  },
  {
   "cell_type": "code",
   "execution_count": 23,
   "id": "0985efba",
   "metadata": {},
   "outputs": [
    {
     "data": {
      "text/plain": [
       "0"
      ]
     },
     "execution_count": 23,
     "metadata": {},
     "output_type": "execute_result"
    }
   ],
   "source": [
    "# index(): devuelve el índice del elemento (error si no está):\n",
    "l.index(1) #nota: devuelve el primero que encuentra."
   ]
  },
  {
   "cell_type": "code",
   "execution_count": 24,
   "id": "972290db",
   "metadata": {
    "scrolled": true
   },
   "outputs": [
    {
     "data": {
      "text/plain": [
       "[1, 1, 'no', 'si', 1, 2, 2.3, 'no', 5]"
      ]
     },
     "execution_count": 24,
     "metadata": {},
     "output_type": "execute_result"
    }
   ],
   "source": [
    "# insert(): introduce un elemento a una lista en un índice dado:\n",
    "\n",
    "l.insert(len(l), 5) # coloca el 5 en la última posición\n",
    "l"
   ]
  },
  {
   "cell_type": "code",
   "execution_count": 25,
   "id": "764fd91a",
   "metadata": {
    "scrolled": true
   },
   "outputs": [
    {
     "data": {
      "text/plain": [
       "[1, 1, 'no', 'si', 1, 2, 2.3, 'no']"
      ]
     },
     "execution_count": 25,
     "metadata": {},
     "output_type": "execute_result"
    }
   ],
   "source": [
    "# pop(): toma un elemento (el último de forma predeterminada) de la lista y lo elimina:\n",
    "l.pop()\n",
    "l"
   ]
  },
  {
   "cell_type": "code",
   "execution_count": 26,
   "id": "f0ccf7e2",
   "metadata": {},
   "outputs": [
    {
     "data": {
      "text/plain": [
       "[1, 1, 'si', 1, 2, 2.3, 'no']"
      ]
     },
     "execution_count": 26,
     "metadata": {},
     "output_type": "execute_result"
    }
   ],
   "source": [
    "# pop(): se puede dar el indice del elemento que se quiera eliminar\n",
    "l.pop(2)\n",
    "l"
   ]
  },
  {
   "cell_type": "code",
   "execution_count": 27,
   "id": "de4fabac",
   "metadata": {},
   "outputs": [
    {
     "name": "stdout",
     "output_type": "stream",
     "text": [
      "[2, 1, 2, 1]\n"
     ]
    }
   ],
   "source": [
    "# remove(): recibe un elemento y elimina el primero que encuentre\n",
    "## es parecido a pop(), sin embargo, el primero recibe un índice y el segundo un elemento como argumento. \n",
    "l = [1,2,1,2,1]\n",
    "l.remove(1)\n",
    "print(l)"
   ]
  },
  {
   "cell_type": "code",
   "execution_count": 28,
   "id": "6478846c",
   "metadata": {},
   "outputs": [
    {
     "data": {
      "text/plain": [
       "[5, 4, 3, 2, 1]"
      ]
     },
     "execution_count": 28,
     "metadata": {},
     "output_type": "execute_result"
    }
   ],
   "source": [
    "# reverse(): invierte la lista.\n",
    "l = [1,2,3,4,5]\n",
    "l.reverse()\n",
    "l"
   ]
  },
  {
   "cell_type": "code",
   "execution_count": 29,
   "id": "7426efbb",
   "metadata": {},
   "outputs": [
    {
     "data": {
      "text/plain": [
       "[-5, -3, -1, 0, 2, 4, 8]"
      ]
     },
     "execution_count": 29,
     "metadata": {},
     "output_type": "execute_result"
    }
   ],
   "source": [
    "# sort(): ordena los valores de una lista de menor a mayor.\n",
    "l = [-1, 2, 0, -3, -5, 4, 8]\n",
    "l.sort()\n",
    "l"
   ]
  },
  {
   "cell_type": "code",
   "execution_count": 30,
   "id": "487ef6a9",
   "metadata": {},
   "outputs": [
    {
     "data": {
      "text/plain": [
       "[8, 4, 2, 0, -1, -3, -5]"
      ]
     },
     "execution_count": 30,
     "metadata": {},
     "output_type": "execute_result"
    }
   ],
   "source": [
    "# sort(): para ordenar de mayor a menor, se incluye el parámetro de reverse.\n",
    "l = [-1, 2, 0, -3, -5, 4, 8]\n",
    "l.sort(reverse= True)\n",
    "l"
   ]
  },
  {
   "cell_type": "markdown",
   "id": "1d00b736",
   "metadata": {},
   "source": [
    "## Referencias\n",
    "\n",
    "<ol>\n",
    "    <li> <a href=\"url\"> https://www.python.org/ </a> </li>\n",
    "    <li> <a href=\"url\"> https://jupyter.org/ </a></li>\n",
    "    <li> <a href=\"url\"> https://github.com </a></li>\n",
    "</ol>"
   ]
  }
 ],
 "metadata": {
  "kernelspec": {
   "display_name": "Python 3",
   "language": "python",
   "name": "python3"
  },
  "language_info": {
   "codemirror_mode": {
    "name": "ipython",
    "version": 3
   },
   "file_extension": ".py",
   "mimetype": "text/x-python",
   "name": "python",
   "nbconvert_exporter": "python",
   "pygments_lexer": "ipython3",
   "version": "3.9.5"
  }
 },
 "nbformat": 4,
 "nbformat_minor": 5
}
