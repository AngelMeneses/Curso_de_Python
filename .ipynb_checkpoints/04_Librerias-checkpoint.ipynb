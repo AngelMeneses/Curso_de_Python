{
 "cells": [
  {
   "cell_type": "markdown",
   "id": "e7a971e2",
   "metadata": {},
   "source": [
    "Author: Angel Daniel Duarte Meneses. \n",
    "\n",
    "First update: 18/06/2021.\n",
    "\n",
    "Last update: 18/06/2021.\n",
    "\n",
    "This material is for academic purposes only.\n"
   ]
  },
  {
   "cell_type": "markdown",
   "id": "397a7c46",
   "metadata": {},
   "source": [
    "<div class=\"idc-box\">\n",
    "    <div class=\"list-group\" id=\"list-tab\" role=\"tablist\">\n",
    "    <h2 class=\"list-group-item list-group-item-action active\" data-toggle=\"list\" style='background:blue; border:0; color:white' role=\"tab\" aria-controls=\"home\"><center>Tabla de contenido</center></h2> </div>\n",
    "    <ul class=\"idc-lista\">\n",
    "        <li><a href=\"#Contexto\">Contexto</a></li>\n",
    "        <li><a href=\"#Librerías-/-Bibliotecas\">Librerías / Bibliotecas</a></li>\n",
    "            <ul class=\"idc-lista\">\n",
    "        <li><a href=\"#Instalar-Bibliotecas\">Instalar Bibliotecas</a></li>\n",
    "        </ul>\n",
    "     <li><a href=\"#Referencias\">Referencias</a> </li>\n",
    "    </ul>\n",
    "</div>"
   ]
  },
  {
   "cell_type": "markdown",
   "id": "b36a13b1",
   "metadata": {},
   "source": [
    "## Contexto\n",
    "\n",
    "Python es un lenguaje utilizado para muchos fines, por ello, han creado gran cantidad de funciones matemáticas, estadísticas, de procesamiento, contenidas en las diversas librerías como lo son: math, numpy, matplotlib, scikit-learn, y más.\n"
   ]
  },
  {
   "cell_type": "markdown",
   "id": "63a9b66e",
   "metadata": {},
   "source": [
    "## Librerías / Bibliotecas / Módulos / Paquetes\n",
    "\n",
    "En Python literalmente una biblioteca es una colección de funciones definidas con `def` y encontradas en un archivo `.py`. Para crear un archivo `.py`, se hace uso del comando `%%file`. De manera reducida, un módulo es un archivo `.py`, que puede definir funciones, variables y clases, además de poder contener código ejecutable."
   ]
  },
  {
   "cell_type": "markdown",
   "id": "ee5006d3",
   "metadata": {},
   "source": [
    "<div class=\"alert alert-success\">\n",
    "Específicamente, IPython tiene funciones predefinidas nombradas como \"mágicas\". Hay dos tipos de funciones mágicas:\n",
    "\n",
    "<ul>\n",
    "    <li>`%`: pueden recibir como argumento una líneas.</li>\n",
    "    <li>`%%`: pueden recibir como argumento varias líneas. </li>\n",
    "</ul>\n",
    "</div>\n"
   ]
  },
  {
   "cell_type": "code",
   "execution_count": 1,
   "id": "0be6858c",
   "metadata": {
    "scrolled": false
   },
   "outputs": [
    {
     "name": "stdout",
     "output_type": "stream",
     "text": [
      "Overwriting test1.py\n"
     ]
    }
   ],
   "source": [
    "%%file test1.py  \n",
    "# escribe a un archivo\n",
    "def doble(x):\n",
    "    return 2*x\n",
    "\n",
    "def cuadrado(x):\n",
    "    return x*x"
   ]
  },
  {
   "cell_type": "markdown",
   "id": "01f13f9c",
   "metadata": {},
   "source": [
    "Podemos importar la biblioteca que se acaba de crear con el comando `import`"
   ]
  },
  {
   "cell_type": "code",
   "execution_count": 2,
   "id": "e617cbaf",
   "metadata": {},
   "outputs": [],
   "source": [
    "import test1\n",
    "import math"
   ]
  },
  {
   "cell_type": "code",
   "execution_count": 3,
   "id": "9f4062e3",
   "metadata": {},
   "outputs": [
    {
     "name": "stdout",
     "output_type": "stream",
     "text": [
      "math\t test1\t \n"
     ]
    }
   ],
   "source": [
    "# Muestra el nombre de las bibliotecas importadas\n",
    "%who"
   ]
  },
  {
   "cell_type": "code",
   "execution_count": 4,
   "id": "a53cd315",
   "metadata": {
    "scrolled": true
   },
   "outputs": [
    {
     "name": "stdout",
     "output_type": "stream",
     "text": [
      "Variable   Type      Data/Info\n",
      "------------------------------\n",
      "math       module    <module 'math' (built-in)>\n",
      "test1      module    <module 'test1' from 'C:\\<...>rso_de_Python\\\\test1.py'>\n"
     ]
    }
   ],
   "source": [
    "# Muestra más información que `who` \n",
    "%whos"
   ]
  },
  {
   "cell_type": "markdown",
   "id": "081f6591",
   "metadata": {},
   "source": [
    "Para utilizar las funciones de `test1`, primero se llama a la biblioteca seguido de un punto y luego la función, por tanto:\n",
    "\n",
    "<div class=\"alert alert-info\">\n",
    "Nota: después de escribir `test1.`, pulsando la tecla tabular se muestra las funciones en esa biblioteca. \n",
    "</div>"
   ]
  },
  {
   "cell_type": "code",
   "execution_count": 5,
   "id": "eeedb44e",
   "metadata": {},
   "outputs": [
    {
     "data": {
      "text/plain": [
       "16"
      ]
     },
     "execution_count": 5,
     "metadata": {},
     "output_type": "execute_result"
    }
   ],
   "source": [
    "test1.cuadrado(4) "
   ]
  },
  {
   "cell_type": "code",
   "execution_count": 6,
   "id": "854c52df",
   "metadata": {
    "scrolled": true
   },
   "outputs": [
    {
     "data": {
      "text/plain": [
       "10"
      ]
     },
     "execution_count": 6,
     "metadata": {},
     "output_type": "execute_result"
    }
   ],
   "source": [
    "test1.doble(5)"
   ]
  },
  {
   "cell_type": "markdown",
   "id": "7a4d1c26",
   "metadata": {},
   "source": [
    "En muchas ocaciones que acorta el nombre de la biblioteca para ser más ameno programas y por constumbre de la comunidad, de la siguiente manera:"
   ]
  },
  {
   "cell_type": "code",
   "execution_count": 7,
   "id": "d3f1dde5",
   "metadata": {},
   "outputs": [
    {
     "data": {
      "text/plain": [
       "array([[2, 2],\n",
       "       [3, 3]])"
      ]
     },
     "execution_count": 7,
     "metadata": {},
     "output_type": "execute_result"
    }
   ],
   "source": [
    "# Tomemos la biblioteca `numpy`\n",
    "import numpy \n",
    "m = numpy.array([[2,2],[3,3]]) \n",
    "m"
   ]
  },
  {
   "cell_type": "code",
   "execution_count": 8,
   "id": "b799aabe",
   "metadata": {},
   "outputs": [],
   "source": [
    "# Ahora, se puede importando `numpy` con el alias de np, para acortar el nombre\n",
    "import numpy as np \n",
    "## extra: se hace lo mismo si, primero se importa numpy, luego se crea una variable y se guarda numpy ahí, np = numpy."
   ]
  },
  {
   "cell_type": "code",
   "execution_count": 9,
   "id": "855949d9",
   "metadata": {
    "scrolled": true
   },
   "outputs": [
    {
     "data": {
      "text/plain": [
       "array([[2, 2],\n",
       "       [3, 3]])"
      ]
     },
     "execution_count": 9,
     "metadata": {},
     "output_type": "execute_result"
    }
   ],
   "source": [
    "import numpy as np\n",
    "m = np.array([[2,2],[3,3]]) \n",
    "m"
   ]
  },
  {
   "cell_type": "code",
   "execution_count": 10,
   "id": "50daf52e",
   "metadata": {
    "scrolled": true
   },
   "outputs": [
    {
     "data": {
      "text/plain": [
       "['__builtins__',\n",
       " '__cached__',\n",
       " '__doc__',\n",
       " '__file__',\n",
       " '__loader__',\n",
       " '__name__',\n",
       " '__package__',\n",
       " '__spec__',\n",
       " 'cuadrado',\n",
       " 'doble']"
      ]
     },
     "execution_count": 10,
     "metadata": {},
     "output_type": "execute_result"
    }
   ],
   "source": [
    "dir(test1) # directorio"
   ]
  },
  {
   "cell_type": "code",
   "execution_count": 11,
   "id": "72199b7b",
   "metadata": {
    "scrolled": true
   },
   "outputs": [
    {
     "data": {
      "text/plain": [
       "['__doc__',\n",
       " '__loader__',\n",
       " '__name__',\n",
       " '__package__',\n",
       " '__spec__',\n",
       " 'acos',\n",
       " 'acosh',\n",
       " 'asin',\n",
       " 'asinh',\n",
       " 'atan',\n",
       " 'atan2',\n",
       " 'atanh',\n",
       " 'ceil',\n",
       " 'comb',\n",
       " 'copysign',\n",
       " 'cos',\n",
       " 'cosh',\n",
       " 'degrees',\n",
       " 'dist',\n",
       " 'e',\n",
       " 'erf',\n",
       " 'erfc',\n",
       " 'exp',\n",
       " 'expm1',\n",
       " 'fabs',\n",
       " 'factorial',\n",
       " 'floor',\n",
       " 'fmod',\n",
       " 'frexp',\n",
       " 'fsum',\n",
       " 'gamma',\n",
       " 'gcd',\n",
       " 'hypot',\n",
       " 'inf',\n",
       " 'isclose',\n",
       " 'isfinite',\n",
       " 'isinf',\n",
       " 'isnan',\n",
       " 'isqrt',\n",
       " 'lcm',\n",
       " 'ldexp',\n",
       " 'lgamma',\n",
       " 'log',\n",
       " 'log10',\n",
       " 'log1p',\n",
       " 'log2',\n",
       " 'modf',\n",
       " 'nan',\n",
       " 'nextafter',\n",
       " 'perm',\n",
       " 'pi',\n",
       " 'pow',\n",
       " 'prod',\n",
       " 'radians',\n",
       " 'remainder',\n",
       " 'sin',\n",
       " 'sinh',\n",
       " 'sqrt',\n",
       " 'tan',\n",
       " 'tanh',\n",
       " 'tau',\n",
       " 'trunc',\n",
       " 'ulp']"
      ]
     },
     "execution_count": 11,
     "metadata": {},
     "output_type": "execute_result"
    }
   ],
   "source": [
    "dir(math)"
   ]
  },
  {
   "cell_type": "markdown",
   "id": "f4319676",
   "metadata": {},
   "source": [
    "- `math` es como `math.h` de C"
   ]
  },
  {
   "cell_type": "code",
   "execution_count": 12,
   "id": "2d92ebee",
   "metadata": {},
   "outputs": [],
   "source": [
    "# Cuando se usa mucho una función, se tiende a guardarla en una variable:\n",
    "cos = math.cos"
   ]
  },
  {
   "cell_type": "code",
   "execution_count": 13,
   "id": "afe39dd4",
   "metadata": {},
   "outputs": [
    {
     "name": "stdout",
     "output_type": "stream",
     "text": [
      "cos\t m\t math\t np\t numpy\t test1\t \n"
     ]
    }
   ],
   "source": [
    "# cos se encuentra en el espacio de trabajo\n",
    "%who"
   ]
  },
  {
   "cell_type": "code",
   "execution_count": 14,
   "id": "ef677f3b",
   "metadata": {},
   "outputs": [],
   "source": [
    "# Para tener directamente funciones en el espacio de trabajo, así evitando llamarlas como math.cos().\n",
    "from math import sin, cos "
   ]
  },
  {
   "cell_type": "code",
   "execution_count": 15,
   "id": "98691b87",
   "metadata": {
    "scrolled": true
   },
   "outputs": [
    {
     "name": "stdout",
     "output_type": "stream",
     "text": [
      "cos\t m\t math\t np\t numpy\t sin\t test1\t \n"
     ]
    }
   ],
   "source": [
    "# Las funciones sin y cos se encuentran directamente, no es necesario colocar `math.` antes de las funciones\n",
    "%who"
   ]
  },
  {
   "cell_type": "markdown",
   "id": "cacbf59f",
   "metadata": {},
   "source": [
    "- `from` también se usa cuando no se van a utilizar todas las funciones de una biblioteca o módulo, por lo que, solo se llama a las que se van a usar."
   ]
  },
  {
   "cell_type": "code",
   "execution_count": 16,
   "id": "53d5455d",
   "metadata": {},
   "outputs": [
    {
     "data": {
      "text/plain": [
       "0.5403023058681398"
      ]
     },
     "execution_count": 16,
     "metadata": {},
     "output_type": "execute_result"
    }
   ],
   "source": [
    "cos(1)"
   ]
  },
  {
   "cell_type": "markdown",
   "id": "f5a42441",
   "metadata": {},
   "source": [
    "### Instalar Bibliotecas"
   ]
  },
  {
   "cell_type": "markdown",
   "id": "e4f4f7d9",
   "metadata": {},
   "source": [
    "- **Tutorial más extenso**: https://programminghistorian.org/es/lecciones/instalar-modulos-python-pip\n",
    "\n",
    "<ol>\n",
    "    <li > Abrir el símbolo de sistema o cmd.</li>\n",
    "    <li> Escribir: 'pip install' seguido del nombre del módulo o libreria.</li>\n",
    "</ol>"
   ]
  },
  {
   "cell_type": "markdown",
   "id": "6857a169",
   "metadata": {},
   "source": [
    "## Referencias\n",
    "\n",
    "<ol>\n",
    "    <li> <a href=\"url\"> https://www.python.org/ </a> </li>\n",
    "    <li> <a href=\"url\"> https://jupyter.org/ </a></li>\n",
    "    <li> <a href=\"url\"> https://github.com </a></li>\n",
    "    <li> <a href=\"url\"> https://programminghistorian.org/es/lecciones/instalar-modulos-python-pip </a></li>\n",
    "</ol>"
   ]
  }
 ],
 "metadata": {
  "kernelspec": {
   "display_name": "Python 3",
   "language": "python",
   "name": "python3"
  },
  "language_info": {
   "codemirror_mode": {
    "name": "ipython",
    "version": 3
   },
   "file_extension": ".py",
   "mimetype": "text/x-python",
   "name": "python",
   "nbconvert_exporter": "python",
   "pygments_lexer": "ipython3",
   "version": "3.9.5"
  }
 },
 "nbformat": 4,
 "nbformat_minor": 5
}
