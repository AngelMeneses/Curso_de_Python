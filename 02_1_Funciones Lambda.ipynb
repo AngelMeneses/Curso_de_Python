{
 "cells": [
  {
   "cell_type": "markdown",
   "id": "43ffd023",
   "metadata": {},
   "source": [
    "# Funciones Lambda\n",
    "\n",
    "<hr>\n",
    "\n",
    "Angel Daniel Duarte Meneses (angel.duarte0117@gmail.com)\n",
    "\n",
    "Este material es sólo para fines académicos. \n",
    "\n",
    "Última actualización: 23/06/2021."
   ]
  },
  {
   "cell_type": "markdown",
   "id": "0e7197b7",
   "metadata": {},
   "source": [
    "<body>\n",
    "<div>\n",
    "    <center><h1 style='background:blue; border:0; color:white'><br>Tabla de contenido<br></h1></center>\n",
    "    <ul>\n",
    "        <li><a href=\"#Funciones-lambda\">Funciones lambda</a>\n",
    "        <ul>\n",
    "            <li> <a href=\"#Función-filter()\">Función filter()</a></li>\n",
    "            <li> <a href=\"#Función-map()\">Función map()</a></li>\n",
    "        </ul> \n",
    "        </li>\n",
    "        <li><a href=\"#Referencias\">Referencias</a></li>\n",
    "    </ul>\n",
    "</div>\n",
    "</body>"
   ]
  },
  {
   "cell_type": "markdown",
   "id": "57badf3d",
   "metadata": {},
   "source": [
    "## Funciones lambda\n",
    "\n",
    "Las funciones o expresiones lambda son anónimas, es decir, es una función sin nombre. Podemos ejecutarla sin definirla con `def`."
   ]
  },
  {
   "cell_type": "code",
   "execution_count": 27,
   "id": "3dce2621",
   "metadata": {},
   "outputs": [
    {
     "data": {
      "text/plain": [
       "6"
      ]
     },
     "execution_count": 27,
     "metadata": {},
     "output_type": "execute_result"
    }
   ],
   "source": [
    "# tenemos una función que suma tres datos\n",
    "def suma(x,y,w):\n",
    "    return x + y + w\n",
    "suma(2,3,1)"
   ]
  },
  {
   "cell_type": "code",
   "execution_count": 28,
   "id": "081fda48",
   "metadata": {},
   "outputs": [
    {
     "data": {
      "text/plain": [
       "<function __main__.<lambda>(x, y, w)>"
      ]
     },
     "execution_count": 28,
     "metadata": {},
     "output_type": "execute_result"
    }
   ],
   "source": [
    "# Podemos hacer lo mismo sin tener que crear la función con def.\n",
    "## 1. Se escribe lambda seguido de las variables que se van a utilizar y al final dos puntos.\n",
    "## 2. Después de los dos puntos, la operación o proceso.\n",
    "lambda x,y,w: x+y+w"
   ]
  },
  {
   "cell_type": "markdown",
   "id": "1bef2435",
   "metadata": {},
   "source": [
    "- Hay dos maneras para poder usar la función lambda"
   ]
  },
  {
   "cell_type": "code",
   "execution_count": 31,
   "id": "b47c0861",
   "metadata": {},
   "outputs": [
    {
     "data": {
      "text/plain": [
       "6"
      ]
     },
     "execution_count": 31,
     "metadata": {},
     "output_type": "execute_result"
    }
   ],
   "source": [
    "# Primera forma: la función lambda se coloca entre paréntesis y de forma contigua el valor de las variables entre paréntesis.\n",
    "(lambda x,y,w: x+y+w)(2,3,1)"
   ]
  },
  {
   "cell_type": "code",
   "execution_count": 29,
   "id": "29023849",
   "metadata": {},
   "outputs": [
    {
     "data": {
      "text/plain": [
       "6"
      ]
     },
     "execution_count": 29,
     "metadata": {},
     "output_type": "execute_result"
    }
   ],
   "source": [
    "# Segunda forma: se guarda en una variable esto es equivalente a colocarle un nombre:\n",
    "suma_v2 = lambda x,y,w: x+y+w\n",
    "suma_v2(2,3,1)"
   ]
  },
  {
   "cell_type": "markdown",
   "id": "7361aeb8",
   "metadata": {},
   "source": [
    "### Función filter()"
   ]
  },
  {
   "cell_type": "code",
   "execution_count": 5,
   "id": "f56c7c6d",
   "metadata": {},
   "outputs": [],
   "source": [
    "# Teniendo una lista, se quiere obtener solo los números mayores a 7\n",
    "num = [1, 10, 14, 3, 7, 6, 8, 11, 12]"
   ]
  },
  {
   "cell_type": "code",
   "execution_count": 6,
   "id": "2feddc0e",
   "metadata": {},
   "outputs": [
    {
     "data": {
      "text/plain": [
       "[10, 14, 8, 11, 12]"
      ]
     },
     "execution_count": 6,
     "metadata": {},
     "output_type": "execute_result"
    }
   ],
   "source": [
    "# Una forma de hacerlo:\n",
    "list_7 = []\n",
    "def f(x):\n",
    "    for i in x:\n",
    "        if i>7:\n",
    "            list_7.append(i)\n",
    "    return list_7\n",
    "f(num)"
   ]
  },
  {
   "cell_type": "code",
   "execution_count": 7,
   "id": "9f658ed7",
   "metadata": {},
   "outputs": [
    {
     "data": {
      "text/plain": [
       "[10, 14, 8, 11, 12]"
      ]
     },
     "execution_count": 7,
     "metadata": {},
     "output_type": "execute_result"
    }
   ],
   "source": [
    "# Se puede hacer más rápido con List Comprehesion:\n",
    "[i for i in num if i >7]"
   ]
  },
  {
   "cell_type": "code",
   "execution_count": 8,
   "id": "dc833641",
   "metadata": {},
   "outputs": [
    {
     "data": {
      "text/plain": [
       "<filter at 0x2816b1643d0>"
      ]
     },
     "execution_count": 8,
     "metadata": {},
     "output_type": "execute_result"
    }
   ],
   "source": [
    "# Usando la función filter\n",
    "## -> bool: Significa que el resultado va a ser un booleano, es decir, si num>7 se cumple devuelve True\n",
    "\n",
    "def f(num) -> bool: \n",
    "    return num > 7\n",
    "\n",
    "filter(f, num) # La función f se aplica a cada elemento de la lista num"
   ]
  },
  {
   "cell_type": "code",
   "execution_count": 9,
   "id": "8bbd0e84",
   "metadata": {},
   "outputs": [
    {
     "data": {
      "text/plain": [
       "[10, 14, 8, 11, 12]"
      ]
     },
     "execution_count": 9,
     "metadata": {},
     "output_type": "execute_result"
    }
   ],
   "source": [
    "list(filter(f, num))"
   ]
  },
  {
   "cell_type": "code",
   "execution_count": 10,
   "id": "434dce0c",
   "metadata": {},
   "outputs": [
    {
     "data": {
      "text/plain": [
       "[10, 14, 8, 11, 12]"
      ]
     },
     "execution_count": 10,
     "metadata": {},
     "output_type": "execute_result"
    }
   ],
   "source": [
    "# De una manera más corta\n",
    "list(filter(lambda x: x >7, num))"
   ]
  },
  {
   "cell_type": "markdown",
   "id": "02747cb4",
   "metadata": {},
   "source": [
    "### Función map()\n"
   ]
  },
  {
   "cell_type": "code",
   "execution_count": 32,
   "id": "951810df",
   "metadata": {},
   "outputs": [
    {
     "data": {
      "text/plain": [
       "[1, 10, 14, 3, 7, 6, 8, 11, 12]"
      ]
     },
     "execution_count": 32,
     "metadata": {},
     "output_type": "execute_result"
    }
   ],
   "source": [
    "# Con filter() no se puede modificar los elementos mediante operaciones\n",
    "## solo comprueba una condición para filtrar sin modificar los elementos\n",
    "def div(x):\n",
    "    return x/2\n",
    "\n",
    "list(filter(div, num))"
   ]
  },
  {
   "cell_type": "code",
   "execution_count": 15,
   "id": "56c1862f",
   "metadata": {},
   "outputs": [
    {
     "name": "stdout",
     "output_type": "stream",
     "text": [
      "[1, 10, 14, 3, 7, 6, 8, 11, 12]\n"
     ]
    }
   ],
   "source": [
    "print(num)"
   ]
  },
  {
   "cell_type": "code",
   "execution_count": 18,
   "id": "f352f60a",
   "metadata": {},
   "outputs": [
    {
     "data": {
      "text/plain": [
       "[0.5, 5.0, 7.0, 1.5, 3.5, 3.0, 4.0, 5.5, 6.0]"
      ]
     },
     "execution_count": 18,
     "metadata": {},
     "output_type": "execute_result"
    }
   ],
   "source": [
    "# Con map() las operaciones a cada elemento se pueden hacer\n",
    "def div(x):\n",
    "    return x/2\n",
    "\n",
    "list(map(div, num))"
   ]
  },
  {
   "cell_type": "code",
   "execution_count": 17,
   "id": "30660c8f",
   "metadata": {},
   "outputs": [
    {
     "data": {
      "text/plain": [
       "[0.5, 5.0, 7.0, 1.5, 3.5, 3.0, 4.0, 5.5, 6.0]"
      ]
     },
     "execution_count": 17,
     "metadata": {},
     "output_type": "execute_result"
    }
   ],
   "source": [
    "list(map(lambda x: x/2, num))"
   ]
  },
  {
   "cell_type": "markdown",
   "id": "ff57a1e3",
   "metadata": {},
   "source": [
    "## Referencias"
   ]
  },
  {
   "cell_type": "markdown",
   "id": "c7682d36",
   "metadata": {},
   "source": [
    "\n",
    "<body>\n",
    "<p class=\"citation\", style = \"text-indent:-30px;Position: relative;\tpadding-left: 40px;font-size:14px\"> \n",
    "    Python Software Foundation. Python Language Reference, version 3.9.5. Available at <a href=\"http://www.python.org\">http://www.python.org</a>. </p>\n",
    "\n",
    "<p class=\"citation\", style = \"text-indent:-30px;Position: relative;\tpadding-left: 40px;font-size:14px\"> \n",
    "    Van Rossum, G., & Drake, F. L. (2009). <em> Python 3 Reference Manual</em>. Scotts Valley, CA: CreateSpace. \n",
    "</p>\n",
    "\n",
    "<p class=\"citation\", style = \"text-indent:-30px;Position: relative;\tpadding-left: 40px;font-size:14px\"> \n",
    "    Fernando Pérez, Brian E. Granger, <em> IPython: A System for Interactive Scientific Computing</em>, Computing in Science and Engineering, vol. 9, no. 3, pp. 21-29, May/June 2007, <a href=\"doi:10.1109/MCSE.2007.53\">doi:10.1109/MCSE.2007.53</a>. URL: <a href=\"https://ipython.org\">https://ipython.org</a>.\n",
    "</p>\n",
    "\n",
    "</body>"
   ]
  }
 ],
 "metadata": {
  "kernelspec": {
   "display_name": "Python 3",
   "language": "python",
   "name": "python3"
  },
  "language_info": {
   "codemirror_mode": {
    "name": "ipython",
    "version": 3
   },
   "file_extension": ".py",
   "mimetype": "text/x-python",
   "name": "python",
   "nbconvert_exporter": "python",
   "pygments_lexer": "ipython3",
   "version": "3.9.5"
  }
 },
 "nbformat": 4,
 "nbformat_minor": 5
}
