{
 "cells": [
  {
   "cell_type": "markdown",
   "id": "e7a971e2",
   "metadata": {},
   "source": [
    "# Librerías, módulos y más\n",
    "\n",
    "<hr>\n",
    "\n",
    "Angel Daniel Duarte Meneses (angel.duarte0117@gmail.com)\n",
    "\n",
    "Este material es sólo para fines académicos. \n",
    "\n",
    "Última actualización: 21/06/2021."
   ]
  },
  {
   "cell_type": "markdown",
   "id": "397a7c46",
   "metadata": {},
   "source": [
    "<body>\n",
    "<div>\n",
    "    <center><h1 style='background:blue; border:0; color:white'><br>Tabla de contenido<br></h1></center>\n",
    "    <ul>\n",
    "        <li><a href=\"#Contexto\">Contexto</a></li>\n",
    "        <li><a href=\"#Librerías-/-Bibliotecas\">Librerías / Bibliotecas</a></li>\n",
    "            <ul class=\"idc-lista\">\n",
    "        <li><a href=\"#Instalar-Bibliotecas\">Instalar Bibliotecas</a></li>\n",
    "        </ul>\n",
    "     <li><a href=\"#Referencias\">Referencias</a> </li>\n",
    "    </ul>\n",
    "</div>\n",
    "</body>"
   ]
  },
  {
   "cell_type": "markdown",
   "id": "b36a13b1",
   "metadata": {},
   "source": [
    "## Contexto\n",
    "\n",
    "Python es un lenguaje utilizado para muchos fines, por ello, han creado gran cantidad de funciones matemáticas, estadísticas, de procesamiento, contenidas en las diversas librerías como lo son: math, numpy, matplotlib, scikit-learn, y más.\n"
   ]
  },
  {
   "cell_type": "markdown",
   "id": "63a9b66e",
   "metadata": {},
   "source": [
    "## Librerías / Bibliotecas / Módulos / Paquetes\n",
    "\n",
    "En Python literalmente una biblioteca es una colección de funciones definidas con `def` y encontradas en un archivo `.py`. Para crear un archivo `.py`, se hace uso del comando `%%file`. De manera reducida, un módulo es un archivo `.py`, que puede definir funciones, variables y clases, además de poder contener código ejecutable."
   ]
  },
  {
   "cell_type": "markdown",
   "id": "ee5006d3",
   "metadata": {},
   "source": [
    "<div class=\"alert alert-success\">\n",
    "Específicamente, IPython tiene funciones predefinidas nombradas como \"mágicas\". Hay dos tipos de funciones mágicas:\n",
    "\n",
    "<ul>\n",
    "    <li>`%`: pueden recibir como argumento una líneas.</li>\n",
    "    <li>`%%`: pueden recibir como argumento varias líneas. </li>\n",
    "</ul>\n",
    "</div>\n"
   ]
  },
  {
   "cell_type": "code",
   "execution_count": null,
   "id": "0be6858c",
   "metadata": {
    "scrolled": false
   },
   "outputs": [],
   "source": [
    "%%file test1.py  \n",
    "# escribe a un archivo\n",
    "def doble(x):\n",
    "    return 2*x\n",
    "\n",
    "def cuadrado(x):\n",
    "    return x*x"
   ]
  },
  {
   "cell_type": "markdown",
   "id": "01f13f9c",
   "metadata": {},
   "source": [
    "Podemos importar la biblioteca que se acaba de crear con el comando `import`"
   ]
  },
  {
   "cell_type": "code",
   "execution_count": null,
   "id": "e617cbaf",
   "metadata": {},
   "outputs": [],
   "source": [
    "import test1\n",
    "import math"
   ]
  },
  {
   "cell_type": "code",
   "execution_count": null,
   "id": "9f4062e3",
   "metadata": {},
   "outputs": [],
   "source": [
    "# Muestra el nombre de las bibliotecas importadas y más.\n",
    "%who"
   ]
  },
  {
   "cell_type": "code",
   "execution_count": null,
   "id": "a53cd315",
   "metadata": {
    "scrolled": true
   },
   "outputs": [],
   "source": [
    "# Muestra más información que `who` \n",
    "%whos"
   ]
  },
  {
   "cell_type": "markdown",
   "id": "081f6591",
   "metadata": {},
   "source": [
    "Para utilizar las funciones de `test1`, primero se llama a la biblioteca seguido de un punto y luego la función, por tanto:\n",
    "\n",
    "<div class=\"alert alert-info\">\n",
    "Nota: después de escribir `test1.`, pulsando la tecla tabular se muestra las funciones en esa biblioteca. \n",
    "</div>"
   ]
  },
  {
   "cell_type": "code",
   "execution_count": null,
   "id": "eeedb44e",
   "metadata": {},
   "outputs": [],
   "source": [
    "test1.cuadrado(4) "
   ]
  },
  {
   "cell_type": "code",
   "execution_count": null,
   "id": "854c52df",
   "metadata": {
    "scrolled": true
   },
   "outputs": [],
   "source": [
    "test1.doble(5)"
   ]
  },
  {
   "cell_type": "markdown",
   "id": "7a4d1c26",
   "metadata": {},
   "source": [
    "En muchas ocaciones que acorta el nombre de la biblioteca para ser más ameno programas y por constumbre de la comunidad, de la siguiente manera:"
   ]
  },
  {
   "cell_type": "code",
   "execution_count": null,
   "id": "d3f1dde5",
   "metadata": {},
   "outputs": [],
   "source": [
    "# Tomemos la biblioteca `numpy`\n",
    "import numpy \n",
    "m = numpy.array([[2,2],[3,3]]) \n",
    "m"
   ]
  },
  {
   "cell_type": "code",
   "execution_count": null,
   "id": "b799aabe",
   "metadata": {},
   "outputs": [],
   "source": [
    "# Ahora, se puede importando `numpy` con el alias de np, para acortar el nombre\n",
    "import numpy as np \n",
    "## extra: se hace lo mismo si, primero se importa numpy, luego se crea una variable y se guarda numpy ahí, np = numpy."
   ]
  },
  {
   "cell_type": "code",
   "execution_count": null,
   "id": "855949d9",
   "metadata": {
    "scrolled": true
   },
   "outputs": [],
   "source": [
    "import numpy as np\n",
    "m = np.array([[2,2],[3,3]]) \n",
    "m"
   ]
  },
  {
   "cell_type": "code",
   "execution_count": null,
   "id": "50daf52e",
   "metadata": {
    "scrolled": true
   },
   "outputs": [],
   "source": [
    "dir(test1) # directorio"
   ]
  },
  {
   "cell_type": "code",
   "execution_count": null,
   "id": "72199b7b",
   "metadata": {
    "scrolled": true
   },
   "outputs": [],
   "source": [
    "dir(math)"
   ]
  },
  {
   "cell_type": "markdown",
   "id": "f4319676",
   "metadata": {},
   "source": [
    "- [math](https://docs.python.org/3/library/math.html) (Mathematical functions) es como `math.h` de C."
   ]
  },
  {
   "cell_type": "code",
   "execution_count": null,
   "id": "2d92ebee",
   "metadata": {},
   "outputs": [],
   "source": [
    "# Cuando se usa mucho una función, se tiende a guardarla en una variable:\n",
    "cos = math.cos"
   ]
  },
  {
   "cell_type": "code",
   "execution_count": null,
   "id": "afe39dd4",
   "metadata": {},
   "outputs": [],
   "source": [
    "# cos se encuentra en el espacio de trabajo\n",
    "%who"
   ]
  },
  {
   "cell_type": "code",
   "execution_count": null,
   "id": "ef677f3b",
   "metadata": {},
   "outputs": [],
   "source": [
    "# Para tener directamente funciones en el espacio de trabajo, así evitando llamarlas como math.cos().\n",
    "from math import sin, cos "
   ]
  },
  {
   "cell_type": "code",
   "execution_count": null,
   "id": "98691b87",
   "metadata": {
    "scrolled": true
   },
   "outputs": [],
   "source": [
    "# Las funciones sin y cos se encuentran directamente, no es necesario colocar `math.` antes de las funciones\n",
    "%who"
   ]
  },
  {
   "cell_type": "markdown",
   "id": "cacbf59f",
   "metadata": {},
   "source": [
    "- `from` también se usa cuando no se van a utilizar todas las funciones de una biblioteca o módulo, por lo que, solo se llama a las que se van a usar."
   ]
  },
  {
   "cell_type": "code",
   "execution_count": null,
   "id": "53d5455d",
   "metadata": {},
   "outputs": [],
   "source": [
    "cos(1)"
   ]
  },
  {
   "cell_type": "markdown",
   "id": "f5a42441",
   "metadata": {},
   "source": [
    "### Instalar Bibliotecas"
   ]
  },
  {
   "cell_type": "markdown",
   "id": "e4f4f7d9",
   "metadata": {},
   "source": [
    "<ol>\n",
    "    <li > Abrir el símbolo de sistema o cmd.</li>\n",
    "    <li> Escribir: 'pip install' seguido del nombre del módulo o libreria.</li>\n",
    "</ol>"
   ]
  },
  {
   "cell_type": "markdown",
   "id": "6857a169",
   "metadata": {},
   "source": [
    "## Referencias\n",
    "\n",
    "<body>\n",
    "<p class=\"citation\", style = \"text-indent:-30px;Position: relative;\tpadding-left: 40px;font-size:14px\">\n",
    "    Python Software Foundation. Python Language Reference, version 3.9.5. Available at <a href=\"http://www.python.org\">http://www.python.org</a>.\n",
    "</p>\n",
    "\n",
    "<p class=\"citation\", style = \"text-indent:-30px;Position: relative;\tpadding-left: 40px;font-size:14px\">\n",
    "    Van Rossum, G., & Drake, F. L. (2009). <em> Python 3 Reference Manual</em>. Scotts Valley, CA: CreateSpace.\n",
    "</p>\n",
    "\n",
    "<p class=\"citation\", style = \"text-indent:-30px;Position: relative;\tpadding-left: 40px;font-size:14px\">\n",
    "    Fernando Pérez, Brian E. Granger, <em> IPython: A System for Interactive Scientific Computing</em>, Computing in Science and Engineering, vol. 9, no. 3, pp. 21-29, May/June 2007, <a href=\"doi:10.1109/MCSE.2007.53\">doi:10.1109/MCSE.2007.53</a>. URL: <a href=\"https://ipython.org\">https://ipython.org</a>.\n",
    "</p>\n",
    "\n",
    "<p class=\"citation\", style = \"text-indent:-30px;Position: relative;\tpadding-left: 40px;font-size:14px\"> \n",
    "    Harris, C.R., Millman, K.J., van der Walt, S.J. et al. <em>Array programming with NumPy</em>. Nature 585, 357–362 (2020). DOI: <a href=\"https://doi.org/10.1038/s41586-020-2649-2\">0.1038/s41586-020-2649-2</a>. (<a href=\"https://www.nature.com/articles/s41586-020-2649-2\">Publisher link</a>).</p>\n",
    "</body>"
   ]
  }
 ],
 "metadata": {
  "kernelspec": {
   "display_name": "Python 3",
   "language": "python",
   "name": "python3"
  },
  "language_info": {
   "codemirror_mode": {
    "name": "ipython",
    "version": 3
   },
   "file_extension": ".py",
   "mimetype": "text/x-python",
   "name": "python",
   "nbconvert_exporter": "python",
   "pygments_lexer": "ipython3",
   "version": "3.9.5"
  }
 },
 "nbformat": 4,
 "nbformat_minor": 5
}
