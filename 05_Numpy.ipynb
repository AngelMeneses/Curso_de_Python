{
 "cells": [
  {
   "cell_type": "markdown",
   "id": "ed0c3bf0",
   "metadata": {},
   "source": [
    "# NumPy\n",
    "\n",
    "<hr>\n",
    "\n",
    "Angel Daniel Duarte Meneses (angel.duarte0117@gmail.com)\n",
    "\n",
    "Este material es sólo para fines académicos. \n",
    "\n",
    "Última actualización: 21/06/2021."
   ]
  },
  {
   "cell_type": "markdown",
   "id": "89c9be37",
   "metadata": {},
   "source": [
    "<div class=\"idc-box\">\n",
    "    <div class=\"list-group\" id=\"list-tab\" role=\"tablist\">\n",
    "    <h2 class=\"list-group-item list-group-item-action active\" data-toggle=\"list\" style='background:blue; border:0; color:white' role=\"tab\" aria-controls=\"home\"><center>Tabla de contenido</center></h2> </div>\n",
    "    <ul class=\"idc-lista\">\n",
    "        <li><a href=\"#Numpy-'numerical-Python'\">Numpy</a></li>\n",
    "        <ul class=\"idc-lista\">\n",
    "            <li><a href=\"#Función-Array\">Función Array</a></li>\n",
    "            <li><a href=\"#Vectores-y-matrices\">Vectores y matrices</a></li>\n",
    "            <li><a href=\"#Extraer-elementos-y-otras-operaciones\">Extraer elementos y otras operaciones</a></li>\n",
    "        </ul>\n",
    "     <li><a href=\"#Algebra-lineal\">Algebra lineal</a> </li>\n",
    "        <ul class=\"idc-lista\">\n",
    "            <li><a href=\"#Operaciones\">Operaciones</a></li>\n",
    "            <li><a href=\"#Solución-de-ecuaciones-lineales\">Solución de ecuaciones lineales</a></li>\n",
    "        </ul>\n",
    "     <li><a href=\"#Números-aleatorios-(submódulo-random)\">Números aleatorios</a> </li>\n",
    "     <li><a href=\"#Cargar-datos\">Cargar datos</a> </li>\n",
    "     <li><a href=\"#Referencias\">Referencias</a> </li>\n",
    "    </ul>\n",
    "</div>"
   ]
  },
  {
   "cell_type": "markdown",
   "id": "651b9622",
   "metadata": {},
   "source": [
    "## NumPy 'numerical Python'\n",
    "\n",
    "NumPy es una biblioteca para la creación de matrices multidimensionales."
   ]
  },
  {
   "cell_type": "code",
   "execution_count": null,
   "id": "0a396baa",
   "metadata": {},
   "outputs": [],
   "source": [
    "import numpy as np # Comúnmente se le asigna el alias de np"
   ]
  },
  {
   "cell_type": "markdown",
   "id": "ad83e0cd",
   "metadata": {},
   "source": [
    "### Función Array"
   ]
  },
  {
   "cell_type": "markdown",
   "id": "056ab595",
   "metadata": {},
   "source": [
    "- Como se aludió anteriormente la suma dos listas es la unión de estas:"
   ]
  },
  {
   "cell_type": "code",
   "execution_count": null,
   "id": "d8b1cb5d",
   "metadata": {
    "scrolled": true
   },
   "outputs": [],
   "source": [
    "l1 = [1,2,3]\n",
    "l2 = [9, 4, 5]\n",
    "l1 + l2"
   ]
  },
  {
   "cell_type": "markdown",
   "id": "0ff9ef8b",
   "metadata": {},
   "source": [
    "- Podemos hacer una suma matricial con numpy"
   ]
  },
  {
   "cell_type": "code",
   "execution_count": null,
   "id": "4473420d",
   "metadata": {},
   "outputs": [],
   "source": [
    "# array(): toma una lista y la convierte en matriz o vector\n",
    "v1 = np.array(l1)\n",
    "v2 = np.array(l2)"
   ]
  },
  {
   "cell_type": "code",
   "execution_count": null,
   "id": "f8d29ddf",
   "metadata": {},
   "outputs": [],
   "source": [
    "# Se suma el primer elemento de v1 con el primero de v2, y así sucesivamente\n",
    "v1 + v2"
   ]
  },
  {
   "cell_type": "markdown",
   "id": "311afaf0",
   "metadata": {},
   "source": [
    "- Recordemos que un número multiplicando una lista se traduce como repetición"
   ]
  },
  {
   "cell_type": "code",
   "execution_count": null,
   "id": "352f2c76",
   "metadata": {},
   "outputs": [],
   "source": [
    "3*l1"
   ]
  },
  {
   "cell_type": "markdown",
   "id": "dc265f70",
   "metadata": {},
   "source": [
    "- Con array este número multiplica a cada elemento del vector o matriz"
   ]
  },
  {
   "cell_type": "code",
   "execution_count": null,
   "id": "93adda06",
   "metadata": {
    "scrolled": false
   },
   "outputs": [],
   "source": [
    "print('Vector 1: ', v1)\n",
    "print('vector 1 multiplicado por 3: ', 3*v1)\n",
    "\n",
    "# La operación es: que el elemento 1 del vector 1 multiplica el elemento 1 del vector 2, y así sucesivamente\n",
    "print('vector 1 por el vector 2: ', v1*v2)"
   ]
  },
  {
   "cell_type": "code",
   "execution_count": null,
   "id": "632f79d9",
   "metadata": {},
   "outputs": [],
   "source": [
    "# Multiplica los dos vectores\n",
    "np.vdot(v1,v2)"
   ]
  },
  {
   "cell_type": "code",
   "execution_count": null,
   "id": "e9e67403",
   "metadata": {},
   "outputs": [],
   "source": [
    "# Cada elemento es elevado a la 2\n",
    "v1**2"
   ]
  },
  {
   "cell_type": "markdown",
   "id": "30363722",
   "metadata": {},
   "source": [
    "- Si le damos una lista con listas tenemos una matriz"
   ]
  },
  {
   "cell_type": "code",
   "execution_count": null,
   "id": "12736191",
   "metadata": {},
   "outputs": [],
   "source": [
    "m1 = np.array([[1,1,4],[2,1,2], [4,5,1]])\n",
    "m1"
   ]
  },
  {
   "cell_type": "code",
   "execution_count": null,
   "id": "027d51a5",
   "metadata": {},
   "outputs": [],
   "source": [
    "m1 + m1"
   ]
  },
  {
   "cell_type": "code",
   "execution_count": null,
   "id": "5011a581",
   "metadata": {
    "scrolled": false
   },
   "outputs": [],
   "source": [
    "m1*m1"
   ]
  },
  {
   "cell_type": "markdown",
   "id": "0062633e",
   "metadata": {},
   "source": [
    "Diferente de multiplicar con el asterisco (*), la función `dot()` multiplica dos matrices según:\n",
    "\n",
    "\\begin{equation}\n",
    "A_{mxn} \\cdot B_{nxp} = C_{mxp}\n",
    "\\end{equation}\n",
    "\n",
    "Cada elemento de la matriz será:\n",
    "\n",
    "\\begin{equation}\n",
    "(AB)_{ij} = \\sum_{k=1}^{n} A_{ik} B_{kj}\n",
    "\\end{equation}"
   ]
  },
  {
   "cell_type": "code",
   "execution_count": null,
   "id": "6a76308b",
   "metadata": {},
   "outputs": [],
   "source": [
    "np.dot(m1, m1)"
   ]
  },
  {
   "cell_type": "code",
   "execution_count": null,
   "id": "6e7449c5",
   "metadata": {
    "scrolled": false
   },
   "outputs": [],
   "source": [
    "m1**2"
   ]
  },
  {
   "cell_type": "code",
   "execution_count": null,
   "id": "e677f722",
   "metadata": {},
   "outputs": [],
   "source": [
    "# Devuelve los elementos de la diagonal\n",
    "np.diagonal(m1)"
   ]
  },
  {
   "cell_type": "markdown",
   "id": "be979ff0",
   "metadata": {},
   "source": [
    "### Vectores y matrices"
   ]
  },
  {
   "cell_type": "code",
   "execution_count": null,
   "id": "c1671bf7",
   "metadata": {},
   "outputs": [],
   "source": [
    "# Crea una matriz donde todos los elementos son ceros\n",
    "m = np.zeros((3,2))   # Fila y columna, respectivamente\n",
    "print(m)\n",
    "print(type(m))"
   ]
  },
  {
   "cell_type": "code",
   "execution_count": null,
   "id": "a2a9c239",
   "metadata": {},
   "outputs": [],
   "source": [
    "# Crea una matriz donde todos los elementos son uno\n",
    "m = np.ones((3,3))    \n",
    "print(m) \n",
    "print(type(m))"
   ]
  },
  {
   "cell_type": "code",
   "execution_count": null,
   "id": "802f0ca2",
   "metadata": {},
   "outputs": [],
   "source": [
    "# Crea una matriz donde todos los elementos son iguales al dado\n",
    "m = np.full((4,4), 5)  # Primero las dimensiones y luego el valor para todos los elementos de la matriz\n",
    "print(m)\n",
    "print(type(m))"
   ]
  },
  {
   "cell_type": "code",
   "execution_count": null,
   "id": "e155caf2",
   "metadata": {},
   "outputs": [],
   "source": [
    "# Crea una matriz identidad\n",
    "np.eye(4) "
   ]
  },
  {
   "cell_type": "code",
   "execution_count": null,
   "id": "68a062e8",
   "metadata": {},
   "outputs": [],
   "source": [
    "## Se desplaza la diagonal con el argumento k\n",
    "np.eye(4, k=1)"
   ]
  },
  {
   "cell_type": "code",
   "execution_count": null,
   "id": "2eb1fe67",
   "metadata": {},
   "outputs": [],
   "source": [
    "np.eye(4, k=2)"
   ]
  },
  {
   "cell_type": "code",
   "execution_count": null,
   "id": "004d6d38",
   "metadata": {},
   "outputs": [],
   "source": [
    "# La función identity() hace lo mismo que eye(). ¿Cuál es la diferencia?\n",
    "np.identity(4) "
   ]
  },
  {
   "cell_type": "code",
   "execution_count": null,
   "id": "76a7e2b9",
   "metadata": {},
   "outputs": [],
   "source": [
    "## identity() está definida en numpy de esta manera:\n",
    "def identity(n, dtype=None):\n",
    "    from numpy import eye\n",
    "    return eye(n, dtype=dtype)\n",
    "\n",
    "## Por lo que, la principal diferencia es que no se puede desplazar la diagonal, \n",
    "## solamente genera la matriz identidad."
   ]
  },
  {
   "cell_type": "code",
   "execution_count": null,
   "id": "3c1d6c90",
   "metadata": {},
   "outputs": [],
   "source": [
    "# Genera una matriz donde los elementos de la diagonal son los dados como argumento\n",
    "m = np.diag(range(5)) # equivalente: np.diag([0,1,2,3,4])\n",
    "print(m)"
   ]
  },
  {
   "cell_type": "code",
   "execution_count": null,
   "id": "68164539",
   "metadata": {},
   "outputs": [],
   "source": [
    "# Muestra las dimensiones de la matriz: fila y columna, respectivamente\n",
    "m.shape"
   ]
  },
  {
   "cell_type": "code",
   "execution_count": null,
   "id": "14709f7f",
   "metadata": {},
   "outputs": [],
   "source": [
    "# Genera un vector con un espacio lineal de 1 a 10, y una cantidad de elementos de 101\n",
    "v = np.linspace(1, 10, 101)\n",
    "v"
   ]
  },
  {
   "cell_type": "code",
   "execution_count": null,
   "id": "8ce4d072",
   "metadata": {},
   "outputs": [],
   "source": [
    "# Muestra la dimensión\n",
    "v.ndim"
   ]
  },
  {
   "cell_type": "code",
   "execution_count": null,
   "id": "fe8767f6",
   "metadata": {},
   "outputs": [],
   "source": [
    "# Muestra el tipo\n",
    "v.dtype"
   ]
  },
  {
   "cell_type": "code",
   "execution_count": null,
   "id": "bb3de618",
   "metadata": {},
   "outputs": [],
   "source": [
    "# Muestra la cantidad de elementos\n",
    "v.size"
   ]
  },
  {
   "cell_type": "code",
   "execution_count": null,
   "id": "e3b86024",
   "metadata": {},
   "outputs": [],
   "source": [
    "# copy(): Hace una copia de una matriz o vector\n",
    "a = np.array([1,0,1])\n",
    "b = a.copy()\n",
    "b"
   ]
  },
  {
   "cell_type": "code",
   "execution_count": null,
   "id": "77c9cbdb",
   "metadata": {},
   "outputs": [],
   "source": [
    "%who"
   ]
  },
  {
   "cell_type": "markdown",
   "id": "45e03098",
   "metadata": {},
   "source": [
    "### Extraer elementos y otras operaciones"
   ]
  },
  {
   "cell_type": "code",
   "execution_count": null,
   "id": "2777d92d",
   "metadata": {},
   "outputs": [],
   "source": [
    "m2 = np.array([[1,2,3],[1,1,2], [4,6,2]])\n",
    "m2"
   ]
  },
  {
   "cell_type": "code",
   "execution_count": null,
   "id": "1df044d3",
   "metadata": {},
   "outputs": [],
   "source": [
    "m2[0] # Extrae la primer fila"
   ]
  },
  {
   "cell_type": "code",
   "execution_count": null,
   "id": "87046007",
   "metadata": {},
   "outputs": [],
   "source": [
    "m2[1] # Extrae la segunda fila"
   ]
  },
  {
   "cell_type": "markdown",
   "id": "fc082a0b",
   "metadata": {},
   "source": [
    "\n",
    "<div class=\"alert alert-info\"><b> Tener en cuenta:  </b>  \n",
    "    <ul>\n",
    "    <li> Los dos puntos (:) significa que se toma de inicio a fin.</li>\n",
    "    </ul>\n",
    "</div>\n",
    "\n",
    "\n"
   ]
  },
  {
   "cell_type": "code",
   "execution_count": null,
   "id": "163513e7",
   "metadata": {},
   "outputs": [],
   "source": [
    "m2[:,0] # Extrae la primer columna, "
   ]
  },
  {
   "cell_type": "code",
   "execution_count": null,
   "id": "89ad32f4",
   "metadata": {},
   "outputs": [],
   "source": [
    "m2[:,1] # Extrae la segunda columna "
   ]
  },
  {
   "cell_type": "code",
   "execution_count": null,
   "id": "c63bf882",
   "metadata": {},
   "outputs": [],
   "source": [
    "m2[:,:] # Extrae toda la matriz"
   ]
  },
  {
   "cell_type": "code",
   "execution_count": null,
   "id": "12a45de7",
   "metadata": {},
   "outputs": [],
   "source": [
    "m2[0,0] # Extrae el primer elemento"
   ]
  },
  {
   "cell_type": "code",
   "execution_count": null,
   "id": "40395748",
   "metadata": {},
   "outputs": [],
   "source": [
    "m2[0,1] # Extrae el segundo elemento de la primer fila"
   ]
  },
  {
   "cell_type": "code",
   "execution_count": null,
   "id": "0752c505",
   "metadata": {
    "scrolled": true
   },
   "outputs": [],
   "source": [
    "m2[2,2] # Extrae el último elemento"
   ]
  },
  {
   "cell_type": "code",
   "execution_count": null,
   "id": "660ca891",
   "metadata": {},
   "outputs": [],
   "source": [
    "m2[0:2,0:2] # Extrae una porción de la matriz"
   ]
  },
  {
   "cell_type": "code",
   "execution_count": null,
   "id": "3b2162f6",
   "metadata": {},
   "outputs": [],
   "source": [
    "m2.T # Genera la transpuesta de la matriz"
   ]
  },
  {
   "cell_type": "markdown",
   "id": "0599a1a1",
   "metadata": {},
   "source": [
    "## Algebra lineal"
   ]
  },
  {
   "cell_type": "markdown",
   "id": "d4df3a84",
   "metadata": {},
   "source": [
    "En la biblioteca `numpy` existe un submódulo llamado `linalg` que permite hacer algebra lineal:"
   ]
  },
  {
   "cell_type": "code",
   "execution_count": null,
   "id": "d9508d66",
   "metadata": {},
   "outputs": [],
   "source": [
    "from numpy import linalg\n",
    "## En muchas ocasiones 'linalg' se le da el alias de 'la'\n",
    "### import numpy.linalg as la"
   ]
  },
  {
   "cell_type": "code",
   "execution_count": null,
   "id": "2c442625",
   "metadata": {},
   "outputs": [],
   "source": [
    "m3 = np.array([[1,2,3],[1,1,2], [4,6,2]])"
   ]
  },
  {
   "cell_type": "markdown",
   "id": "630bee3b",
   "metadata": {},
   "source": [
    "### Operaciones"
   ]
  },
  {
   "cell_type": "markdown",
   "id": "0c105778",
   "metadata": {},
   "source": [
    "- Con la función `det()` se genera el determinante, `inv()` la inversa y `eig()` los valores y vectores propios."
   ]
  },
  {
   "cell_type": "code",
   "execution_count": null,
   "id": "75d9e1be",
   "metadata": {},
   "outputs": [],
   "source": [
    "# Determinante\n",
    "linalg.det(m3)"
   ]
  },
  {
   "cell_type": "code",
   "execution_count": null,
   "id": "4a1815e6",
   "metadata": {
    "scrolled": true
   },
   "outputs": [],
   "source": [
    "# Inversa\n",
    "linalg.inv(m3)"
   ]
  },
  {
   "cell_type": "code",
   "execution_count": null,
   "id": "a8cdd690",
   "metadata": {
    "scrolled": true
   },
   "outputs": [],
   "source": [
    "# Valores y vectores propios (the eigenvalues and right eigenvectors of a square array)\n",
    "linalg.eig(m3)"
   ]
  },
  {
   "cell_type": "code",
   "execution_count": null,
   "id": "394f8ca9",
   "metadata": {},
   "outputs": [],
   "source": [
    "# Se puede separar\n",
    "valores, vector = linalg.eig(m3)"
   ]
  },
  {
   "cell_type": "code",
   "execution_count": null,
   "id": "6ff28932",
   "metadata": {},
   "outputs": [],
   "source": [
    "valores"
   ]
  },
  {
   "cell_type": "code",
   "execution_count": null,
   "id": "d57f637a",
   "metadata": {},
   "outputs": [],
   "source": [
    "vector"
   ]
  },
  {
   "cell_type": "code",
   "execution_count": null,
   "id": "c220dfdb",
   "metadata": {},
   "outputs": [],
   "source": [
    "# Devuelve el rango\n",
    "linalg.matrix_rank(m3)"
   ]
  },
  {
   "cell_type": "code",
   "execution_count": null,
   "id": "20db1f59",
   "metadata": {},
   "outputs": [],
   "source": [
    "m3_1 = np.array([[1,2,3],[1,2,3], [4,6,2]])\n",
    "linalg.matrix_rank(m3_1)"
   ]
  },
  {
   "cell_type": "markdown",
   "id": "6238d7d6",
   "metadata": {},
   "source": [
    "- Si el determinante es igual a cero, implica que no tiene inversa"
   ]
  },
  {
   "cell_type": "code",
   "execution_count": null,
   "id": "f63a2136",
   "metadata": {},
   "outputs": [],
   "source": [
    "m4 = np.array([[1,2,3],[1,1,2], [0,0,0]])"
   ]
  },
  {
   "cell_type": "code",
   "execution_count": null,
   "id": "2c6f82be",
   "metadata": {},
   "outputs": [],
   "source": [
    "linalg.det(m4)"
   ]
  },
  {
   "cell_type": "code",
   "execution_count": null,
   "id": "0d0f2532",
   "metadata": {},
   "outputs": [],
   "source": [
    "# linalg.inv(m4)\n",
    "## LinAlgError: Singular matrix"
   ]
  },
  {
   "cell_type": "code",
   "execution_count": null,
   "id": "b27069cb",
   "metadata": {
    "scrolled": false
   },
   "outputs": [],
   "source": [
    "linalg.eig(m4)"
   ]
  },
  {
   "cell_type": "markdown",
   "id": "ffd1afd1",
   "metadata": {},
   "source": [
    "### Solución de ecuaciones lineales\n",
    "\n",
    "Supongamos que tenemos las siguientes ecuaciones:\n",
    "\n",
    "\\begin{eqnarray}\n",
    "& x+2y + 5z= 2 \\\\\n",
    "& 2x + y +z = 1 \\\\\n",
    "& 4x + 2y + 5z = 1  \n",
    "\\end{eqnarray}\n",
    "\n",
    "Es de la forma:\n",
    "\n",
    "\\begin{equation}\n",
    "\\vec{A} \\cdot \\vec{X} = \\vec{C}\n",
    "\\end{equation}\n",
    "\n",
    "Es decir:\n",
    "\n",
    "\\begin{equation}\n",
    "\\begin{pmatrix} 1 & 2& 5 \\\\ 2 & 1 & 1 \\\\ 4 & 2& 5 \\end{pmatrix} \\cdot \\begin{pmatrix} x \\\\ y \\\\ z \\end{pmatrix} = \\begin{pmatrix} 2 \\\\ 1 \\\\ 1 \\end{pmatrix}\n",
    "\\end{equation}"
   ]
  },
  {
   "cell_type": "code",
   "execution_count": null,
   "id": "9561763d",
   "metadata": {},
   "outputs": [],
   "source": [
    "A = np.array([[1,2,5],[2,1,1], [4,2,5]])\n",
    "C = np.array([2,1,1])"
   ]
  },
  {
   "cell_type": "code",
   "execution_count": null,
   "id": "274c725b",
   "metadata": {},
   "outputs": [],
   "source": [
    "# De forma manual\n",
    "X = np.dot(linalg.inv(A),C)\n",
    "X"
   ]
  },
  {
   "cell_type": "code",
   "execution_count": null,
   "id": "da737d48",
   "metadata": {},
   "outputs": [],
   "source": [
    "# Usando la funcion solve()\n",
    "X = linalg.solve(A, C)\n",
    "X"
   ]
  },
  {
   "cell_type": "markdown",
   "id": "23fdad24",
   "metadata": {},
   "source": [
    "## Números aleatorios (submódulo random)\n",
    "\n",
    "En `numpy` existe un submódulo llamado `random` que permite generar números aleatorios:\n"
   ]
  },
  {
   "cell_type": "code",
   "execution_count": null,
   "id": "dcf0d1a4",
   "metadata": {},
   "outputs": [],
   "source": [
    "from numpy import random"
   ]
  },
  {
   "cell_type": "code",
   "execution_count": null,
   "id": "1f99586c",
   "metadata": {},
   "outputs": [],
   "source": [
    "# Profundizar\n",
    "random?"
   ]
  },
  {
   "cell_type": "code",
   "execution_count": null,
   "id": "d6f69639",
   "metadata": {
    "scrolled": true
   },
   "outputs": [],
   "source": [
    "# Generar un entero aleatorio de 0 al número dado (el número dado es excluido o exclusivo)\n",
    "random.randint(10)"
   ]
  },
  {
   "cell_type": "code",
   "execution_count": null,
   "id": "929508dc",
   "metadata": {},
   "outputs": [],
   "source": [
    "## Primer valor del rango es incluido y el segundo excluido\n",
    "random.randint(2,10) "
   ]
  },
  {
   "cell_type": "code",
   "execution_count": null,
   "id": "05ad9c51",
   "metadata": {},
   "outputs": [],
   "source": [
    "## Con el argumento 'size' se genera un vector de ese tamaño, y sus elementos son aleatorios al rango dado\n",
    "random.randint(10, size=(5))"
   ]
  },
  {
   "cell_type": "code",
   "execution_count": null,
   "id": "3486949a",
   "metadata": {},
   "outputs": [],
   "source": [
    "## Se genera una matriz de dimensión especificada en 'size', respectivamente, fila y columna.\n",
    "random.randint(10, size=(2,3))"
   ]
  },
  {
   "cell_type": "code",
   "execution_count": null,
   "id": "7ce0295a",
   "metadata": {},
   "outputs": [],
   "source": [
    "# Generar un punto flotante aleatorio uniforme de 0 a 1\n",
    "random.rand()"
   ]
  },
  {
   "cell_type": "code",
   "execution_count": null,
   "id": "bf541583",
   "metadata": {},
   "outputs": [],
   "source": [
    "# Vector con tres elementos\n",
    "random.rand(3)"
   ]
  },
  {
   "cell_type": "code",
   "execution_count": null,
   "id": "de6d8919",
   "metadata": {},
   "outputs": [],
   "source": [
    "# Crea una matriz con las dimensiones suministradas, fila y columna, respectivamente\n",
    "random.rand(3, 4) "
   ]
  },
  {
   "cell_type": "code",
   "execution_count": null,
   "id": "d60d080a",
   "metadata": {
    "scrolled": true
   },
   "outputs": [],
   "source": [
    "# Crea una matriz donde sus elementos son generados de forma aleatoria\n",
    "m = np.random.random((3,3))\n",
    "print(m)"
   ]
  },
  {
   "cell_type": "markdown",
   "id": "2ac3e799",
   "metadata": {},
   "source": [
    "## Cargar datos\n"
   ]
  },
  {
   "cell_type": "code",
   "execution_count": null,
   "id": "3451d99d",
   "metadata": {},
   "outputs": [],
   "source": [
    "Data = np.array([[12,11],[1,4]])\n",
    "Data"
   ]
  },
  {
   "cell_type": "code",
   "execution_count": null,
   "id": "7c17fe9b",
   "metadata": {},
   "outputs": [],
   "source": [
    "np.savetxt(\"DataM.dat\", Data, header=\"Una matriz curiosa\")"
   ]
  },
  {
   "cell_type": "code",
   "execution_count": null,
   "id": "6aafd358",
   "metadata": {},
   "outputs": [],
   "source": [
    "%less DataM.dat"
   ]
  },
  {
   "cell_type": "code",
   "execution_count": null,
   "id": "e2aa31d6",
   "metadata": {},
   "outputs": [],
   "source": [
    "Data1 = np.loadtxt(\"DataM.dat\")\n",
    "Data1"
   ]
  },
  {
   "cell_type": "markdown",
   "id": "fd3c1094",
   "metadata": {},
   "source": [
    "## Referencias\n",
    "\n",
    "<p class=\"citation\", style = \"text-indent:-30px;Position: relative;\tpadding-left: 40px;font-size:14px\">\n",
    "    Python Software Foundation. Python Language Reference, version 3.9.5. Available at <a href=\"http://www.python.org\">http://www.python.org</a>.\n",
    "</p>\n",
    "\n",
    "<p class=\"citation\", style = \"text-indent:-30px;Position: relative;\tpadding-left: 40px;font-size:14px\">\n",
    "    Van Rossum, G., & Drake, F. L. (2009). <em> Python 3 Reference Manual</em>. Scotts Valley, CA: CreateSpace.\n",
    "</p>\n",
    "\n",
    "<p class=\"citation\", style = \"text-indent:-30px;Position: relative;\tpadding-left: 40px;font-size:14px\">\n",
    "Fernando Pérez, Brian E. Granger, <em> IPython: A System for Interactive Scientific Computing</em>, Computing in Science and Engineering, vol. 9, no. 3, pp. 21-29, May/June 2007, <a href=\"doi:10.1109/MCSE.2007.53\">doi:10.1109/MCSE.2007.53</a>. URL: <a href=\"https://ipython.org\">https://ipython.org</a>.\n",
    "</p>\n",
    "\n",
    "<p class=\"citation\", style = \"text-indent:-30px;Position: relative;\tpadding-left: 40px;font-size:14px\"> Harris, C.R., Millman, K.J., van der Walt, S.J. et al. <em>Array programming with NumPy</em>. Nature 585, 357–362 (2020). DOI: <a href=\"https://doi.org/10.1038/s41586-020-2649-2\">0.1038/s41586-020-2649-2</a>. (<a href=\"https://www.nature.com/articles/s41586-020-2649-2\">Publisher link</a>).</p>"
   ]
  }
 ],
 "metadata": {
  "kernelspec": {
   "display_name": "Python 3",
   "language": "python",
   "name": "python3"
  },
  "language_info": {
   "codemirror_mode": {
    "name": "ipython",
    "version": 3
   },
   "file_extension": ".py",
   "mimetype": "text/x-python",
   "name": "python",
   "nbconvert_exporter": "python",
   "pygments_lexer": "ipython3",
   "version": "3.9.5"
  }
 },
 "nbformat": 4,
 "nbformat_minor": 5
}
