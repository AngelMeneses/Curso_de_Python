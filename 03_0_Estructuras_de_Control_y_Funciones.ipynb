{
 "cells": [
  {
   "cell_type": "markdown",
   "id": "485afd08",
   "metadata": {},
   "source": [
    "<h1>Estructuras de Control y Funciones</h1>\n",
    "\n",
    "<br>\n",
    "\n",
    "<div align =\"left\">\n",
    "    &#9668;\n",
    "    <a href = \"02_Operaciones y Métodos.ipynb\" title=\"Abrir el notebook de Operaciones y Métodos\"> Anterior</a> &#65372;\n",
    "    <a href = \"https://github.com/AngelMeneses/Python/blob/main/README.md\" title=\"Abrir el notebook de Contenido\"> Contenido </a> &#65372;\n",
    "    <a href = \"03_1_Funciones Lambda.ipynb\" title=\"Abrir el notebook de Funciones Lambda\">Funciones Lambda</a>\n",
    "    &#9654;\n",
    "   \n",
    "</div>\n",
    "\n",
    "<hr>\n",
    "\n",
    "Angel Daniel Duarte Meneses (angel.duarte0117@gmail.com)\n",
    "\n",
    "Este material es sólo para fines académicos. \n",
    "\n",
    "Última actualización: 07/07/2021.\n",
    "\n",
    "Puedes encontrar este material en:\n",
    "\n",
    "<a href=\"https://github.com/AngelMeneses/Python\"><img align=\"left\" style=\"width:4%\"  src=\"Iconos/GitHub-Mark/PNG/GitHub-Mark-120px-plus.png\" alt=\"Abrir en Github\" title=\"Acceder al repositorio en Github\"></a> <a href=\"https://github.com/AngelMeneses/Python\"><img align=\"left\" style=\"width:10%\"  src=\"Iconos/GitHub-Logos/GitHub_Logo.png\" alt=\"Abrir en Github\" title=\"Acceder al repositorio en Github\"></a> "
   ]
  },
  {
   "cell_type": "markdown",
   "id": "3f11af40",
   "metadata": {},
   "source": [
    "<body>\n",
    "<div>\n",
    "    <center><h1 style='background:blue; border:0; color:white'><br>Tabla de contenido<br></h1></center>\n",
    "    <ul>\n",
    "        <li><a href=\"#Contexto\">Contexto</a></li>\n",
    "        <li><a href=\"#Estructura-Condicional\">Estructura Condicional</a></li>        \n",
    "        <li><a href=\"#Estructuras-Iterativas\">Estructuras Iterativas</a></li>\n",
    "        <ul>\n",
    "            <li> <a href=\"#Bucle-while\">El bucle while</a></li>\n",
    "            <li> <a href=\"#Bucle-for\">El bucle for</a></li>\n",
    "        </ul> \n",
    "        <li><a href=\"#Funciones\">Funciones</a></li>\n",
    "        <li><a href=\"#List-Comprehension\">List Comprehension</a></li>\n",
    "        <li><a href=\"#Referencias\">Referencias</a></li>\n",
    "    </ul>\n",
    "</div>\n",
    "</body>"
   ]
  },
  {
   "cell_type": "markdown",
   "id": "6c0e5e3f",
   "metadata": {},
   "source": [
    "## Contexto\n",
    "\n",
    "Para presentar las distintas estructuras de control que hay en Python: If, While y For; se ilustra su funcionamiento con diagramas de flujo. Una explicación intuitiva, y ejemplos en cada apartado."
   ]
  },
  {
   "cell_type": "markdown",
   "id": "85d966e3",
   "metadata": {},
   "source": [
    "## Estructura Condicional\n",
    "\n",
    "\n",
    "Existen las condicionales `if`, `elif` y `else`, tienen la siguiente sintaxis:\n",
    "\n",
    "```python\n",
    "if [condición lógica 1]:\n",
    "    [compila cuando se cumple la condición 1]\n",
    "    \n",
    "elif [condición lógica 2]:\n",
    "    ...\n",
    "    \n",
    "elif [condición lógica n]:\n",
    "    [compila cuando se cumple la condición n]\n",
    "    \n",
    "else:\n",
    "    [en otros casos, cuando no se cumple ninguna condición]\n",
    "```\n"
   ]
  },
  {
   "cell_type": "markdown",
   "id": "6b82a569",
   "metadata": {},
   "source": [
    "En el siguiente diagrama de flujo se puede apreciar de una mejor manera; en este caso la estructura puede generar dos resultados, cuando la condición (condición lógica o booleana) es verdadera y falsa.  \n",
    "\n",
    "<br>\n",
    "<figure>\n",
    "  <img src=\"https://rsanchezs.gitbooks.io/ciencia-de-datos-con-r/content/estructuras_control/images/if.png\" style=\"width:45%\">\n",
    "  <center>\n",
    "   <figcaption> Figura 1. Diagrama de flujo de if, tomado de: <a class=\"url\"> https://rsanchezs.gitbooks.io/ciencia-de-datos-con-r/content/estructuras_control/condicionales/estructuras_condicionales.html </a>\n",
    "   </figcaption>\n",
    "    </center>\n",
    "</figure>\n",
    "\n",
    "Es decir, solo se hace uso de una condición para determinar el funcionamiento de todo el proceso. \n",
    "\n",
    "- **Ejemplo 1:** Se quiere determinar cuando hay exceso de velocidad; la zona determina que: la velocidad por encima de los 60 Km/h, hay exceso de velocidad."
   ]
  },
  {
   "cell_type": "code",
   "execution_count": null,
   "id": "9c4bdb44",
   "metadata": {},
   "outputs": [],
   "source": [
    "# Ejemplo 1\n",
    "vel_Km_h = 50\n",
    "if vel_Km_h > 60:\n",
    "    print(\"Tiene exceso de velocidad\")\n",
    "else:\n",
    "    print(\"No tiene exceso de velocidad\")"
   ]
  },
  {
   "cell_type": "markdown",
   "id": "5d874b17",
   "metadata": {},
   "source": [
    "De forma consecutiva, se puede diseñar una estructura condicional con más condicionales haciendo uso del `elif`. Por ello, consideremos que, en el ejemplo anterior, la zona determina que: por encima de los 70 es exceso de velocidad, y entre 70 y 60 KM/h el conductor recibe una advertencia, y en otros casos, no tiene exceso de velocidad. Es decir:"
   ]
  },
  {
   "cell_type": "code",
   "execution_count": null,
   "id": "0ad2cc02",
   "metadata": {},
   "outputs": [],
   "source": [
    "vel_Km_h = 64\n",
    "if vel_Km_h > 70:\n",
    "    print(\"Tiene exceso de velocidad.\")\n",
    "elif (70>=vel_Km_h) and (vel_Km_h>=60):\n",
    "    print(\"Alerta: no exceda el límite de velocidad fijado en 70 Km/h.\")\n",
    "else:\n",
    "    print(\"No tiene exceso de velocidad.\")"
   ]
  },
  {
   "cell_type": "markdown",
   "id": "df449928",
   "metadata": {},
   "source": [
    "## Estructuras Iterativas"
   ]
  },
  {
   "cell_type": "markdown",
   "id": "ec508fd5",
   "metadata": {},
   "source": [
    "### Bucle while\n",
    "\n",
    "El bucle `while` tiene la siguiente forma:\n",
    "\n",
    "```python\n",
    "while [condición]:\n",
    "    ...\n",
    "```\n",
    "En diagrama de flujo:\n",
    "\n",
    "<br>\n",
    "<figure>\n",
    "  <img src=\"https://rsanchezs.gitbooks.io/ciencia-de-datos-con-r/content/estructuras_control/images/while.png\" style=\"width:44%\">\n",
    "  <center>\n",
    "   <figcaption> Figura 2. Diagrama de flujo de while, tomado de: <a class=\"url\"> https://rsanchezs.gitbooks.io/ciencia-de-datos-con-r/content/estructuras_control/iterativas/estructuras_iterativas.html</a>\n",
    "   </figcaption>\n",
    "    </center>\n",
    "</figure>\n",
    "\n",
    "Los bucles `While` siempre van a compilar o iterar cuando la condición lógica sea verdadera, por tanto, se hace uso en muchas ocasiones de los contadores, para que en cierto punto el programa la condición se convierta en false, y no se cree un bucle infinito.\n",
    "\n",
    "Por tanto, podemos diseñar un contador de la siguiente manera:"
   ]
  },
  {
   "cell_type": "code",
   "execution_count": null,
   "id": "a6a52f2a",
   "metadata": {},
   "outputs": [],
   "source": [
    "i = 0\n",
    "while i < 5:\n",
    "    print(i)\n",
    "    i += 1\n"
   ]
  },
  {
   "cell_type": "markdown",
   "id": "e93b2667",
   "metadata": {},
   "source": [
    "La variable `i` es un contador que empieza de 0, y siempre que itera el `While` se va sumando `1` a `i` consecutivamente, hasta que `i` vale `5`, y el bucle se rompe. \n",
    "\n",
    "Existe también la instrucción `break`, cuando se compila rompe de una el ciclo, sin necesidad de hacer falsa la condición del `While`, es decir:"
   ]
  },
  {
   "cell_type": "code",
   "execution_count": null,
   "id": "658c452f",
   "metadata": {},
   "outputs": [],
   "source": [
    "i = 0\n",
    "while i < 5:\n",
    "    print(i)\n",
    "    break"
   ]
  },
  {
   "cell_type": "markdown",
   "id": "4141e9fe",
   "metadata": {},
   "source": [
    "- **Ejemplo 2:** la temperatura de un objeto aumenta en un grado de forma constante, y se debe dar un aviso advirtiendo que no pase de 10 grados."
   ]
  },
  {
   "cell_type": "code",
   "execution_count": null,
   "id": "877d45ce",
   "metadata": {},
   "outputs": [],
   "source": [
    "temperatura = 1\n",
    "while temperatura < 10:\n",
    "    print('La temperatura actual es de: ', temperatura)\n",
    "    print('Recuerde no pasar los diez grados')\n",
    "    temperatura += 1"
   ]
  },
  {
   "cell_type": "markdown",
   "id": "15279e20",
   "metadata": {},
   "source": [
    "### Bucle for\n",
    "\n",
    "El bucle `for` tiene la siguiente forma:\n",
    "\n",
    "```python\n",
    "for [iterator]:\n",
    "    ...\n",
    "```\n",
    "Esta estructura va iterando en cada uno de los elementos dados en la condición, pueden ser elementos de una lista o un rango. Es decir:"
   ]
  },
  {
   "cell_type": "markdown",
   "id": "282d8f8a",
   "metadata": {},
   "source": [
    "En el siguiente diagrama de flujo se puede apreciar de una mejor manera; en este caso la estructura se repite las veces del iterador si la condición es verdadera, cuando acaba de iterar se convierte en falsa y termina el proceso.  \n",
    "\n",
    "<br>\n",
    "<figure>\n",
    "  <img src=\"https://rsanchezs.gitbooks.io/ciencia-de-datos-con-r/content/estructuras_control/images/for.png\" style=\"width:53%\">\n",
    "  <center>\n",
    "   <figcaption> Figura 3. Diagrama de flujo de for, tomado de: <a class=\"url\"> https://rsanchezs.gitbooks.io/ciencia-de-datos-con-r/content/estructuras_control/iterativas/estructuras_iterativas.html</a>\n",
    "   </figcaption>\n",
    "    </center>\n",
    "</figure>\n",
    "\n",
    "Es decir, solo se hace uso de una condición para determinar el funcionamiento de todo el proceso. "
   ]
  },
  {
   "cell_type": "markdown",
   "id": "6ba65abe",
   "metadata": {},
   "source": [
    "- **Ejemplo 3:** la tabla de multiplicar de un número dado."
   ]
  },
  {
   "cell_type": "code",
   "execution_count": null,
   "id": "84f52ffe",
   "metadata": {
    "scrolled": false
   },
   "outputs": [],
   "source": [
    "num = 9\n",
    "for i in range(11):\n",
    "    print(num,'x', i, '=', num*i)"
   ]
  },
  {
   "cell_type": "code",
   "execution_count": null,
   "id": "afdec431",
   "metadata": {},
   "outputs": [],
   "source": [
    "# De forma equivalente\n",
    "num = 9\n",
    "for i in [0,1,2,3,4,5,6,7,8,9,10]:\n",
    "    print(num,'x', i, '=', num*i)"
   ]
  },
  {
   "cell_type": "markdown",
   "id": "1fcca3e6",
   "metadata": {},
   "source": [
    "## Funciones"
   ]
  },
  {
   "cell_type": "markdown",
   "id": "244ee585",
   "metadata": {},
   "source": [
    "Para crear o definir una función se usa `def`, la sintaxis sería:\n",
    "\n",
    "```python\n",
    "def nombre(variable1, variable2, ...):\n",
    "    ...\n",
    "```\n",
    "Se especifica el nombre de la función, y las variables que se usan.\n"
   ]
  },
  {
   "cell_type": "markdown",
   "id": "7002556a",
   "metadata": {},
   "source": [
    "- **Ejemplo 4:** una función que dado un número genere este mismo elevado a la 4."
   ]
  },
  {
   "cell_type": "code",
   "execution_count": null,
   "id": "0ce01c44",
   "metadata": {},
   "outputs": [],
   "source": [
    "def f(x):\n",
    "    return x**4"
   ]
  },
  {
   "cell_type": "code",
   "execution_count": null,
   "id": "3d4fdc0b",
   "metadata": {},
   "outputs": [],
   "source": [
    "# con una variable\n",
    "y = 2\n",
    "f(y)"
   ]
  },
  {
   "cell_type": "code",
   "execution_count": null,
   "id": "bb8cbe8e",
   "metadata": {},
   "outputs": [],
   "source": [
    "# de manera equivalente, se logra lo mismo colocando el número directamente\n",
    "f(2)"
   ]
  },
  {
   "cell_type": "code",
   "execution_count": null,
   "id": "4e72189b",
   "metadata": {},
   "outputs": [],
   "source": [
    "f(3)"
   ]
  },
  {
   "cell_type": "markdown",
   "id": "73895685",
   "metadata": {},
   "source": [
    "### Funciones dentro de funciones\n",
    "\n",
    "Dentro de una función se puede integrar otra, por ejemplo:"
   ]
  },
  {
   "cell_type": "code",
   "execution_count": null,
   "id": "6706da62",
   "metadata": {},
   "outputs": [],
   "source": [
    "def operaciones(x):\n",
    "    y = 2*x\n",
    "    z = f(x) # Se usa la función creada anteriormente\n",
    "    return y,z"
   ]
  },
  {
   "cell_type": "code",
   "execution_count": null,
   "id": "af06f275",
   "metadata": {},
   "outputs": [],
   "source": [
    "# Genera el doble y el cuadrado de un número x.\n",
    "operaciones(2)"
   ]
  },
  {
   "cell_type": "markdown",
   "id": "2bd3d6d1",
   "metadata": {},
   "source": [
    "## List Comprehension\n",
    "\n",
    "List Comprehension nace para simplificar una estructura de control. Esto se puede dilusidar de mejor manera en la práctica.\n",
    "\n",
    "La sintaxis es:\n",
    "\n",
    "```python\n",
    "nuevalista = [expresión for item in iterable [más estructuras de control] ... ]\n",
    "```\n"
   ]
  },
  {
   "cell_type": "markdown",
   "id": "1173a4c1",
   "metadata": {},
   "source": [
    "- **Ejemplo 5:**"
   ]
  },
  {
   "cell_type": "code",
   "execution_count": null,
   "id": "3a7f3d56",
   "metadata": {},
   "outputs": [],
   "source": [
    "# Introducir los números de un rango en una lista\n",
    "Lista = []\n",
    "for i in range(4):\n",
    "    Lista.append(i)\n",
    "Lista"
   ]
  },
  {
   "cell_type": "code",
   "execution_count": null,
   "id": "765f96f0",
   "metadata": {},
   "outputs": [],
   "source": [
    "# Lo anterior con List Comprehension\n",
    "[i for i in range(4)]"
   ]
  },
  {
   "cell_type": "markdown",
   "id": "b3eefd9b",
   "metadata": {},
   "source": [
    "- **Ejemplo 6:**"
   ]
  },
  {
   "cell_type": "code",
   "execution_count": null,
   "id": "dd96e5de",
   "metadata": {},
   "outputs": [],
   "source": [
    "# Se quiere agregar los números pares de una lista en otra\n",
    "pares = []\n",
    "for i in [1,2,3,4,5,6]:\n",
    "    if i%2==0:\n",
    "        pares.append(i)\n",
    "pares"
   ]
  },
  {
   "cell_type": "code",
   "execution_count": null,
   "id": "f0bf6d38",
   "metadata": {},
   "outputs": [],
   "source": [
    "# Con List Comprehension, simplifica lo anterior en una sola linea\n",
    "[i for i in [1,2,3,4,5,6] if i%2==0]"
   ]
  },
  {
   "cell_type": "markdown",
   "id": "cd5a8190",
   "metadata": {},
   "source": [
    "## Referencias"
   ]
  },
  {
   "cell_type": "markdown",
   "id": "48023786",
   "metadata": {},
   "source": [
    "\n",
    "<body>\n",
    "<p class=\"citation\", style = \"text-indent:-30px;Position: relative;\tpadding-left: 40px;font-size:14px\"> \n",
    "    Python Software Foundation. Python Language Reference, version 3.9.5. Available at <a href=\"http://www.python.org\">http://www.python.org</a>. </p>\n",
    "\n",
    "<p class=\"citation\", style = \"text-indent:-30px;Position: relative;\tpadding-left: 40px;font-size:14px\"> \n",
    "    Van Rossum, G., & Drake, F. L. (2009). <em> Python 3 Reference Manual</em>. Scotts Valley, CA: CreateSpace. \n",
    "</p>\n",
    "\n",
    "<p class=\"citation\", style = \"text-indent:-30px;Position: relative;\tpadding-left: 40px;font-size:14px\"> \n",
    "    Fernando Pérez, Brian E. Granger, <em> IPython: A System for Interactive Scientific Computing</em>, Computing in Science and Engineering, vol. 9, no. 3, pp. 21-29, May/June 2007, <a href=\"doi:10.1109/MCSE.2007.53\">doi:10.1109/MCSE.2007.53</a>. URL: <a href=\"https://ipython.org\">https://ipython.org</a>.\n",
    "</p>\n",
    "\n",
    "<p class=\"citation\", style = \"text-indent:-30px;Position: relative;\tpadding-left: 40px;font-size:14px\">\n",
    "    Udemy. <em> Ciencia de Datos con R </em>. <a href=\"https://rsanchezs.gitbooks.io/ciencia-de-datos-con-r/content/\">https://rsanchezs.gitbooks.io/ciencia-de-datos-con-r/content/</a>.\n",
    "</p>\n",
    "</body>"
   ]
  },
  {
   "cell_type": "markdown",
   "id": "0c6037a7",
   "metadata": {},
   "source": [
    "<br>\n",
    "<br>\n",
    "\n",
    "<div align =\"center\">\n",
    "    &#9668;\n",
    "    <a href = \"02_Operaciones y Métodos.ipynb\" title=\"Abrir el notebook de Operaciones y Métodos\"> Anterior</a> &#65372;\n",
    "    <a href = \"https://github.com/AngelMeneses/Python/blob/main/README.md\" title=\"Abrir el notebook de Contenido\"> Contenido </a> &#65372;\n",
    "    <a href = \"03_1_Funciones Lambda.ipynb\" title=\"Abrir el notebook de Funciones Lambda\">Funciones Lambda</a>\n",
    "    &#9654;\n",
    "   \n",
    "</div>"
   ]
  }
 ],
 "metadata": {
  "kernelspec": {
   "display_name": "Python 3",
   "language": "python",
   "name": "python3"
  },
  "language_info": {
   "codemirror_mode": {
    "name": "ipython",
    "version": 3
   },
   "file_extension": ".py",
   "mimetype": "text/x-python",
   "name": "python",
   "nbconvert_exporter": "python",
   "pygments_lexer": "ipython3",
   "version": "3.9.5"
  }
 },
 "nbformat": 4,
 "nbformat_minor": 5
}
