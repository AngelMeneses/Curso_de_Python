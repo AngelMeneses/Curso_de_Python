{
 "cells": [
  {
   "cell_type": "markdown",
   "id": "ceb180dd",
   "metadata": {},
   "source": [
    "Author: Angel Daniel Duarte Meneses. \n",
    "\n",
    "First update: 17/06/2021.\n",
    "\n",
    "Last update: 17/06/2021.\n",
    "\n",
    "This material is for academic purposes only."
   ]
  },
  {
   "cell_type": "markdown",
   "id": "d5619091",
   "metadata": {},
   "source": [
    "<div class=\"idc-box\">\n",
    "    <div class=\"list-group\" id=\"list-tab\" role=\"tablist\">\n",
    "    <h2 class=\"list-group-item list-group-item-action active\" data-toggle=\"list\" style='background:blue; border:0; color:white' role=\"tab\" aria-controls=\"home\"><center>Tabla de contenido</center></h2> </div>\n",
    "    <ul class=\"idc-lista\">\n",
    "        <li><a href=\"#Operaciones-y-Métodos-de-Caracteres-(strings)\">Operaciones y Métodos de Caracteres (strings)</a></li>\n",
    "    </ul>\n",
    "</div>"
   ]
  },
  {
   "cell_type": "markdown",
   "id": "d1516696",
   "metadata": {},
   "source": [
    "## Operaciones y Métodos de Caracteres (strings)"
   ]
  },
  {
   "cell_type": "code",
   "execution_count": 3,
   "id": "5d2549b9",
   "metadata": {},
   "outputs": [
    {
     "data": {
      "text/plain": [
       "'suma'"
      ]
     },
     "execution_count": 3,
     "metadata": {},
     "output_type": "execute_result"
    }
   ],
   "source": [
    "# La suma de dos caracteres es una unión o concatenación\n",
    "'s' + 'u' + 'm' + 'a'"
   ]
  },
  {
   "cell_type": "code",
   "execution_count": 5,
   "id": "11161465",
   "metadata": {},
   "outputs": [
    {
     "name": "stdout",
     "output_type": "stream",
     "text": [
      "True\n",
      "True\n"
     ]
    }
   ],
   "source": [
    "# Para saber si un caracter está dentro de un texto o palabra\n",
    "print('a' in 'aoi')\n",
    "print('azul' in 'el cielo es azul')"
   ]
  },
  {
   "cell_type": "code",
   "execution_count": null,
   "id": "71840cb2",
   "metadata": {},
   "outputs": [],
   "source": []
  }
 ],
 "metadata": {
  "kernelspec": {
   "display_name": "Python 3",
   "language": "python",
   "name": "python3"
  },
  "language_info": {
   "codemirror_mode": {
    "name": "ipython",
    "version": 3
   },
   "file_extension": ".py",
   "mimetype": "text/x-python",
   "name": "python",
   "nbconvert_exporter": "python",
   "pygments_lexer": "ipython3",
   "version": "3.9.5"
  }
 },
 "nbformat": 4,
 "nbformat_minor": 5
}
