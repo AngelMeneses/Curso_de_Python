{
 "cells": [
  {
   "cell_type": "markdown",
   "id": "e7a971e2",
   "metadata": {},
   "source": [
    "# Librerías, módulos y más\n",
    "\n",
    "<hr>\n",
    "\n",
    "Angel Daniel Duarte Meneses (angel.duarte0117@gmail.com)\n",
    "\n",
    "Este material es sólo para fines académicos. \n",
    "\n",
    "Última actualización: 21/06/2021."
   ]
  },
  {
   "cell_type": "markdown",
   "id": "397a7c46",
   "metadata": {},
   "source": [
    "<body>\n",
    "<div>\n",
    "    <center><h1 style='background:blue; border:0; color:white'><br>Tabla de contenido<br></h1></center>\n",
    "    <ul>\n",
    "        <li><a href=\"#Contexto\">Contexto</a></li>\n",
    "        <li><a href=\"#Librerías-/-Bibliotecas\">Librerías / Bibliotecas</a></li>\n",
    "        <li><a href=\"#Librería-os\">Librería os</a></li>\n",
    "        <li><a href=\"#Librería-Random\">Librería Random</a></li>\n",
    "        <li><a href=\"#Instalar-Librerías\">Instalar Librerías</a></li>\n",
    "     <li><a href=\"#Referencias\">Referencias</a> </li>\n",
    "    </ul>\n",
    "</div>\n",
    "</body>"
   ]
  },
  {
   "cell_type": "markdown",
   "id": "b36a13b1",
   "metadata": {},
   "source": [
    "## Contexto\n",
    "\n",
    "Python es un lenguaje utilizado para muchos fines, por ello, han creado gran cantidad de funciones matemáticas, estadísticas, de procesamiento, contenidas en las diversas librerías como lo son: math, numpy, matplotlib, scikit-learn, y más.\n"
   ]
  },
  {
   "cell_type": "markdown",
   "id": "63a9b66e",
   "metadata": {},
   "source": [
    "## Librerías / Bibliotecas / Módulos / Paquetes\n",
    "\n",
    "En Python literalmente una biblioteca es una colección de funciones definidas con `def` y encontradas en un archivo `.py`. Para crear un archivo `.py`, se hace uso del comando `%%file`. De manera reducida, un módulo es un archivo `.py`, que puede definir funciones, variables y clases, además de poder contener código ejecutable."
   ]
  },
  {
   "cell_type": "markdown",
   "id": "ee5006d3",
   "metadata": {},
   "source": [
    "<div class=\"alert alert-success\">\n",
    "Específicamente, IPython tiene funciones predefinidas nombradas como \"mágicas\". Hay dos tipos de funciones mágicas:\n",
    "\n",
    "<ul>\n",
    "    <li>`%`: pueden recibir como argumento una líneas.</li>\n",
    "    <li>`%%`: pueden recibir como argumento varias líneas. </li>\n",
    "</ul>\n",
    "</div>\n"
   ]
  },
  {
   "cell_type": "code",
   "execution_count": 1,
   "id": "0be6858c",
   "metadata": {
    "scrolled": false
   },
   "outputs": [
    {
     "name": "stdout",
     "output_type": "stream",
     "text": [
      "Overwriting test1.py\n"
     ]
    }
   ],
   "source": [
    "%%file test1.py  \n",
    "# escribe a un archivo\n",
    "def doble(x):\n",
    "    return 2*x\n",
    "\n",
    "def cuadrado(x):\n",
    "    return x*x"
   ]
  },
  {
   "cell_type": "markdown",
   "id": "01f13f9c",
   "metadata": {},
   "source": [
    "Podemos importar la biblioteca que se acaba de crear con el comando `import`"
   ]
  },
  {
   "cell_type": "code",
   "execution_count": 2,
   "id": "4472b1f8",
   "metadata": {},
   "outputs": [],
   "source": [
    "# Importamos test1.py como una libreria\n",
    "import test1"
   ]
  },
  {
   "cell_type": "code",
   "execution_count": 3,
   "id": "9f4062e3",
   "metadata": {},
   "outputs": [
    {
     "name": "stdout",
     "output_type": "stream",
     "text": [
      "test1\t \n"
     ]
    }
   ],
   "source": [
    "# Muestra el nombre de las bibliotecas importadas y más.\n",
    "%who"
   ]
  },
  {
   "cell_type": "markdown",
   "id": "6b6f3b97",
   "metadata": {},
   "source": [
    "Importamos la libreria math\n",
    "- [math](https://docs.python.org/3/library/math.html) (Mathematical functions) es como `math.h` de C."
   ]
  },
  {
   "cell_type": "code",
   "execution_count": 4,
   "id": "62072bc7",
   "metadata": {},
   "outputs": [],
   "source": [
    "import math"
   ]
  },
  {
   "cell_type": "code",
   "execution_count": 5,
   "id": "a53cd315",
   "metadata": {
    "scrolled": true
   },
   "outputs": [
    {
     "name": "stdout",
     "output_type": "stream",
     "text": [
      "Variable   Type      Data/Info\n",
      "------------------------------\n",
      "math       module    <module 'math' (built-in)>\n",
      "test1      module    <module 'test1' from 'C:\\<...>rso_de_Python\\\\test1.py'>\n"
     ]
    }
   ],
   "source": [
    "# Muestra más información que `who` \n",
    "%whos"
   ]
  },
  {
   "cell_type": "markdown",
   "id": "081f6591",
   "metadata": {},
   "source": [
    "Para utilizar las funciones de `test1`, primero se llama a la biblioteca seguido de un punto y luego la función, por tanto:\n",
    "\n",
    "<div class=\"alert alert-info\">\n",
    "Nota: después de escribir `test1.`, pulsando la tecla tabular se muestra las funciones en esa biblioteca. \n",
    "</div>"
   ]
  },
  {
   "cell_type": "code",
   "execution_count": 6,
   "id": "eeedb44e",
   "metadata": {},
   "outputs": [
    {
     "data": {
      "text/plain": [
       "16"
      ]
     },
     "execution_count": 6,
     "metadata": {},
     "output_type": "execute_result"
    }
   ],
   "source": [
    "# la función 'cruadrado' la toma de test1 \n",
    "test1.cuadrado(4) "
   ]
  },
  {
   "cell_type": "code",
   "execution_count": 7,
   "id": "854c52df",
   "metadata": {
    "scrolled": true
   },
   "outputs": [
    {
     "data": {
      "text/plain": [
       "10"
      ]
     },
     "execution_count": 7,
     "metadata": {},
     "output_type": "execute_result"
    }
   ],
   "source": [
    "test1.doble(5)"
   ]
  },
  {
   "cell_type": "markdown",
   "id": "7a4d1c26",
   "metadata": {},
   "source": [
    "En muchas ocaciones que acorta el nombre de la biblioteca para ser más ameno programas y por constumbre de la comunidad, de la siguiente manera:"
   ]
  },
  {
   "cell_type": "code",
   "execution_count": 8,
   "id": "d3f1dde5",
   "metadata": {},
   "outputs": [],
   "source": [
    "# con 'as' se da una lias, es decir, se acorta el nombre\n",
    "import test1 as ts"
   ]
  },
  {
   "cell_type": "code",
   "execution_count": 9,
   "id": "72199b7b",
   "metadata": {
    "scrolled": true
   },
   "outputs": [
    {
     "data": {
      "text/plain": [
       "4"
      ]
     },
     "execution_count": 9,
     "metadata": {},
     "output_type": "execute_result"
    }
   ],
   "source": [
    "ts.cuadrado(2) "
   ]
  },
  {
   "cell_type": "code",
   "execution_count": 10,
   "id": "2d92ebee",
   "metadata": {},
   "outputs": [],
   "source": [
    "# Cuando se usa mucho una función, se tiende a guardarla en una variable:\n",
    "cuadrado = ts.cuadrado"
   ]
  },
  {
   "cell_type": "code",
   "execution_count": 11,
   "id": "afe39dd4",
   "metadata": {},
   "outputs": [
    {
     "name": "stdout",
     "output_type": "stream",
     "text": [
      "cuadrado\t math\t test1\t ts\t \n"
     ]
    }
   ],
   "source": [
    "# cos se encuentra en el espacio de trabajo\n",
    "%who"
   ]
  },
  {
   "cell_type": "code",
   "execution_count": 12,
   "id": "1ac34e56",
   "metadata": {},
   "outputs": [
    {
     "data": {
      "text/plain": [
       "9"
      ]
     },
     "execution_count": 12,
     "metadata": {},
     "output_type": "execute_result"
    }
   ],
   "source": [
    "cuadrado(3)"
   ]
  },
  {
   "cell_type": "code",
   "execution_count": 13,
   "id": "ef677f3b",
   "metadata": {},
   "outputs": [],
   "source": [
    "# Para tener directamente funciones en el espacio de trabajo\n",
    "# Pareciado a colocar cuadrado = ts.cuadrado\n",
    "from test1 import cuadrado, doble "
   ]
  },
  {
   "cell_type": "code",
   "execution_count": 14,
   "id": "98691b87",
   "metadata": {
    "scrolled": true
   },
   "outputs": [
    {
     "name": "stdout",
     "output_type": "stream",
     "text": [
      "cuadrado\t doble\t math\t test1\t ts\t \n"
     ]
    }
   ],
   "source": [
    "# Las funciones sin y cos se encuentran directamente, no es necesario colocar `math.` antes de las funciones\n",
    "%who"
   ]
  },
  {
   "cell_type": "markdown",
   "id": "cacbf59f",
   "metadata": {},
   "source": [
    "- `from` también se usa cuando no se van a utilizar todas las funciones de una biblioteca o módulo, por lo que, solo se llama a las que se van a usar."
   ]
  },
  {
   "cell_type": "code",
   "execution_count": 17,
   "id": "53d5455d",
   "metadata": {},
   "outputs": [
    {
     "data": {
      "text/plain": [
       "16"
      ]
     },
     "execution_count": 17,
     "metadata": {},
     "output_type": "execute_result"
    }
   ],
   "source": [
    "cuadrado(4)"
   ]
  },
  {
   "cell_type": "markdown",
   "id": "1706d263",
   "metadata": {},
   "source": [
    "## Librería os\n",
    "\n",
    "Python viene con esta librería, por lo que, no es necesario instalarla.\n",
    "\n",
    "- Fuente: https://docs.python.org/es/3.10/library/os.html\n",
    "\n",
    "Es el módulo o librería del sistema."
   ]
  },
  {
   "cell_type": "markdown",
   "id": "fd2ad611",
   "metadata": {},
   "source": [
    "\n",
    "Cambiar los permisos de un archivo o directorio\tos.chmod(path, permisos)\n",
    "Cambiar el propietario de un archivo o directorio\tos.chown(path, permisos)\n",
    "Crear un directorio\tos.mkdir(path[, modo])\n",
    "Crear directorios recursivamente\tos.mkdirs(path[, modo])\n",
    "Eliminar un archivo\tos.remove(path)\n",
    "Eliminar un directorio\tos.rmdir(path)\n",
    "Eliminar directorios recursivamente\tos.removedirs(path)\n",
    "Renombrar un archivo\tos.rename(actual, nuevo)\n",
    "Crear un enlace simbólico\tos.symlink(path, nombre_destino)"
   ]
  },
  {
   "cell_type": "code",
   "execution_count": 100,
   "id": "f27ea7f2",
   "metadata": {},
   "outputs": [],
   "source": [
    "import os"
   ]
  },
  {
   "cell_type": "code",
   "execution_count": null,
   "id": "2dc7c4f0",
   "metadata": {},
   "outputs": [],
   "source": [
    "# Saber de un archivo o directorio\n",
    "## ruta o path: hace referencia a la ruta del archivo\n",
    "os.access(path, mode)"
   ]
  },
  {
   "cell_type": "code",
   "execution_count": 106,
   "id": "82904936",
   "metadata": {
    "scrolled": true
   },
   "outputs": [
    {
     "data": {
      "text/plain": [
       "True"
      ]
     },
     "execution_count": 106,
     "metadata": {},
     "output_type": "execute_result"
    }
   ],
   "source": [
    "# Los separadores son '/' y no '\\'\n",
    "os.access(\"C:/Users/Usuario/Desktop/GitHub/Curso_de_Python\", os.F_OK)"
   ]
  },
  {
   "cell_type": "markdown",
   "id": "f88cfea3",
   "metadata": {},
   "source": [
    "Diferentes modos de acceso (mode), devuelve `True` cuando se cumple y `False` cuando no.\n",
    "\n",
    "- s.F_OK: comprobar la existencia de la ruta.\n",
    "\n",
    "- os.R_OK: comprobar la legibilidad de la ruta.\n",
    "\n",
    "- os.W_OK: comprobar la capacidad de escritura de la ruta.\n",
    "\n",
    "- os.X_OK: determinar si la ruta puede ser ejecutada."
   ]
  },
  {
   "cell_type": "code",
   "execution_count": 107,
   "id": "811a97af",
   "metadata": {},
   "outputs": [
    {
     "data": {
      "text/plain": [
       "'C:\\\\Users\\\\Usuario\\\\Desktop\\\\GitHub\\\\Curso_de_Python'"
      ]
     },
     "execution_count": 107,
     "metadata": {},
     "output_type": "execute_result"
    }
   ],
   "source": [
    "# getcwd(): directorio actual\n",
    "os.getcwd()"
   ]
  },
  {
   "cell_type": "code",
   "execution_count": 109,
   "id": "1d6bab0b",
   "metadata": {},
   "outputs": [
    {
     "ename": "FileNotFoundError",
     "evalue": "[WinError 2] El sistema no puede encontrar el archivo especificado: 'inserte la ruta del nuevo directorio aquí'",
     "output_type": "error",
     "traceback": [
      "\u001b[1;31m---------------------------------------------------------------------------\u001b[0m",
      "\u001b[1;31mFileNotFoundError\u001b[0m                         Traceback (most recent call last)",
      "\u001b[1;32m<ipython-input-109-e3e2305cc7ba>\u001b[0m in \u001b[0;36m<module>\u001b[1;34m\u001b[0m\n\u001b[0;32m      1\u001b[0m \u001b[1;31m# chdir(): cambiar de directorio\u001b[0m\u001b[1;33m\u001b[0m\u001b[1;33m\u001b[0m\u001b[1;33m\u001b[0m\u001b[0m\n\u001b[1;32m----> 2\u001b[1;33m \u001b[0mos\u001b[0m\u001b[1;33m.\u001b[0m\u001b[0mchdir\u001b[0m\u001b[1;33m(\u001b[0m\u001b[1;34m\"inserte la ruta del nuevo directorio aquí\"\u001b[0m\u001b[1;33m)\u001b[0m\u001b[1;33m\u001b[0m\u001b[1;33m\u001b[0m\u001b[0m\n\u001b[0m",
      "\u001b[1;31mFileNotFoundError\u001b[0m: [WinError 2] El sistema no puede encontrar el archivo especificado: 'inserte la ruta del nuevo directorio aquí'"
     ]
    }
   ],
   "source": [
    "# chdir(): cambiar de directorio\n",
    "os.chdir(\"inserte la ruta del nuevo directorio aquí\")"
   ]
  },
  {
   "cell_type": "code",
   "execution_count": 123,
   "id": "227cc72f",
   "metadata": {},
   "outputs": [
    {
     "name": "stdout",
     "output_type": "stream",
     "text": [
      "Writing palabra.txt\n"
     ]
    }
   ],
   "source": [
    "%%file palabra.txt  \n",
    "\n",
    "'Hola'"
   ]
  },
  {
   "cell_type": "code",
   "execution_count": 125,
   "id": "e610e5ca",
   "metadata": {},
   "outputs": [
    {
     "data": {
      "text/plain": [
       "['\\n', \"'Hola'\\n\"]"
      ]
     },
     "execution_count": 125,
     "metadata": {},
     "output_type": "execute_result"
    }
   ],
   "source": [
    "# open(): abrir un archivo dependiendo del método\n",
    "open(\"C:/Users/Usuario/Desktop/GitHub/Curso_de_Python/palabra.txt\", mode='r+')"
   ]
  },
  {
   "cell_type": "markdown",
   "id": "ce216e01",
   "metadata": {},
   "source": [
    "## Librería Random\n",
    "\n",
    "Python viene con esta librería, por lo que, no es necesario instalarla.\n",
    "\n",
    "- Fuente: https://docs.python.org/3/library/random.html"
   ]
  },
  {
   "cell_type": "code",
   "execution_count": 19,
   "id": "e20773bb",
   "metadata": {},
   "outputs": [],
   "source": [
    "import random"
   ]
  },
  {
   "cell_type": "code",
   "execution_count": 24,
   "id": "afc4f361",
   "metadata": {},
   "outputs": [
    {
     "data": {
      "text/plain": [
       "1"
      ]
     },
     "execution_count": 24,
     "metadata": {},
     "output_type": "execute_result"
    }
   ],
   "source": [
    "# choice(): escoge un elemento de forma aleatoria de una lista o rango\n",
    "random.choice([1,2,3,4])"
   ]
  },
  {
   "cell_type": "code",
   "execution_count": 27,
   "id": "95c25c5a",
   "metadata": {},
   "outputs": [
    {
     "data": {
      "text/plain": [
       "[1, 1, 3]"
      ]
     },
     "execution_count": 27,
     "metadata": {},
     "output_type": "execute_result"
    }
   ],
   "source": [
    "# choices(): al igual que 'choice()', agregando que se puede elegir cuantos se escogen con k \n",
    "random.choices([1,2,3,4], k = 3)"
   ]
  },
  {
   "cell_type": "code",
   "execution_count": 29,
   "id": "79510cd1",
   "metadata": {},
   "outputs": [
    {
     "data": {
      "text/plain": [
       "[1, 7]"
      ]
     },
     "execution_count": 29,
     "metadata": {},
     "output_type": "execute_result"
    }
   ],
   "source": [
    "random.choices(range(8), k = 2)"
   ]
  },
  {
   "cell_type": "code",
   "execution_count": 74,
   "id": "eb507886",
   "metadata": {},
   "outputs": [],
   "source": [
    "# seed(): se elige una semilla\n",
    "random.seed(a=344)"
   ]
  },
  {
   "cell_type": "code",
   "execution_count": 99,
   "id": "21469b09",
   "metadata": {},
   "outputs": [
    {
     "data": {
      "text/plain": [
       "1"
      ]
     },
     "execution_count": 99,
     "metadata": {},
     "output_type": "execute_result"
    }
   ],
   "source": [
    "# Escoge un número entero aleatorio entre del rango\n",
    "## Con 1 y 5 incluidos en la elección \n",
    "random.randint(1, 5)"
   ]
  },
  {
   "cell_type": "markdown",
   "id": "f5a42441",
   "metadata": {},
   "source": [
    "### Instalar Librerías"
   ]
  },
  {
   "cell_type": "markdown",
   "id": "e4f4f7d9",
   "metadata": {},
   "source": [
    "<ol>\n",
    "    <li > Abrir el símbolo de sistema o cmd.</li>\n",
    "    <li> Escribir: 'pip install' seguido del nombre del módulo o libreria.</li>\n",
    "</ol>"
   ]
  },
  {
   "cell_type": "markdown",
   "id": "6e0f80e0",
   "metadata": {},
   "source": [
    "## Referencias"
   ]
  },
  {
   "cell_type": "markdown",
   "id": "6857a169",
   "metadata": {},
   "source": [
    "\n",
    "<body>\n",
    "<p class=\"citation\", style = \"text-indent:-30px;Position: relative;\tpadding-left: 40px;font-size:14px\">\n",
    "    Python Software Foundation. Python Language Reference, version 3.9.5. Available at <a href=\"http://www.python.org\">http://www.python.org</a>.\n",
    "</p>\n",
    "\n",
    "<p class=\"citation\", style = \"text-indent:-30px;Position: relative;\tpadding-left: 40px;font-size:14px\">\n",
    "    Van Rossum, G., & Drake, F. L. (2009). <em> Python 3 Reference Manual</em>. Scotts Valley, CA: CreateSpace.\n",
    "</p>\n",
    "\n",
    "<p class=\"citation\", style = \"text-indent:-30px;Position: relative;\tpadding-left: 40px;font-size:14px\">\n",
    "    Fernando Pérez, Brian E. Granger, <em> IPython: A System for Interactive Scientific Computing</em>, Computing in Science and Engineering, vol. 9, no. 3, pp. 21-29, May/June 2007, <a href=\"doi:10.1109/MCSE.2007.53\">doi:10.1109/MCSE.2007.53</a>. URL: <a href=\"https://ipython.org\">https://ipython.org</a>.\n",
    "</p>\n",
    "\n",
    "<p class=\"citation\", style = \"text-indent:-30px;Position: relative;\tpadding-left: 40px;font-size:14px\"> \n",
    "    Harris, C.R., Millman, K.J., van der Walt, S.J. et al. <em>Array programming with NumPy</em>. Nature 585, 357–362 (2020). DOI: <a href=\"https://doi.org/10.1038/s41586-020-2649-2\">0.1038/s41586-020-2649-2</a>. (<a href=\"https://www.nature.com/articles/s41586-020-2649-2\">Publisher link</a>).</p>\n",
    "</body>"
   ]
  }
 ],
 "metadata": {
  "kernelspec": {
   "display_name": "Python 3",
   "language": "python",
   "name": "python3"
  },
  "language_info": {
   "codemirror_mode": {
    "name": "ipython",
    "version": 3
   },
   "file_extension": ".py",
   "mimetype": "text/x-python",
   "name": "python",
   "nbconvert_exporter": "python",
   "pygments_lexer": "ipython3",
   "version": "3.9.5"
  }
 },
 "nbformat": 4,
 "nbformat_minor": 5
}
