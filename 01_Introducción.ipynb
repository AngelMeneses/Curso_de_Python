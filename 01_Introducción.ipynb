{
 "cells": [
  {
   "cell_type": "markdown",
   "id": "6c99c513",
   "metadata": {},
   "source": [
    "# Introducción a Python\n",
    "\n",
    "<hr>\n",
    "\n",
    "Angel Daniel Duarte Meneses (angel.duarte0117@gmail.com)\n",
    "\n",
    "Este material es sólo para fines académicos. \n",
    "\n",
    "Última actualización: 21/06/2021."
   ]
  },
  {
   "cell_type": "markdown",
   "id": "275121ef",
   "metadata": {},
   "source": [
    "<body>\n",
    "<div>\n",
    "    <center><h1 style='background:blue; border:0; color:white'><br>Tabla de contenido<br></h1></center>\n",
    "    <ul>\n",
    "        <li><a href=\"#Python\">Python</a></li>\n",
    "        <li><a href=\"#Tipos-de-datos\">Tipos de datos</a></li>\n",
    "        <ul>\n",
    "            <li> <a href=\"#Datos-Numéricos\">Datos Numéricos</a></li>\n",
    "            <li> <a href=\"#Caracteres\">Caracteres</a></li>\n",
    "            <li> <a href=\"#Datos-Lógicos-o-Booleanos\">Datos Lógicos o Booleanos</a></li>\n",
    "            <li> <a href=\"#Datos-Secuenciales\">Datos Secuenciales</a>\n",
    "            <ul>\n",
    "                <li> <a href=\"#Listas\">Listas</a></li>\n",
    "                <li> <a href=\"#Tuplas\">Tuplas</a></li>\n",
    "                <li> <a href=\"#Rangos\">Rangos</a></li>\n",
    "            </ul> \n",
    "            </li>\n",
    "            <li> <a href=\"#Diccionarios\">Diccionarios</a> </li>\n",
    "            <li> <a href=\"#Conjuntos-(sets)\">Conjuntos</a> </li>\n",
    "        </ul> \n",
    "        <li><a href=\"#Operadores\">Operadores</a>\n",
    "        <ul>\n",
    "            <li> <a href=\"#Operadores-aritméticos\">Operadores aritméticos</a></li>\n",
    "            <li> <a href=\"#Operadores-de-comparación\">Operadores de comparación</a></li>\n",
    "            <li> <a href=\"#Operadores-lógicos\">Operadores lógicos</a></li>\n",
    "            <li> <a href=\"#Operadores-de-asignación\">Operadores de asignación</a></li>\n",
    "            <li> <a href=\"#Operadores-de-pertenencia\">Operadores de pertenencia</a></li>\n",
    "        </ul> \n",
    "        </li>\n",
    "        <li><a href=\"#Funciones-Integradas-(Funciones-Built-in)\">Funciones Integradas (Funciones Built-in)</a></li>\n",
    "        <li><a href=\"#Entrada-por-Pantalla\">Entrada por Pantalla</a></li>\n",
    "        <li><a href=\"#Referencias\">Referencias</a></li>\n",
    "    </ul>\n",
    "</div>\n",
    "</body>"
   ]
  },
  {
   "cell_type": "markdown",
   "id": "c7b29f23",
   "metadata": {},
   "source": [
    "## Python\n",
    "\n",
    "Páginas oficiales de Python, Jupyter notebook y demás: \n",
    "<ul>\n",
    "    <li>Python: <a href=\"https://www.python.org/ \">  https://www.python.org/ </a> </li>\n",
    "<li>Jupyter Notebook: <a href=\"https://jupyter.org/\"> https://jupyter.org/  </a> </li>\n",
    "<li>Python en línea (Google Colaboratory): <a href=\"https://colab.research.google.com/\"> https://colab.research.google.com/ </a> </li> \n",
    "<li>Otros editores de texto: \n",
    "    <ul>\n",
    "    <li>Sublime Text: <a href=\"https://www.sublimetext.com/\"> https://www.sublimetext.com/  </a> </li>  \n",
    "    <li>Spyder: <a href=\"https://www.spyder-ide.org/\"> https://www.spyder-ide.org/ </a> </li>\n",
    "    <li>Visual Studio Code: <a href=\"https://code.visualstudio.com/\"> https://code.visualstudio.com/ </a> </li>  \n",
    "    <li>y más.</li>  \n",
    "    </ul>\n",
    "</li>\n",
    "</ul>"
   ]
  },
  {
   "cell_type": "markdown",
   "id": "97fe8395",
   "metadata": {},
   "source": [
    "\n",
    "<div class=\"alert alert-info\"><b> Consideraciones de sintaxis:  </b>  \n",
    "    <ul>\n",
    "        <li>La extensión de un archivo en python es <mark class=\"white\">.py</mark>, en jupyter notebook es <mark class=\"white\">.ipynb</mark>.</li>\n",
    "    <li>Es un lenguaje case-sensitive, es decir, hace diferenciación entre mayúsculas y minúsculas.</li>\n",
    "    <li>Al crear una variable no se debe empezar por un número y no introducir espacios intermedios.</li>\n",
    "    <li>Para indicar el decimal de algún número es con punto y no coma.</li>    \n",
    "    <li>Los comentarios se crean con el símbolo <mark class=\"white\">#</mark>.</li>    \n",
    "    <li>Hay palabra reservada como <mark class=\"white\">def</mark>, no deben ser usadas para crear algún objeto.</li>    \n",
    "    </ul>\n",
    "</div>"
   ]
  },
  {
   "cell_type": "code",
   "execution_count": null,
   "id": "7598cbed",
   "metadata": {},
   "outputs": [],
   "source": [
    "# Esto es un comentario.\n",
    "## Con el '=' se asigna valores a las variables.\n",
    "\n",
    "x = 2 # Se pueden hacer comentarios en la misma linea de código."
   ]
  },
  {
   "cell_type": "markdown",
   "id": "5259a9d4",
   "metadata": {},
   "source": [
    "## Tipos de datos\n",
    "\n",
    "Python tiene diversos tipos de datos, principalmente se tienen:\n",
    "\n",
    "- Numéricos: entero (int), decimal (float) y los números complejos (complex).\n",
    "- Cadenas de caracteres (str).\n",
    "- Datos lógicos (booleanos, bool).\n",
    "- Secuencias: Listas (list), Tuplas (tuple) y rangos (range).\n",
    "- Diccionarios (dict).\n",
    "- Conjuntos (set).\n",
    "- y más."
   ]
  },
  {
   "cell_type": "markdown",
   "id": "cc61efa4",
   "metadata": {},
   "source": [
    "### Datos Numéricos"
   ]
  },
  {
   "cell_type": "markdown",
   "id": "3be73645",
   "metadata": {},
   "source": [
    "Los números enteros son de tipo `int`, y la función `int()` convierte un valor numérico a entero."
   ]
  },
  {
   "cell_type": "code",
   "execution_count": null,
   "id": "39e86edf",
   "metadata": {
    "scrolled": false
   },
   "outputs": [],
   "source": [
    "x = 2\n",
    "type(x) # type(): para ver que tipo de dato es."
   ]
  },
  {
   "cell_type": "code",
   "execution_count": null,
   "id": "fb4afc7a",
   "metadata": {},
   "outputs": [],
   "source": [
    "x = 2.6\n",
    "x = int(x) # Para convertir el 2.6 en entero se usa la función int().\n",
    "print(x, type(x))"
   ]
  },
  {
   "cell_type": "markdown",
   "id": "e0cf535c",
   "metadata": {},
   "source": [
    "Los números decimales o punto flotante son del tipo `float`, y la función `float()` convierte un valor numérico a decimal."
   ]
  },
  {
   "cell_type": "code",
   "execution_count": null,
   "id": "25d03df3",
   "metadata": {},
   "outputs": [],
   "source": [
    "x = 2.2 \n",
    "type(x)"
   ]
  },
  {
   "cell_type": "code",
   "execution_count": null,
   "id": "d3328437",
   "metadata": {
    "scrolled": true
   },
   "outputs": [],
   "source": [
    "x = 2\n",
    "x = float(x) # Para convertir el 2 en punto flotante se usa la función float().\n",
    "print(x, type(x))"
   ]
  },
  {
   "cell_type": "markdown",
   "id": "3603f5db",
   "metadata": {
    "scrolled": true
   },
   "source": [
    "Los números complejos en Python su parte imaginaria se expresa con `j` y no con `i`; y la función `complex()` convierte un valor numérico a complejo."
   ]
  },
  {
   "cell_type": "code",
   "execution_count": null,
   "id": "339a6bb3",
   "metadata": {},
   "outputs": [],
   "source": [
    "x = 1 + 2j\n",
    "type(x)"
   ]
  },
  {
   "cell_type": "code",
   "execution_count": null,
   "id": "d33521f8",
   "metadata": {
    "scrolled": true
   },
   "outputs": [],
   "source": [
    "x = 1\n",
    "complex(x)"
   ]
  },
  {
   "cell_type": "markdown",
   "id": "3ccce3ce",
   "metadata": {},
   "source": [
    "- En resumen, se tienen los siguientes tipos de datos:"
   ]
  },
  {
   "cell_type": "code",
   "execution_count": null,
   "id": "62928147",
   "metadata": {
    "scrolled": true
   },
   "outputs": [],
   "source": [
    "x,y,w = 2, 2.2, 1+2j # Se puede asignar varias variables en una misma linea.\n",
    "print(type(x),type(y), type(w))"
   ]
  },
  {
   "cell_type": "code",
   "execution_count": null,
   "id": "32790572",
   "metadata": {},
   "outputs": [],
   "source": [
    "print(int(2.8))     # Le quita la parte décimal.\n",
    "print(float(2))     # Lo convierte en décimal o en un punto flotante.  \n",
    "print(complex(2.2)) # No tiene parte real, por tanto genera 2.2 + 0j"
   ]
  },
  {
   "cell_type": "markdown",
   "id": "f4ea3bf5",
   "metadata": {},
   "source": [
    "### Caracteres"
   ]
  },
  {
   "cell_type": "markdown",
   "id": "f6922585",
   "metadata": {},
   "source": [
    "Los datos tipo carácter (string) son palabras o incluso textos, y la función `str()` convierte cualquier valor en un carácter."
   ]
  },
  {
   "cell_type": "code",
   "execution_count": null,
   "id": "db45d600",
   "metadata": {},
   "outputs": [],
   "source": [
    "x = 'aoi'\n",
    "type(x)"
   ]
  },
  {
   "cell_type": "code",
   "execution_count": null,
   "id": "94da8db1",
   "metadata": {},
   "outputs": [],
   "source": [
    "x = 'Los caracteres (strings) son palabras o incluso textos'\n",
    "type(x)"
   ]
  },
  {
   "cell_type": "code",
   "execution_count": null,
   "id": "6328514d",
   "metadata": {},
   "outputs": [],
   "source": [
    "x = 2\n",
    "x = str(x)    # Para convertir en caracter se usa la función str().\n",
    "print(x, type(x))"
   ]
  },
  {
   "cell_type": "markdown",
   "id": "12bb9dfb",
   "metadata": {},
   "source": [
    "Cuando un carácter es multiplicado por un número, esto genera que el carácter se repita las veces del número, es decir"
   ]
  },
  {
   "cell_type": "code",
   "execution_count": null,
   "id": "9d7e7009",
   "metadata": {},
   "outputs": [],
   "source": [
    "'l'*4 # La letra 'l' se repite 4 veces."
   ]
  },
  {
   "cell_type": "markdown",
   "id": "58253c6d",
   "metadata": {},
   "source": [
    "### Datos Lógicos o Booleanos\n"
   ]
  },
  {
   "cell_type": "markdown",
   "id": "597dfe90",
   "metadata": {},
   "source": [
    "Los booleanos son aquellos donde se comprueba si la expresión o argumento es verdadero o falso. El Valor lógico verdadero, se escribe `True` y valor lógico falso sería `False`. Para comprobar si dos expresiones son iguales con `==`, si son diferentes con `!=`, y demás presentados a continuación."
   ]
  },
  {
   "cell_type": "code",
   "execution_count": null,
   "id": "6a324cff",
   "metadata": {},
   "outputs": [],
   "source": [
    "True  # Valor lógico verdadero.\n",
    "False  # Valor lógico falso."
   ]
  },
  {
   "cell_type": "code",
   "execution_count": null,
   "id": "3476fd5b",
   "metadata": {},
   "outputs": [],
   "source": [
    "x,y = 2,3\n",
    "x == y    # Para comprobar si son iguales con '=='. "
   ]
  },
  {
   "cell_type": "code",
   "execution_count": null,
   "id": "77789976",
   "metadata": {},
   "outputs": [],
   "source": [
    "x,y = 'gato','gato'\n",
    "x == y"
   ]
  },
  {
   "cell_type": "code",
   "execution_count": null,
   "id": "2cdcb540",
   "metadata": {},
   "outputs": [],
   "source": [
    "x,y = 2,3\n",
    "x != y    # Para comprobar si son diferentes con '!='. "
   ]
  },
  {
   "cell_type": "code",
   "execution_count": null,
   "id": "1542ea71",
   "metadata": {},
   "outputs": [],
   "source": [
    "x,y = 'gato','gato'\n",
    "x != y"
   ]
  },
  {
   "cell_type": "code",
   "execution_count": null,
   "id": "e6845e79",
   "metadata": {},
   "outputs": [],
   "source": [
    "x,y = 2,3\n",
    "x > y    # Para comprobar si es mayor con '>'. "
   ]
  },
  {
   "cell_type": "code",
   "execution_count": null,
   "id": "509245bb",
   "metadata": {},
   "outputs": [],
   "source": [
    "x,y = 2,3\n",
    "x < y    # Para comprobar si es menor con '<'. "
   ]
  },
  {
   "cell_type": "code",
   "execution_count": null,
   "id": "d2bb3228",
   "metadata": {},
   "outputs": [],
   "source": [
    "x,y = 2,3\n",
    "x >= y    # Para comprobar si es mayor o igual con '>='. "
   ]
  },
  {
   "cell_type": "code",
   "execution_count": null,
   "id": "db6ccb76",
   "metadata": {},
   "outputs": [],
   "source": [
    "x,y = 2,3\n",
    "x <= y    # Para comprobar si es menor o igual con '<='. "
   ]
  },
  {
   "cell_type": "markdown",
   "id": "df89aa1e",
   "metadata": {},
   "source": [
    "Además, para combinar los valores lógicos, siguiendo la lógica clásica, existen los operadores `and`, `or` y `not`. Es decir, conjunción, disyunción y negación, respectivamente."
   ]
  },
  {
   "cell_type": "code",
   "execution_count": null,
   "id": "2408096a",
   "metadata": {},
   "outputs": [],
   "source": [
    "# Se pueden armar tablas de verdad con 'and', 'or' y 'not'\n",
    "True and True # Es True.\n",
    "False or True # Es True.\n",
    "(True and False) or (False or False) # Es False."
   ]
  },
  {
   "cell_type": "markdown",
   "id": "9a5d59d5",
   "metadata": {},
   "source": [
    "## Datos Secuenciales"
   ]
  },
  {
   "cell_type": "markdown",
   "id": "16a810b9",
   "metadata": {},
   "source": [
    "### Listas\n",
    "\n",
    "Una lista es un *arreglo* (más o menos), que contiene varios datos pueden ser numéricos, caracteres, ... \n",
    "\n",
    "La sintaxis es:\n",
    "\n",
    "```python\n",
    "Lista = [elementos separados por comas]\n",
    "```\n",
    "\n",
    "\n",
    "<div class=\"alert alert-info\"><b> Consideraciones:  </b>  \n",
    "    <ul>\n",
    "    <li> <b> Son heterogéneas: </b> pueden tener elementos de diferentes tipos y incluso listas.</li>\n",
    "    <li> <b>Son mutables: </b> sus elementos se pueden modificar.  </li>    \n",
    "    </ul>\n",
    "</div>\n"
   ]
  },
  {
   "cell_type": "code",
   "execution_count": null,
   "id": "0207fdda",
   "metadata": {},
   "outputs": [],
   "source": [
    "# Listas de los primeros números pares\n",
    "pares = [2,4,6,8,10,12,14,16,18,20]\n",
    "type(pares)"
   ]
  },
  {
   "cell_type": "markdown",
   "id": "0a7e7048",
   "metadata": {},
   "source": [
    "Se puede tener listas de listas:"
   ]
  },
  {
   "cell_type": "code",
   "execution_count": null,
   "id": "f72be291",
   "metadata": {},
   "outputs": [],
   "source": [
    "List = [[1,2], [2,4]]\n",
    "List"
   ]
  },
  {
   "cell_type": "markdown",
   "id": "e802c12c",
   "metadata": {},
   "source": [
    "Se puede tener una lista con diferentes tipos de datos en su interior"
   ]
  },
  {
   "cell_type": "code",
   "execution_count": null,
   "id": "1720f559",
   "metadata": {},
   "outputs": [],
   "source": [
    "List = ['aoi', 2, 'dark', 2.2]"
   ]
  },
  {
   "cell_type": "markdown",
   "id": "6d50d6b2",
   "metadata": {},
   "source": [
    "Además, se puede acceder a los elementos de una lista mediante un indice, que inicia desde 0, y si se desea extraer los elementos desde el final, el último elemento tiene el indice -1, es decir:"
   ]
  },
  {
   "cell_type": "code",
   "execution_count": null,
   "id": "79d47bd3",
   "metadata": {},
   "outputs": [],
   "source": [
    "List[2]"
   ]
  },
  {
   "cell_type": "code",
   "execution_count": null,
   "id": "208bfb05",
   "metadata": {},
   "outputs": [],
   "source": [
    "List[-1]"
   ]
  },
  {
   "cell_type": "markdown",
   "id": "22898135",
   "metadata": {},
   "source": [
    "Para mostrar la longitud de una lista, se hace uso de la función `len`. Una gran consideración, es que los índices inician desde 0 entonces el tamaño de la lista es la longitud menos uno."
   ]
  },
  {
   "cell_type": "code",
   "execution_count": null,
   "id": "fea8bd3d",
   "metadata": {},
   "outputs": [],
   "source": [
    "len(List)"
   ]
  },
  {
   "cell_type": "markdown",
   "id": "52564f52",
   "metadata": {},
   "source": [
    "### Tuplas\n",
    "\n",
    "Las tuplas son datos agrupados como las listas, la principal diferencia es que estas son inmutables, es decir, no se pueden modificar después de ser creadas. También, para crear una tupla por ejemplo a partir de una lista, se hace uso de la función `tuple()`."
   ]
  },
  {
   "cell_type": "code",
   "execution_count": null,
   "id": "d731ece9",
   "metadata": {},
   "outputs": [],
   "source": [
    "x = (2,3,4)\n",
    "type(x)"
   ]
  },
  {
   "cell_type": "code",
   "execution_count": null,
   "id": "a5f7aff3",
   "metadata": {
    "scrolled": true
   },
   "outputs": [],
   "source": [
    "tuple([1,2,3,4])"
   ]
  },
  {
   "cell_type": "markdown",
   "id": "71757309",
   "metadata": {},
   "source": [
    "### Rangos\n",
    "\n",
    "Los rangos (range) es una lista inmutable que genera números enteros siguiendo sucesión aritmética.\n"
   ]
  },
  {
   "cell_type": "code",
   "execution_count": null,
   "id": "1f85d1dc",
   "metadata": {},
   "outputs": [],
   "source": [
    "x = range(2)\n",
    "type(x)"
   ]
  },
  {
   "cell_type": "code",
   "execution_count": null,
   "id": "7b61ef96",
   "metadata": {},
   "outputs": [],
   "source": [
    "# Se generan los números desde 0 al 10\n",
    "range(11)"
   ]
  },
  {
   "cell_type": "code",
   "execution_count": null,
   "id": "c157421b",
   "metadata": {},
   "outputs": [],
   "source": [
    "# Para ver los números en el rango, convertirlo en una lista.\n",
    "list(range(11))"
   ]
  },
  {
   "cell_type": "markdown",
   "id": "03ccaffe",
   "metadata": {},
   "source": [
    "El número inicial de la lista siempre es cero de forma predeterminada, para cambiarlo, se introduce el intervalo que se desea"
   ]
  },
  {
   "cell_type": "code",
   "execution_count": null,
   "id": "4e5aa785",
   "metadata": {},
   "outputs": [],
   "source": [
    "list(range(-2,6))"
   ]
  },
  {
   "cell_type": "markdown",
   "id": "bb380794",
   "metadata": {},
   "source": [
    "Siempre la diferencia de los números de la lista es de 1, para cambiarlo, se agrega una tercera condición"
   ]
  },
  {
   "cell_type": "code",
   "execution_count": null,
   "id": "4f3770c9",
   "metadata": {},
   "outputs": [],
   "source": [
    "list(range(-2,6,2)) # va en dos en dos."
   ]
  },
  {
   "cell_type": "markdown",
   "id": "1ce849bf",
   "metadata": {},
   "source": [
    "### Diccionarios\n",
    "\n",
    "Los diccionarios (dict )contienen una variables clave (inmutables) que poseen un valor (mutables), sin orden. La sintaxis es la siguiente:\n",
    "\n",
    "```python\n",
    " { key1:value1 , key2:value2 , key3:value3 , ...}\n",
    " \n",
    "```"
   ]
  },
  {
   "cell_type": "code",
   "execution_count": null,
   "id": "7afdcbc1",
   "metadata": {
    "scrolled": true
   },
   "outputs": [],
   "source": [
    "diccionario = {'azul':1, 'rojo':2, 'verde':4}\n",
    "type(diccionario)"
   ]
  },
  {
   "cell_type": "code",
   "execution_count": null,
   "id": "db886c55",
   "metadata": {},
   "outputs": [],
   "source": [
    "diccionario"
   ]
  },
  {
   "cell_type": "code",
   "execution_count": null,
   "id": "55aba87b",
   "metadata": {
    "scrolled": true
   },
   "outputs": [],
   "source": [
    "diccionario['rojo']"
   ]
  },
  {
   "cell_type": "code",
   "execution_count": null,
   "id": "a5714785",
   "metadata": {},
   "outputs": [],
   "source": [
    "# Se pueden cambiar los valores reasignando según la variable clave\n",
    "diccionario['rojo'] = 3\n",
    "diccionario"
   ]
  },
  {
   "cell_type": "code",
   "execution_count": null,
   "id": "b62c5bbf",
   "metadata": {},
   "outputs": [],
   "source": [
    "# Crear un diccionario sin elementos, hay dos opciones equivalentes:\n",
    "diccionario = {}\n",
    "diccionario = dict()"
   ]
  },
  {
   "cell_type": "code",
   "execution_count": null,
   "id": "619f751a",
   "metadata": {},
   "outputs": [],
   "source": [
    "# Los valores de las variables clave pueden ser de distintos tipos\n",
    "diccionario = {\n",
    "        \"key1\":117,\n",
    "        \"key2\":[1,2,4],\n",
    "        \"key3\":\"Hola\",\n",
    "        \"key4\":False\n",
    "        }\n",
    "type(diccionario)"
   ]
  },
  {
   "cell_type": "markdown",
   "id": "d36d26ec",
   "metadata": {},
   "source": [
    "### Conjuntos (sets)\n",
    "\n",
    "Los conjuntos al igual que las listas son datos agrupados, hay dos tipos de conjuntos los creados con `set()` o `{}` y los creados con `frozenset()`, el primero es mutable y el segundo inmutable. Son datos no ordenados, puede contener datos de diferentes tipos, incluso contener otro conjunto, y la mayor característica es que no hay duplicados.\n"
   ]
  },
  {
   "cell_type": "code",
   "execution_count": null,
   "id": "465b7245",
   "metadata": {
    "scrolled": true
   },
   "outputs": [],
   "source": [
    "a = {1,1,2,2,3} # Equivalente: a = set{1,1,2,2,3}\n",
    "a"
   ]
  },
  {
   "cell_type": "code",
   "execution_count": null,
   "id": "9438c8b7",
   "metadata": {},
   "outputs": [],
   "source": [
    "type(a)"
   ]
  },
  {
   "cell_type": "code",
   "execution_count": null,
   "id": "9582d27a",
   "metadata": {},
   "outputs": [],
   "source": [
    "a = frozenset({1,2,3,4,4})\n",
    "type(a)"
   ]
  },
  {
   "cell_type": "markdown",
   "id": "546c2760",
   "metadata": {},
   "source": [
    "\n",
    "## Operadores\n"
   ]
  },
  {
   "cell_type": "markdown",
   "id": "fed2cab6",
   "metadata": {},
   "source": [
    "### Operadores aritméticos\n",
    "- **Adición:**  `+`\n",
    "- **Sustracción:** `-`\n",
    "- **Multiplicación:** `*`\n",
    "- **División:** `/`\n",
    "- **Floor division:** `//`\n",
    "- **Módulo:** `%`\n",
    "- **Potencia:** `**`"
   ]
  },
  {
   "cell_type": "markdown",
   "id": "87e9777c",
   "metadata": {},
   "source": [
    "### Operadores de comparación\n",
    "- **Igualdad:** `==`\n",
    "- **Mayor que:** `>`\n",
    "- **Menor que:** `<`\n",
    "- **Mayor o igual que:** `>=`\n",
    "- **Menor o igual que:** `<=`\n",
    "- **Diferente de:** `!=`"
   ]
  },
  {
   "cell_type": "markdown",
   "id": "77d716b1",
   "metadata": {},
   "source": [
    "### Operadores de asignación\n",
    "- **Asignación:** `=`\n",
    "- **Sustraer:** `-=`\n",
    "- **Adición:** `+=`\n",
    "- **División:** `/=`\n",
    "- **Multiplicación:** `*=`\n",
    "- **Modulo:** `%=`\n",
    "- **División entera:** `//=`\n",
    "- **Potencia:** `**=`"
   ]
  },
  {
   "cell_type": "markdown",
   "id": "78c37eaa",
   "metadata": {},
   "source": [
    "### Operadores lógicos\n",
    "- Verdadero si ambos operandos son verdaderos: `and` \n",
    "- Verdadero si cualquiera de los operandos es verdadero: `or`\n",
    "- Negación: `not`"
   ]
  },
  {
   "cell_type": "markdown",
   "id": "c8465e79",
   "metadata": {},
   "source": [
    "### Operadores de pertenencia\n",
    "-  Genera True si el valor especificado se encuentra: `in`\n",
    "-  Genera True si el valor especificado no se encuentra: `not in`\n",
    "\n"
   ]
  },
  {
   "cell_type": "markdown",
   "id": "b59cabb4",
   "metadata": {},
   "source": [
    "## Funciones Integradas (Funciones Built-in)\n",
    "\n",
    "Python trae consigo funciones sin tener que llamar librerías, bibliotecas o módulos. \n",
    "\n",
    "- Profundizar con: https://docs.python.org/es/3.8/library/functions.html\n",
    "\n",
    "Algunas  de ellas son:"
   ]
  },
  {
   "cell_type": "markdown",
   "id": "67814217",
   "metadata": {},
   "source": [
    "- Convierte de entero a binario:  `bin()`\n",
    "- Convierte de entero a hexadecimal: `hex()`\n",
    "- Valor absoluto de un número: `abs()`\n",
    "- Aproxima un número decimal a entero; si la parte decimal es menor a .5 aproxima hacia abajo, y si es mayor o igual a .5 hacia arriba: `round()`\n",
    "- Calcula la longitud: `len()`\n",
    "- Abre el menú de ayuda: `help()`\n",
    "- Muestra el tipo de dato: `type()`\n",
    "- Pide texto escrito por teclado: `input()`\n",
    "- Convierte un número a entero: `int()`\n",
    "- Convierte un número a punto flotante: `float()`\n",
    "- y más."
   ]
  },
  {
   "cell_type": "markdown",
   "id": "71741737",
   "metadata": {},
   "source": [
    "## Entrada por Pantalla\n",
    "\n",
    "Es la forma en la que se pide un dato, para ello existe la función `input()`."
   ]
  },
  {
   "cell_type": "code",
   "execution_count": null,
   "id": "2b098f6c",
   "metadata": {},
   "outputs": [],
   "source": [
    "## input(): pedir un dato por pantalla\n",
    "x = input()\n",
    "type(x)"
   ]
  },
  {
   "cell_type": "markdown",
   "id": "a0546eb2",
   "metadata": {},
   "source": [
    "La función `input()` se puede colocar texto dentro para especificar lo que se quiere:"
   ]
  },
  {
   "cell_type": "code",
   "execution_count": null,
   "id": "8e67de8c",
   "metadata": {},
   "outputs": [],
   "source": [
    "edad = int(input('Ingrese su edad: '))\n",
    "type(edad)"
   ]
  },
  {
   "cell_type": "markdown",
   "id": "9f042a29",
   "metadata": {},
   "source": [
    "Una gran consideración es que todos los datos ingresados por `input()` siempre son de tipo carácter, por tanto, se puede rodear esta función con `int()`, `float()` y demás, dependiendo de lo que se desea."
   ]
  },
  {
   "cell_type": "code",
   "execution_count": null,
   "id": "1ad3cf74",
   "metadata": {},
   "outputs": [],
   "source": [
    "edad = int(input('Ingrese su edad: '))\n",
    "peso = float(input('Ingrese su peso: '))"
   ]
  },
  {
   "cell_type": "markdown",
   "id": "be0195d9",
   "metadata": {},
   "source": [
    "## Versión de Python"
   ]
  },
  {
   "cell_type": "code",
   "execution_count": null,
   "id": "c4dc0ba7",
   "metadata": {},
   "outputs": [],
   "source": [
    "import sys\n",
    "print(sys.version)"
   ]
  },
  {
   "cell_type": "markdown",
   "id": "e5b8a87f",
   "metadata": {},
   "source": [
    "## Referencias"
   ]
  },
  {
   "cell_type": "markdown",
   "id": "1d2b59cd",
   "metadata": {},
   "source": [
    "<body>\n",
    "<p class=\"citation\", style = \"text-indent:-30px; Position:relative; padding-left:40px; font-size:14px\">Python Software Foundation. Python Language Reference, version 3.9.5. Available at <a href=\"http://www.python.org\">http://www.python.org</a>. </p>\n",
    "\n",
    "<p class=\"citation\", style = \"text-indent:-30px;Position: relative;\tpadding-left: 40px;font-size:14px\"> Van Rossum, G., & Drake, F. L. (2009). <em> Python 3 Reference Manual</em>. Scotts Valley, CA: CreateSpace.</p>\n",
    "\n",
    "<p class=\"citation\", style = \"text-indent:-30px;Position: relative;\tpadding-left: 40px;font-size:14px\"> Fernando Pérez, Brian E. Granger, <em> IPython: A System for Interactive Scientific Computing</em>, Computing in Science and Engineering, vol. 9, no. 3, pp. 21-29, May/June 2007, <a href=\"doi:10.1109/MCSE.2007.53\">doi:10.1109/MCSE.2007.53</a>. URL: <a href=\"https://ipython.org\">https://ipython.org</a>. </p>\n",
    "</body>"
   ]
  }
 ],
 "metadata": {
  "kernelspec": {
   "display_name": "Python 3",
   "language": "python",
   "name": "python3"
  },
  "language_info": {
   "codemirror_mode": {
    "name": "ipython",
    "version": 3
   },
   "file_extension": ".py",
   "mimetype": "text/x-python",
   "name": "python",
   "nbconvert_exporter": "python",
   "pygments_lexer": "ipython3",
   "version": "3.9.5"
  }
 },
 "nbformat": 4,
 "nbformat_minor": 5
}
