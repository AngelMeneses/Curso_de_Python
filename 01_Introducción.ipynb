{
 "cells": [
  {
   "cell_type": "markdown",
   "id": "25f4e890",
   "metadata": {},
   "source": [
    "Author: Angel Daniel Duarte Meneses. \n",
    "\n",
    "Last Update: 16/06/2021.\n",
    "\n",
    "This material is for academic purposes only.\n"
   ]
  },
  {
   "cell_type": "markdown",
   "id": "275121ef",
   "metadata": {},
   "source": [
    "<div class=\"idc-box\">\n",
    "    <div class=\"list-group\" id=\"list-tab\" role=\"tablist\">\n",
    "    <h2 class=\"list-group-item list-group-item-action active\" data-toggle=\"list\" style='background:blue; border:0; color:white' role=\"tab\" aria-controls=\"home\"><center>Tabla de contenidos</center></h2> </div>\n",
    "    <ul class=\"idc-lista\">\n",
    "        <li><a href=\"#Python\">Python</a></li>\n",
    "        <li><a href=\"#Tipos-de-datos\">Tipos de datos</a></li>\n",
    "        <ul>\n",
    "            <li> <a href=\"#Numéricos\">Numéricos</a></li>\n",
    "            <li> <a href=\"#Caracteres\">Caracteres</a></li>\n",
    "            <li> <a href=\"#Datos-lógicos-o-Booleanos\">Datos lógicos o Booleanos</a></li>\n",
    "        </ul> \n",
    "        <li><a href=\"##Operadores\">Operadores</a>\n",
    "        <ul>\n",
    "            <li> <a href=\"#Operadores-aritméticos\">Operadores aritméticos</a></li>\n",
    "            <li> <a href=\"#Operadores-de-comparación\">Operadores de comparación</a></li>\n",
    "            <li> <a href=\"#Operadores-lógicos\">Operadores lógicos</a></li>\n",
    "            <li> <a href=\"#Operadores-de-asignación\">Operadores de asignación</a></li>\n",
    "        </ul> \n",
    "        </li>\n",
    "    </ul>\n",
    "</div>"
   ]
  },
  {
   "cell_type": "markdown",
   "id": "23f094a0",
   "metadata": {},
   "source": [
    "## Python\n",
    "\n",
    "<b> Historia de Python: </b>  https://platzi.com/blog/historia-python/ \n",
    "\n",
    "<b> Descargar Python: </b> \n",
    "<ul>\n",
    "    <li>Python: <a href=\"url\">  https://www.python.org/ </a> </li>\n",
    "<li>Jupyter Notebook: \n",
    "    <ul>\n",
    "    <li>Página oficial: <a href=\"url\"> https://jupyter.org/  </a> </li>\n",
    "    <li>Guía: <a href=\"url\"> https://www.educba.com/install-jupyter-notebook/  </a> </li>\n",
    "    <li>Guía complementaria: <a href=\"url\"> http://facundoq.github.io/courses/images/jupyter.html </a> </li>    \n",
    "    </ul>\n",
    "</li>\n",
    "<li>Otros editores de texto: \n",
    "    <ul>\n",
    "    <li>Sublime Text: <a href=\"url\"> https://www.sublimetext.com/  </a> </li>  \n",
    "    <li>Spyder: <a href=\"url\"> https://www.spyder-ide.org/ </a> </li>\n",
    "    <li>Visual Studio Code: <a href=\"url\"> https://code.visualstudio.com/ </a> </li>  \n",
    "    <li>y más.</li>  \n",
    "    </ul>\n",
    "</li>\n",
    "</ul>\n",
    "\n",
    "<div class=\"alert alert-info\"><b> Consideraciones:  </b>  \n",
    "    <ul>\n",
    "    <li>La extensión de archivo es '.py', en jupyter notebook es '.ipynb'.</li>\n",
    "    <li>Lenguaje case-sensitive, no empezar por un número y no tener espacios.</li>\n",
    "    <li>Comentarios se crean con el símbolo '#'.</li>    \n",
    "    <li>Hay palabra reservada como 'def', no deben ser usadas para crear algún objeto.</li>    \n",
    "    <li>Para indicar el decimal de algún número es con punto y no coma.</li>    \n",
    "    </ul>\n",
    "</div>\n",
    "\n",
    "\n"
   ]
  },
  {
   "cell_type": "code",
   "execution_count": null,
   "id": "7598cbed",
   "metadata": {},
   "outputs": [],
   "source": [
    "# Esto es un comentario.\n",
    "## Con el '=' se asigna valores a las variables.\n",
    "\n",
    "x = 2 # Comentarios en la misma linea."
   ]
  },
  {
   "cell_type": "markdown",
   "id": "5259a9d4",
   "metadata": {},
   "source": [
    "## Tipos de datos\n",
    "\n",
    "Python tiene diversos tipos de datos, principalmente se tienen:\n",
    "\n",
    "- Numéricos: entero (int), decimal (float) y los números complejos (complex).\n",
    "- Cadenas de caracteres (str).\n",
    "- Datos lógicos (booleanos, bool).\n",
    "- Secuencias: Listas (list), Tuplas (tuple) y rangos (range).\n",
    "- Diccionarios (dict).\n",
    "- Conjuntos (set).\n",
    "- y más."
   ]
  },
  {
   "cell_type": "markdown",
   "id": "cc61efa4",
   "metadata": {},
   "source": [
    "### Numéricos"
   ]
  },
  {
   "cell_type": "code",
   "execution_count": null,
   "id": "39e86edf",
   "metadata": {},
   "outputs": [],
   "source": [
    "x = 2\n",
    "type(x) # Para ver que tipo de dato es se usa la función type."
   ]
  },
  {
   "cell_type": "code",
   "execution_count": null,
   "id": "25d03df3",
   "metadata": {},
   "outputs": [],
   "source": [
    "x = 2.2 \n",
    "type(x)"
   ]
  },
  {
   "cell_type": "code",
   "execution_count": null,
   "id": "b737bd6a",
   "metadata": {},
   "outputs": [],
   "source": [
    "x = 2.2\n",
    "x = int(x) # Para convertir el 2.2 en entero se usa la función int().\n",
    "print(x, type(x))"
   ]
  },
  {
   "cell_type": "code",
   "execution_count": null,
   "id": "47e95135",
   "metadata": {
    "scrolled": true
   },
   "outputs": [],
   "source": [
    "x = (2,1)\n",
    "type(x)"
   ]
  },
  {
   "cell_type": "code",
   "execution_count": null,
   "id": "339a6bb3",
   "metadata": {},
   "outputs": [],
   "source": [
    "x = 1 + 2j\n",
    "type(x)"
   ]
  },
  {
   "cell_type": "code",
   "execution_count": null,
   "id": "62928147",
   "metadata": {
    "scrolled": true
   },
   "outputs": [],
   "source": [
    "x,y,z,w = 2, 2.2, (2,1), 1+2j # Se puede asignar varias variables en una misma linea.\n",
    "print(type(x),type(y),type(z), type(w))"
   ]
  },
  {
   "cell_type": "code",
   "execution_count": null,
   "id": "32790572",
   "metadata": {},
   "outputs": [],
   "source": [
    "print(int(2.8))     # Le quita la parte décimal.\n",
    "print(float(2))     # Lo convierte en décimal o en un punto flotante.  \n",
    "print(complex(2.2)) # No tiene parte real, por tanto genera 2.2 + 0j"
   ]
  },
  {
   "cell_type": "markdown",
   "id": "f4ea3bf5",
   "metadata": {},
   "source": [
    "### Caracteres"
   ]
  },
  {
   "cell_type": "code",
   "execution_count": null,
   "id": "db45d600",
   "metadata": {},
   "outputs": [],
   "source": [
    "x = 'aoi'\n",
    "type(x)"
   ]
  },
  {
   "cell_type": "code",
   "execution_count": null,
   "id": "6328514d",
   "metadata": {},
   "outputs": [],
   "source": [
    "x = 2\n",
    "x = str(x)    # Para convertir en caracter se usa la función str().\n",
    "print(x, type('x'))"
   ]
  },
  {
   "cell_type": "markdown",
   "id": "58253c6d",
   "metadata": {},
   "source": [
    "### Datos lógicos o Booleanos\n"
   ]
  },
  {
   "cell_type": "code",
   "execution_count": null,
   "id": "3476fd5b",
   "metadata": {},
   "outputs": [],
   "source": [
    "x,y = 2,3\n",
    "x == y    # Para comprobar si son iguales con '=='. "
   ]
  },
  {
   "cell_type": "code",
   "execution_count": null,
   "id": "77789976",
   "metadata": {},
   "outputs": [],
   "source": [
    "x,y = 'gato','gato'\n",
    "x == y"
   ]
  },
  {
   "cell_type": "code",
   "execution_count": null,
   "id": "2cdcb540",
   "metadata": {},
   "outputs": [],
   "source": [
    "x,y = 2,3\n",
    "x != y    # Para comprobar si son diferentes con '!='. "
   ]
  },
  {
   "cell_type": "code",
   "execution_count": null,
   "id": "1542ea71",
   "metadata": {},
   "outputs": [],
   "source": [
    "x,y = 'gato','gato'\n",
    "x != y"
   ]
  },
  {
   "cell_type": "code",
   "execution_count": null,
   "id": "e6845e79",
   "metadata": {},
   "outputs": [],
   "source": [
    "x,y = 2,3\n",
    "x > y    # Para comprobar si es mayor con '>'. "
   ]
  },
  {
   "cell_type": "code",
   "execution_count": null,
   "id": "509245bb",
   "metadata": {},
   "outputs": [],
   "source": [
    "x,y = 2,3\n",
    "x < y    # Para comprobar si es menor con '<'. "
   ]
  },
  {
   "cell_type": "code",
   "execution_count": null,
   "id": "d2bb3228",
   "metadata": {},
   "outputs": [],
   "source": [
    "x,y = 2,3\n",
    "x >= y    # Para comprobar si es mayor o igual con '>='. "
   ]
  },
  {
   "cell_type": "code",
   "execution_count": null,
   "id": "db6ccb76",
   "metadata": {},
   "outputs": [],
   "source": [
    "x,y = 2,3\n",
    "x <= y    # Para comprobar si es menor o igual con '<='. "
   ]
  },
  {
   "cell_type": "code",
   "execution_count": null,
   "id": "0bd4a21a",
   "metadata": {
    "scrolled": true
   },
   "outputs": [],
   "source": [
    "True  # Valor lógico verdadero.\n",
    "False  # Valor lógico falso."
   ]
  },
  {
   "cell_type": "code",
   "execution_count": null,
   "id": "db164d2d",
   "metadata": {},
   "outputs": [],
   "source": [
    "# Se pueden armar tablas de verdad con 'and', 'or' y 'not'\n",
    "True and True # Es True.\n",
    "False or True # Es True.\n",
    "(True and False) or (False or False) # Es False."
   ]
  },
  {
   "cell_type": "markdown",
   "id": "546c2760",
   "metadata": {},
   "source": [
    "\n",
    "## Operadores\n"
   ]
  },
  {
   "cell_type": "markdown",
   "id": "fed2cab6",
   "metadata": {},
   "source": [
    "### Operadores aritméticos\n",
    "- **Adición:**  `+`\n",
    "- **Sustracción:** `-`\n",
    "- **Multiplicación:** `*`\n",
    "- **División:** `/`\n",
    "- **Floor division:** `//`\n",
    "- **Módulo:** `%`\n",
    "- **Potencia:** `**`"
   ]
  },
  {
   "cell_type": "markdown",
   "id": "87e9777c",
   "metadata": {},
   "source": [
    "### Operadores de comparación\n",
    "- **Igualdad:** `==`\n",
    "- **Mayor que:** `>`\n",
    "- **Menor que:** `<`\n",
    "- **Mayor o igual que:** `>=`\n",
    "- **Menor o igual que:** `<=`\n",
    "- **Diferente de:** `!=`"
   ]
  },
  {
   "cell_type": "markdown",
   "id": "d1d845a4",
   "metadata": {},
   "source": [
    "### Operadores lógicos\n",
    "- **Verdadero si ambos operandos son verdaderos:** `and` \n",
    "- **Verdadero si cualquiera de los operandos es verdadero:** `or`\n",
    "- **Negación:** `not`"
   ]
  },
  {
   "cell_type": "markdown",
   "id": "77d716b1",
   "metadata": {},
   "source": [
    "### Operadores de asignación\n",
    "- **Asignación:** `=`\n",
    "- **Sustraer:** `-=`\n",
    "- **Adición:** `+=`\n",
    "- **División:** `/=`\n",
    "- **Multiplicación:** `*=`\n",
    "- **Modulo:** `%=`\n",
    "- **División entera:** `//=`\n",
    "- **Potencia:** `**=`"
   ]
  },
  {
   "cell_type": "markdown",
   "id": "b0f3c395",
   "metadata": {},
   "source": []
  },
  {
   "cell_type": "markdown",
   "id": "9d280fe5",
   "metadata": {},
   "source": [
    "### Referencias\n",
    "\n",
    "<ol>\n",
    "    <li> <a href=\"url\"> https://www.python.org/ </a> </li>\n",
    "    <li> <a href=\"url\"> https://jupyter.org/ </a></li>\n",
    "    <li> <a href=\"url\"> https://github.com </a></li>\n",
    "    <li> <a href=\"url\"> https://www.anaconda.com/download/ </a></li>\n",
    "    <li> <a href=\"url\"> https://platzi.com/blog/historia-python/  </a></li>\n",
    "    <li> <a href=\"url\"> https://www.educba.com/install-jupyter-notebook/ </a></li>\n",
    "    <li> <a href=\"url\"> https://www.anaconda.com/download/ </a></li>\n",
    "    <li> <a href=\"url\"> http://facundoq.github.io/courses/images/jupyter.html </a></li>\n",
    "    <li> <a href=\"url\"> https://www.programiz.com/python-programming/operators  </a></li>\n",
    "    <li> <a href=\"url\"> https://www.sublimetext.com/ </a></li>\n",
    "    <li> <a href=\"url\"> https://www.spyder-ide.org/ </a></li>\n",
    "    <li> <a href=\"url\"> https://code.visualstudio.com/ </a></li>    \n",
    "</ol>"
   ]
  }
 ],
 "metadata": {
  "kernelspec": {
   "display_name": "Python 3",
   "language": "python",
   "name": "python3"
  },
  "language_info": {
   "codemirror_mode": {
    "name": "ipython",
    "version": 3
   },
   "file_extension": ".py",
   "mimetype": "text/x-python",
   "name": "python",
   "nbconvert_exporter": "python",
   "pygments_lexer": "ipython3",
   "version": "3.9.5"
  }
 },
 "nbformat": 4,
 "nbformat_minor": 5
}
