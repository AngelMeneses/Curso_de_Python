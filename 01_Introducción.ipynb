{
 "cells": [
  {
   "cell_type": "markdown",
   "id": "25f4e890",
   "metadata": {},
   "source": [
    "Author: Angel Daniel Duarte Meneses. \n",
    "\n",
    "First update: 16/06/2021.\n",
    "\n",
    "Last update: 17/06/2021.\n",
    "\n",
    "This material is for academic purposes only.\n"
   ]
  },
  {
   "cell_type": "markdown",
   "id": "275121ef",
   "metadata": {},
   "source": [
    "<div class=\"idc-box\">\n",
    "    <div class=\"list-group\" id=\"list-tab\" role=\"tablist\">\n",
    "    <h2 class=\"list-group-item list-group-item-action active\" data-toggle=\"list\" style='background:blue; border:0; color:white' role=\"tab\" aria-controls=\"home\"><center>Tabla de contenido</center></h2> </div>\n",
    "    <ul class=\"idc-lista\">\n",
    "        <li><a href=\"#Python\">Python</a></li>\n",
    "        <li><a href=\"#Tipos-de-datos\">Tipos de datos</a></li>\n",
    "        <ul>\n",
    "            <li> <a href=\"#Datos-Numéricos\">Datos Numéricos</a></li>\n",
    "            <li> <a href=\"#Caracteres\">Caracteres</a></li>\n",
    "            <li> <a href=\"#Datos-Lógicos-o-Booleanos\">Datos Lógicos o Booleanos</a></li>\n",
    "            <li> <a href=\"#Datos-Secuenciales\">Datos Secuenciales</a>\n",
    "            <ul>\n",
    "                <li> <a href=\"#Listas\">Listas</a></li>\n",
    "                <li> <a href=\"#Tuplas\">Tuplas</a></li>\n",
    "                <li> <a href=\"#Rangos\">Rangos</a></li>\n",
    "            </ul> \n",
    "            </li>\n",
    "            <li> <a href=\"#Diccionarios\">Diccionarios</a> </li>\n",
    "        </ul> \n",
    "        <li><a href=\"##Operadores\">Operadores</a>\n",
    "        <ul>\n",
    "            <li> <a href=\"#Operadores-aritméticos\">Operadores aritméticos</a></li>\n",
    "            <li> <a href=\"#Operadores-de-comparación\">Operadores de comparación</a></li>\n",
    "            <li> <a href=\"#Operadores-lógicos\">Operadores lógicos</a></li>\n",
    "            <li> <a href=\"#Operadores-de-asignación\">Operadores de asignación</a></li>\n",
    "            <li> <a href=\"#Operadores-de-pertenencia\">Operadores de pertenencia</a></li>\n",
    "        </ul> \n",
    "        </li>\n",
    "        <li><a href=\"#Funciones-Integradas-(Funciones-Built-in)\">Funciones Integradas (Funciones Built-in)</a></li>\n",
    "        <li><a href=\"#Referencias\">Referencias</a></li>\n",
    "    </ul>\n",
    "</div>"
   ]
  },
  {
   "cell_type": "markdown",
   "id": "c7b29f23",
   "metadata": {},
   "source": [
    "## Python\n",
    "\n",
    "<b> Historia de Python: </b>  https://platzi.com/blog/historia-python/ \n",
    "\n",
    "<b> Descargar Python: </b> \n",
    "<ul>\n",
    "    <li>Python: <a href=\"url\">  https://www.python.org/ </a> </li>\n",
    "<li>Jupyter Notebook: \n",
    "    <ul>\n",
    "    <li>Página oficial: <a href=\"url\"> https://jupyter.org/  </a> </li>\n",
    "    <li>Guía: <a href=\"url\"> https://www.educba.com/install-jupyter-notebook/  </a> </li>\n",
    "    <li>Guía complementaria: <a href=\"url\"> http://facundoq.github.io/courses/images/jupyter.html </a> </li>    \n",
    "    </ul>\n",
    "</li>\n",
    "<li>Otros editores de texto: \n",
    "    <ul>\n",
    "    <li>Sublime Text: <a href=\"url\"> https://www.sublimetext.com/  </a> </li>  \n",
    "    <li>Spyder: <a href=\"url\"> https://www.spyder-ide.org/ </a> </li>\n",
    "    <li>Visual Studio Code: <a href=\"url\"> https://code.visualstudio.com/ </a> </li>  \n",
    "    <li>y más.</li>  \n",
    "    </ul>\n",
    "</li>\n",
    "</ul>"
   ]
  },
  {
   "cell_type": "markdown",
   "id": "97fe8395",
   "metadata": {},
   "source": [
    "\n",
    "<div class=\"alert alert-info\"><b> Consideraciones de sintaxis:  </b>  \n",
    "    <ul>\n",
    "        <li>La extensión de un archivo en python es <mark class=\"white\">.py</mark>, en jupyter notebook es <mark class=\"white\">.ipynb</mark>.</li>\n",
    "    <li>Es un lenguaje case-sensitive, es decir, hace diferenciación entre mayúsculas y minúsculas.</li>\n",
    "    <li>Al crear una variable no se debe empezar por un número y no introducir espacios intermedios.</li>\n",
    "    <li>Para indicar el decimal de algún número es con punto y no coma.</li>    \n",
    "    <li>Comentarios se crean con el símbolo <mark class=\"white\">#</mark>.</li>    \n",
    "    <li>Hay palabra reservada como <mark class=\"white\">def</mark>, no deben ser usadas para crear algún objeto.</li>    \n",
    "    </ul>\n",
    "</div>"
   ]
  },
  {
   "cell_type": "code",
   "execution_count": 1,
   "id": "7598cbed",
   "metadata": {},
   "outputs": [],
   "source": [
    "# Esto es un comentario.\n",
    "## Con el '=' se asigna valores a las variables.\n",
    "\n",
    "x = 2 # Se pueden hacer comentarios en la misma linea de código."
   ]
  },
  {
   "cell_type": "markdown",
   "id": "5259a9d4",
   "metadata": {},
   "source": [
    "## Tipos de datos\n",
    "\n",
    "Python tiene diversos tipos de datos, principalmente se tienen:\n",
    "\n",
    "- Numéricos: entero (int), decimal (float) y los números complejos (complex).\n",
    "- Cadenas de caracteres (str).\n",
    "- Datos lógicos (booleanos, bool).\n",
    "- Secuencias: Listas (list), Tuplas (tuple) y rangos (range).\n",
    "- Diccionarios (dict).\n",
    "- Conjuntos (set).\n",
    "- y más."
   ]
  },
  {
   "cell_type": "markdown",
   "id": "cc61efa4",
   "metadata": {},
   "source": [
    "### Datos Numéricos"
   ]
  },
  {
   "cell_type": "markdown",
   "id": "3be73645",
   "metadata": {},
   "source": [
    "Los números enteros son de tipo `int`, y la función `int()` convierte un valor numérico a entero."
   ]
  },
  {
   "cell_type": "code",
   "execution_count": 2,
   "id": "39e86edf",
   "metadata": {
    "scrolled": false
   },
   "outputs": [
    {
     "data": {
      "text/plain": [
       "int"
      ]
     },
     "execution_count": 2,
     "metadata": {},
     "output_type": "execute_result"
    }
   ],
   "source": [
    "x = 2\n",
    "type(x) # Para ver que tipo de dato es se usa la función type."
   ]
  },
  {
   "cell_type": "code",
   "execution_count": 3,
   "id": "fb4afc7a",
   "metadata": {},
   "outputs": [
    {
     "name": "stdout",
     "output_type": "stream",
     "text": [
      "2 <class 'int'>\n"
     ]
    }
   ],
   "source": [
    "x = 2.6\n",
    "x = int(x) # Para convertir el 2.2 en entero se usa la función int().\n",
    "print(x, type(x))"
   ]
  },
  {
   "cell_type": "markdown",
   "id": "e0cf535c",
   "metadata": {},
   "source": [
    "Los números decimales o punto flotante son del tipo `float`, y la función `float()` convierte un valor numérico a decimal."
   ]
  },
  {
   "cell_type": "code",
   "execution_count": 4,
   "id": "25d03df3",
   "metadata": {},
   "outputs": [
    {
     "data": {
      "text/plain": [
       "float"
      ]
     },
     "execution_count": 4,
     "metadata": {},
     "output_type": "execute_result"
    }
   ],
   "source": [
    "x = 2.2 \n",
    "type(x)"
   ]
  },
  {
   "cell_type": "code",
   "execution_count": 5,
   "id": "d3328437",
   "metadata": {
    "scrolled": true
   },
   "outputs": [
    {
     "name": "stdout",
     "output_type": "stream",
     "text": [
      "2.0 <class 'float'>\n"
     ]
    }
   ],
   "source": [
    "x = 2\n",
    "x = float(x) # Para convertir el 2.2 en entero se usa la función int().\n",
    "print(x, type(x))"
   ]
  },
  {
   "cell_type": "markdown",
   "id": "3603f5db",
   "metadata": {
    "scrolled": true
   },
   "source": [
    "Los números complejos en Python su parte imaginaria se expresa con una `j` y no con una `i`; y la función `complex()` convierte un valor numérico a complejo."
   ]
  },
  {
   "cell_type": "code",
   "execution_count": 6,
   "id": "339a6bb3",
   "metadata": {},
   "outputs": [
    {
     "data": {
      "text/plain": [
       "complex"
      ]
     },
     "execution_count": 6,
     "metadata": {},
     "output_type": "execute_result"
    }
   ],
   "source": [
    "x = 1 + 2j\n",
    "type(x)"
   ]
  },
  {
   "cell_type": "code",
   "execution_count": 7,
   "id": "d33521f8",
   "metadata": {
    "scrolled": true
   },
   "outputs": [
    {
     "data": {
      "text/plain": [
       "(1+0j)"
      ]
     },
     "execution_count": 7,
     "metadata": {},
     "output_type": "execute_result"
    }
   ],
   "source": [
    "x = 1\n",
    "complex(x)"
   ]
  },
  {
   "cell_type": "markdown",
   "id": "3ccce3ce",
   "metadata": {},
   "source": [
    "- En resumen, en primera instancia se tienen los siguientes tipos de datos:"
   ]
  },
  {
   "cell_type": "code",
   "execution_count": 8,
   "id": "62928147",
   "metadata": {
    "scrolled": true
   },
   "outputs": [
    {
     "name": "stdout",
     "output_type": "stream",
     "text": [
      "<class 'int'> <class 'float'> <class 'complex'>\n"
     ]
    }
   ],
   "source": [
    "x,y,w = 2, 2.2, 1+2j # Se puede asignar varias variables en una misma linea.\n",
    "print(type(x),type(y), type(w))"
   ]
  },
  {
   "cell_type": "code",
   "execution_count": 9,
   "id": "32790572",
   "metadata": {},
   "outputs": [
    {
     "name": "stdout",
     "output_type": "stream",
     "text": [
      "2\n",
      "2.0\n",
      "(2.2+0j)\n"
     ]
    }
   ],
   "source": [
    "print(int(2.8))     # Le quita la parte décimal.\n",
    "print(float(2))     # Lo convierte en décimal o en un punto flotante.  \n",
    "print(complex(2.2)) # No tiene parte real, por tanto genera 2.2 + 0j"
   ]
  },
  {
   "cell_type": "markdown",
   "id": "f4ea3bf5",
   "metadata": {},
   "source": [
    "### Caracteres"
   ]
  },
  {
   "cell_type": "markdown",
   "id": "f6922585",
   "metadata": {},
   "source": [
    "Los caracteres (strings) son palabras o incluso textos, y con la función `str()` se convierte cualquier valor en un carácter."
   ]
  },
  {
   "cell_type": "code",
   "execution_count": 10,
   "id": "db45d600",
   "metadata": {},
   "outputs": [
    {
     "data": {
      "text/plain": [
       "str"
      ]
     },
     "execution_count": 10,
     "metadata": {},
     "output_type": "execute_result"
    }
   ],
   "source": [
    "x = 'aoi'\n",
    "type(x)"
   ]
  },
  {
   "cell_type": "code",
   "execution_count": 11,
   "id": "94da8db1",
   "metadata": {},
   "outputs": [
    {
     "data": {
      "text/plain": [
       "str"
      ]
     },
     "execution_count": 11,
     "metadata": {},
     "output_type": "execute_result"
    }
   ],
   "source": [
    "x = 'Los caracteres (strings) son palabras o incluso textos'\n",
    "type(x)"
   ]
  },
  {
   "cell_type": "code",
   "execution_count": 12,
   "id": "6328514d",
   "metadata": {},
   "outputs": [
    {
     "name": "stdout",
     "output_type": "stream",
     "text": [
      "2 <class 'str'>\n"
     ]
    }
   ],
   "source": [
    "x = 2\n",
    "x = str(x)    # Para convertir en caracter se usa la función str().\n",
    "print(x, type(x))"
   ]
  },
  {
   "cell_type": "markdown",
   "id": "12bb9dfb",
   "metadata": {},
   "source": [
    "Cuando un carácter es multiplicado por un número, esto genera que el carácter se repita las veces del número, es decir"
   ]
  },
  {
   "cell_type": "code",
   "execution_count": 13,
   "id": "9d7e7009",
   "metadata": {},
   "outputs": [
    {
     "data": {
      "text/plain": [
       "'llll'"
      ]
     },
     "execution_count": 13,
     "metadata": {},
     "output_type": "execute_result"
    }
   ],
   "source": [
    "'l'*4 # La letra 'l' se repite 4 veces."
   ]
  },
  {
   "cell_type": "markdown",
   "id": "58253c6d",
   "metadata": {},
   "source": [
    "### Datos Lógicos o Booleanos\n"
   ]
  },
  {
   "cell_type": "markdown",
   "id": "597dfe90",
   "metadata": {},
   "source": [
    "Los booleanos son aquellos donde se comprueba si la expresión o argumento es verdadero o falso. El Valor lógico verdadero, se escribe `True` y valor lógico falso sería `False`. Para comprobar si dos expresiones son iguales con `==`, si son diferentes con `!=`, y demás presentados a continuación."
   ]
  },
  {
   "cell_type": "code",
   "execution_count": 14,
   "id": "6a324cff",
   "metadata": {},
   "outputs": [
    {
     "data": {
      "text/plain": [
       "False"
      ]
     },
     "execution_count": 14,
     "metadata": {},
     "output_type": "execute_result"
    }
   ],
   "source": [
    "True  # Valor lógico verdadero.\n",
    "False  # Valor lógico falso."
   ]
  },
  {
   "cell_type": "code",
   "execution_count": 15,
   "id": "3476fd5b",
   "metadata": {},
   "outputs": [
    {
     "data": {
      "text/plain": [
       "False"
      ]
     },
     "execution_count": 15,
     "metadata": {},
     "output_type": "execute_result"
    }
   ],
   "source": [
    "x,y = 2,3\n",
    "x == y    # Para comprobar si son iguales con '=='. "
   ]
  },
  {
   "cell_type": "code",
   "execution_count": 16,
   "id": "77789976",
   "metadata": {},
   "outputs": [
    {
     "data": {
      "text/plain": [
       "True"
      ]
     },
     "execution_count": 16,
     "metadata": {},
     "output_type": "execute_result"
    }
   ],
   "source": [
    "x,y = 'gato','gato'\n",
    "x == y"
   ]
  },
  {
   "cell_type": "code",
   "execution_count": 17,
   "id": "2cdcb540",
   "metadata": {},
   "outputs": [
    {
     "data": {
      "text/plain": [
       "True"
      ]
     },
     "execution_count": 17,
     "metadata": {},
     "output_type": "execute_result"
    }
   ],
   "source": [
    "x,y = 2,3\n",
    "x != y    # Para comprobar si son diferentes con '!='. "
   ]
  },
  {
   "cell_type": "code",
   "execution_count": 18,
   "id": "1542ea71",
   "metadata": {},
   "outputs": [
    {
     "data": {
      "text/plain": [
       "False"
      ]
     },
     "execution_count": 18,
     "metadata": {},
     "output_type": "execute_result"
    }
   ],
   "source": [
    "x,y = 'gato','gato'\n",
    "x != y"
   ]
  },
  {
   "cell_type": "code",
   "execution_count": 19,
   "id": "e6845e79",
   "metadata": {},
   "outputs": [
    {
     "data": {
      "text/plain": [
       "False"
      ]
     },
     "execution_count": 19,
     "metadata": {},
     "output_type": "execute_result"
    }
   ],
   "source": [
    "x,y = 2,3\n",
    "x > y    # Para comprobar si es mayor con '>'. "
   ]
  },
  {
   "cell_type": "code",
   "execution_count": 20,
   "id": "509245bb",
   "metadata": {},
   "outputs": [
    {
     "data": {
      "text/plain": [
       "True"
      ]
     },
     "execution_count": 20,
     "metadata": {},
     "output_type": "execute_result"
    }
   ],
   "source": [
    "x,y = 2,3\n",
    "x < y    # Para comprobar si es menor con '<'. "
   ]
  },
  {
   "cell_type": "code",
   "execution_count": 21,
   "id": "d2bb3228",
   "metadata": {},
   "outputs": [
    {
     "data": {
      "text/plain": [
       "False"
      ]
     },
     "execution_count": 21,
     "metadata": {},
     "output_type": "execute_result"
    }
   ],
   "source": [
    "x,y = 2,3\n",
    "x >= y    # Para comprobar si es mayor o igual con '>='. "
   ]
  },
  {
   "cell_type": "code",
   "execution_count": 22,
   "id": "db6ccb76",
   "metadata": {},
   "outputs": [
    {
     "data": {
      "text/plain": [
       "True"
      ]
     },
     "execution_count": 22,
     "metadata": {},
     "output_type": "execute_result"
    }
   ],
   "source": [
    "x,y = 2,3\n",
    "x <= y    # Para comprobar si es menor o igual con '<='. "
   ]
  },
  {
   "cell_type": "markdown",
   "id": "df89aa1e",
   "metadata": {},
   "source": [
    "Además, para combinar los valores lógicos, siguiendo la lógica clásica, existen los operadores `and`, `or` y `not`. Es decir, conjunción, disyunción y negación, respectivamente."
   ]
  },
  {
   "cell_type": "code",
   "execution_count": 23,
   "id": "2408096a",
   "metadata": {},
   "outputs": [
    {
     "data": {
      "text/plain": [
       "False"
      ]
     },
     "execution_count": 23,
     "metadata": {},
     "output_type": "execute_result"
    }
   ],
   "source": [
    "# Se pueden armar tablas de verdad con 'and', 'or' y 'not'\n",
    "True and True # Es True.\n",
    "False or True # Es True.\n",
    "(True and False) or (False or False) # Es False."
   ]
  },
  {
   "cell_type": "markdown",
   "id": "9a5d59d5",
   "metadata": {},
   "source": [
    "## Datos Secuenciales"
   ]
  },
  {
   "cell_type": "markdown",
   "id": "16a810b9",
   "metadata": {},
   "source": [
    "### Listas\n",
    "\n",
    "Una lista es un *arreglo* (más o menos), que contiene varios datos pueden ser numéricos, caracteres, ... \n",
    "\n",
    "La sintaxis es:\n",
    "\n",
    "```python\n",
    "Lista = [elementos separado por comas]\n",
    "```\n",
    "\n",
    "\n",
    "<div class=\"alert alert-info\"><b> Consideraciones:  </b>  \n",
    "    <ul>\n",
    "    <li> <b> Son heterogéneas: </b> pueden tener elementos de diferentes tipos y puede incluir otras listas.</li>\n",
    "    <li> <b>Son mutables: </b> sus elementos pueden modificarse.  </li>    \n",
    "    </ul>\n",
    "</div>\n"
   ]
  },
  {
   "cell_type": "code",
   "execution_count": 24,
   "id": "0207fdda",
   "metadata": {},
   "outputs": [
    {
     "data": {
      "text/plain": [
       "list"
      ]
     },
     "execution_count": 24,
     "metadata": {},
     "output_type": "execute_result"
    }
   ],
   "source": [
    "# Listas de los primeros números pares\n",
    "pares = [2,4,6,8,10,12,14,16,18,20]\n",
    "type(pares)"
   ]
  },
  {
   "cell_type": "markdown",
   "id": "0a7e7048",
   "metadata": {},
   "source": [
    "Se puede tener listas de listas, siento un equivalente a tener datos en forma de matriz"
   ]
  },
  {
   "cell_type": "code",
   "execution_count": 25,
   "id": "f72be291",
   "metadata": {},
   "outputs": [
    {
     "data": {
      "text/plain": [
       "[[1, 2], [2, 4]]"
      ]
     },
     "execution_count": 25,
     "metadata": {},
     "output_type": "execute_result"
    }
   ],
   "source": [
    "List = [[1,2], [2,4]]\n",
    "List"
   ]
  },
  {
   "cell_type": "markdown",
   "id": "e802c12c",
   "metadata": {},
   "source": [
    "Se puede tener una lista con diferentes tipos de datos en su interior"
   ]
  },
  {
   "cell_type": "code",
   "execution_count": 26,
   "id": "1720f559",
   "metadata": {},
   "outputs": [],
   "source": [
    "List = ['aoi', 2, 'dark', 2.2]"
   ]
  },
  {
   "cell_type": "markdown",
   "id": "6d50d6b2",
   "metadata": {},
   "source": [
    "Además, se puede acceder a los elementos de una lista mediante un indice, que inicia desde 0, y si se desea extraer los elementos desde el final, el último elemento tiene el indice -1, es decir:"
   ]
  },
  {
   "cell_type": "code",
   "execution_count": 27,
   "id": "79d47bd3",
   "metadata": {},
   "outputs": [
    {
     "data": {
      "text/plain": [
       "'dark'"
      ]
     },
     "execution_count": 27,
     "metadata": {},
     "output_type": "execute_result"
    }
   ],
   "source": [
    "List[2]"
   ]
  },
  {
   "cell_type": "code",
   "execution_count": 28,
   "id": "208bfb05",
   "metadata": {},
   "outputs": [
    {
     "data": {
      "text/plain": [
       "2.2"
      ]
     },
     "execution_count": 28,
     "metadata": {},
     "output_type": "execute_result"
    }
   ],
   "source": [
    "List[-1]"
   ]
  },
  {
   "cell_type": "markdown",
   "id": "22898135",
   "metadata": {},
   "source": [
    "Para mostrar la longitud de una lista, se hace uso de la función `len`. Una gran consideración, es que los índices inician desde 0 entonces el tamaño de la lista es la longitud menos uno."
   ]
  },
  {
   "cell_type": "code",
   "execution_count": 29,
   "id": "fea8bd3d",
   "metadata": {},
   "outputs": [
    {
     "data": {
      "text/plain": [
       "4"
      ]
     },
     "execution_count": 29,
     "metadata": {},
     "output_type": "execute_result"
    }
   ],
   "source": [
    "len(List)"
   ]
  },
  {
   "cell_type": "markdown",
   "id": "52564f52",
   "metadata": {},
   "source": [
    "### Tuplas\n",
    "\n",
    "Las tuplas son datos agrupados como las listas, la principal diferencia es que estas son inmutables, es decir, no se pueden modificar después de ser creadas. También, para crear una tupla por ejemplo a partir de una lista, se hace uso de la función `tuple()`."
   ]
  },
  {
   "cell_type": "code",
   "execution_count": 30,
   "id": "d731ece9",
   "metadata": {},
   "outputs": [
    {
     "data": {
      "text/plain": [
       "tuple"
      ]
     },
     "execution_count": 30,
     "metadata": {},
     "output_type": "execute_result"
    }
   ],
   "source": [
    "x = (2,3,4)\n",
    "type(x)"
   ]
  },
  {
   "cell_type": "code",
   "execution_count": 31,
   "id": "a5f7aff3",
   "metadata": {
    "scrolled": true
   },
   "outputs": [
    {
     "data": {
      "text/plain": [
       "(1, 2, 3, 4)"
      ]
     },
     "execution_count": 31,
     "metadata": {},
     "output_type": "execute_result"
    }
   ],
   "source": [
    "tuple([1,2,3,4])"
   ]
  },
  {
   "cell_type": "markdown",
   "id": "71757309",
   "metadata": {},
   "source": [
    "### Rangos\n",
    "\n",
    "Los rangos (range) es una lista inmutable que genera números enteros siguiendo sucesión aritmética.\n"
   ]
  },
  {
   "cell_type": "code",
   "execution_count": 32,
   "id": "1f85d1dc",
   "metadata": {},
   "outputs": [
    {
     "data": {
      "text/plain": [
       "range"
      ]
     },
     "execution_count": 32,
     "metadata": {},
     "output_type": "execute_result"
    }
   ],
   "source": [
    "x = range(2)\n",
    "type(x)"
   ]
  },
  {
   "cell_type": "code",
   "execution_count": 33,
   "id": "7b61ef96",
   "metadata": {},
   "outputs": [
    {
     "data": {
      "text/plain": [
       "range(0, 11)"
      ]
     },
     "execution_count": 33,
     "metadata": {},
     "output_type": "execute_result"
    }
   ],
   "source": [
    "# Se generan los números desde 0 al 10\n",
    "range(11)"
   ]
  },
  {
   "cell_type": "code",
   "execution_count": 34,
   "id": "c157421b",
   "metadata": {},
   "outputs": [
    {
     "data": {
      "text/plain": [
       "[0, 1, 2, 3, 4, 5, 6, 7, 8, 9, 10]"
      ]
     },
     "execution_count": 34,
     "metadata": {},
     "output_type": "execute_result"
    }
   ],
   "source": [
    "# Para ver los números en el rango, convertirlo en una lista.\n",
    "list(range(11))"
   ]
  },
  {
   "cell_type": "markdown",
   "id": "03ccaffe",
   "metadata": {},
   "source": [
    "El número inicial de la lista siempre es cero de forma predeterminada, para cambiarlo, se introduce el intervalo que se desea"
   ]
  },
  {
   "cell_type": "code",
   "execution_count": 35,
   "id": "4e5aa785",
   "metadata": {},
   "outputs": [
    {
     "data": {
      "text/plain": [
       "[-2, -1, 0, 1, 2, 3, 4, 5]"
      ]
     },
     "execution_count": 35,
     "metadata": {},
     "output_type": "execute_result"
    }
   ],
   "source": [
    "list(range(-2,6))"
   ]
  },
  {
   "cell_type": "markdown",
   "id": "bb380794",
   "metadata": {},
   "source": [
    "Siempre la diferencia de los números de la lista es de 1, para cambiarlo, se agrega una tercera condición"
   ]
  },
  {
   "cell_type": "code",
   "execution_count": 36,
   "id": "4f3770c9",
   "metadata": {},
   "outputs": [
    {
     "data": {
      "text/plain": [
       "[-2, 0, 2, 4]"
      ]
     },
     "execution_count": 36,
     "metadata": {},
     "output_type": "execute_result"
    }
   ],
   "source": [
    "list(range(-2,6,2)) # va en dos en dos."
   ]
  },
  {
   "cell_type": "markdown",
   "id": "1ce849bf",
   "metadata": {},
   "source": [
    "### Diccionarios\n",
    "\n",
    "Los diccionarios (dict )contienen una variables clave (inmutables) que poseen un valor (mutables), sin orden. La sintaxis es la siguiente:\n",
    "\n",
    "```python\n",
    " { key1:value1 , key2:value2 , key3:value3 , ...}\n",
    " \n",
    "```"
   ]
  },
  {
   "cell_type": "code",
   "execution_count": 37,
   "id": "7afdcbc1",
   "metadata": {
    "scrolled": true
   },
   "outputs": [
    {
     "data": {
      "text/plain": [
       "dict"
      ]
     },
     "execution_count": 37,
     "metadata": {},
     "output_type": "execute_result"
    }
   ],
   "source": [
    "diccionario = {'azul':1, 'rojo':2, 'verde':4}\n",
    "type(diccionario)"
   ]
  },
  {
   "cell_type": "code",
   "execution_count": 38,
   "id": "db886c55",
   "metadata": {},
   "outputs": [
    {
     "data": {
      "text/plain": [
       "{'azul': 1, 'rojo': 2, 'verde': 4}"
      ]
     },
     "execution_count": 38,
     "metadata": {},
     "output_type": "execute_result"
    }
   ],
   "source": [
    "diccionario"
   ]
  },
  {
   "cell_type": "code",
   "execution_count": 39,
   "id": "55aba87b",
   "metadata": {
    "scrolled": true
   },
   "outputs": [
    {
     "data": {
      "text/plain": [
       "2"
      ]
     },
     "execution_count": 39,
     "metadata": {},
     "output_type": "execute_result"
    }
   ],
   "source": [
    "diccionario['rojo']"
   ]
  },
  {
   "cell_type": "code",
   "execution_count": 40,
   "id": "a5714785",
   "metadata": {},
   "outputs": [
    {
     "data": {
      "text/plain": [
       "{'azul': 1, 'rojo': 3, 'verde': 4}"
      ]
     },
     "execution_count": 40,
     "metadata": {},
     "output_type": "execute_result"
    }
   ],
   "source": [
    "# Se pueden cambiar los valores reasignando según la variable clave\n",
    "diccionario['rojo'] = 3\n",
    "diccionario"
   ]
  },
  {
   "cell_type": "code",
   "execution_count": 41,
   "id": "b62c5bbf",
   "metadata": {},
   "outputs": [],
   "source": [
    "# Crear un diccionario sin elementos, hay dos opciones equivalentes:\n",
    "diccionario = {}\n",
    "diccionario = dict()"
   ]
  },
  {
   "cell_type": "code",
   "execution_count": 42,
   "id": "619f751a",
   "metadata": {},
   "outputs": [
    {
     "data": {
      "text/plain": [
       "dict"
      ]
     },
     "execution_count": 42,
     "metadata": {},
     "output_type": "execute_result"
    }
   ],
   "source": [
    "# Los valores de las variables clave pueden ser de distintos tipos\n",
    "diccionario = {\n",
    "        \"key1\":117,\n",
    "        \"key2\":[1,2,4],\n",
    "        \"key3\":\"Hola\",\n",
    "        \"key4\":False\n",
    "        }\n",
    "type(diccionario)"
   ]
  },
  {
   "cell_type": "markdown",
   "id": "546c2760",
   "metadata": {},
   "source": [
    "\n",
    "## Operadores\n"
   ]
  },
  {
   "cell_type": "markdown",
   "id": "fed2cab6",
   "metadata": {},
   "source": [
    "### Operadores aritméticos\n",
    "- **Adición:**  `+`\n",
    "- **Sustracción:** `-`\n",
    "- **Multiplicación:** `*`\n",
    "- **División:** `/`\n",
    "- **Floor division:** `//`\n",
    "- **Módulo:** `%`\n",
    "- **Potencia:** `**`"
   ]
  },
  {
   "cell_type": "markdown",
   "id": "87e9777c",
   "metadata": {},
   "source": [
    "### Operadores de comparación\n",
    "- **Igualdad:** `==`\n",
    "- **Mayor que:** `>`\n",
    "- **Menor que:** `<`\n",
    "- **Mayor o igual que:** `>=`\n",
    "- **Menor o igual que:** `<=`\n",
    "- **Diferente de:** `!=`"
   ]
  },
  {
   "cell_type": "markdown",
   "id": "77d716b1",
   "metadata": {},
   "source": [
    "### Operadores de asignación\n",
    "- **Asignación:** `=`\n",
    "- **Sustraer:** `-=`\n",
    "- **Adición:** `+=`\n",
    "- **División:** `/=`\n",
    "- **Multiplicación:** `*=`\n",
    "- **Modulo:** `%=`\n",
    "- **División entera:** `//=`\n",
    "- **Potencia:** `**=`"
   ]
  },
  {
   "cell_type": "markdown",
   "id": "78c37eaa",
   "metadata": {},
   "source": [
    "### Operadores lógicos\n",
    "- Verdadero si ambos operandos son verdaderos: `and` \n",
    "- Verdadero si cualquiera de los operandos es verdadero: `or`\n",
    "- Negación: `not`"
   ]
  },
  {
   "cell_type": "markdown",
   "id": "c8465e79",
   "metadata": {},
   "source": [
    "### Operadores de pertenencia\n",
    "-  Genera True si el valor especificado se encuentra: `in`\n",
    "-  Genera True si el valor especificado no se encuentra: `not in`\n",
    "\n"
   ]
  },
  {
   "cell_type": "markdown",
   "id": "b59cabb4",
   "metadata": {},
   "source": [
    "## Funciones Integradas (Funciones Built-in)\n",
    "\n",
    "Python trae consigo funciones sin tener que llamar librerías, bibliotecas o módulos. \n",
    "\n",
    "- Profundizar con: https://docs.python.org/es/3.8/library/functions.html\n",
    "\n",
    "Algunas  de ellas son:"
   ]
  },
  {
   "cell_type": "markdown",
   "id": "67814217",
   "metadata": {},
   "source": [
    "- Convierte de entero a binario:  `bin()`\n",
    "- Convierte de entero a hexadecimal: `hex()`\n",
    "- Valor absoluto de un número: `abs()`\n",
    "- Aproxima un número decimal a entero; si la parte decimal es menor a .5 aproxima hacia abajo, y si es mayor o igual a .5 hacia arriba: `round()`\n",
    "- Calcula la longitud: `len()`\n",
    "- Abre el menú de ayuda: `help()`\n",
    "- Muestra el tipo de dato: `type()`\n",
    "- Pide texto escrito por teclado: `input()`\n",
    "- Convierte un número a entero: `int()`\n",
    "- Convierte un número a punto flotante: `float()`\n",
    "- y más."
   ]
  },
  {
   "cell_type": "markdown",
   "id": "9d280fe5",
   "metadata": {},
   "source": [
    "### Referencias\n",
    "\n",
    "<ol>\n",
    "    <li> <a href=\"url\"> https://www.python.org/ </a> </li>\n",
    "    <li> <a href=\"url\"> https://jupyter.org/ </a></li>\n",
    "    <li> <a href=\"url\"> https://github.com </a></li>\n",
    "    <li> <a href=\"url\"> https://www.sublimetext.com/ </a></li>\n",
    "    <li> <a href=\"url\"> https://www.spyder-ide.org/ </a></li>\n",
    "    <li> <a href=\"url\"> https://code.visualstudio.com/ </a></li>  \n",
    "    <li> <a href=\"url\"> https://platzi.com/blog/historia-python/  </a></li>\n",
    "    <li> <a href=\"url\"> https://www.educba.com/install-jupyter-notebook/ </a></li>\n",
    "    <li> <a href=\"url\"> http://facundoq.github.io/courses/images/jupyter.html </a></li>\n",
    "    <li> <a href=\"url\"> https://www.programiz.com/python-programming/operators  </a></li>  \n",
    "</ol>"
   ]
  }
 ],
 "metadata": {
  "kernelspec": {
   "display_name": "Python 3",
   "language": "python",
   "name": "python3"
  },
  "language_info": {
   "codemirror_mode": {
    "name": "ipython",
    "version": 3
   },
   "file_extension": ".py",
   "mimetype": "text/x-python",
   "name": "python",
   "nbconvert_exporter": "python",
   "pygments_lexer": "ipython3",
   "version": "3.9.5"
  }
 },
 "nbformat": 4,
 "nbformat_minor": 5
}
