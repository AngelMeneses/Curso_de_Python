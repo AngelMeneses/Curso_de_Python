{
 "cells": [
  {
   "cell_type": "markdown",
   "id": "25f4e890",
   "metadata": {},
   "source": [
    "Author: Angel Daniel Duarte Meneses. \n",
    "\n",
    "Last Update: 17/06/2021.\n",
    "\n",
    "This material is for academic purposes only.\n"
   ]
  },
  {
   "cell_type": "markdown",
   "id": "275121ef",
   "metadata": {},
   "source": [
    "<div class=\"idc-box\">\n",
    "    <div class=\"list-group\" id=\"list-tab\" role=\"tablist\">\n",
    "    <h2 class=\"list-group-item list-group-item-action active\" data-toggle=\"list\" style='background:blue; border:0; color:white' role=\"tab\" aria-controls=\"home\"><center>Tabla de contenidos</center></h2> </div>\n",
    "    <ul class=\"idc-lista\">\n",
    "        <li><a href=\"#Python\">Python</a></li>\n",
    "        <li><a href=\"#Tipos-de-datos\">Tipos de datos</a></li>\n",
    "        <ul>\n",
    "            <li> <a href=\"#Datos-Numéricos\">Datos Numéricos</a></li>\n",
    "            <li> <a href=\"#Caracteres\">Caracteres</a></li>\n",
    "            <li> <a href=\"#Datos-Lógicos-o-Booleanos\">Datos Lógicos o Booleanos</a></li>\n",
    "            <li> <a href=\"#Datos-Secuenciales\">Datos Secuenciales</a>\n",
    "            <ul>\n",
    "                <li> <a href=\"#Listas\">Listas</a></li>\n",
    "                <li> <a href=\"#Tuplas\">Tuplas</a></li>\n",
    "                <li> <a href=\"#Rangos\">Rangos</a></li>\n",
    "            </ul> \n",
    "            </li>\n",
    "        </ul> \n",
    "        <li><a href=\"##Operadores\">Operadores</a>\n",
    "        <ul>\n",
    "            <li> <a href=\"#Operadores-aritméticos\">Operadores aritméticos</a></li>\n",
    "            <li> <a href=\"#Operadores-de-comparación\">Operadores de comparación</a></li>\n",
    "            <li> <a href=\"#Operadores-lógicos\">Operadores lógicos</a></li>\n",
    "            <li> <a href=\"#Operadores-de-asignación\">Operadores de asignación</a></li>\n",
    "        </ul> \n",
    "        </li>\n",
    "    <li><a href=\"#Referencias\">Referencias</a></li>\n",
    "    </ul>\n",
    "</div>"
   ]
  },
  {
   "cell_type": "markdown",
   "id": "35c915a0",
   "metadata": {},
   "source": [
    "## Python\n",
    "\n",
    "<b> Historia de Python: </b>  https://platzi.com/blog/historia-python/ \n",
    "\n",
    "<b> Descargar Python: </b> \n",
    "<ul>\n",
    "    <li>Python: <a href=\"url\">  https://www.python.org/ </a> </li>\n",
    "<li>Jupyter Notebook: \n",
    "    <ul>\n",
    "    <li>Página oficial: <a href=\"url\"> https://jupyter.org/  </a> </li>\n",
    "    <li>Guía: <a href=\"url\"> https://www.educba.com/install-jupyter-notebook/  </a> </li>\n",
    "    <li>Guía complementaria: <a href=\"url\"> http://facundoq.github.io/courses/images/jupyter.html </a> </li>    \n",
    "    </ul>\n",
    "</li>\n",
    "<li>Otros editores de texto: \n",
    "    <ul>\n",
    "    <li>Sublime Text: <a href=\"url\"> https://www.sublimetext.com/  </a> </li>  \n",
    "    <li>Spyder: <a href=\"url\"> https://www.spyder-ide.org/ </a> </li>\n",
    "    <li>Visual Studio Code: <a href=\"url\"> https://code.visualstudio.com/ </a> </li>  \n",
    "    <li>y más.</li>  \n",
    "    </ul>\n",
    "</li>\n",
    "</ul>"
   ]
  },
  {
   "cell_type": "markdown",
   "id": "fdc9c2ce",
   "metadata": {},
   "source": [
    "\n",
    "<div class=\"alert alert-info\"><b> Consideraciones de sintaxis:  </b>  \n",
    "    <ul>\n",
    "        <li>La extensión de un archivo en python es <mark class=\"white\">.py</mark>, en jupyter notebook es <mark class=\"white\">.ipynb</mark>.</li>\n",
    "    <li>Es un lenguaje case-sensitive, es decir, hace diferenciación entre mayúsculas y minúsculas.</li>\n",
    "    <li>Al crear una variable no se debe empezar por un número y no introducir espacios intermedios.</li>\n",
    "    <li>Para indicar el decimal de algún número es con punto y no coma.</li>    \n",
    "    <li>Comentarios se crean con el símbolo <mark class=\"white\">#</mark>.</li>    \n",
    "    <li>Hay palabra reservada como <mark class=\"white\">def</mark>, no deben ser usadas para crear algún objeto.</li>    \n",
    "    </ul>\n",
    "</div>"
   ]
  },
  {
   "cell_type": "code",
   "execution_count": 1,
   "id": "7598cbed",
   "metadata": {},
   "outputs": [],
   "source": [
    "# Esto es un comentario.\n",
    "## Con el '=' se asigna valores a las variables.\n",
    "\n",
    "x = 2 # Se pueden hacer comentarios en la misma linea de código."
   ]
  },
  {
   "cell_type": "markdown",
   "id": "5259a9d4",
   "metadata": {},
   "source": [
    "## Tipos de datos\n",
    "\n",
    "Python tiene diversos tipos de datos, principalmente se tienen:\n",
    "\n",
    "- Numéricos: entero (int), decimal (float) y los números complejos (complex).\n",
    "- Cadenas de caracteres (str).\n",
    "- Datos lógicos (booleanos, bool).\n",
    "- Secuencias: Listas (list), Tuplas (tuple) y rangos (range).\n",
    "- Diccionarios (dict).\n",
    "- Conjuntos (set).\n",
    "- y más."
   ]
  },
  {
   "cell_type": "markdown",
   "id": "cc61efa4",
   "metadata": {},
   "source": [
    "### Datos Numéricos"
   ]
  },
  {
   "cell_type": "markdown",
   "id": "59b82aee",
   "metadata": {},
   "source": [
    "Los números enteros son de tipo `int`, y la función `int()` convierte un valor numérico a entero."
   ]
  },
  {
   "cell_type": "code",
   "execution_count": 2,
   "id": "39e86edf",
   "metadata": {
    "scrolled": false
   },
   "outputs": [
    {
     "data": {
      "text/plain": [
       "int"
      ]
     },
     "execution_count": 2,
     "metadata": {},
     "output_type": "execute_result"
    }
   ],
   "source": [
    "x = 2\n",
    "type(x) # Para ver que tipo de dato es se usa la función type."
   ]
  },
  {
   "cell_type": "code",
   "execution_count": 3,
   "id": "ad94cd9d",
   "metadata": {},
   "outputs": [
    {
     "name": "stdout",
     "output_type": "stream",
     "text": [
      "2 <class 'int'>\n"
     ]
    }
   ],
   "source": [
    "x = 2.6\n",
    "x = int(x) # Para convertir el 2.2 en entero se usa la función int().\n",
    "print(x, type(x))"
   ]
  },
  {
   "cell_type": "markdown",
   "id": "651e5d4e",
   "metadata": {},
   "source": [
    "Los números decimales o punto flotante son del tipo `float`, y la función `float()` convierte un valor numérico a decimal."
   ]
  },
  {
   "cell_type": "code",
   "execution_count": 4,
   "id": "25d03df3",
   "metadata": {},
   "outputs": [
    {
     "data": {
      "text/plain": [
       "float"
      ]
     },
     "execution_count": 4,
     "metadata": {},
     "output_type": "execute_result"
    }
   ],
   "source": [
    "x = 2.2 \n",
    "type(x)"
   ]
  },
  {
   "cell_type": "code",
   "execution_count": 5,
   "id": "0101658f",
   "metadata": {
    "scrolled": true
   },
   "outputs": [
    {
     "name": "stdout",
     "output_type": "stream",
     "text": [
      "2.0 <class 'float'>\n"
     ]
    }
   ],
   "source": [
    "x = 2\n",
    "x = float(x) # Para convertir el 2.2 en entero se usa la función int().\n",
    "print(x, type(x))"
   ]
  },
  {
   "cell_type": "markdown",
   "id": "8b188d8c",
   "metadata": {
    "scrolled": true
   },
   "source": [
    "Los números complejos en Python su parte imaginaria se expresa con una `j` y no con una `i`; y la función `complex()` convierte un valor numérico a complejo."
   ]
  },
  {
   "cell_type": "code",
   "execution_count": 6,
   "id": "339a6bb3",
   "metadata": {},
   "outputs": [
    {
     "data": {
      "text/plain": [
       "complex"
      ]
     },
     "execution_count": 6,
     "metadata": {},
     "output_type": "execute_result"
    }
   ],
   "source": [
    "x = 1 + 2j\n",
    "type(x)"
   ]
  },
  {
   "cell_type": "code",
   "execution_count": 7,
   "id": "d12a8898",
   "metadata": {
    "scrolled": true
   },
   "outputs": [
    {
     "data": {
      "text/plain": [
       "(1+0j)"
      ]
     },
     "execution_count": 7,
     "metadata": {},
     "output_type": "execute_result"
    }
   ],
   "source": [
    "x = 1\n",
    "complex(x)"
   ]
  },
  {
   "cell_type": "markdown",
   "id": "02b73115",
   "metadata": {},
   "source": [
    "- En resumen, en primera instancia se tienen los siguientes tipos de datos:"
   ]
  },
  {
   "cell_type": "code",
   "execution_count": 8,
   "id": "62928147",
   "metadata": {
    "scrolled": true
   },
   "outputs": [
    {
     "name": "stdout",
     "output_type": "stream",
     "text": [
      "<class 'int'> <class 'float'> <class 'complex'>\n"
     ]
    }
   ],
   "source": [
    "x,y,w = 2, 2.2, 1+2j # Se puede asignar varias variables en una misma linea.\n",
    "print(type(x),type(y), type(w))"
   ]
  },
  {
   "cell_type": "code",
   "execution_count": 9,
   "id": "32790572",
   "metadata": {},
   "outputs": [
    {
     "name": "stdout",
     "output_type": "stream",
     "text": [
      "2\n",
      "2.0\n",
      "(2.2+0j)\n"
     ]
    }
   ],
   "source": [
    "print(int(2.8))     # Le quita la parte décimal.\n",
    "print(float(2))     # Lo convierte en décimal o en un punto flotante.  \n",
    "print(complex(2.2)) # No tiene parte real, por tanto genera 2.2 + 0j"
   ]
  },
  {
   "cell_type": "markdown",
   "id": "f4ea3bf5",
   "metadata": {},
   "source": [
    "### Caracteres"
   ]
  },
  {
   "cell_type": "markdown",
   "id": "5a038b61",
   "metadata": {},
   "source": [
    "Los caracteres (strings) son palabras o incluso textos, y con la función `str()` se convierte cualquier valor en un carácter."
   ]
  },
  {
   "cell_type": "code",
   "execution_count": 10,
   "id": "db45d600",
   "metadata": {},
   "outputs": [
    {
     "data": {
      "text/plain": [
       "str"
      ]
     },
     "execution_count": 10,
     "metadata": {},
     "output_type": "execute_result"
    }
   ],
   "source": [
    "x = 'aoi'\n",
    "type(x)"
   ]
  },
  {
   "cell_type": "code",
   "execution_count": 11,
   "id": "d21e312e",
   "metadata": {},
   "outputs": [
    {
     "data": {
      "text/plain": [
       "str"
      ]
     },
     "execution_count": 11,
     "metadata": {},
     "output_type": "execute_result"
    }
   ],
   "source": [
    "x = 'Los caracteres (strings) son palabras o incluso textos'\n",
    "type(x)"
   ]
  },
  {
   "cell_type": "code",
   "execution_count": 12,
   "id": "6328514d",
   "metadata": {},
   "outputs": [
    {
     "name": "stdout",
     "output_type": "stream",
     "text": [
      "2 <class 'str'>\n"
     ]
    }
   ],
   "source": [
    "x = 2\n",
    "x = str(x)    # Para convertir en caracter se usa la función str().\n",
    "print(x, type(x))"
   ]
  },
  {
   "cell_type": "markdown",
   "id": "7b82d269",
   "metadata": {},
   "source": [
    "Cuando un carácter es multiplicado por un número, esto genera que el carácter se repita las veces del número, es decir"
   ]
  },
  {
   "cell_type": "code",
   "execution_count": 13,
   "id": "5623fe25",
   "metadata": {},
   "outputs": [
    {
     "data": {
      "text/plain": [
       "'llll'"
      ]
     },
     "execution_count": 13,
     "metadata": {},
     "output_type": "execute_result"
    }
   ],
   "source": [
    "'l'*4 # La letra 'l' se repite 4 veces."
   ]
  },
  {
   "cell_type": "markdown",
   "id": "58253c6d",
   "metadata": {},
   "source": [
    "### Datos Lógicos o Booleanos\n"
   ]
  },
  {
   "cell_type": "markdown",
   "id": "fbf04877",
   "metadata": {},
   "source": [
    "Los booleanos son aquellos donde se comprueba si la expresión o argumento es verdadero o falso. El Valor lógico verdadero, se escribe `True` y valor lógico falso sería `False`. Para comprobar si dos expresiones son iguales con `==`, si son diferentes con `!=`, y demás presentados a continuación."
   ]
  },
  {
   "cell_type": "code",
   "execution_count": 14,
   "id": "5f8da412",
   "metadata": {},
   "outputs": [
    {
     "data": {
      "text/plain": [
       "False"
      ]
     },
     "execution_count": 14,
     "metadata": {},
     "output_type": "execute_result"
    }
   ],
   "source": [
    "True  # Valor lógico verdadero.\n",
    "False  # Valor lógico falso."
   ]
  },
  {
   "cell_type": "code",
   "execution_count": 15,
   "id": "3476fd5b",
   "metadata": {},
   "outputs": [
    {
     "data": {
      "text/plain": [
       "False"
      ]
     },
     "execution_count": 15,
     "metadata": {},
     "output_type": "execute_result"
    }
   ],
   "source": [
    "x,y = 2,3\n",
    "x == y    # Para comprobar si son iguales con '=='. "
   ]
  },
  {
   "cell_type": "code",
   "execution_count": 16,
   "id": "77789976",
   "metadata": {},
   "outputs": [
    {
     "data": {
      "text/plain": [
       "True"
      ]
     },
     "execution_count": 16,
     "metadata": {},
     "output_type": "execute_result"
    }
   ],
   "source": [
    "x,y = 'gato','gato'\n",
    "x == y"
   ]
  },
  {
   "cell_type": "code",
   "execution_count": 17,
   "id": "2cdcb540",
   "metadata": {},
   "outputs": [
    {
     "data": {
      "text/plain": [
       "True"
      ]
     },
     "execution_count": 17,
     "metadata": {},
     "output_type": "execute_result"
    }
   ],
   "source": [
    "x,y = 2,3\n",
    "x != y    # Para comprobar si son diferentes con '!='. "
   ]
  },
  {
   "cell_type": "code",
   "execution_count": 18,
   "id": "1542ea71",
   "metadata": {},
   "outputs": [
    {
     "data": {
      "text/plain": [
       "False"
      ]
     },
     "execution_count": 18,
     "metadata": {},
     "output_type": "execute_result"
    }
   ],
   "source": [
    "x,y = 'gato','gato'\n",
    "x != y"
   ]
  },
  {
   "cell_type": "code",
   "execution_count": 19,
   "id": "e6845e79",
   "metadata": {},
   "outputs": [
    {
     "data": {
      "text/plain": [
       "False"
      ]
     },
     "execution_count": 19,
     "metadata": {},
     "output_type": "execute_result"
    }
   ],
   "source": [
    "x,y = 2,3\n",
    "x > y    # Para comprobar si es mayor con '>'. "
   ]
  },
  {
   "cell_type": "code",
   "execution_count": 20,
   "id": "509245bb",
   "metadata": {},
   "outputs": [
    {
     "data": {
      "text/plain": [
       "True"
      ]
     },
     "execution_count": 20,
     "metadata": {},
     "output_type": "execute_result"
    }
   ],
   "source": [
    "x,y = 2,3\n",
    "x < y    # Para comprobar si es menor con '<'. "
   ]
  },
  {
   "cell_type": "code",
   "execution_count": 21,
   "id": "d2bb3228",
   "metadata": {},
   "outputs": [
    {
     "data": {
      "text/plain": [
       "False"
      ]
     },
     "execution_count": 21,
     "metadata": {},
     "output_type": "execute_result"
    }
   ],
   "source": [
    "x,y = 2,3\n",
    "x >= y    # Para comprobar si es mayor o igual con '>='. "
   ]
  },
  {
   "cell_type": "code",
   "execution_count": 22,
   "id": "db6ccb76",
   "metadata": {},
   "outputs": [
    {
     "data": {
      "text/plain": [
       "True"
      ]
     },
     "execution_count": 22,
     "metadata": {},
     "output_type": "execute_result"
    }
   ],
   "source": [
    "x,y = 2,3\n",
    "x <= y    # Para comprobar si es menor o igual con '<='. "
   ]
  },
  {
   "cell_type": "markdown",
   "id": "d65f60e7",
   "metadata": {},
   "source": [
    "Además, para combinar los valores lógicos, siguiendo la lógica clásica, existen los operadores `and`, `or` y `not`. Es decir, conjunción, disyunción y negación, respectivamente."
   ]
  },
  {
   "cell_type": "code",
   "execution_count": 23,
   "id": "30003d3e",
   "metadata": {},
   "outputs": [
    {
     "data": {
      "text/plain": [
       "False"
      ]
     },
     "execution_count": 23,
     "metadata": {},
     "output_type": "execute_result"
    }
   ],
   "source": [
    "# Se pueden armar tablas de verdad con 'and', 'or' y 'not'\n",
    "True and True # Es True.\n",
    "False or True # Es True.\n",
    "(True and False) or (False or False) # Es False."
   ]
  },
  {
   "cell_type": "markdown",
   "id": "6cc4cfca",
   "metadata": {},
   "source": [
    "## Datos Secuenciales"
   ]
  },
  {
   "cell_type": "markdown",
   "id": "c3450447",
   "metadata": {},
   "source": [
    "### Listas\n",
    "\n",
    "Una lista es un *arreglo* (más o menos), que contiene varios datos pueden ser numéricos, caracteres, ... \n",
    "\n",
    "La sintaxis es:\n",
    "\n",
    "```python\n",
    "Lista = [elementos]\n",
    "```\n",
    "\n",
    "\n",
    "<div class=\"alert alert-info\"><b> Consideraciones:  </b>  \n",
    "    <ul>\n",
    "    <li> <b> Son heterogéneas: </b> pueden tener elementos de diferentes tipos y puede incluir otras listas.</li>\n",
    "    <li> <b>Son mutables: </b> sus elementos pueden modificarse.  </li>    \n",
    "    </ul>\n",
    "</div>\n"
   ]
  },
  {
   "cell_type": "code",
   "execution_count": 24,
   "id": "8f36560c",
   "metadata": {},
   "outputs": [
    {
     "data": {
      "text/plain": [
       "list"
      ]
     },
     "execution_count": 24,
     "metadata": {},
     "output_type": "execute_result"
    }
   ],
   "source": [
    "# Listas de los primeros números pares\n",
    "pares = [2,4,6,8,10,12,14,16,18,20]\n",
    "type(pares)"
   ]
  },
  {
   "cell_type": "markdown",
   "id": "dfbce5b1",
   "metadata": {},
   "source": [
    "Se puede tener listas de listas, siento un equivalente a tener datos en forma de matriz"
   ]
  },
  {
   "cell_type": "code",
   "execution_count": 25,
   "id": "530a7c01",
   "metadata": {},
   "outputs": [
    {
     "data": {
      "text/plain": [
       "[[1, 2], [2, 4]]"
      ]
     },
     "execution_count": 25,
     "metadata": {},
     "output_type": "execute_result"
    }
   ],
   "source": [
    "List = [[1,2], [2,4]]\n",
    "List"
   ]
  },
  {
   "cell_type": "markdown",
   "id": "e1e9bc3c",
   "metadata": {},
   "source": [
    "Se puede tener una lista con diferentes tipos de datos en su interior"
   ]
  },
  {
   "cell_type": "code",
   "execution_count": 26,
   "id": "04f3a80c",
   "metadata": {},
   "outputs": [],
   "source": [
    "List = ['aoi', 2, 'dark', 2.2]"
   ]
  },
  {
   "cell_type": "markdown",
   "id": "3e9e7c87",
   "metadata": {},
   "source": [
    "Además, se puede acceder a los elementos de una lista mediante un indice, que inicia desde 0, y si se desea extraer los elementos desde el final, el último elemento tiene el indice -1, es decir:"
   ]
  },
  {
   "cell_type": "code",
   "execution_count": 27,
   "id": "6dc2fd84",
   "metadata": {},
   "outputs": [
    {
     "data": {
      "text/plain": [
       "'dark'"
      ]
     },
     "execution_count": 27,
     "metadata": {},
     "output_type": "execute_result"
    }
   ],
   "source": [
    "List[2]"
   ]
  },
  {
   "cell_type": "code",
   "execution_count": 28,
   "id": "5a26af69",
   "metadata": {},
   "outputs": [
    {
     "data": {
      "text/plain": [
       "2.2"
      ]
     },
     "execution_count": 28,
     "metadata": {},
     "output_type": "execute_result"
    }
   ],
   "source": [
    "List[-1]"
   ]
  },
  {
   "cell_type": "markdown",
   "id": "13cbaf3c",
   "metadata": {},
   "source": [
    "Para mostrar la longitud de una lista, se hace uso de la función `len`. Una gran consideración, es que los índices inician desde 0 entonces el tamaño de la lista es la longitud menos uno."
   ]
  },
  {
   "cell_type": "code",
   "execution_count": 29,
   "id": "052a2122",
   "metadata": {},
   "outputs": [
    {
     "data": {
      "text/plain": [
       "4"
      ]
     },
     "execution_count": 29,
     "metadata": {},
     "output_type": "execute_result"
    }
   ],
   "source": [
    "len(List)"
   ]
  },
  {
   "cell_type": "markdown",
   "id": "a849ae2b",
   "metadata": {},
   "source": [
    "### Tuplas\n",
    "\n",
    "Las tuplas son datos agrupados como las listas, la principal diferencia es que estas son inmutables, es decir, no se pueden modificar después de ser creadas. También, para crear una tupla por ejemplo a partir de una lista, se hace uso de la función `tuple()`."
   ]
  },
  {
   "cell_type": "code",
   "execution_count": 30,
   "id": "c5d95652",
   "metadata": {},
   "outputs": [
    {
     "data": {
      "text/plain": [
       "tuple"
      ]
     },
     "execution_count": 30,
     "metadata": {},
     "output_type": "execute_result"
    }
   ],
   "source": [
    "x = (2,3,4)\n",
    "type(x)"
   ]
  },
  {
   "cell_type": "code",
   "execution_count": 31,
   "id": "47125f89",
   "metadata": {
    "scrolled": true
   },
   "outputs": [
    {
     "data": {
      "text/plain": [
       "(1, 2, 3, 4)"
      ]
     },
     "execution_count": 31,
     "metadata": {},
     "output_type": "execute_result"
    }
   ],
   "source": [
    "tuple([1,2,3,4])"
   ]
  },
  {
   "cell_type": "markdown",
   "id": "7ab5b7ad",
   "metadata": {},
   "source": [
    "### Rangos\n",
    "\n",
    "Los rangos (range) es una lista inmutable que genera números enteros siguiendo sucesión aritmética.\n"
   ]
  },
  {
   "cell_type": "code",
   "execution_count": 32,
   "id": "680fef5b",
   "metadata": {},
   "outputs": [
    {
     "data": {
      "text/plain": [
       "range"
      ]
     },
     "execution_count": 32,
     "metadata": {},
     "output_type": "execute_result"
    }
   ],
   "source": [
    "x = range(2)\n",
    "type(x)"
   ]
  },
  {
   "cell_type": "code",
   "execution_count": 33,
   "id": "ec67f007",
   "metadata": {},
   "outputs": [
    {
     "data": {
      "text/plain": [
       "range(0, 11)"
      ]
     },
     "execution_count": 33,
     "metadata": {},
     "output_type": "execute_result"
    }
   ],
   "source": [
    "# Se generan los números desde 0 al 10\n",
    "range(11)"
   ]
  },
  {
   "cell_type": "code",
   "execution_count": 34,
   "id": "a4fd5df4",
   "metadata": {},
   "outputs": [
    {
     "data": {
      "text/plain": [
       "[0, 1, 2, 3, 4, 5, 6, 7, 8, 9, 10]"
      ]
     },
     "execution_count": 34,
     "metadata": {},
     "output_type": "execute_result"
    }
   ],
   "source": [
    "# Para ver los números en el rango, convertirlo en una lista.\n",
    "list(range(11))"
   ]
  },
  {
   "cell_type": "markdown",
   "id": "3e1362a9",
   "metadata": {},
   "source": [
    "El número inicial de la lista siempre es cero de forma predeterminada, para cambiarlo, se introduce el intervalo que se desea"
   ]
  },
  {
   "cell_type": "code",
   "execution_count": 35,
   "id": "2b309619",
   "metadata": {},
   "outputs": [
    {
     "data": {
      "text/plain": [
       "[-2, -1, 0, 1, 2, 3, 4, 5]"
      ]
     },
     "execution_count": 35,
     "metadata": {},
     "output_type": "execute_result"
    }
   ],
   "source": [
    "list(range(-2,6))"
   ]
  },
  {
   "cell_type": "markdown",
   "id": "d7059667",
   "metadata": {},
   "source": [
    "Siempre la diferencia de los números de la lista es de 1, para cambiarlo, se agrega una tercera condición"
   ]
  },
  {
   "cell_type": "code",
   "execution_count": 36,
   "id": "7cb0c587",
   "metadata": {},
   "outputs": [
    {
     "data": {
      "text/plain": [
       "[-2, 0, 2, 4]"
      ]
     },
     "execution_count": 36,
     "metadata": {},
     "output_type": "execute_result"
    }
   ],
   "source": [
    "list(range(-2,6,2)) # va en dos en dos."
   ]
  },
  {
   "cell_type": "markdown",
   "id": "546c2760",
   "metadata": {},
   "source": [
    "\n",
    "## Operadores\n"
   ]
  },
  {
   "cell_type": "markdown",
   "id": "fed2cab6",
   "metadata": {},
   "source": [
    "### Operadores aritméticos\n",
    "- **Adición:**  `+`\n",
    "- **Sustracción:** `-`\n",
    "- **Multiplicación:** `*`\n",
    "- **División:** `/`\n",
    "- **Floor division:** `//`\n",
    "- **Módulo:** `%`\n",
    "- **Potencia:** `**`"
   ]
  },
  {
   "cell_type": "markdown",
   "id": "87e9777c",
   "metadata": {},
   "source": [
    "### Operadores de comparación\n",
    "- **Igualdad:** `==`\n",
    "- **Mayor que:** `>`\n",
    "- **Menor que:** `<`\n",
    "- **Mayor o igual que:** `>=`\n",
    "- **Menor o igual que:** `<=`\n",
    "- **Diferente de:** `!=`"
   ]
  },
  {
   "cell_type": "markdown",
   "id": "d1d845a4",
   "metadata": {},
   "source": [
    "### Operadores lógicos\n",
    "- **Verdadero si ambos operandos son verdaderos:** `and` \n",
    "- **Verdadero si cualquiera de los operandos es verdadero:** `or`\n",
    "- **Negación:** `not`"
   ]
  },
  {
   "cell_type": "markdown",
   "id": "77d716b1",
   "metadata": {},
   "source": [
    "### Operadores de asignación\n",
    "- **Asignación:** `=`\n",
    "- **Sustraer:** `-=`\n",
    "- **Adición:** `+=`\n",
    "- **División:** `/=`\n",
    "- **Multiplicación:** `*=`\n",
    "- **Modulo:** `%=`\n",
    "- **División entera:** `//=`\n",
    "- **Potencia:** `**=`"
   ]
  },
  {
   "cell_type": "markdown",
   "id": "9d280fe5",
   "metadata": {},
   "source": [
    "### Referencias\n",
    "\n",
    "<ol>\n",
    "    <li> <a href=\"url\"> https://www.python.org/ </a> </li>\n",
    "    <li> <a href=\"url\"> https://jupyter.org/ </a></li>\n",
    "    <li> <a href=\"url\"> https://github.com </a></li>\n",
    "    <li> <a href=\"url\"> https://www.sublimetext.com/ </a></li>\n",
    "    <li> <a href=\"url\"> https://www.spyder-ide.org/ </a></li>\n",
    "    <li> <a href=\"url\"> https://code.visualstudio.com/ </a></li>  \n",
    "    <li> <a href=\"url\"> https://platzi.com/blog/historia-python/  </a></li>\n",
    "    <li> <a href=\"url\"> https://www.educba.com/install-jupyter-notebook/ </a></li>\n",
    "    <li> <a href=\"url\"> http://facundoq.github.io/courses/images/jupyter.html </a></li>\n",
    "    <li> <a href=\"url\"> https://www.programiz.com/python-programming/operators  </a></li>  \n",
    "</ol>"
   ]
  }
 ],
 "metadata": {
  "kernelspec": {
   "display_name": "Python 3",
   "language": "python",
   "name": "python3"
  },
  "language_info": {
   "codemirror_mode": {
    "name": "ipython",
    "version": 3
   },
   "file_extension": ".py",
   "mimetype": "text/x-python",
   "name": "python",
   "nbconvert_exporter": "python",
   "pygments_lexer": "ipython3",
   "version": "3.9.5"
  }
 },
 "nbformat": 4,
 "nbformat_minor": 5
}
