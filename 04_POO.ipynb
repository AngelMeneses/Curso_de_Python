{
 "cells": [
  {
   "cell_type": "markdown",
   "id": "76299fe3",
   "metadata": {},
   "source": [
    "# Programación Orientada a Objetos (POO)\n",
    "\n",
    "<hr>\n",
    "\n",
    "Angel Daniel Duarte Meneses (angel.duarte0117@gmail.com)\n",
    "\n",
    "Este material es sólo para fines académicos. \n",
    "\n",
    "Última actualización: 29/06/2021."
   ]
  },
  {
   "cell_type": "markdown",
   "id": "e5617134",
   "metadata": {},
   "source": [
    "<body>\n",
    "<div>\n",
    "    <center><h1 style='background:blue; border:0; color:white'><br>Tabla de contenido<br></h1></center>\n",
    "    <ul>\n",
    "        <li><a href=\"#Clases\">Clases</a></li>\n",
    "        <ul>\n",
    "            <li> <a href=\"#Instancias\">Instancias</a></li>\n",
    "        </ul>\n",
    "    </ul>\n",
    "</div>\n",
    "</body>"
   ]
  },
  {
   "cell_type": "markdown",
   "id": "0e38ff29",
   "metadata": {},
   "source": [
    "## Clases\n",
    "\n",
    "Las clases es una forma de juntar datos y funcionalidad. Una clase es un nuevo tipo de objeto."
   ]
  },
  {
   "cell_type": "code",
   "execution_count": null,
   "id": "ca93c212",
   "metadata": {},
   "outputs": [],
   "source": [
    "class MiPrimeraClase:\n",
    "    'Un primer ejemplo de una clase'\n",
    "    x = 5 + 7\n",
    "    def f():\n",
    "        return 'Sounan desu ka'"
   ]
  },
  {
   "cell_type": "code",
   "execution_count": null,
   "id": "e097d811",
   "metadata": {},
   "outputs": [],
   "source": [
    "MiPrimeraClase.x"
   ]
  },
  {
   "cell_type": "code",
   "execution_count": null,
   "id": "38cebf6b",
   "metadata": {
    "scrolled": false
   },
   "outputs": [],
   "source": [
    "MiPrimeraClase.f()"
   ]
  },
  {
   "cell_type": "markdown",
   "id": "80482e43",
   "metadata": {},
   "source": [
    "- Podemos acortar el nombre"
   ]
  },
  {
   "cell_type": "code",
   "execution_count": null,
   "id": "4581b487",
   "metadata": {},
   "outputs": [],
   "source": [
    "M = MiPrimeraClase"
   ]
  },
  {
   "cell_type": "code",
   "execution_count": null,
   "id": "81a1de42",
   "metadata": {},
   "outputs": [],
   "source": [
    "M.x"
   ]
  },
  {
   "cell_type": "code",
   "execution_count": null,
   "id": "49eb88df",
   "metadata": {
    "scrolled": true
   },
   "outputs": [],
   "source": [
    "M.f()"
   ]
  },
  {
   "cell_type": "markdown",
   "id": "f0943aec",
   "metadata": {},
   "source": [
    "### Atributos de la instancia\n",
    "\n",
    "En POO un objeto es una instancia de una clase, todas las clases crean objetos, y a su vez los objetos tienen atributos o características. Por ello, se cuenta con el método  `__init__`, para generar un estado inicial de una instancia. \n",
    "\n",
    "Recibe de forma obligatoria un primer argumento: `self` (es una referencia a la instancia)."
   ]
  },
  {
   "cell_type": "code",
   "execution_count": null,
   "id": "b5236f53",
   "metadata": {},
   "outputs": [],
   "source": [
    "# 'self' es como decir: 'a sí mismo'\n",
    "\n",
    "class C_2:\n",
    "    'Un segundo ejemplo de una clase'\n",
    "    x = 5 + 7\n",
    "    def f():\n",
    "        return 'Sounan desu ka'\n",
    "    # El método '__init__' para agregar datos de forma externa\n",
    "    def __init__(self, i):\n",
    "        self.data = [i]\n",
    "        "
   ]
  },
  {
   "cell_type": "code",
   "execution_count": null,
   "id": "6bd256ec",
   "metadata": {},
   "outputs": [],
   "source": [
    "C_2(1).data"
   ]
  },
  {
   "cell_type": "code",
   "execution_count": null,
   "id": "0c624e17",
   "metadata": {},
   "outputs": [],
   "source": [
    "class Perro:\n",
    "    # Todas las instancias comparten el mismo tipo\n",
    "    tipo = 'canino'\n",
    "    def __init__(self, nombre):\n",
    "        self.nombre = nombre"
   ]
  },
  {
   "cell_type": "code",
   "execution_count": null,
   "id": "e082c043",
   "metadata": {},
   "outputs": [],
   "source": [
    "perro_1 = Perro('Kiara')\n",
    "perro_2 = Perro('Tony')"
   ]
  },
  {
   "cell_type": "code",
   "execution_count": null,
   "id": "6067fd70",
   "metadata": {},
   "outputs": [],
   "source": [
    "perro_1.tipo"
   ]
  },
  {
   "cell_type": "code",
   "execution_count": null,
   "id": "b2e30850",
   "metadata": {},
   "outputs": [],
   "source": [
    "perro_2.tipo"
   ]
  },
  {
   "cell_type": "code",
   "execution_count": null,
   "id": "2c73755b",
   "metadata": {},
   "outputs": [],
   "source": [
    "perro_1.nombre"
   ]
  },
  {
   "cell_type": "code",
   "execution_count": null,
   "id": "6feafa8e",
   "metadata": {},
   "outputs": [],
   "source": [
    "perro_2.nombre"
   ]
  },
  {
   "cell_type": "code",
   "execution_count": null,
   "id": "bddaaf82",
   "metadata": {},
   "outputs": [],
   "source": [
    "%who"
   ]
  },
  {
   "cell_type": "markdown",
   "id": "3a860ea9",
   "metadata": {},
   "source": [
    "- **Ejercicio 1:** Cree una clase de gatos donde agregue y guarde: el nombre, el peso, y la fecha de nacimiento."
   ]
  },
  {
   "cell_type": "code",
   "execution_count": null,
   "id": "39b5639c",
   "metadata": {},
   "outputs": [],
   "source": []
  },
  {
   "cell_type": "markdown",
   "id": "d99b1ab0",
   "metadata": {},
   "source": [
    "- **Ejercicio 2:** Al ejercicio 1 agregarle una instancia de trucos, donde partiendo de una lista vacía, se vayan guardando los trucos que va aprendiendo el gato a lo largo del tiempo."
   ]
  },
  {
   "cell_type": "markdown",
   "id": "1245aa4b",
   "metadata": {},
   "source": [
    "## Referencias"
   ]
  },
  {
   "cell_type": "markdown",
   "id": "963687d9",
   "metadata": {},
   "source": [
    "<body>\n",
    "<p class=\"citation\", style = \"text-indent:-30px;Position: relative;\tpadding-left: 40px;font-size:14px\">\n",
    "    Python Software Foundation. Python Language Reference, version 3.9.5. Available at <a href=\"http://www.python.org\">http://www.python.org</a>.\n",
    "</p>\n",
    "\n",
    "<p class=\"citation\", style = \"text-indent:-30px;Position: relative;\tpadding-left: 40px;font-size:14px\">\n",
    "    Van Rossum, G., & Drake, F. L. (2009). <em> Python 3 Reference Manual</em>. Scotts Valley, CA: CreateSpace.\n",
    "</p>\n",
    "\n",
    "<p class=\"citation\", style = \"text-indent:-30px;Position: relative;\tpadding-left: 40px;font-size:14px\">\n",
    "    Fernando Pérez, Brian E. Granger, <em> IPython: A System for Interactive Scientific Computing</em>, Computing in Science and Engineering, vol. 9, no. 3, pp. 21-29, May/June 2007, <a href=\"doi:10.1109/MCSE.2007.53\">doi:10.1109/MCSE.2007.53</a>. URL: <a href=\"https://ipython.org\">https://ipython.org</a>.\n",
    "</p>\n",
    "\n",
    "</body>"
   ]
  }
 ],
 "metadata": {
  "kernelspec": {
   "display_name": "Python 3",
   "language": "python",
   "name": "python3"
  },
  "language_info": {
   "codemirror_mode": {
    "name": "ipython",
    "version": 3
   },
   "file_extension": ".py",
   "mimetype": "text/x-python",
   "name": "python",
   "nbconvert_exporter": "python",
   "pygments_lexer": "ipython3",
   "version": "3.9.5"
  }
 },
 "nbformat": 4,
 "nbformat_minor": 5
}
