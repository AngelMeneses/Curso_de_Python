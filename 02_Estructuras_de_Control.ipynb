{
 "cells": [
  {
   "cell_type": "markdown",
   "id": "09aead90",
   "metadata": {},
   "source": [
    "Author: Angel Daniel Duarte Meneses. \n",
    "\n",
    "Last Update: 16/06/2021.\n",
    "\n",
    "This material is for academic purposes only.\n"
   ]
  },
  {
   "cell_type": "markdown",
   "id": "3f11af40",
   "metadata": {},
   "source": [
    "<div class=\"idc-box\">\n",
    "    <div class=\"list-group\" id=\"list-tab\" role=\"tablist\">\n",
    "    <h2 class=\"list-group-item list-group-item-action active\" data-toggle=\"list\" style='background:blue; border:0; color:white' role=\"tab\" aria-controls=\"home\"><center>Tabla de contenidos</center></h2> </div>\n",
    "    <ul class=\"idc-lista\">\n",
    "        <li><a href=\"#Python\">Python</a></li>\n",
    "        <li><a href=\"#Tipos-de-datos\">Tipos de datos</a></li>\n",
    "        <ul>\n",
    "            <li> <a href=\"#Numéricos\">Numéricos</a></li>\n",
    "            <li> <a href=\"#Caracteres\">Caracteres</a></li>\n",
    "            <li> <a href=\"#Datos-lógicos-o-Booleanos\">Datos lógicos o Booleanos</a></li>\n",
    "        </ul> \n",
    "        <li><a href=\"##Operadores\">Operadores</a>\n",
    "        <ul>\n",
    "            <li> <a href=\"#Operadores-aritméticos\">Operadores aritméticos</a></li>\n",
    "            <li> <a href=\"#Operadores-de-comparación\">Operadores de comparación</a></li>\n",
    "            <li> <a href=\"#Operadores-lógicos\">Operadores lógicos</a></li>\n",
    "            <li> <a href=\"#Operadores-de-asignación\">Operadores de asignación</a></li>\n",
    "        </ul> \n",
    "        </li>\n",
    "    </ul>\n",
    "</div>"
   ]
  }
 ],
 "metadata": {
  "kernelspec": {
   "display_name": "Python 3",
   "language": "python",
   "name": "python3"
  },
  "language_info": {
   "codemirror_mode": {
    "name": "ipython",
    "version": 3
   },
   "file_extension": ".py",
   "mimetype": "text/x-python",
   "name": "python",
   "nbconvert_exporter": "python",
   "pygments_lexer": "ipython3",
   "version": "3.9.5"
  }
 },
 "nbformat": 4,
 "nbformat_minor": 5
}
