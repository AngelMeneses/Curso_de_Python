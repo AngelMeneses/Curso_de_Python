{
 "cells": [
  {
   "cell_type": "markdown",
   "id": "09aead90",
   "metadata": {},
   "source": [
    "Author: Angel Daniel Duarte Meneses. \n",
    "\n",
    "Last Update: 16/06/2021.\n",
    "\n",
    "This material is for academic purposes only.\n"
   ]
  },
  {
   "cell_type": "markdown",
   "id": "3f11af40",
   "metadata": {},
   "source": [
    "<div class=\"idc-box\">\n",
    "    <div class=\"list-group\" id=\"list-tab\" role=\"tablist\">\n",
    "    <h2 class=\"list-group-item list-group-item-action active\" data-toggle=\"list\" style='background:blue; border:0; color:white' role=\"tab\" aria-controls=\"home\"><center>Tabla de contenidos</center></h2> </div>\n",
    "    <ul class=\"idc-lista\">\n",
    "        <li><a href=\"#Python\">Lógica</a></li>\n",
    "        <li><a href=\"#Estructuras-de-control-condicionales\">Estructuras de control condicionales</a></li>        \n",
    "        <li><a href=\"#Estructuras-de-control-iterativas\">Estructuras de control iterativas</a></li>\n",
    "        <ul>\n",
    "            <li> <a href=\"#Bucle-while\">El bucle while</a></li>\n",
    "            <li> <a href=\"#Bucle-for\">El bucle for</a></li>\n",
    "        </ul> \n",
    "    </ul>\n",
    "</div>"
   ]
  },
  {
   "cell_type": "markdown",
   "id": "85d966e3",
   "metadata": {},
   "source": [
    "## Estructuras de control condicionales\n",
    "\n",
    "\n",
    "Existen las condicionales `if`, `else` y `elif`, tienen la siguiente forma:\n",
    "\n",
    "```python\n",
    "if [condición]:\n",
    "    ...\n",
    "elif [condición]:\n",
    "    ...\n",
    "else:\n",
    "    ...\n",
    "```\n"
   ]
  },
  {
   "cell_type": "markdown",
   "id": "df449928",
   "metadata": {},
   "source": [
    "## Estructuras de control iterativas"
   ]
  },
  {
   "cell_type": "markdown",
   "id": "ec508fd5",
   "metadata": {},
   "source": [
    "### Bucle while\n",
    "\n",
    "El bucle `while` tiene la siguiente forma:\n",
    "\n",
    "```python\n",
    "while [condición]:\n",
    "    ...\n",
    "```"
   ]
  },
  {
   "cell_type": "markdown",
   "id": "15279e20",
   "metadata": {},
   "source": [
    "### Bucle for\n",
    "\n",
    "El bucle `for` tiene la siguiente forma:\n",
    "\n",
    "```python\n",
    "for [iterator]:\n",
    "    ...\n",
    "```"
   ]
  },
  {
   "cell_type": "markdown",
   "id": "f8c83d18",
   "metadata": {},
   "source": [
    "### Ejercicio 1\n",
    "\n",
    "Escribe un programa que, solicite por pantalla un número entero, y que devuelva impreso por pantalla la tabla de multiplicar de dicho número del 1 al 10. \n",
    "\n",
    "Ejemplo: \n",
    "\n",
    "Input a number: 9\n",
    "- 9 x 1 = 9\n",
    "- 9 x 2 = 18\n",
    "- 9 x 3 = 27\n",
    "- 9 x 4 = 36\n",
    "- 9 x 5 = 45\n",
    "- 9 x 6 = 54\n",
    "- 9 x 7 = 63\n",
    "- 9 x 8 = 72\n",
    "- 9 x 9 = 81\n",
    "- 9 x 10 = 90"
   ]
  },
  {
   "cell_type": "markdown",
   "id": "9a477191",
   "metadata": {},
   "source": [
    "### Ejercicio 2\n",
    "Escribe código tal que imprima por pantalla la cantidad de números pares e impares de una lista."
   ]
  },
  {
   "cell_type": "markdown",
   "id": "4ea2d572",
   "metadata": {},
   "source": [
    "### Ejercicio 3\n",
    "Escribe código que solicite por pantalla la longitud de los lados del triángulo, y luego imprima si es equilatero, escaleno o isósceles. \n",
    "\n",
    "\n",
    "### Teniendo en cuenta que:\n",
    "<ol>\n",
    "<li value=\"1\">Un triangulo Equilátero es aquel que tiene 3 lados iguales. </li>\n",
    "<li>Un triangulo Isósceles es aquel que tiene 2 lados iguales. </li>\n",
    "<li>Un triangulo Escaleno es aquel que no tiene lados iguales. </li>\n",
    "\n",
    "<img \n",
    "     src = \"https://solucionesproblemas.com/wp-content/uploads/2020/05/triangulos-longitud-lados.png\"\n",
    "     width =  500,\n",
    "     aling = \"center\" \n",
    "     >"
   ]
  }
 ],
 "metadata": {
  "kernelspec": {
   "display_name": "Python 3",
   "language": "python",
   "name": "python3"
  },
  "language_info": {
   "codemirror_mode": {
    "name": "ipython",
    "version": 3
   },
   "file_extension": ".py",
   "mimetype": "text/x-python",
   "name": "python",
   "nbconvert_exporter": "python",
   "pygments_lexer": "ipython3",
   "version": "3.9.5"
  }
 },
 "nbformat": 4,
 "nbformat_minor": 5
}
