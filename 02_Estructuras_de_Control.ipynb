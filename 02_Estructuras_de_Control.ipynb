{
 "cells": [
  {
   "cell_type": "markdown",
   "id": "09aead90",
   "metadata": {},
   "source": [
    "Author: Angel Daniel Duarte Meneses. \n",
    "\n",
    "First update: 16/06/2021.\n",
    "\n",
    "Last update: 17/06/2021.\n",
    "\n",
    "This material is for academic purposes only.\n"
   ]
  },
  {
   "cell_type": "markdown",
   "id": "3f11af40",
   "metadata": {},
   "source": [
    "<div class=\"idc-box\">\n",
    "    <div class=\"list-group\" id=\"list-tab\" role=\"tablist\">\n",
    "    <h2 class=\"list-group-item list-group-item-action active\" data-toggle=\"list\" style='background:blue; border:0; color:white' role=\"tab\" aria-controls=\"home\"><center>Tabla de contenido</center></h2> </div>\n",
    "    <ul class=\"idc-lista\">\n",
    "        <li><a href=\"#Contexto\">Contexto</a></li>\n",
    "        <li><a href=\"#Estructura-Condicional\">Estructura Condicional</a></li>        \n",
    "        <li><a href=\"#Estructuras-Iterativas\">Estructuras Iterativas</a></li>\n",
    "        <ul>\n",
    "            <li> <a href=\"#Bucle-while\">El bucle while</a></li>\n",
    "            <li> <a href=\"#Bucle-for\">El bucle for</a></li>\n",
    "        </ul> \n",
    "        <li><a href=\"#Funciones\">Funciones</a></li>\n",
    "        <li><a href=\"#Referencias\">Referencias</a></li>\n",
    "    </ul>\n",
    "</div>"
   ]
  },
  {
   "cell_type": "markdown",
   "id": "6c0e5e3f",
   "metadata": {},
   "source": [
    "## Contexto\n",
    "\n",
    "Para presentar las distintas estructuras de control que hay en Python: If, While y For; se ilustra su funcionamiento con diagramas de flujo. Una explicación intuitiva, y ejemplos en cada apartado."
   ]
  },
  {
   "cell_type": "markdown",
   "id": "85d966e3",
   "metadata": {},
   "source": [
    "## Estructura Condicional\n",
    "\n",
    "\n",
    "Existen las condicionales `if`, `elif` y `else`, tienen la siguiente sintaxis:\n",
    "\n",
    "```python\n",
    "if [condición lógica 1]:\n",
    "    [compila cuando se cumple la condición 1]\n",
    "    \n",
    "elif [condición lógica 2]:\n",
    "    ...\n",
    "    \n",
    "elif [condición lógica n]:\n",
    "    [compila cuando se cumple la condición n]\n",
    "    \n",
    "else:\n",
    "    [en otros casos, cuando no se cumple ninguna condición]\n",
    "```\n"
   ]
  },
  {
   "cell_type": "markdown",
   "id": "6b82a569",
   "metadata": {},
   "source": [
    "En el siguiente diagrama de flujo se puede apreciar de una mejor manera; en este caso la estructura puede generar dos resultados, cuando la condición (condición lógica o booleana) es verdadera y falsa.  \n",
    "\n",
    "<figure>\n",
    "  <img src=\"https://rsanchezs.gitbooks.io/ciencia-de-datos-con-r/content/estructuras_control/images/if.png\" style=\"width:45%\">\n",
    "  <center>\n",
    "   <figcaption> Figura 1. Diagrama de flujo de <mark> if, </mark> tomado de: <a class=\"url\"> https://rsanchezs.gitbooks.io/ciencia-de-datos-con-r/content/estructuras_control/condicionales/estructuras_condicionales.html </a>\n",
    "   </figcaption>\n",
    "    </center>\n",
    "</figure>\n",
    "\n",
    "Es decir, solo se hace uso de una condición para determinar el funcionamiento de todo el proceso. \n",
    "\n",
    "- **Ejemplo 1:** Se quiere determinar cuando hay exceso de velocidad; la zona determina que: la velocidad por encima de los 60 Km/h, hay exceso de velocidad."
   ]
  },
  {
   "cell_type": "code",
   "execution_count": 1,
   "id": "9c4bdb44",
   "metadata": {},
   "outputs": [
    {
     "name": "stdout",
     "output_type": "stream",
     "text": [
      "No tiene exceso de velocidad\n"
     ]
    }
   ],
   "source": [
    "# Ejemplo 1\n",
    "vel_Km_h = 50\n",
    "if vel_Km_h > 60:\n",
    "    print(\"Tiene exceso de velocidad\")\n",
    "else:\n",
    "    print(\"No tiene exceso de velocidad\")"
   ]
  },
  {
   "cell_type": "markdown",
   "id": "5d874b17",
   "metadata": {},
   "source": [
    "De forma consecutiva, se puede diseñar una estructura condicional con más condicional haciendo uso del `elif`. Por ello, consideremos que, en el ejemplo anterior, la zona determina que: por encima de los 70 es exceso de velocidad, y entre 70 y 60 KM/h el conductor recibe una advertencia, y en otros casos, no tiene exceso de velocidad. Es decir:"
   ]
  },
  {
   "cell_type": "code",
   "execution_count": 2,
   "id": "0ad2cc02",
   "metadata": {},
   "outputs": [
    {
     "name": "stdout",
     "output_type": "stream",
     "text": [
      "Alerta: no exceda el límite de velocidad fijado en 70 Km/h.\n"
     ]
    }
   ],
   "source": [
    "vel_Km_h = 64\n",
    "if vel_Km_h > 70:\n",
    "    print(\"Tiene exceso de velocidad.\")\n",
    "elif (70>=vel_Km_h) and (vel_Km_h>=60):\n",
    "    print(\"Alerta: no exceda el límite de velocidad fijado en 70 Km/h.\")\n",
    "else:\n",
    "    print(\"No tiene exceso de velocidad.\")"
   ]
  },
  {
   "cell_type": "markdown",
   "id": "df449928",
   "metadata": {},
   "source": [
    "## Estructuras Iterativas"
   ]
  },
  {
   "cell_type": "markdown",
   "id": "ec508fd5",
   "metadata": {},
   "source": [
    "### Bucle while\n",
    "\n",
    "El bucle `while` tiene la siguiente forma:\n",
    "\n",
    "```python\n",
    "while [condición]:\n",
    "    ...\n",
    "```\n",
    "Los bucles `While` siempre van a compilar o iterar siempre que la condición sea verdadera, por tanto, se hace uso en muchas ocasiones los contadores, para que en cierto punto el programa deje de iterar, y no se cree un bucle infinito.\n",
    "\n",
    "Por tanto, podemos diseñar un contador de la siguiente manera:"
   ]
  },
  {
   "cell_type": "code",
   "execution_count": 3,
   "id": "a6a52f2a",
   "metadata": {},
   "outputs": [
    {
     "name": "stdout",
     "output_type": "stream",
     "text": [
      "0\n",
      "1\n",
      "2\n",
      "3\n",
      "4\n"
     ]
    }
   ],
   "source": [
    "i = 0\n",
    "while i < 5:\n",
    "    print(i)\n",
    "    i += 1\n"
   ]
  },
  {
   "cell_type": "markdown",
   "id": "e93b2667",
   "metadata": {},
   "source": [
    "La variable `i` es un contador que empieza de 0, y siempre que itera el `While` se va sumando `1` a `i` consecutivamente, hasta que `i` vale `5`, y el bucle se rompe. \n",
    "\n",
    "Existe también la instrucción `break`, cuando se compila rompe de una el ciclo, sin necesidad de hacer falta la condición del `While`, es decir:"
   ]
  },
  {
   "cell_type": "code",
   "execution_count": 4,
   "id": "658c452f",
   "metadata": {},
   "outputs": [
    {
     "name": "stdout",
     "output_type": "stream",
     "text": [
      "0\n"
     ]
    }
   ],
   "source": [
    "i = 0\n",
    "while i < 5:\n",
    "    print(i)\n",
    "    break"
   ]
  },
  {
   "cell_type": "markdown",
   "id": "15279e20",
   "metadata": {},
   "source": [
    "### Bucle for\n",
    "\n",
    "El bucle `for` tiene la siguiente forma:\n",
    "\n",
    "```python\n",
    "for [iterator]:\n",
    "    ...\n",
    "```\n",
    "Esta estructura va iterando en cada uno de los elementos dados en la condición, pueden ser elementos de una lista o un rango. Es decir:"
   ]
  },
  {
   "cell_type": "code",
   "execution_count": 5,
   "id": "84f52ffe",
   "metadata": {},
   "outputs": [
    {
     "name": "stdout",
     "output_type": "stream",
     "text": [
      "1\n",
      "2\n",
      "5\n"
     ]
    }
   ],
   "source": [
    "for i in [1,2,5]:\n",
    "    print(i)"
   ]
  },
  {
   "cell_type": "markdown",
   "id": "85b15065",
   "metadata": {},
   "source": [
    "Itero en cada uno de los elementos de la lista `[1,2,5]`."
   ]
  },
  {
   "cell_type": "markdown",
   "id": "1fcca3e6",
   "metadata": {},
   "source": [
    "## Funciones"
   ]
  },
  {
   "cell_type": "markdown",
   "id": "244ee585",
   "metadata": {},
   "source": [
    "Para crear o definir una función se usa `def`, la sintaxis sería:\n",
    "\n",
    "```python\n",
    "def nombre(variables):\n",
    "    ...\n",
    "```\n",
    "Donde se especifica el nombre de la funciones, y las variables necesarias.\n",
    "\n",
    "- Por ejemplo: una función que dado un número genere este mismo elevado a la 4.\n"
   ]
  },
  {
   "cell_type": "code",
   "execution_count": 6,
   "id": "0ce01c44",
   "metadata": {},
   "outputs": [],
   "source": [
    "def f(x):\n",
    "    return x**4"
   ]
  },
  {
   "cell_type": "markdown",
   "id": "ad16d793",
   "metadata": {},
   "source": [
    "Ya se tiene creada la función, ahora se llama:"
   ]
  },
  {
   "cell_type": "code",
   "execution_count": 7,
   "id": "3d4fdc0b",
   "metadata": {},
   "outputs": [
    {
     "data": {
      "text/plain": [
       "16"
      ]
     },
     "execution_count": 7,
     "metadata": {},
     "output_type": "execute_result"
    }
   ],
   "source": [
    "x = 2\n",
    "f(x)"
   ]
  },
  {
   "cell_type": "markdown",
   "id": "11f7455b",
   "metadata": {},
   "source": [
    "De manera equivalente, se puede colocar el número directamente:"
   ]
  },
  {
   "cell_type": "code",
   "execution_count": 8,
   "id": "bb8cbe8e",
   "metadata": {
    "scrolled": true
   },
   "outputs": [
    {
     "data": {
      "text/plain": [
       "16"
      ]
     },
     "execution_count": 8,
     "metadata": {},
     "output_type": "execute_result"
    }
   ],
   "source": [
    "f(2)"
   ]
  },
  {
   "cell_type": "markdown",
   "id": "2bd3d6d1",
   "metadata": {},
   "source": [
    "## List Comprehension\n",
    "\n",
    "List Comprehension nace para simplificar una estructura de control. Esto se puede dilusidar de mejor manera en la práctica.\n",
    "\n",
    "La sintaxis es:\n",
    "\n",
    "```python\n",
    "nuevalista = [expresión for item in iterable if condición == True]\n",
    "```\n"
   ]
  },
  {
   "cell_type": "markdown",
   "id": "1173a4c1",
   "metadata": {},
   "source": [
    "- **Ejemplo 1:**"
   ]
  },
  {
   "cell_type": "code",
   "execution_count": 14,
   "id": "3a7f3d56",
   "metadata": {},
   "outputs": [
    {
     "data": {
      "text/plain": [
       "[0, 1, 2, 3]"
      ]
     },
     "execution_count": 14,
     "metadata": {},
     "output_type": "execute_result"
    }
   ],
   "source": [
    "# Introducir los números de un rango en una lista\n",
    "Lista = []\n",
    "for i in range(4):\n",
    "    Lista.append(i)\n",
    "Lista"
   ]
  },
  {
   "cell_type": "code",
   "execution_count": 15,
   "id": "765f96f0",
   "metadata": {
    "scrolled": true
   },
   "outputs": [
    {
     "data": {
      "text/plain": [
       "[0, 1, 2, 3]"
      ]
     },
     "execution_count": 15,
     "metadata": {},
     "output_type": "execute_result"
    }
   ],
   "source": [
    "# Lo anterior con List Comprehension\n",
    "[i for i in range(4)]"
   ]
  },
  {
   "cell_type": "markdown",
   "id": "b3eefd9b",
   "metadata": {},
   "source": [
    "- **Ejemplo 2:**"
   ]
  },
  {
   "cell_type": "code",
   "execution_count": 11,
   "id": "dd96e5de",
   "metadata": {},
   "outputs": [
    {
     "data": {
      "text/plain": [
       "[2, 4, 6]"
      ]
     },
     "execution_count": 11,
     "metadata": {},
     "output_type": "execute_result"
    }
   ],
   "source": [
    "# Se quiere agregar los números pares de una lista en otra aparte.\n",
    "pares = []\n",
    "for i in [1,2,3,4,5,6]:\n",
    "    if i%2==0:\n",
    "        pares.append(i)\n",
    "pares"
   ]
  },
  {
   "cell_type": "code",
   "execution_count": 13,
   "id": "f0bf6d38",
   "metadata": {},
   "outputs": [
    {
     "data": {
      "text/plain": [
       "[2, 4, 6]"
      ]
     },
     "execution_count": 13,
     "metadata": {},
     "output_type": "execute_result"
    }
   ],
   "source": [
    "# Con List Comprehension, simplifica lo anterior en una solo linea.\n",
    "[i for i in [1,2,3,4,5,6] if i%2==0]"
   ]
  },
  {
   "cell_type": "markdown",
   "id": "ee6aa6fa",
   "metadata": {},
   "source": [
    "### Referencias\n",
    "\n",
    "<ol>\n",
    "    <li> <a href=\"url\"> https://www.python.org/ </a> </li>\n",
    "    <li> <a href=\"url\"> https://jupyter.org/ </a></li>\n",
    "    <li> <a href=\"url\"> https://github.com </a></li>  \n",
    "    <li> <a href=\"url\"> https://rsanchezs.gitbooks.io/ciencia-de-datos-con-r/content/estructuras_control/condicionales/estructuras_condicionales.html </a> </li>\n",
    "</ol>"
   ]
  }
 ],
 "metadata": {
  "kernelspec": {
   "display_name": "Python 3",
   "language": "python",
   "name": "python3"
  },
  "language_info": {
   "codemirror_mode": {
    "name": "ipython",
    "version": 3
   },
   "file_extension": ".py",
   "mimetype": "text/x-python",
   "name": "python",
   "nbconvert_exporter": "python",
   "pygments_lexer": "ipython3",
   "version": "3.9.5"
  }
 },
 "nbformat": 4,
 "nbformat_minor": 5
}
