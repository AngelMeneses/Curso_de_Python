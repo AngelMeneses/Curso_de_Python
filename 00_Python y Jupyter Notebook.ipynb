{
 "cells": [
  {
   "cell_type": "markdown",
   "id": "75d82da9",
   "metadata": {},
   "source": [
    "Author: Angel Daniel Duarte Meneses. \n",
    "\n",
    "First update: 17/06/2021.\n",
    "\n",
    "Last update: 26/06/2021.\n",
    "\n",
    "This material is for academic purposes only."
   ]
  },
  {
   "cell_type": "markdown",
   "id": "4017c26f",
   "metadata": {},
   "source": [
    "<body>\n",
    "<div>\n",
    "    <center><h1 style='background:blue; border:0; color:white'><br>Tabla de contenido<br></h1></center>\n",
    "    <ul>\n",
    "        <li><a href=\"#Python\">Python</a>\n",
    "            <ul>\n",
    "                <li><a href=\"#Asignación\">Asignación</a></li>\n",
    "                <li><a href=\"#Imprimir-en-pantalla\">Imprimir en pantalla</a></li>\n",
    "            </ul>\n",
    "        </li>\n",
    "        <li><a href=\"#Jupyter-Notebook\">Jupyter Notebook</a>\n",
    "            <ul>\n",
    "                <li><a href=\"#Bloque-Markdown\">Bloque Markdown</a>\n",
    "                    <ul>\n",
    "                        <li><a href=\"#Títulos\">Títulos</a></li>\n",
    "                        <li><a href=\"#Listas\">Listas</a></li>\n",
    "                        <li><a href=\"#Texto-en-negrita-y-cursiva\">Texto en negrita y cursiva</a></li>\n",
    "                    </ul>\n",
    "                </li>\n",
    "            </ul>\n",
    "        </li>\n",
    "    </ul>\n",
    "</div>"
   ]
  },
  {
   "cell_type": "markdown",
   "id": "22de5793",
   "metadata": {},
   "source": [
    "## Python\n",
    "\n",
    "Páginas oficiales de Python, Jupyter notebook y demás: \n",
    "<ul>\n",
    "    <li>Python: <a href=\"https://www.python.org/ \">  https://www.python.org/ </a> </li>\n",
    "<li>Jupyter Notebook: <a href=\"https://jupyter.org/\"> https://jupyter.org/  </a> </li>\n",
    "<li>Python en línea (Google Colaboratory): <a href=\"https://colab.research.google.com/\"> https://colab.research.google.com/ </a> </li> \n",
    "<li>Otros editores de texto: \n",
    "    <ul>\n",
    "    <li>Sublime Text: <a href=\"https://www.sublimetext.com/\"> https://www.sublimetext.com/  </a> </li>  \n",
    "    <li>Spyder: <a href=\"https://www.spyder-ide.org/\"> https://www.spyder-ide.org/ </a> </li>\n",
    "    <li>Visual Studio Code: <a href=\"https://code.visualstudio.com/\"> https://code.visualstudio.com/ </a> </li>  \n",
    "    <li>y más.</li>  \n",
    "    </ul>\n",
    "</li>\n",
    "</ul>"
   ]
  },
  {
   "cell_type": "markdown",
   "id": "d85c1d25",
   "metadata": {},
   "source": [
    "\n",
    "<div class=\"alert alert-info\"><b> Consideraciones de sintaxis:  </b>  \n",
    "    <ul>\n",
    "        <li>La extensión de un archivo en python es <mark class=\"white\">.py</mark>, en jupyter notebook es <mark class=\"white\">.ipynb</mark>.</li>\n",
    "    <li>Es un lenguaje case-sensitive, es decir, hace diferenciación entre mayúsculas y minúsculas.</li>\n",
    "    <li>Al crear una variable no se debe empezar por un número y no introducir espacios intermedios.</li>\n",
    "    <li>Para indicar el decimal de algún número es con punto y no coma.</li>    \n",
    "    <li>Comentarios se crean con el símbolo <mark class=\"white\">#</mark>.</li>    \n",
    "    <li>Hay palabra reservada como <mark class=\"white\">def</mark>, no deben ser usadas para crear algún objeto.</li>    \n",
    "    </ul>\n",
    "</div>\n",
    "\n"
   ]
  },
  {
   "cell_type": "markdown",
   "id": "e215929d",
   "metadata": {},
   "source": [
    "### Asignación\n",
    "\n",
    "Para crear una variable y asignarle algun valor es con `=`\n",
    "\n",
    "- Con `control + enter` se compila el bloque de código en jupyter notebook."
   ]
  },
  {
   "cell_type": "code",
   "execution_count": 4,
   "id": "80a9cea2",
   "metadata": {},
   "outputs": [],
   "source": [
    "# x vale 2\n",
    "x = 2 \n",
    "# y vale x +5\n",
    "y = x + 5"
   ]
  },
  {
   "cell_type": "code",
   "execution_count": 5,
   "id": "796ea4e7",
   "metadata": {},
   "outputs": [
    {
     "name": "stdout",
     "output_type": "stream",
     "text": [
      "x\t y\t \n"
     ]
    }
   ],
   "source": [
    "# %who: para ver las variables y más, que se encuentran en el espacio de trabajo.\n",
    "%who"
   ]
  },
  {
   "cell_type": "code",
   "execution_count": 6,
   "id": "b6006c54",
   "metadata": {},
   "outputs": [
    {
     "name": "stdout",
     "output_type": "stream",
     "text": [
      "Variable   Type    Data/Info\n",
      "----------------------------\n",
      "x          int     2\n",
      "y          int     7\n"
     ]
    }
   ],
   "source": [
    "# Con más detalles\n",
    "%whos"
   ]
  },
  {
   "cell_type": "markdown",
   "id": "7159828a",
   "metadata": {},
   "source": [
    "### Imprimir en pantalla"
   ]
  },
  {
   "cell_type": "code",
   "execution_count": 7,
   "id": "ffe74fad",
   "metadata": {},
   "outputs": [
    {
     "name": "stdout",
     "output_type": "stream",
     "text": [
      "2\n",
      "7\n"
     ]
    }
   ],
   "source": [
    "# Ver el valor de x\n",
    "print(x)\n",
    "\n",
    "# Ver el valor de y\n",
    "print(y)"
   ]
  },
  {
   "cell_type": "code",
   "execution_count": 8,
   "id": "195b114d",
   "metadata": {},
   "outputs": [
    {
     "name": "stdout",
     "output_type": "stream",
     "text": [
      "Hola mundo\n"
     ]
    }
   ],
   "source": [
    "# Mostrar una frase o palabra\n",
    "print(\"Hola mundo\")"
   ]
  },
  {
   "cell_type": "code",
   "execution_count": 9,
   "id": "0f881cb5",
   "metadata": {},
   "outputs": [
    {
     "name": "stdout",
     "output_type": "stream",
     "text": [
      "Hola mundo, x vale 2\n",
      "Hola mundo, x vale 2 e y vale 7\n"
     ]
    }
   ],
   "source": [
    "# Dentro de la frase una variable\n",
    "## Antes de la frase escribi una f, y dentro del texto entre llaves {} la variable o variables\n",
    "print(f\"Hola mundo, x vale {x}\")\n",
    "\n",
    "print(f\"Hola mundo, x vale {x} e y vale {y}\")"
   ]
  },
  {
   "cell_type": "code",
   "execution_count": 11,
   "id": "a6a87784",
   "metadata": {
    "scrolled": true
   },
   "outputs": [
    {
     "name": "stdout",
     "output_type": "stream",
     "text": [
      "Hola mundo, x vale 2\n",
      "Hola mundo, x vale 2 e y vale 7\n"
     ]
    }
   ],
   "source": [
    "# Lo anterior se puede hacer con la fución 'format()'\n",
    "print(\"Hola mundo, x vale {}\".format(x))\n",
    "print(\"Hola mundo, x vale {} e y vale {}\".format(x,y))"
   ]
  },
  {
   "cell_type": "markdown",
   "id": "f63bacbc",
   "metadata": {},
   "source": [
    "## Jupyter Notebook\n",
    "\n",
    "Dentro de un notebook de jupyter tenemos dos tipos principales de bloques, uno para códigos de Python y otro para visualizar texto (Markdown).\n",
    "\n",
    "- De forma predeterminada los bloques son siempre de código, si no lo son, se selecciona y pulsando la tecla `Y` se convierte en un bloque de código.\n",
    "\n",
    "- Si queremos escribir un título, texto o ecuación, seleccionar el bloque y pulsar la tecla `M` para convertirlo en formato Markdown."
   ]
  },
  {
   "cell_type": "markdown",
   "id": "a8a9e325",
   "metadata": {},
   "source": [
    "### Bloque Markdown\n",
    "\n",
    "Los bloques Markdown reciben lenguaje Markdown, HTML y LaTeX, es muy dinámico y útil, para escribir.\n",
    "\n",
    "### Títulos\n",
    "\n",
    "- Para escribir títulos se puede usar el lenguaje Markdown donde los `#` determinan el tamaño y por ende la importancia de los títulos, o bien secciones, subsecciones y demás. Por ejemplo:"
   ]
  },
  {
   "cell_type": "markdown",
   "id": "078eb3f6",
   "metadata": {},
   "source": [
    "# Título más grande\n",
    "## Un poco más pequeño\n",
    "### Entre más `###` se pone\n",
    "### más pequeño\n",
    "#### ..."
   ]
  },
  {
   "cell_type": "markdown",
   "id": "52453a7f",
   "metadata": {},
   "source": [
    "- De forma equivalente se puede usar HTML"
   ]
  },
  {
   "cell_type": "markdown",
   "id": "43da79e5",
   "metadata": {},
   "source": [
    "<h1> Título más grande </h1>\n",
    "    \n",
    "<h2> Un poco más pequeño </h2>\n",
    "\n",
    "<h3> Entre más grande el número de h</h3>\n",
    "\n",
    "<h4> se pone más pequeño</h4>\n",
    "\n",
    "<h3> ... </h3>"
   ]
  },
  {
   "cell_type": "markdown",
   "id": "aa335431",
   "metadata": {},
   "source": [
    "### Listas\n",
    "\n",
    "Para escribir una lista se usa guiones o números, es decir:"
   ]
  },
  {
   "cell_type": "markdown",
   "id": "2ac54d70",
   "metadata": {},
   "source": [
    "- Con guiones.\n",
    "- Doble click para ver el código de este bloque.\n",
    "- Hola mundo.\n",
    "- Control + enter para compilar esto.\n",
    "\n",
    "1. Con números.\n",
    "1. Doble click para ver el código de este bloque.\n",
    "1. Hola mundo.\n",
    "1. Control + enter para compilar esto."
   ]
  },
  {
   "cell_type": "markdown",
   "id": "7e3f9cc3",
   "metadata": {},
   "source": [
    "Con HTML\n",
    "\n",
    "<ul>\n",
    "    <li>Lista equivalente a los guiones</li>\n",
    "    <li><a href=\"#Asignación\">Asignación</a></li>\n",
    "    <li><a href=\"#Imprimir-en-pantalla\">Imprimir en pantalla</a></li>\n",
    "</ul>\n",
    "\n",
    "<ol>\n",
    "    <li>Lista con números</li>\n",
    "    <li><a href=\"#Asignación\">Asignación</a></li>\n",
    "    <li><a href=\"#Imprimir-en-pantalla\">Imprimir en pantalla</a></li>\n",
    "</ol>"
   ]
  },
  {
   "cell_type": "markdown",
   "id": "d8b57faa",
   "metadata": {},
   "source": [
    "###  Texto en negrita y cursiva\n",
    "\n",
    "Lenguaje **Markdown**.\n",
    "\n",
    "Con <strong>HTML</strong>.\n",
    "\n",
    "Lenguaje __Markdwon__. Y aquí con <strong>HTML</strong>."
   ]
  },
  {
   "cell_type": "markdown",
   "id": "6eb1cb22",
   "metadata": {},
   "source": [
    "### Usar $\\mathrm{\\LaTeX}$\n",
    "\n",
    "Podemos usar en su mayoria los comandos principales de LaTeX. Por ejemplo : $x=y^{2}$ también $\\lim_{x\\rightarrow 0}\\left( \\dfrac{x^{2}}{x} \\right)$ \n",
    "\n",
    "\\begin{equation}\n",
    "\\lim_{x\\rightarrow 0}\\left( \\dfrac{x^{2}}{x} \\right) = \\lim_{x\\rightarrow 0}\\left( x \\right) = 0\n",
    "\\end{equation}\n",
    "\n"
   ]
  },
  {
   "cell_type": "markdown",
   "id": "cee010f2",
   "metadata": {},
   "source": [
    "## Referencias"
   ]
  },
  {
   "cell_type": "markdown",
   "id": "95f7bea5",
   "metadata": {},
   "source": [
    "<body>\n",
    "<p class=\"citation\", style = \"text-indent:-30px; Position:relative; padding-left:40px; font-size:14px\">Python Software Foundation. Python Language Reference, version 3.9.5. Available at <a href=\"http://www.python.org\">http://www.python.org</a>. </p>\n",
    "\n",
    "<p class=\"citation\", style = \"text-indent:-30px;Position: relative;\tpadding-left: 40px;font-size:14px\"> Van Rossum, G., & Drake, F. L. (2009). <em> Python 3 Reference Manual</em>. Scotts Valley, CA: CreateSpace.</p>\n",
    "\n",
    "<p class=\"citation\", style = \"text-indent:-30px;Position: relative;\tpadding-left: 40px;font-size:14px\"> Fernando Pérez, Brian E. Granger, <em> IPython: A System for Interactive Scientific Computing</em>, Computing in Science and Engineering, vol. 9, no. 3, pp. 21-29, May/June 2007, <a href=\"doi:10.1109/MCSE.2007.53\">doi:10.1109/MCSE.2007.53</a>. URL: <a href=\"https://ipython.org\">https://ipython.org</a>. </p>\n",
    "</body>"
   ]
  }
 ],
 "metadata": {
  "kernelspec": {
   "display_name": "Python 3",
   "language": "python",
   "name": "python3"
  },
  "language_info": {
   "codemirror_mode": {
    "name": "ipython",
    "version": 3
   },
   "file_extension": ".py",
   "mimetype": "text/x-python",
   "name": "python",
   "nbconvert_exporter": "python",
   "pygments_lexer": "ipython3",
   "version": "3.9.5"
  }
 },
 "nbformat": 4,
 "nbformat_minor": 5
}
