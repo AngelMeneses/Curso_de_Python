{
 "cells": [
  {
   "cell_type": "markdown",
   "id": "75d82da9",
   "metadata": {},
   "source": [
    "Author: Angel Daniel Duarte Meneses. \n",
    "\n",
    "First update: 17/06/2021.\n",
    "\n",
    "Last update: 25/06/2021.\n",
    "\n",
    "This material is for academic purposes only."
   ]
  },
  {
   "cell_type": "markdown",
   "id": "4017c26f",
   "metadata": {},
   "source": [
    "<body>\n",
    "<div>\n",
    "    <center><h1 style='background:blue; border:0; color:white'><br>Tabla de contenido<br></h1></center>\n",
    "    <ul>\n",
    "        <li><a href=\"#Python\">Python</a>\n",
    "            <ul>\n",
    "                <li><a href=\"#Asignación\">Asignación</a></li>\n",
    "                <li><a href=\"#Imprimir-en-pantalla\">Imprimir en pantalla</a></li>\n",
    "            </ul>\n",
    "        </li>\n",
    "    </ul>\n",
    "</div>"
   ]
  },
  {
   "cell_type": "markdown",
   "id": "22de5793",
   "metadata": {},
   "source": [
    "## Python\n",
    "\n",
    "Páginas oficiales de Python, Jupyter notebook y demás: \n",
    "<ul>\n",
    "    <li>Python: <a href=\"https://www.python.org/ \">  https://www.python.org/ </a> </li>\n",
    "<li>Jupyter Notebook: <a href=\"https://jupyter.org/\"> https://jupyter.org/  </a> </li>\n",
    "<li>Python en línea (Google Colaboratory): <a href=\"https://colab.research.google.com/\"> https://colab.research.google.com/ </a> </li> \n",
    "<li>Otros editores de texto: \n",
    "    <ul>\n",
    "    <li>Sublime Text: <a href=\"https://www.sublimetext.com/\"> https://www.sublimetext.com/  </a> </li>  \n",
    "    <li>Spyder: <a href=\"https://www.spyder-ide.org/\"> https://www.spyder-ide.org/ </a> </li>\n",
    "    <li>Visual Studio Code: <a href=\"https://code.visualstudio.com/\"> https://code.visualstudio.com/ </a> </li>  \n",
    "    <li>y más.</li>  \n",
    "    </ul>\n",
    "</li>\n",
    "</ul>"
   ]
  },
  {
   "cell_type": "markdown",
   "id": "d85c1d25",
   "metadata": {},
   "source": [
    "\n",
    "<div class=\"alert alert-info\"><b> Consideraciones de sintaxis:  </b>  \n",
    "    <ul>\n",
    "        <li>La extensión de un archivo en python es <mark class=\"white\">.py</mark>, en jupyter notebook es <mark class=\"white\">.ipynb</mark>.</li>\n",
    "    <li>Es un lenguaje case-sensitive, es decir, hace diferenciación entre mayúsculas y minúsculas.</li>\n",
    "    <li>Al crear una variable no se debe empezar por un número y no introducir espacios intermedios.</li>\n",
    "    <li>Para indicar el decimal de algún número es con punto y no coma.</li>    \n",
    "    <li>Comentarios se crean con el símbolo <mark class=\"white\">#</mark>.</li>    \n",
    "    <li>Hay palabra reservada como <mark class=\"white\">def</mark>, no deben ser usadas para crear algún objeto.</li>    \n",
    "    </ul>\n",
    "</div>\n",
    "\n"
   ]
  },
  {
   "cell_type": "markdown",
   "id": "e215929d",
   "metadata": {},
   "source": [
    "### Asignación\n",
    "\n",
    "Para crear una variable y asignarle algun valor es con `=`"
   ]
  },
  {
   "cell_type": "code",
   "execution_count": 4,
   "id": "80a9cea2",
   "metadata": {},
   "outputs": [],
   "source": [
    "# x vale 2\n",
    "x = 2 \n",
    "# y vale x +5\n",
    "y = x + 5"
   ]
  },
  {
   "cell_type": "code",
   "execution_count": 5,
   "id": "796ea4e7",
   "metadata": {},
   "outputs": [
    {
     "name": "stdout",
     "output_type": "stream",
     "text": [
      "x\t y\t \n"
     ]
    }
   ],
   "source": [
    "# %who: para ver las variables y más, que se encuentran en el espacio de trabajo.\n",
    "%who"
   ]
  },
  {
   "cell_type": "code",
   "execution_count": 6,
   "id": "b6006c54",
   "metadata": {},
   "outputs": [
    {
     "name": "stdout",
     "output_type": "stream",
     "text": [
      "Variable   Type    Data/Info\n",
      "----------------------------\n",
      "x          int     2\n",
      "y          int     7\n"
     ]
    }
   ],
   "source": [
    "# Con más detalles\n",
    "%whos"
   ]
  },
  {
   "cell_type": "markdown",
   "id": "7159828a",
   "metadata": {},
   "source": [
    "### Imprimir en pantalla"
   ]
  },
  {
   "cell_type": "code",
   "execution_count": 8,
   "id": "ffe74fad",
   "metadata": {},
   "outputs": [
    {
     "name": "stdout",
     "output_type": "stream",
     "text": [
      "2\n",
      "7\n"
     ]
    }
   ],
   "source": [
    "# Ver el valor de x\n",
    "print(x)\n",
    "\n",
    "# Ver el valor de y\n",
    "print(y)"
   ]
  },
  {
   "cell_type": "code",
   "execution_count": 9,
   "id": "195b114d",
   "metadata": {},
   "outputs": [
    {
     "name": "stdout",
     "output_type": "stream",
     "text": [
      "Hola mundo\n"
     ]
    }
   ],
   "source": [
    "# Mostrar una frase o palabra\n",
    "print(\"Hola mundo\")"
   ]
  },
  {
   "cell_type": "code",
   "execution_count": 12,
   "id": "0f881cb5",
   "metadata": {},
   "outputs": [
    {
     "name": "stdout",
     "output_type": "stream",
     "text": [
      "Hola mundo, x vale 2\n",
      "Hola mundo, x vale 2 e y vale 7\n"
     ]
    }
   ],
   "source": [
    "# Dentro de la frase una variable\n",
    "## Antes de la frase escribi una f, y dentro del texto entre llaves {} la variable o variables\n",
    "print(f\"Hola mundo, x vale {x}\")\n",
    "\n",
    "print(f\"Hola mundo, x vale {x} e y vale {y}\")"
   ]
  }
 ],
 "metadata": {
  "kernelspec": {
   "display_name": "Python 3",
   "language": "python",
   "name": "python3"
  },
  "language_info": {
   "codemirror_mode": {
    "name": "ipython",
    "version": 3
   },
   "file_extension": ".py",
   "mimetype": "text/x-python",
   "name": "python",
   "nbconvert_exporter": "python",
   "pygments_lexer": "ipython3",
   "version": "3.9.5"
  }
 },
 "nbformat": 4,
 "nbformat_minor": 5
}
