{
 "cells": [
  {
   "cell_type": "markdown",
   "id": "75d82da9",
   "metadata": {},
   "source": [
    "Author: Angel Daniel Duarte Meneses. \n",
    "\n",
    "First update: 17/06/2021.\n",
    "\n",
    "Last update: 17/06/2021.\n",
    "\n",
    "This material is for academic purposes only."
   ]
  },
  {
   "cell_type": "markdown",
   "id": "4017c26f",
   "metadata": {},
   "source": [
    "<div class=\"idc-box\">\n",
    "    <div class=\"list-group\" id=\"list-tab\" role=\"tablist\">\n",
    "    <h2 class=\"list-group-item list-group-item-action active\" data-toggle=\"list\" style='background:blue; border:0; color:white' role=\"tab\" aria-controls=\"home\"><center>Tabla de contenido</center></h2> </div>\n",
    "    <ul class=\"idc-lista\">\n",
    "        <li><a href=\"#Python\">Python</a></li>\n",
    "    </ul>\n",
    "</div>"
   ]
  },
  {
   "cell_type": "markdown",
   "id": "d85c1d25",
   "metadata": {},
   "source": [
    "## Python\n",
    "\n",
    "<b> Historia de Python: </b>  https://platzi.com/blog/historia-python/ \n",
    "\n",
    "<b> Descargar Python: </b> \n",
    "<ul>\n",
    "    <li>Python: <a href=\"url\">  https://www.python.org/ </a> </li>\n",
    "<li>Jupyter Notebook: \n",
    "    <ul>\n",
    "    <li>Página oficial: <a href=\"url\"> https://jupyter.org/  </a> </li>\n",
    "    <li>Guía: <a href=\"url\"> https://www.educba.com/install-jupyter-notebook/  </a> </li>\n",
    "    <li>Guía complementaria: <a href=\"url\"> http://facundoq.github.io/courses/images/jupyter.html </a> </li>    \n",
    "    </ul>\n",
    "</li>\n",
    "<li>Otros editores de texto: \n",
    "    <ul>\n",
    "    <li>Sublime Text: <a href=\"url\"> https://www.sublimetext.com/  </a> </li>  \n",
    "    <li>Spyder: <a href=\"url\"> https://www.spyder-ide.org/ </a> </li>\n",
    "    <li>Visual Studio Code: <a href=\"url\"> https://code.visualstudio.com/ </a> </li>  \n",
    "    <li>y más.</li>  \n",
    "    </ul>\n",
    "</li>\n",
    "</ul>\n",
    "\n",
    "<div class=\"alert alert-info\"><b> Consideraciones de sintaxis:  </b>  \n",
    "    <ul>\n",
    "        <li>La extensión de un archivo en python es <mark class=\"white\">.py</mark>, en jupyter notebook es <mark class=\"white\">.ipynb</mark>.</li>\n",
    "    <li>Es un lenguaje case-sensitive, es decir, hace diferenciación entre mayúsculas y minúsculas.</li>\n",
    "    <li>Al crear una variable no se debe empezar por un número y no introducir espacios intermedios.</li>\n",
    "    <li>Para indicar el decimal de algún número es con punto y no coma.</li>    \n",
    "    <li>Comentarios se crean con el símbolo <mark class=\"white\">#</mark>.</li>    \n",
    "    <li>Hay palabra reservada como <mark class=\"white\">def</mark>, no deben ser usadas para crear algún objeto.</li>    \n",
    "    </ul>\n",
    "</div>\n",
    "\n"
   ]
  }
 ],
 "metadata": {
  "kernelspec": {
   "display_name": "Python 3",
   "language": "python",
   "name": "python3"
  },
  "language_info": {
   "codemirror_mode": {
    "name": "ipython",
    "version": 3
   },
   "file_extension": ".py",
   "mimetype": "text/x-python",
   "name": "python",
   "nbconvert_exporter": "python",
   "pygments_lexer": "ipython3",
   "version": "3.9.5"
  }
 },
 "nbformat": 4,
 "nbformat_minor": 5
}
