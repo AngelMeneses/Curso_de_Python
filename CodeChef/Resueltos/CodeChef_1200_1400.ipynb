{
 "cells": [
  {
   "cell_type": "code",
   "execution_count": null,
   "id": "4b72df65",
   "metadata": {},
   "outputs": [],
   "source": [
    "# https://www.codechef.com/problems/SIMPSTAT\n",
    "# 1222\n",
    "for ts in range(int(input())):\n",
    "    (N, K) = map(int, input().split(' '))\n",
    "    obs = N - 2*K\n",
    "    l = [ i for i in map(int, input().split(' '))]\n",
    "    l.sort()\n",
    "    l = l[0+K:len(l)-K]\n",
    "    print(sum(l)/obs)"
   ]
  },
  {
   "cell_type": "code",
   "execution_count": null,
   "id": "7227e7ff",
   "metadata": {},
   "outputs": [],
   "source": [
    "# https://www.codechef.com/problems/CHEFCHR\n",
    "# 1283\n",
    "from itertools import permutations\n",
    "for ts in range(int(input())):\n",
    "    string = input() \n",
    "    word = \"chef\"\n",
    "    l = []\n",
    "    count = 0\n",
    "    for x in permutations(word):\n",
    "        l.append(\"\".join(x))\n",
    "    for i in range(len(string)):\n",
    "        if (string[i:i+4] in l):\n",
    "            count += 1\n",
    "    if count == 0:\n",
    "        print('normal')\n",
    "    else:\n",
    "        print('lovely ',count)"
   ]
  },
  {
   "cell_type": "code",
   "execution_count": 10,
   "id": "0c75b018",
   "metadata": {},
   "outputs": [
    {
     "data": {
      "text/plain": [
       "['chef',\n",
       " 'chfe',\n",
       " 'cehf',\n",
       " 'cefh',\n",
       " 'cfhe',\n",
       " 'cfeh',\n",
       " 'hcef',\n",
       " 'hcfe',\n",
       " 'hecf',\n",
       " 'hefc',\n",
       " 'hfce',\n",
       " 'hfec',\n",
       " 'echf',\n",
       " 'ecfh',\n",
       " 'ehcf',\n",
       " 'ehfc',\n",
       " 'efch',\n",
       " 'efhc',\n",
       " 'fche',\n",
       " 'fceh',\n",
       " 'fhce',\n",
       " 'fhec',\n",
       " 'fech',\n",
       " 'fehc']"
      ]
     },
     "execution_count": 10,
     "metadata": {},
     "output_type": "execute_result"
    }
   ],
   "source": [
    "from itertools import permutations\n",
    "word = \"chef\"\n",
    "l = []\n",
    "for x in permutations(word, r = 4):\n",
    "    l.append(\"\".join(x))\n",
    "l"
   ]
  },
  {
   "cell_type": "code",
   "execution_count": 27,
   "id": "afc80274",
   "metadata": {},
   "outputs": [
    {
     "name": "stdout",
     "output_type": "stream",
     "text": [
      "10\n",
      "['pythonpo', 'pythonpo', 'pythonpl', 'pythonoo', 'pythonol', 'pythonol', 'pythopoo', 'pythopol', 'pythopol', 'pythoool', 'pythnpoo', 'pythnpol', 'pythnpol', 'pythnool', 'pythpool', 'pytonpoo', 'pytonpol', 'pytonpol', 'pytonool', 'pytopool', 'pytnpool', 'pyhonpoo', 'pyhonpol', 'pyhonpol', 'pyhonool', 'pyhopool', 'pyhnpool', 'pyonpool', 'pthonpoo', 'pthonpol', 'pthonpol', 'pthonool', 'pthopool', 'pthnpool', 'ptonpool', 'phonpool', 'ythonpoo', 'ythonpol', 'ythonpol', 'ythonool', 'ythopool', 'ythnpool', 'ytonpool', 'yhonpool', 'thonpool']\n",
      "45\n"
     ]
    }
   ],
   "source": [
    "\n",
    "# Let's import combinations from itertools module\n",
    "from itertools import combinations\n",
    " \n",
    "# Now, we just try to find all the no. of possible combinations from letter pythonpool\n",
    "word = 'pythonpool'\n",
    "n = len(word)\n",
    "print(n)\n",
    " \n",
    "# Finding all possible combinations\n",
    "combination = combinations(word,8)\n",
    "y = [''.join(i) for i in combination]\n",
    "print(y)          #printing all the possible combinations\n",
    "print(len(y))"
   ]
  },
  {
   "cell_type": "code",
   "execution_count": null,
   "id": "19938af2",
   "metadata": {},
   "outputs": [],
   "source": []
  }
 ],
 "metadata": {
  "kernelspec": {
   "display_name": "Python 3 (ipykernel)",
   "language": "python",
   "name": "python3"
  },
  "language_info": {
   "codemirror_mode": {
    "name": "ipython",
    "version": 3
   },
   "file_extension": ".py",
   "mimetype": "text/x-python",
   "name": "python",
   "nbconvert_exporter": "python",
   "pygments_lexer": "ipython3",
   "version": "3.9.6"
  }
 },
 "nbformat": 4,
 "nbformat_minor": 5
}
