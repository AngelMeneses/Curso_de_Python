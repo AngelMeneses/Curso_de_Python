{
 "cells": [
  {
   "cell_type": "code",
   "execution_count": null,
   "id": "f5292d06",
   "metadata": {},
   "outputs": [],
   "source": [
    "# https://www.codechef.com/problems/MANGOES\n",
    "# 482\n",
    "T = int(input())\n",
    "for t in range(T):\n",
    "    (a, b, c) = map(int, input().split(' '))\n",
    "    ans = True\n",
    "    i = 0\n",
    "    j = True\n",
    "    while j == True:\n",
    "        ans = i*a + b <= c\n",
    "        if ans == False:\n",
    "            j = False\n",
    "            print(i-1)\n",
    "        else:\n",
    "            i += 1\n",
    "    "
   ]
  },
  {
   "cell_type": "code",
   "execution_count": null,
   "id": "0fa2ff25",
   "metadata": {},
   "outputs": [],
   "source": [
    "# https://www.codechef.com/problems/FOOTCUP\n",
    "# 412\n",
    "T = int(input())\n",
    "for ts in range(T):\n",
    "    (X,Y) = map(int, input().split(' '))\n",
    "    if (X!=0) and (Y!=0):\n",
    "        if X!=Y:\n",
    "            print('NO')\n",
    "        else:\n",
    "            print('YES')\n",
    "    else:\n",
    "        print('NO')"
   ]
  },
  {
   "cell_type": "code",
   "execution_count": null,
   "id": "63836897",
   "metadata": {},
   "outputs": [],
   "source": [
    "# https://www.codechef.com/problems/WATERREQ\n",
    "# 351\n",
    "T = int(input())\n",
    "for ts in range(T):\n",
    "    N = int(input())\n",
    "    print(X*2)"
   ]
  },
  {
   "cell_type": "code",
   "execution_count": null,
   "id": "dfe82a29",
   "metadata": {},
   "outputs": [],
   "source": [
    "# https://www.codechef.com/problems/SEMCOURSES\n",
    "# 350\n",
    "T = int(input())\n",
    "for ts in range(T):\n",
    "    (X,Y,Z) = map(int, input().split(' '))\n",
    "    print(X*Y*Z)"
   ]
  },
  {
   "cell_type": "code",
   "execution_count": null,
   "id": "6cfd47a4",
   "metadata": {},
   "outputs": [],
   "source": [
    "# https://www.codechef.com/problems/SUBSCRIBE\n",
    "# 315\n",
    "T = int(input())\n",
    "for ts in range(T):\n",
    "    X = int(input())\n",
    "    if X<=30:\n",
    "        print('NO')\n",
    "    else:\n",
    "        print('YES')"
   ]
  },
  {
   "cell_type": "code",
   "execution_count": null,
   "id": "829f2c3a",
   "metadata": {},
   "outputs": [],
   "source": [
    "# https://www.codechef.com/problems/MINHEIGHT\n",
    "# 285\n",
    "T = int(input())\n",
    "for t in range(T):\n",
    "    (a, b) = map(int, input().split(' '))\n",
    "    if a < b:\n",
    "        ans = 'NO'\n",
    "    else: \n",
    "        ans = 'YES'\n",
    "    print(ans)"
   ]
  },
  {
   "cell_type": "code",
   "execution_count": null,
   "id": "f7ebe744",
   "metadata": {},
   "outputs": [],
   "source": [
    "# https://www.codechef.com/problems/TALLER\n",
    "# 281\n",
    "T = int(input())\n",
    "for t in range(T):\n",
    "    (a, b) = map(int, input().split(' '))\n",
    "    if a < b:\n",
    "        ans = 'B'\n",
    "    else: \n",
    "        ans = 'A'\n",
    "    print(ans)"
   ]
  },
  {
   "cell_type": "code",
   "execution_count": 1,
   "id": "9561f989",
   "metadata": {},
   "outputs": [
    {
     "name": "stdout",
     "output_type": "stream",
     "text": [
      "1\n",
      "2\n"
     ]
    }
   ],
   "source": [
    "# https://www.codechef.com/problems/PRACLIST\n",
    "\n",
    "X = input()\n",
    "Y = input()\n"
   ]
  },
  {
   "cell_type": "code",
   "execution_count": 2,
   "id": "66f4bed2",
   "metadata": {},
   "outputs": [
    {
     "data": {
      "text/plain": [
       "'1'"
      ]
     },
     "execution_count": 2,
     "metadata": {},
     "output_type": "execute_result"
    }
   ],
   "source": [
    "X"
   ]
  },
  {
   "cell_type": "code",
   "execution_count": null,
   "id": "bb176664",
   "metadata": {},
   "outputs": [],
   "source": []
  },
  {
   "cell_type": "code",
   "execution_count": null,
   "id": "462d8e7d",
   "metadata": {},
   "outputs": [],
   "source": []
  }
 ],
 "metadata": {
  "kernelspec": {
   "display_name": "Python 3 (ipykernel)",
   "language": "python",
   "name": "python3"
  },
  "language_info": {
   "codemirror_mode": {
    "name": "ipython",
    "version": 3
   },
   "file_extension": ".py",
   "mimetype": "text/x-python",
   "name": "python",
   "nbconvert_exporter": "python",
   "pygments_lexer": "ipython3",
   "version": "3.9.6"
  }
 },
 "nbformat": 4,
 "nbformat_minor": 5
}
