{
 "cells": [
  {
   "cell_type": "code",
   "execution_count": null,
   "id": "4b72df65",
   "metadata": {},
   "outputs": [],
   "source": [
    "# https://www.codechef.com/problems/SIMPSTAT\n",
    "# 1222\n",
    "for ts in range(int(input())):\n",
    "    (N, K) = map(int, input().split(' '))\n",
    "    obs = N - 2*K\n",
    "    l = [ i for i in map(int, input().split(' '))]\n",
    "    l.sort()\n",
    "    l = l[0+K:len(l)-K]\n",
    "    print(sum(l)/obs)"
   ]
  },
  {
   "cell_type": "code",
   "execution_count": null,
   "id": "f5f2dee8",
   "metadata": {},
   "outputs": [],
   "source": [
    "l = [1,2,3]"
   ]
  },
  {
   "cell_type": "code",
   "execution_count": null,
   "id": "b0dd9a65",
   "metadata": {},
   "outputs": [],
   "source": [
    "l[0+1:len(l)-1]"
   ]
  }
 ],
 "metadata": {
  "kernelspec": {
   "display_name": "Python 3 (ipykernel)",
   "language": "python",
   "name": "python3"
  },
  "language_info": {
   "codemirror_mode": {
    "name": "ipython",
    "version": 3
   },
   "file_extension": ".py",
   "mimetype": "text/x-python",
   "name": "python",
   "nbconvert_exporter": "python",
   "pygments_lexer": "ipython3",
   "version": "3.9.6"
  }
 },
 "nbformat": 4,
 "nbformat_minor": 5
}
