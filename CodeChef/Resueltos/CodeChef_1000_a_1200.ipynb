{
 "cells": [
  {
   "cell_type": "code",
   "execution_count": null,
   "id": "64bab49b",
   "metadata": {},
   "outputs": [],
   "source": [
    "# https://www.codechef.com/problems/QUEENATTACK\n",
    "# 1076\n",
    "T = int(input())\n",
    "for ts in range(T):\n",
    "    (N,X,Y) = map(int, input().split(' '))\n",
    "    c = 0\n",
    "    c = N - abs(N+1-(X+Y))\n",
    "    c += N - abs(X-Y)\n",
    "        \n",
    "    print(2*N+c-4)"
   ]
  },
  {
   "cell_type": "code",
   "execution_count": null,
   "id": "0047560f",
   "metadata": {},
   "outputs": [],
   "source": [
    "# https://www.codechef.com/problems/QUEENATTACK\n",
    "# 1076\n",
    "# Genera la solucion correcta pero tarda mucho.\n",
    "T = int(input())\n",
    "for ts in range(T):\n",
    "    (N,X,Y) = map(int, input().split(' '))\n",
    "    lista = []\n",
    "    for i in range(1, N+1):\n",
    "        \n",
    "        for j in range(1, N+1):     \n",
    "            \n",
    "            \n",
    "            if  (X < j) and (Y < i):\n",
    "                a,b = X+1, Y+1\n",
    "                while True:\n",
    "                    if (a <=N) and (b<=N):\n",
    "                        lista.append((a, b))\n",
    "                        a += 1\n",
    "                        b += 1\n",
    "                    else:\n",
    "                        break\n",
    "\n",
    "            elif (X > j) and (Y > i):\n",
    "                a,b = X-1, Y-1\n",
    "                while True:\n",
    "                    if (a >=1) and (b>=1):\n",
    "                        lista.append((a, b))\n",
    "                        a -= 1\n",
    "                        b -= 1\n",
    "                    else:\n",
    "                        break\n",
    "                \n",
    "            elif (X < j) and (Y > i) :\n",
    "                a,b = X+1, Y-1\n",
    "                while True:\n",
    "                    if (a <=N) and (b>=1):\n",
    "                        lista.append((a, b))\n",
    "                        a += 1\n",
    "                        b -= 1\n",
    "                    else:\n",
    "                        break\n",
    "                        \n",
    "            elif (X > j) and (Y < i):\n",
    "                a,b = X-1, Y+1\n",
    "                while True:\n",
    "                    if (a>=1) and (b <=N):\n",
    "                        lista.append((a, b))\n",
    "                        a -= 1\n",
    "                        b += 1\n",
    "                    else:\n",
    "                        break\n",
    "       \n",
    "        \n",
    "            \n",
    "    print(len(set(lista))+2*(N-1))"
   ]
  }
 ],
 "metadata": {
  "kernelspec": {
   "display_name": "Python 3 (ipykernel)",
   "language": "python",
   "name": "python3"
  },
  "language_info": {
   "codemirror_mode": {
    "name": "ipython",
    "version": 3
   },
   "file_extension": ".py",
   "mimetype": "text/x-python",
   "name": "python",
   "nbconvert_exporter": "python",
   "pygments_lexer": "ipython3",
   "version": "3.9.6"
  }
 },
 "nbformat": 4,
 "nbformat_minor": 5
}
